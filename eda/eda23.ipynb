{
 "cells": [
  {
   "cell_type": "code",
   "execution_count": 132,
   "id": "55420140",
   "metadata": {},
   "outputs": [],
   "source": [
    "import io\n",
    "import pandas as pd\n",
    "import numpy as np\n",
    "import matplotlib.pyplot as plt\n",
    "import seaborn as sns\n",
    "import warnings\n",
    "import plotly.express as px\n",
    "warnings.filterwarnings('ignore')\n",
    "\n",
    "%matplotlib inline\n",
    "#%load_ext cudf.pandas\n",
    "#supercharges workflow with GPU acceleration using cudf.pandas\n",
    "#Im having pip install issues with cudf so commenting it out for now"
   ]
  },
  {
   "cell_type": "code",
   "execution_count": null,
   "id": "e0cb1397",
   "metadata": {},
   "outputs": [
    {
     "data": {
      "application/vnd.microsoft.datawrangler.viewer.v0+json": {
       "columns": [
        {
         "name": "index",
         "rawType": "int64",
         "type": "integer"
        },
        {
         "name": "ID",
         "rawType": "int64",
         "type": "integer"
        },
        {
         "name": "Name",
         "rawType": "object",
         "type": "string"
        },
        {
         "name": "Age",
         "rawType": "int64",
         "type": "integer"
        },
        {
         "name": "Photo",
         "rawType": "object",
         "type": "string"
        },
        {
         "name": "Nationality",
         "rawType": "object",
         "type": "string"
        },
        {
         "name": "Flag",
         "rawType": "object",
         "type": "string"
        },
        {
         "name": "Overall",
         "rawType": "int64",
         "type": "integer"
        },
        {
         "name": "Potential",
         "rawType": "int64",
         "type": "integer"
        },
        {
         "name": "Club",
         "rawType": "object",
         "type": "string"
        },
        {
         "name": "Club Logo",
         "rawType": "object",
         "type": "string"
        },
        {
         "name": "Value",
         "rawType": "object",
         "type": "string"
        },
        {
         "name": "Wage",
         "rawType": "object",
         "type": "string"
        },
        {
         "name": "Special",
         "rawType": "int64",
         "type": "integer"
        },
        {
         "name": "Preferred Foot",
         "rawType": "object",
         "type": "string"
        },
        {
         "name": "International Reputation",
         "rawType": "float64",
         "type": "float"
        },
        {
         "name": "Weak Foot",
         "rawType": "float64",
         "type": "float"
        },
        {
         "name": "Skill Moves",
         "rawType": "float64",
         "type": "float"
        },
        {
         "name": "Work Rate",
         "rawType": "object",
         "type": "string"
        },
        {
         "name": "Body Type",
         "rawType": "object",
         "type": "string"
        },
        {
         "name": "Real Face",
         "rawType": "object",
         "type": "string"
        },
        {
         "name": "Position",
         "rawType": "object",
         "type": "string"
        },
        {
         "name": "Joined",
         "rawType": "object",
         "type": "string"
        },
        {
         "name": "Loaned From",
         "rawType": "object",
         "type": "unknown"
        },
        {
         "name": "Contract Valid Until",
         "rawType": "object",
         "type": "string"
        },
        {
         "name": "Height",
         "rawType": "object",
         "type": "string"
        },
        {
         "name": "Weight",
         "rawType": "object",
         "type": "string"
        },
        {
         "name": "Release Clause",
         "rawType": "object",
         "type": "string"
        },
        {
         "name": "Kit Number",
         "rawType": "float64",
         "type": "float"
        },
        {
         "name": "Best Overall Rating",
         "rawType": "object",
         "type": "unknown"
        }
       ],
       "ref": "76af16bd-62ca-4e5f-93d9-683d9ebc4173",
       "rows": [
        [
         "0",
         "209658",
         "L. Goretzka",
         "27",
         "https://cdn.sofifa.net/players/209/658/23_60.png",
         "Germany",
         "https://cdn.sofifa.net/flags/de.png",
         "87",
         "88",
         "FC Bayern München",
         "https://cdn.sofifa.net/teams/21/30.png",
         "€91M",
         "€115K",
         "2312",
         "Right",
         "4.0",
         "4.0",
         "3.0",
         "High/ Medium",
         "Unique",
         "Yes",
         "<span class=\"pos pos28\">SUB",
         "Jul 1, 2018",
         null,
         "2026",
         "189cm",
         "82kg",
         "€157M",
         "8.0",
         null
        ],
        [
         "1",
         "212198",
         "Bruno Fernandes",
         "27",
         "https://cdn.sofifa.net/players/212/198/23_60.png",
         "Portugal",
         "https://cdn.sofifa.net/flags/pt.png",
         "86",
         "87",
         "Manchester United",
         "https://cdn.sofifa.net/teams/11/30.png",
         "€78.5M",
         "€190K",
         "2305",
         "Right",
         "3.0",
         "3.0",
         "4.0",
         "High/ High",
         "Unique",
         "Yes",
         "<span class=\"pos pos15\">LCM",
         "Jan 30, 2020",
         null,
         "2026",
         "179cm",
         "69kg",
         "€155M",
         "8.0",
         null
        ],
        [
         "2",
         "224334",
         "M. Acuña",
         "30",
         "https://cdn.sofifa.net/players/224/334/23_60.png",
         "Argentina",
         "https://cdn.sofifa.net/flags/ar.png",
         "85",
         "85",
         "Sevilla FC",
         "https://cdn.sofifa.net/teams/481/30.png",
         "€46.5M",
         "€46K",
         "2303",
         "Left",
         "2.0",
         "3.0",
         "3.0",
         "High/ High",
         "Stocky (170-185)",
         "No",
         "<span class=\"pos pos7\">LB",
         "Sep 14, 2020",
         null,
         "2024",
         "172cm",
         "69kg",
         "€97.7M",
         "19.0",
         null
        ],
        [
         "3",
         "192985",
         "K. De Bruyne",
         "31",
         "https://cdn.sofifa.net/players/192/985/23_60.png",
         "Belgium",
         "https://cdn.sofifa.net/flags/be.png",
         "91",
         "91",
         "Manchester City",
         "https://cdn.sofifa.net/teams/10/30.png",
         "€107.5M",
         "€350K",
         "2303",
         "Right",
         "4.0",
         "5.0",
         "4.0",
         "High/ High",
         "Unique",
         "Yes",
         "<span class=\"pos pos13\">RCM",
         "Aug 30, 2015",
         null,
         "2025",
         "181cm",
         "70kg",
         "€198.9M",
         "17.0",
         null
        ],
        [
         "4",
         "224232",
         "N. Barella",
         "25",
         "https://cdn.sofifa.net/players/224/232/23_60.png",
         "Italy",
         "https://cdn.sofifa.net/flags/it.png",
         "86",
         "89",
         "Inter",
         "https://cdn.sofifa.net/teams/44/30.png",
         "€89.5M",
         "€110K",
         "2296",
         "Right",
         "3.0",
         "3.0",
         "3.0",
         "High/ High",
         "Normal (170-)",
         "Yes",
         "<span class=\"pos pos13\">RCM",
         "Sep 1, 2020",
         null,
         "2026",
         "172cm",
         "68kg",
         "€154.4M",
         "23.0",
         null
        ]
       ],
       "shape": {
        "columns": 29,
        "rows": 5
       }
      },
      "text/html": [
       "<div>\n",
       "<style scoped>\n",
       "    .dataframe tbody tr th:only-of-type {\n",
       "        vertical-align: middle;\n",
       "    }\n",
       "\n",
       "    .dataframe tbody tr th {\n",
       "        vertical-align: top;\n",
       "    }\n",
       "\n",
       "    .dataframe thead th {\n",
       "        text-align: right;\n",
       "    }\n",
       "</style>\n",
       "<table border=\"1\" class=\"dataframe\">\n",
       "  <thead>\n",
       "    <tr style=\"text-align: right;\">\n",
       "      <th></th>\n",
       "      <th>ID</th>\n",
       "      <th>Name</th>\n",
       "      <th>Age</th>\n",
       "      <th>Photo</th>\n",
       "      <th>Nationality</th>\n",
       "      <th>Flag</th>\n",
       "      <th>Overall</th>\n",
       "      <th>Potential</th>\n",
       "      <th>Club</th>\n",
       "      <th>Club Logo</th>\n",
       "      <th>...</th>\n",
       "      <th>Real Face</th>\n",
       "      <th>Position</th>\n",
       "      <th>Joined</th>\n",
       "      <th>Loaned From</th>\n",
       "      <th>Contract Valid Until</th>\n",
       "      <th>Height</th>\n",
       "      <th>Weight</th>\n",
       "      <th>Release Clause</th>\n",
       "      <th>Kit Number</th>\n",
       "      <th>Best Overall Rating</th>\n",
       "    </tr>\n",
       "  </thead>\n",
       "  <tbody>\n",
       "    <tr>\n",
       "      <th>0</th>\n",
       "      <td>209658</td>\n",
       "      <td>L. Goretzka</td>\n",
       "      <td>27</td>\n",
       "      <td>https://cdn.sofifa.net/players/209/658/23_60.png</td>\n",
       "      <td>Germany</td>\n",
       "      <td>https://cdn.sofifa.net/flags/de.png</td>\n",
       "      <td>87</td>\n",
       "      <td>88</td>\n",
       "      <td>FC Bayern München</td>\n",
       "      <td>https://cdn.sofifa.net/teams/21/30.png</td>\n",
       "      <td>...</td>\n",
       "      <td>Yes</td>\n",
       "      <td>&lt;span class=\"pos pos28\"&gt;SUB</td>\n",
       "      <td>Jul 1, 2018</td>\n",
       "      <td>NaN</td>\n",
       "      <td>2026</td>\n",
       "      <td>189cm</td>\n",
       "      <td>82kg</td>\n",
       "      <td>€157M</td>\n",
       "      <td>8.0</td>\n",
       "      <td>NaN</td>\n",
       "    </tr>\n",
       "    <tr>\n",
       "      <th>1</th>\n",
       "      <td>212198</td>\n",
       "      <td>Bruno Fernandes</td>\n",
       "      <td>27</td>\n",
       "      <td>https://cdn.sofifa.net/players/212/198/23_60.png</td>\n",
       "      <td>Portugal</td>\n",
       "      <td>https://cdn.sofifa.net/flags/pt.png</td>\n",
       "      <td>86</td>\n",
       "      <td>87</td>\n",
       "      <td>Manchester United</td>\n",
       "      <td>https://cdn.sofifa.net/teams/11/30.png</td>\n",
       "      <td>...</td>\n",
       "      <td>Yes</td>\n",
       "      <td>&lt;span class=\"pos pos15\"&gt;LCM</td>\n",
       "      <td>Jan 30, 2020</td>\n",
       "      <td>NaN</td>\n",
       "      <td>2026</td>\n",
       "      <td>179cm</td>\n",
       "      <td>69kg</td>\n",
       "      <td>€155M</td>\n",
       "      <td>8.0</td>\n",
       "      <td>NaN</td>\n",
       "    </tr>\n",
       "    <tr>\n",
       "      <th>2</th>\n",
       "      <td>224334</td>\n",
       "      <td>M. Acuña</td>\n",
       "      <td>30</td>\n",
       "      <td>https://cdn.sofifa.net/players/224/334/23_60.png</td>\n",
       "      <td>Argentina</td>\n",
       "      <td>https://cdn.sofifa.net/flags/ar.png</td>\n",
       "      <td>85</td>\n",
       "      <td>85</td>\n",
       "      <td>Sevilla FC</td>\n",
       "      <td>https://cdn.sofifa.net/teams/481/30.png</td>\n",
       "      <td>...</td>\n",
       "      <td>No</td>\n",
       "      <td>&lt;span class=\"pos pos7\"&gt;LB</td>\n",
       "      <td>Sep 14, 2020</td>\n",
       "      <td>NaN</td>\n",
       "      <td>2024</td>\n",
       "      <td>172cm</td>\n",
       "      <td>69kg</td>\n",
       "      <td>€97.7M</td>\n",
       "      <td>19.0</td>\n",
       "      <td>NaN</td>\n",
       "    </tr>\n",
       "    <tr>\n",
       "      <th>3</th>\n",
       "      <td>192985</td>\n",
       "      <td>K. De Bruyne</td>\n",
       "      <td>31</td>\n",
       "      <td>https://cdn.sofifa.net/players/192/985/23_60.png</td>\n",
       "      <td>Belgium</td>\n",
       "      <td>https://cdn.sofifa.net/flags/be.png</td>\n",
       "      <td>91</td>\n",
       "      <td>91</td>\n",
       "      <td>Manchester City</td>\n",
       "      <td>https://cdn.sofifa.net/teams/10/30.png</td>\n",
       "      <td>...</td>\n",
       "      <td>Yes</td>\n",
       "      <td>&lt;span class=\"pos pos13\"&gt;RCM</td>\n",
       "      <td>Aug 30, 2015</td>\n",
       "      <td>NaN</td>\n",
       "      <td>2025</td>\n",
       "      <td>181cm</td>\n",
       "      <td>70kg</td>\n",
       "      <td>€198.9M</td>\n",
       "      <td>17.0</td>\n",
       "      <td>NaN</td>\n",
       "    </tr>\n",
       "    <tr>\n",
       "      <th>4</th>\n",
       "      <td>224232</td>\n",
       "      <td>N. Barella</td>\n",
       "      <td>25</td>\n",
       "      <td>https://cdn.sofifa.net/players/224/232/23_60.png</td>\n",
       "      <td>Italy</td>\n",
       "      <td>https://cdn.sofifa.net/flags/it.png</td>\n",
       "      <td>86</td>\n",
       "      <td>89</td>\n",
       "      <td>Inter</td>\n",
       "      <td>https://cdn.sofifa.net/teams/44/30.png</td>\n",
       "      <td>...</td>\n",
       "      <td>Yes</td>\n",
       "      <td>&lt;span class=\"pos pos13\"&gt;RCM</td>\n",
       "      <td>Sep 1, 2020</td>\n",
       "      <td>NaN</td>\n",
       "      <td>2026</td>\n",
       "      <td>172cm</td>\n",
       "      <td>68kg</td>\n",
       "      <td>€154.4M</td>\n",
       "      <td>23.0</td>\n",
       "      <td>NaN</td>\n",
       "    </tr>\n",
       "  </tbody>\n",
       "</table>\n",
       "<p>5 rows × 29 columns</p>\n",
       "</div>"
      ],
      "text/plain": [
       "       ID             Name  Age  \\\n",
       "0  209658      L. Goretzka   27   \n",
       "1  212198  Bruno Fernandes   27   \n",
       "2  224334         M. Acuña   30   \n",
       "3  192985     K. De Bruyne   31   \n",
       "4  224232       N. Barella   25   \n",
       "\n",
       "                                              Photo Nationality  \\\n",
       "0  https://cdn.sofifa.net/players/209/658/23_60.png     Germany   \n",
       "1  https://cdn.sofifa.net/players/212/198/23_60.png    Portugal   \n",
       "2  https://cdn.sofifa.net/players/224/334/23_60.png   Argentina   \n",
       "3  https://cdn.sofifa.net/players/192/985/23_60.png     Belgium   \n",
       "4  https://cdn.sofifa.net/players/224/232/23_60.png       Italy   \n",
       "\n",
       "                                  Flag  Overall  Potential               Club  \\\n",
       "0  https://cdn.sofifa.net/flags/de.png       87         88  FC Bayern München   \n",
       "1  https://cdn.sofifa.net/flags/pt.png       86         87  Manchester United   \n",
       "2  https://cdn.sofifa.net/flags/ar.png       85         85         Sevilla FC   \n",
       "3  https://cdn.sofifa.net/flags/be.png       91         91    Manchester City   \n",
       "4  https://cdn.sofifa.net/flags/it.png       86         89              Inter   \n",
       "\n",
       "                                 Club Logo  ... Real Face  \\\n",
       "0   https://cdn.sofifa.net/teams/21/30.png  ...       Yes   \n",
       "1   https://cdn.sofifa.net/teams/11/30.png  ...       Yes   \n",
       "2  https://cdn.sofifa.net/teams/481/30.png  ...        No   \n",
       "3   https://cdn.sofifa.net/teams/10/30.png  ...       Yes   \n",
       "4   https://cdn.sofifa.net/teams/44/30.png  ...       Yes   \n",
       "\n",
       "                      Position        Joined Loaned From  \\\n",
       "0  <span class=\"pos pos28\">SUB   Jul 1, 2018         NaN   \n",
       "1  <span class=\"pos pos15\">LCM  Jan 30, 2020         NaN   \n",
       "2    <span class=\"pos pos7\">LB  Sep 14, 2020         NaN   \n",
       "3  <span class=\"pos pos13\">RCM  Aug 30, 2015         NaN   \n",
       "4  <span class=\"pos pos13\">RCM   Sep 1, 2020         NaN   \n",
       "\n",
       "   Contract Valid Until  Height  Weight Release Clause Kit Number  \\\n",
       "0                  2026   189cm    82kg          €157M        8.0   \n",
       "1                  2026   179cm    69kg          €155M        8.0   \n",
       "2                  2024   172cm    69kg         €97.7M       19.0   \n",
       "3                  2025   181cm    70kg        €198.9M       17.0   \n",
       "4                  2026   172cm    68kg        €154.4M       23.0   \n",
       "\n",
       "  Best Overall Rating  \n",
       "0                 NaN  \n",
       "1                 NaN  \n",
       "2                 NaN  \n",
       "3                 NaN  \n",
       "4                 NaN  \n",
       "\n",
       "[5 rows x 29 columns]"
      ]
     },
     "execution_count": 133,
     "metadata": {},
     "output_type": "execute_result"
    }
   ],
   "source": [
    "pandas_df = pd.read_csv(r'C:\\Users\\admin\\OneDrive\\Documents\\GitHub\\Plotting\\fifa_dataset\\FIFA23_official_data.csv')\n",
    "pandas_df.head()"
   ]
  },
  {
   "cell_type": "code",
   "execution_count": null,
   "id": "179adb9d",
   "metadata": {},
   "outputs": [],
   "source": [
    "#Diff between 17, 18 and 19 is that 18,19 have an extra column called 'Release Clause'\n",
    "#20, 21, and 22 have an extra column called 'Defensive Awareness'\n",
    "#23 has literally 29 columns only out of potential 65 columns\n",
    "#So 23 is missing a lot of columns compared to previous years"
   ]
  },
  {
   "cell_type": "markdown",
   "id": "2c0e2993",
   "metadata": {},
   "source": [
    "## DATA STRUCTURE/SHAPE/INFO"
   ]
  },
  {
   "cell_type": "code",
   "execution_count": 135,
   "id": "4db57a79",
   "metadata": {},
   "outputs": [
    {
     "name": "stdout",
     "output_type": "stream",
     "text": [
      "<class 'pandas.core.frame.DataFrame'>\n",
      "RangeIndex: 17660 entries, 0 to 17659\n",
      "Data columns (total 29 columns):\n",
      " #   Column                    Non-Null Count  Dtype  \n",
      "---  ------                    --------------  -----  \n",
      " 0   ID                        17660 non-null  int64  \n",
      " 1   Name                      17660 non-null  object \n",
      " 2   Age                       17660 non-null  int64  \n",
      " 3   Photo                     17660 non-null  object \n",
      " 4   Nationality               17660 non-null  object \n",
      " 5   Flag                      17660 non-null  object \n",
      " 6   Overall                   17660 non-null  int64  \n",
      " 7   Potential                 17660 non-null  int64  \n",
      " 8   Club                      17449 non-null  object \n",
      " 9   Club Logo                 17660 non-null  object \n",
      " 10  Value                     17660 non-null  object \n",
      " 11  Wage                      17660 non-null  object \n",
      " 12  Special                   17660 non-null  int64  \n",
      " 13  Preferred Foot            17660 non-null  object \n",
      " 14  International Reputation  17660 non-null  float64\n",
      " 15  Weak Foot                 17660 non-null  float64\n",
      " 16  Skill Moves               17660 non-null  float64\n",
      " 17  Work Rate                 17660 non-null  object \n",
      " 18  Body Type                 17622 non-null  object \n",
      " 19  Real Face                 17622 non-null  object \n",
      " 20  Position                  17625 non-null  object \n",
      " 21  Joined                    16562 non-null  object \n",
      " 22  Loaned From               694 non-null    object \n",
      " 23  Contract Valid Until      17299 non-null  object \n",
      " 24  Height                    17660 non-null  object \n",
      " 25  Weight                    17660 non-null  object \n",
      " 26  Release Clause            16509 non-null  object \n",
      " 27  Kit Number                17625 non-null  float64\n",
      " 28  Best Overall Rating       21 non-null     object \n",
      "dtypes: float64(4), int64(5), object(20)\n",
      "memory usage: 3.9+ MB\n"
     ]
    }
   ],
   "source": [
    "pandas_df.info()"
   ]
  },
  {
   "cell_type": "code",
   "execution_count": 136,
   "id": "b4737096",
   "metadata": {},
   "outputs": [
    {
     "data": {
      "text/plain": [
       "(17660, 29)"
      ]
     },
     "execution_count": 136,
     "metadata": {},
     "output_type": "execute_result"
    }
   ],
   "source": [
    "pandas_df.shape"
   ]
  },
  {
   "cell_type": "code",
   "execution_count": 137,
   "id": "41dcac90",
   "metadata": {},
   "outputs": [
    {
     "data": {
      "application/vnd.microsoft.datawrangler.viewer.v0+json": {
       "columns": [
        {
         "name": "index",
         "rawType": "object",
         "type": "string"
        },
        {
         "name": "0",
         "rawType": "object",
         "type": "unknown"
        }
       ],
       "ref": "c4af6d4b-0ff7-47d3-92b4-992a9710bfa3",
       "rows": [
        [
         "ID",
         "int64"
        ],
        [
         "Name",
         "object"
        ],
        [
         "Age",
         "int64"
        ],
        [
         "Photo",
         "object"
        ],
        [
         "Nationality",
         "object"
        ],
        [
         "Flag",
         "object"
        ],
        [
         "Overall",
         "int64"
        ],
        [
         "Potential",
         "int64"
        ],
        [
         "Club",
         "object"
        ],
        [
         "Club Logo",
         "object"
        ],
        [
         "Value",
         "object"
        ],
        [
         "Wage",
         "object"
        ],
        [
         "Special",
         "int64"
        ],
        [
         "Preferred Foot",
         "object"
        ],
        [
         "International Reputation",
         "float64"
        ],
        [
         "Weak Foot",
         "float64"
        ],
        [
         "Skill Moves",
         "float64"
        ],
        [
         "Work Rate",
         "object"
        ],
        [
         "Body Type",
         "object"
        ],
        [
         "Real Face",
         "object"
        ],
        [
         "Position",
         "object"
        ],
        [
         "Joined",
         "object"
        ],
        [
         "Loaned From",
         "object"
        ],
        [
         "Contract Valid Until",
         "object"
        ],
        [
         "Height",
         "object"
        ],
        [
         "Weight",
         "object"
        ],
        [
         "Release Clause",
         "object"
        ],
        [
         "Kit Number",
         "float64"
        ],
        [
         "Best Overall Rating",
         "object"
        ]
       ],
       "shape": {
        "columns": 1,
        "rows": 29
       }
      },
      "text/plain": [
       "ID                            int64\n",
       "Name                         object\n",
       "Age                           int64\n",
       "Photo                        object\n",
       "Nationality                  object\n",
       "Flag                         object\n",
       "Overall                       int64\n",
       "Potential                     int64\n",
       "Club                         object\n",
       "Club Logo                    object\n",
       "Value                        object\n",
       "Wage                         object\n",
       "Special                       int64\n",
       "Preferred Foot               object\n",
       "International Reputation    float64\n",
       "Weak Foot                   float64\n",
       "Skill Moves                 float64\n",
       "Work Rate                    object\n",
       "Body Type                    object\n",
       "Real Face                    object\n",
       "Position                     object\n",
       "Joined                       object\n",
       "Loaned From                  object\n",
       "Contract Valid Until         object\n",
       "Height                       object\n",
       "Weight                       object\n",
       "Release Clause               object\n",
       "Kit Number                  float64\n",
       "Best Overall Rating          object\n",
       "dtype: object"
      ]
     },
     "execution_count": 137,
     "metadata": {},
     "output_type": "execute_result"
    }
   ],
   "source": [
    "pandas_df.dtypes"
   ]
  },
  {
   "cell_type": "code",
   "execution_count": null,
   "id": "59e10f18",
   "metadata": {},
   "outputs": [],
   "source": [
    "import polars as pl\n",
    "polars_df = pl.read_csv(r'C:\\Users\\admin\\OneDrive\\Documents\\GitHub\\Plotting\\fifa_dataset\\FIFA23_official_data.csv')"
   ]
  },
  {
   "cell_type": "code",
   "execution_count": 139,
   "id": "8abcfbe3",
   "metadata": {},
   "outputs": [
    {
     "data": {
      "text/html": [
       "<div><style>\n",
       ".dataframe > thead > tr,\n",
       ".dataframe > tbody > tr {\n",
       "  text-align: right;\n",
       "  white-space: pre-wrap;\n",
       "}\n",
       "</style>\n",
       "<small>shape: (10, 29)</small><table border=\"1\" class=\"dataframe\"><thead><tr><th>ID</th><th>Name</th><th>Age</th><th>Photo</th><th>Nationality</th><th>Flag</th><th>Overall</th><th>Potential</th><th>Club</th><th>Club Logo</th><th>Value</th><th>Wage</th><th>Special</th><th>Preferred Foot</th><th>International Reputation</th><th>Weak Foot</th><th>Skill Moves</th><th>Work Rate</th><th>Body Type</th><th>Real Face</th><th>Position</th><th>Joined</th><th>Loaned From</th><th>Contract Valid Until</th><th>Height</th><th>Weight</th><th>Release Clause</th><th>Kit Number</th><th>Best Overall Rating</th></tr><tr><td>i64</td><td>str</td><td>i64</td><td>str</td><td>str</td><td>str</td><td>i64</td><td>i64</td><td>str</td><td>str</td><td>str</td><td>str</td><td>i64</td><td>str</td><td>f64</td><td>f64</td><td>f64</td><td>str</td><td>str</td><td>str</td><td>str</td><td>str</td><td>str</td><td>str</td><td>str</td><td>str</td><td>str</td><td>f64</td><td>str</td></tr></thead><tbody><tr><td>209658</td><td>&quot;L. Goretzka&quot;</td><td>27</td><td>&quot;https://cdn.sofifa.net/players…</td><td>&quot;Germany&quot;</td><td>&quot;https://cdn.sofifa.net/flags/d…</td><td>87</td><td>88</td><td>&quot;FC Bayern München&quot;</td><td>&quot;https://cdn.sofifa.net/teams/2…</td><td>&quot;€91M&quot;</td><td>&quot;€115K&quot;</td><td>2312</td><td>&quot;Right&quot;</td><td>4.0</td><td>4.0</td><td>3.0</td><td>&quot;High/ Medium&quot;</td><td>&quot;Unique&quot;</td><td>&quot;Yes&quot;</td><td>&quot;&lt;span class=&quot;pos pos28&quot;&gt;SUB&quot;</td><td>&quot;Jul 1, 2018&quot;</td><td>&quot;nan&quot;</td><td>&quot;2026&quot;</td><td>&quot;189cm&quot;</td><td>&quot;82kg&quot;</td><td>&quot;€157M&quot;</td><td>8.0</td><td>&quot;nan&quot;</td></tr><tr><td>212198</td><td>&quot;Bruno Fernandes&quot;</td><td>27</td><td>&quot;https://cdn.sofifa.net/players…</td><td>&quot;Portugal&quot;</td><td>&quot;https://cdn.sofifa.net/flags/p…</td><td>86</td><td>87</td><td>&quot;Manchester United&quot;</td><td>&quot;https://cdn.sofifa.net/teams/1…</td><td>&quot;€78.5M&quot;</td><td>&quot;€190K&quot;</td><td>2305</td><td>&quot;Right&quot;</td><td>3.0</td><td>3.0</td><td>4.0</td><td>&quot;High/ High&quot;</td><td>&quot;Unique&quot;</td><td>&quot;Yes&quot;</td><td>&quot;&lt;span class=&quot;pos pos15&quot;&gt;LCM&quot;</td><td>&quot;Jan 30, 2020&quot;</td><td>&quot;nan&quot;</td><td>&quot;2026&quot;</td><td>&quot;179cm&quot;</td><td>&quot;69kg&quot;</td><td>&quot;€155M&quot;</td><td>8.0</td><td>&quot;nan&quot;</td></tr><tr><td>224334</td><td>&quot;M. Acuña&quot;</td><td>30</td><td>&quot;https://cdn.sofifa.net/players…</td><td>&quot;Argentina&quot;</td><td>&quot;https://cdn.sofifa.net/flags/a…</td><td>85</td><td>85</td><td>&quot;Sevilla FC&quot;</td><td>&quot;https://cdn.sofifa.net/teams/4…</td><td>&quot;€46.5M&quot;</td><td>&quot;€46K&quot;</td><td>2303</td><td>&quot;Left&quot;</td><td>2.0</td><td>3.0</td><td>3.0</td><td>&quot;High/ High&quot;</td><td>&quot;Stocky (170-185)&quot;</td><td>&quot;No&quot;</td><td>&quot;&lt;span class=&quot;pos pos7&quot;&gt;LB&quot;</td><td>&quot;Sep 14, 2020&quot;</td><td>&quot;nan&quot;</td><td>&quot;2024&quot;</td><td>&quot;172cm&quot;</td><td>&quot;69kg&quot;</td><td>&quot;€97.7M&quot;</td><td>19.0</td><td>&quot;nan&quot;</td></tr><tr><td>192985</td><td>&quot;K. De Bruyne&quot;</td><td>31</td><td>&quot;https://cdn.sofifa.net/players…</td><td>&quot;Belgium&quot;</td><td>&quot;https://cdn.sofifa.net/flags/b…</td><td>91</td><td>91</td><td>&quot;Manchester City&quot;</td><td>&quot;https://cdn.sofifa.net/teams/1…</td><td>&quot;€107.5M&quot;</td><td>&quot;€350K&quot;</td><td>2303</td><td>&quot;Right&quot;</td><td>4.0</td><td>5.0</td><td>4.0</td><td>&quot;High/ High&quot;</td><td>&quot;Unique&quot;</td><td>&quot;Yes&quot;</td><td>&quot;&lt;span class=&quot;pos pos13&quot;&gt;RCM&quot;</td><td>&quot;Aug 30, 2015&quot;</td><td>&quot;nan&quot;</td><td>&quot;2025&quot;</td><td>&quot;181cm&quot;</td><td>&quot;70kg&quot;</td><td>&quot;€198.9M&quot;</td><td>17.0</td><td>&quot;nan&quot;</td></tr><tr><td>224232</td><td>&quot;N. Barella&quot;</td><td>25</td><td>&quot;https://cdn.sofifa.net/players…</td><td>&quot;Italy&quot;</td><td>&quot;https://cdn.sofifa.net/flags/i…</td><td>86</td><td>89</td><td>&quot;Inter&quot;</td><td>&quot;https://cdn.sofifa.net/teams/4…</td><td>&quot;€89.5M&quot;</td><td>&quot;€110K&quot;</td><td>2296</td><td>&quot;Right&quot;</td><td>3.0</td><td>3.0</td><td>3.0</td><td>&quot;High/ High&quot;</td><td>&quot;Normal (170-)&quot;</td><td>&quot;Yes&quot;</td><td>&quot;&lt;span class=&quot;pos pos13&quot;&gt;RCM&quot;</td><td>&quot;Sep 1, 2020&quot;</td><td>&quot;nan&quot;</td><td>&quot;2026&quot;</td><td>&quot;172cm&quot;</td><td>&quot;68kg&quot;</td><td>&quot;€154.4M&quot;</td><td>23.0</td><td>&quot;nan&quot;</td></tr><tr><td>212622</td><td>&quot;J. Kimmich&quot;</td><td>27</td><td>&quot;https://cdn.sofifa.net/players…</td><td>&quot;Germany&quot;</td><td>&quot;https://cdn.sofifa.net/flags/d…</td><td>89</td><td>90</td><td>&quot;FC Bayern München&quot;</td><td>&quot;https://cdn.sofifa.net/teams/2…</td><td>&quot;€105.5M&quot;</td><td>&quot;€130K&quot;</td><td>2283</td><td>&quot;Right&quot;</td><td>4.0</td><td>4.0</td><td>3.0</td><td>&quot;High/ Medium&quot;</td><td>&quot;Normal (170-185)&quot;</td><td>&quot;Yes&quot;</td><td>&quot;&lt;span class=&quot;pos pos9&quot;&gt;RDM&quot;</td><td>&quot;Jul 1, 2015&quot;</td><td>&quot;nan&quot;</td><td>&quot;2025&quot;</td><td>&quot;177cm&quot;</td><td>&quot;75kg&quot;</td><td>&quot;€182M&quot;</td><td>6.0</td><td>&quot;nan&quot;</td></tr><tr><td>197445</td><td>&quot;D. Alaba&quot;</td><td>30</td><td>&quot;https://cdn.sofifa.net/players…</td><td>&quot;Austria&quot;</td><td>&quot;https://cdn.sofifa.net/flags/a…</td><td>86</td><td>86</td><td>&quot;Real Madrid CF&quot;</td><td>&quot;https://cdn.sofifa.net/teams/2…</td><td>&quot;€55.5M&quot;</td><td>&quot;€220K&quot;</td><td>2277</td><td>&quot;Left&quot;</td><td>4.0</td><td>4.0</td><td>3.0</td><td>&quot;Medium/ Medium&quot;</td><td>&quot;Normal (170-185)&quot;</td><td>&quot;Yes&quot;</td><td>&quot;&lt;span class=&quot;pos pos6&quot;&gt;LCB&quot;</td><td>&quot;Jul 1, 2021&quot;</td><td>&quot;nan&quot;</td><td>&quot;2026&quot;</td><td>&quot;180cm&quot;</td><td>&quot;78kg&quot;</td><td>&quot;€113.8M&quot;</td><td>4.0</td><td>&quot;nan&quot;</td></tr><tr><td>187961</td><td>&quot;22 Paulinho&quot;</td><td>32</td><td>&quot;https://cdn.sofifa.net/players…</td><td>&quot;Brazil&quot;</td><td>&quot;https://cdn.sofifa.net/flags/b…</td><td>83</td><td>83</td><td>&quot;Al Ahli&quot;</td><td>&quot;https://cdn.sofifa.net/teams/1…</td><td>&quot;€28.5M&quot;</td><td>&quot;€61K&quot;</td><td>2273</td><td>&quot;Right&quot;</td><td>3.0</td><td>4.0</td><td>4.0</td><td>&quot;High/ High&quot;</td><td>&quot;Normal (170-185)&quot;</td><td>&quot;Yes&quot;</td><td>&quot;&lt;span class=&quot;pos pos15&quot;&gt;LCM&quot;</td><td>&quot;Jul 22, 2021&quot;</td><td>&quot;nan&quot;</td><td>&quot;2024&quot;</td><td>&quot;183cm&quot;</td><td>&quot;80kg&quot;</td><td>&quot;€48.5M&quot;</td><td>15.0</td><td>&quot;nan&quot;</td></tr><tr><td>208333</td><td>&quot;E. Can&quot;</td><td>28</td><td>&quot;https://cdn.sofifa.net/players…</td><td>&quot;Germany&quot;</td><td>&quot;https://cdn.sofifa.net/flags/d…</td><td>82</td><td>82</td><td>&quot;Borussia Dortmund&quot;</td><td>&quot;https://cdn.sofifa.net/teams/2…</td><td>&quot;€30.5M&quot;</td><td>&quot;€63K&quot;</td><td>2271</td><td>&quot;Right&quot;</td><td>3.0</td><td>4.0</td><td>3.0</td><td>&quot;Medium/ High&quot;</td><td>&quot;Stocky (185+)&quot;</td><td>&quot;Yes&quot;</td><td>&quot;&lt;span class=&quot;pos pos28&quot;&gt;SUB&quot;</td><td>&quot;Feb 18, 2020&quot;</td><td>&quot;nan&quot;</td><td>&quot;2024&quot;</td><td>&quot;186cm&quot;</td><td>&quot;86kg&quot;</td><td>&quot;€51.9M&quot;</td><td>23.0</td><td>&quot;nan&quot;</td></tr><tr><td>210514</td><td>&quot;João Cancelo&quot;</td><td>28</td><td>&quot;https://cdn.sofifa.net/players…</td><td>&quot;Portugal&quot;</td><td>&quot;https://cdn.sofifa.net/flags/p…</td><td>88</td><td>88</td><td>&quot;Manchester City&quot;</td><td>&quot;https://cdn.sofifa.net/teams/1…</td><td>&quot;€82.5M&quot;</td><td>&quot;€250K&quot;</td><td>2262</td><td>&quot;Right&quot;</td><td>3.0</td><td>4.0</td><td>4.0</td><td>&quot;High/ Medium&quot;</td><td>&quot;Unique&quot;</td><td>&quot;Yes&quot;</td><td>&quot;&lt;span class=&quot;pos pos7&quot;&gt;LB&quot;</td><td>&quot;Aug 7, 2019&quot;</td><td>&quot;nan&quot;</td><td>&quot;2027&quot;</td><td>&quot;182cm&quot;</td><td>&quot;74kg&quot;</td><td>&quot;€152.6M&quot;</td><td>7.0</td><td>&quot;nan&quot;</td></tr></tbody></table></div>"
      ],
      "text/plain": [
       "shape: (10, 29)\n",
       "┌────────┬───────────────┬─────┬───────────────┬───┬────────┬─────────┬────────────┬───────────────┐\n",
       "│ ID     ┆ Name          ┆ Age ┆ Photo         ┆ … ┆ Weight ┆ Release ┆ Kit Number ┆ Best Overall  │\n",
       "│ ---    ┆ ---           ┆ --- ┆ ---           ┆   ┆ ---    ┆ Clause  ┆ ---        ┆ Rating        │\n",
       "│ i64    ┆ str           ┆ i64 ┆ str           ┆   ┆ str    ┆ ---     ┆ f64        ┆ ---           │\n",
       "│        ┆               ┆     ┆               ┆   ┆        ┆ str     ┆            ┆ str           │\n",
       "╞════════╪═══════════════╪═════╪═══════════════╪═══╪════════╪═════════╪════════════╪═══════════════╡\n",
       "│ 209658 ┆ L. Goretzka   ┆ 27  ┆ https://cdn.s ┆ … ┆ 82kg   ┆ €157M   ┆ 8.0        ┆ nan           │\n",
       "│        ┆               ┆     ┆ ofifa.net/pla ┆   ┆        ┆         ┆            ┆               │\n",
       "│        ┆               ┆     ┆ yers…         ┆   ┆        ┆         ┆            ┆               │\n",
       "│ 212198 ┆ Bruno         ┆ 27  ┆ https://cdn.s ┆ … ┆ 69kg   ┆ €155M   ┆ 8.0        ┆ nan           │\n",
       "│        ┆ Fernandes     ┆     ┆ ofifa.net/pla ┆   ┆        ┆         ┆            ┆               │\n",
       "│        ┆               ┆     ┆ yers…         ┆   ┆        ┆         ┆            ┆               │\n",
       "│ 224334 ┆ M. Acuña      ┆ 30  ┆ https://cdn.s ┆ … ┆ 69kg   ┆ €97.7M  ┆ 19.0       ┆ nan           │\n",
       "│        ┆               ┆     ┆ ofifa.net/pla ┆   ┆        ┆         ┆            ┆               │\n",
       "│        ┆               ┆     ┆ yers…         ┆   ┆        ┆         ┆            ┆               │\n",
       "│ 192985 ┆ K. De Bruyne  ┆ 31  ┆ https://cdn.s ┆ … ┆ 70kg   ┆ €198.9M ┆ 17.0       ┆ nan           │\n",
       "│        ┆               ┆     ┆ ofifa.net/pla ┆   ┆        ┆         ┆            ┆               │\n",
       "│        ┆               ┆     ┆ yers…         ┆   ┆        ┆         ┆            ┆               │\n",
       "│ 224232 ┆ N. Barella    ┆ 25  ┆ https://cdn.s ┆ … ┆ 68kg   ┆ €154.4M ┆ 23.0       ┆ nan           │\n",
       "│        ┆               ┆     ┆ ofifa.net/pla ┆   ┆        ┆         ┆            ┆               │\n",
       "│        ┆               ┆     ┆ yers…         ┆   ┆        ┆         ┆            ┆               │\n",
       "│ 212622 ┆ J. Kimmich    ┆ 27  ┆ https://cdn.s ┆ … ┆ 75kg   ┆ €182M   ┆ 6.0        ┆ nan           │\n",
       "│        ┆               ┆     ┆ ofifa.net/pla ┆   ┆        ┆         ┆            ┆               │\n",
       "│        ┆               ┆     ┆ yers…         ┆   ┆        ┆         ┆            ┆               │\n",
       "│ 197445 ┆ D. Alaba      ┆ 30  ┆ https://cdn.s ┆ … ┆ 78kg   ┆ €113.8M ┆ 4.0        ┆ nan           │\n",
       "│        ┆               ┆     ┆ ofifa.net/pla ┆   ┆        ┆         ┆            ┆               │\n",
       "│        ┆               ┆     ┆ yers…         ┆   ┆        ┆         ┆            ┆               │\n",
       "│ 187961 ┆ 22 Paulinho   ┆ 32  ┆ https://cdn.s ┆ … ┆ 80kg   ┆ €48.5M  ┆ 15.0       ┆ nan           │\n",
       "│        ┆               ┆     ┆ ofifa.net/pla ┆   ┆        ┆         ┆            ┆               │\n",
       "│        ┆               ┆     ┆ yers…         ┆   ┆        ┆         ┆            ┆               │\n",
       "│ 208333 ┆ E. Can        ┆ 28  ┆ https://cdn.s ┆ … ┆ 86kg   ┆ €51.9M  ┆ 23.0       ┆ nan           │\n",
       "│        ┆               ┆     ┆ ofifa.net/pla ┆   ┆        ┆         ┆            ┆               │\n",
       "│        ┆               ┆     ┆ yers…         ┆   ┆        ┆         ┆            ┆               │\n",
       "│ 210514 ┆ João Cancelo  ┆ 28  ┆ https://cdn.s ┆ … ┆ 74kg   ┆ €152.6M ┆ 7.0        ┆ nan           │\n",
       "│        ┆               ┆     ┆ ofifa.net/pla ┆   ┆        ┆         ┆            ┆               │\n",
       "│        ┆               ┆     ┆ yers…         ┆   ┆        ┆         ┆            ┆               │\n",
       "└────────┴───────────────┴─────┴───────────────┴───┴────────┴─────────┴────────────┴───────────────┘"
      ]
     },
     "execution_count": 139,
     "metadata": {},
     "output_type": "execute_result"
    }
   ],
   "source": [
    "polars_df.head(10)"
   ]
  },
  {
   "cell_type": "code",
   "execution_count": 140,
   "id": "8f690bdb",
   "metadata": {},
   "outputs": [
    {
     "data": {
      "text/plain": [
       "(17660, 29)"
      ]
     },
     "execution_count": 140,
     "metadata": {},
     "output_type": "execute_result"
    }
   ],
   "source": [
    "polars_df.shape"
   ]
  },
  {
   "cell_type": "code",
   "execution_count": 141,
   "id": "1f036bb9",
   "metadata": {},
   "outputs": [
    {
     "data": {
      "text/plain": [
       "[Int64,\n",
       " String,\n",
       " Int64,\n",
       " String,\n",
       " String,\n",
       " String,\n",
       " Int64,\n",
       " Int64,\n",
       " String,\n",
       " String,\n",
       " String,\n",
       " String,\n",
       " Int64,\n",
       " String,\n",
       " Float64,\n",
       " Float64,\n",
       " Float64,\n",
       " String,\n",
       " String,\n",
       " String,\n",
       " String,\n",
       " String,\n",
       " String,\n",
       " String,\n",
       " String,\n",
       " String,\n",
       " String,\n",
       " Float64,\n",
       " String]"
      ]
     },
     "execution_count": 141,
     "metadata": {},
     "output_type": "execute_result"
    }
   ],
   "source": [
    "polars_df.dtypes"
   ]
  },
  {
   "cell_type": "code",
   "execution_count": 142,
   "id": "10aeadf8",
   "metadata": {},
   "outputs": [
    {
     "data": {
      "text/html": [
       "<pre style=\"white-space:pre;overflow-x:auto;line-height:normal;font-family:Menlo,'DejaVu Sans Mono',consolas,'Courier New',monospace\">╭──────────────────────────────────────────────── skimpy summary ─────────────────────────────────────────────────╮\n",
       "│ <span style=\"font-style: italic\">         Data Summary         </span> <span style=\"font-style: italic\">      Data Types       </span>                                                          │\n",
       "│ ┏━━━━━━━━━━━━━━━━━━━┳━━━━━━━━┓ ┏━━━━━━━━━━━━━┳━━━━━━━┓                                                          │\n",
       "│ ┃<span style=\"color: #008080; text-decoration-color: #008080; font-weight: bold\"> Dataframe         </span>┃<span style=\"color: #008080; text-decoration-color: #008080; font-weight: bold\"> Values </span>┃ ┃<span style=\"color: #008080; text-decoration-color: #008080; font-weight: bold\"> Column Type </span>┃<span style=\"color: #008080; text-decoration-color: #008080; font-weight: bold\"> Count </span>┃                                                          │\n",
       "│ ┡━━━━━━━━━━━━━━━━━━━╇━━━━━━━━┩ ┡━━━━━━━━━━━━━╇━━━━━━━┩                                                          │\n",
       "│ │ Number of rows    │ 17660  │ │ string      │ 20    │                                                          │\n",
       "│ │ Number of columns │ 29     │ │ int64       │ 5     │                                                          │\n",
       "│ └───────────────────┴────────┘ │ float64     │ 4     │                                                          │\n",
       "│                                └─────────────┴───────┘                                                          │\n",
       "│ <span style=\"font-style: italic\">                                                    number                                                    </span>  │\n",
       "│ ┏━━━━━━━━━━━━━━━━━┳━━━━┳━━━━━━━━━━━━━━━━┳━━━━━━━━┳━━━━━━━━┳━━━━━┳━━━━━━━━┳━━━━━━━━┳━━━━━━━━┳━━━━━━━━┳━━━━━━━━┓  │\n",
       "│ ┃<span style=\"font-weight: bold\"> column          </span>┃<span style=\"font-weight: bold\"> NA </span>┃<span style=\"font-weight: bold\"> NA %           </span>┃<span style=\"font-weight: bold\"> mean   </span>┃<span style=\"font-weight: bold\"> sd     </span>┃<span style=\"font-weight: bold\"> p0  </span>┃<span style=\"font-weight: bold\"> p25    </span>┃<span style=\"font-weight: bold\"> p50    </span>┃<span style=\"font-weight: bold\"> p75    </span>┃<span style=\"font-weight: bold\"> p100   </span>┃<span style=\"font-weight: bold\"> hist   </span>┃  │\n",
       "│ ┡━━━━━━━━━━━━━━━━━╇━━━━╇━━━━━━━━━━━━━━━━╇━━━━━━━━╇━━━━━━━━╇━━━━━╇━━━━━━━━╇━━━━━━━━╇━━━━━━━━╇━━━━━━━━╇━━━━━━━━┩  │\n",
       "│ │ <span style=\"color: #af87ff; text-decoration-color: #af87ff\">ID             </span> │ <span style=\"color: #008080; text-decoration-color: #008080\"> 0</span> │ <span style=\"color: #008080; text-decoration-color: #008080\">             0</span> │ <span style=\"color: #008080; text-decoration-color: #008080\">246300</span> │ <span style=\"color: #008080; text-decoration-color: #008080\"> 31490</span> │ <span style=\"color: #008080; text-decoration-color: #008080\"> 16</span> │ <span style=\"color: #008080; text-decoration-color: #008080\">240700</span> │ <span style=\"color: #008080; text-decoration-color: #008080\">257000</span> │ <span style=\"color: #008080; text-decoration-color: #008080\">263000</span> │ <span style=\"color: #008080; text-decoration-color: #008080\">271300</span> │ <span style=\"color: #008000; text-decoration-color: #008000\">    ▁▇</span> │  │\n",
       "│ │ <span style=\"color: #af87ff; text-decoration-color: #af87ff\">Age            </span> │ <span style=\"color: #008080; text-decoration-color: #008080\"> 0</span> │ <span style=\"color: #008080; text-decoration-color: #008080\">             0</span> │ <span style=\"color: #008080; text-decoration-color: #008080\"> 23.13</span> │ <span style=\"color: #008080; text-decoration-color: #008080\">  4.64</span> │ <span style=\"color: #008080; text-decoration-color: #008080\"> 15</span> │ <span style=\"color: #008080; text-decoration-color: #008080\">    20</span> │ <span style=\"color: #008080; text-decoration-color: #008080\">    22</span> │ <span style=\"color: #008080; text-decoration-color: #008080\">    26</span> │ <span style=\"color: #008080; text-decoration-color: #008080\">    54</span> │ <span style=\"color: #008000; text-decoration-color: #008000\"> ▇▆▃  </span> │  │\n",
       "│ │ <span style=\"color: #af87ff; text-decoration-color: #af87ff\">Overall        </span> │ <span style=\"color: #008080; text-decoration-color: #008080\"> 0</span> │ <span style=\"color: #008080; text-decoration-color: #008080\">             0</span> │ <span style=\"color: #008080; text-decoration-color: #008080\"> 63.37</span> │ <span style=\"color: #008080; text-decoration-color: #008080\"> 8.036</span> │ <span style=\"color: #008080; text-decoration-color: #008080\"> 43</span> │ <span style=\"color: #008080; text-decoration-color: #008080\">    58</span> │ <span style=\"color: #008080; text-decoration-color: #008080\">    63</span> │ <span style=\"color: #008080; text-decoration-color: #008080\">    69</span> │ <span style=\"color: #008080; text-decoration-color: #008080\">    91</span> │ <span style=\"color: #008000; text-decoration-color: #008000\">▁▅▇▅▂ </span> │  │\n",
       "│ │ <span style=\"color: #af87ff; text-decoration-color: #af87ff\">Potential      </span> │ <span style=\"color: #008080; text-decoration-color: #008080\"> 0</span> │ <span style=\"color: #008080; text-decoration-color: #008080\">             0</span> │ <span style=\"color: #008080; text-decoration-color: #008080\"> 70.98</span> │ <span style=\"color: #008080; text-decoration-color: #008080\">  6.53</span> │ <span style=\"color: #008080; text-decoration-color: #008080\"> 42</span> │ <span style=\"color: #008080; text-decoration-color: #008080\">    67</span> │ <span style=\"color: #008080; text-decoration-color: #008080\">    71</span> │ <span style=\"color: #008080; text-decoration-color: #008080\">    75</span> │ <span style=\"color: #008080; text-decoration-color: #008080\">    95</span> │ <span style=\"color: #008000; text-decoration-color: #008000\"> ▁▅▇▃ </span> │  │\n",
       "│ │ <span style=\"color: #af87ff; text-decoration-color: #af87ff\">Special        </span> │ <span style=\"color: #008080; text-decoration-color: #008080\"> 0</span> │ <span style=\"color: #008080; text-decoration-color: #008080\">             0</span> │ <span style=\"color: #008080; text-decoration-color: #008080\">  1538</span> │ <span style=\"color: #008080; text-decoration-color: #008080\"> 285.9</span> │ <span style=\"color: #008080; text-decoration-color: #008080\">749</span> │ <span style=\"color: #008080; text-decoration-color: #008080\">  1387</span> │ <span style=\"color: #008080; text-decoration-color: #008080\">  1548</span> │ <span style=\"color: #008080; text-decoration-color: #008080\">  1727</span> │ <span style=\"color: #008080; text-decoration-color: #008080\">  2312</span> │ <span style=\"color: #008000; text-decoration-color: #008000\">▂▂▇▇▃▁</span> │  │\n",
       "│ │ <span style=\"color: #af87ff; text-decoration-color: #af87ff\">International  </span> │ <span style=\"color: #008080; text-decoration-color: #008080\"> 0</span> │ <span style=\"color: #008080; text-decoration-color: #008080\">             0</span> │ <span style=\"color: #008080; text-decoration-color: #008080\"> 1.106</span> │ <span style=\"color: #008080; text-decoration-color: #008080\"> 0.407</span> │ <span style=\"color: #008080; text-decoration-color: #008080\">  1</span> │ <span style=\"color: #008080; text-decoration-color: #008080\">     1</span> │ <span style=\"color: #008080; text-decoration-color: #008080\">     1</span> │ <span style=\"color: #008080; text-decoration-color: #008080\">     1</span> │ <span style=\"color: #008080; text-decoration-color: #008080\">     5</span> │ <span style=\"color: #008000; text-decoration-color: #008000\">  ▇   </span> │  │\n",
       "│ │ <span style=\"color: #af87ff; text-decoration-color: #af87ff\">Reputation     </span> │    │                │        │        │     │        │        │        │        │        │  │\n",
       "│ │ <span style=\"color: #af87ff; text-decoration-color: #af87ff\">Weak Foot      </span> │ <span style=\"color: #008080; text-decoration-color: #008080\"> 0</span> │ <span style=\"color: #008080; text-decoration-color: #008080\">             0</span> │ <span style=\"color: #008080; text-decoration-color: #008080\">   2.9</span> │ <span style=\"color: #008080; text-decoration-color: #008080\">0.6635</span> │ <span style=\"color: #008080; text-decoration-color: #008080\">  1</span> │ <span style=\"color: #008080; text-decoration-color: #008080\">     3</span> │ <span style=\"color: #008080; text-decoration-color: #008080\">     3</span> │ <span style=\"color: #008080; text-decoration-color: #008080\">     3</span> │ <span style=\"color: #008080; text-decoration-color: #008080\">     5</span> │ <span style=\"color: #008000; text-decoration-color: #008000\"> ▃ ▇▂ </span> │  │\n",
       "│ │ <span style=\"color: #af87ff; text-decoration-color: #af87ff\">Skill Moves    </span> │ <span style=\"color: #008080; text-decoration-color: #008080\"> 0</span> │ <span style=\"color: #008080; text-decoration-color: #008080\">             0</span> │ <span style=\"color: #008080; text-decoration-color: #008080\"> 2.297</span> │ <span style=\"color: #008080; text-decoration-color: #008080\">0.7543</span> │ <span style=\"color: #008080; text-decoration-color: #008080\">  1</span> │ <span style=\"color: #008080; text-decoration-color: #008080\">     2</span> │ <span style=\"color: #008080; text-decoration-color: #008080\">     2</span> │ <span style=\"color: #008080; text-decoration-color: #008080\">     3</span> │ <span style=\"color: #008080; text-decoration-color: #008080\">     5</span> │ <span style=\"color: #008000; text-decoration-color: #008000\">▂▇ ▅▁ </span> │  │\n",
       "│ │ <span style=\"color: #af87ff; text-decoration-color: #af87ff\">Kit Number     </span> │ <span style=\"color: #008080; text-decoration-color: #008080\">35</span> │ <span style=\"color: #008080; text-decoration-color: #008080\">0.198187995469</span> │ <span style=\"color: #008080; text-decoration-color: #008080\"> 25.04</span> │ <span style=\"color: #008080; text-decoration-color: #008080\"> 19.15</span> │ <span style=\"color: #008080; text-decoration-color: #008080\">  1</span> │ <span style=\"color: #008080; text-decoration-color: #008080\">    11</span> │ <span style=\"color: #008080; text-decoration-color: #008080\">    22</span> │ <span style=\"color: #008080; text-decoration-color: #008080\">    32</span> │ <span style=\"color: #008080; text-decoration-color: #008080\">    99</span> │ <span style=\"color: #008000; text-decoration-color: #008000\">▇▇▃▁ ▁</span> │  │\n",
       "│ │                 │    │ <span style=\"color: #008080; text-decoration-color: #008080\">         98866</span> │        │        │     │        │        │        │        │        │  │\n",
       "│ └─────────────────┴────┴────────────────┴────────┴────────┴─────┴────────┴────────┴────────┴────────┴────────┘  │\n",
       "│ <span style=\"font-style: italic\">                                                    string                                                    </span>  │\n",
       "│ ┏━━━━━━━━━━┳━━━━━━━┳━━━━━━━━━━┳━━━━━━━━━━┳━━━━━━━━━━┳━━━━━━━━━━┳━━━━━━━━━━━┳━━━━━━━━━━┳━━━━━━━━━━━┳━━━━━━━━━━┓  │\n",
       "│ ┃<span style=\"font-weight: bold\">          </span>┃<span style=\"font-weight: bold\">       </span>┃<span style=\"font-weight: bold\">          </span>┃<span style=\"font-weight: bold\">          </span>┃<span style=\"font-weight: bold\">          </span>┃<span style=\"font-weight: bold\">          </span>┃<span style=\"font-weight: bold\">           </span>┃<span style=\"font-weight: bold\"> chars    </span>┃<span style=\"font-weight: bold\"> words per </span>┃<span style=\"font-weight: bold\"> total    </span>┃  │\n",
       "│ ┃<span style=\"font-weight: bold\"> column   </span>┃<span style=\"font-weight: bold\"> NA    </span>┃<span style=\"font-weight: bold\"> NA %     </span>┃<span style=\"font-weight: bold\"> shortest </span>┃<span style=\"font-weight: bold\"> longest  </span>┃<span style=\"font-weight: bold\"> min      </span>┃<span style=\"font-weight: bold\"> max       </span>┃<span style=\"font-weight: bold\"> per row  </span>┃<span style=\"font-weight: bold\"> row       </span>┃<span style=\"font-weight: bold\"> words    </span>┃  │\n",
       "│ ┡━━━━━━━━━━╇━━━━━━━╇━━━━━━━━━━╇━━━━━━━━━━╇━━━━━━━━━━╇━━━━━━━━━━╇━━━━━━━━━━━╇━━━━━━━━━━╇━━━━━━━━━━━╇━━━━━━━━━━┩  │\n",
       "│ │ <span style=\"color: #af87ff; text-decoration-color: #af87ff\">Name    </span> │ <span style=\"color: #008080; text-decoration-color: #008080\">    0</span> │ <span style=\"color: #008080; text-decoration-color: #008080\">       0</span> │ <span style=\"color: #af87ff; text-decoration-color: #af87ff\">Isi     </span> │ <span style=\"color: #af87ff; text-decoration-color: #af87ff\">22 L.   </span> │ <span style=\"color: #af87ff; text-decoration-color: #af87ff\">07 C.   </span> │ <span style=\"color: #af87ff; text-decoration-color: #af87ff\">Ș.       </span> │ <span style=\"color: #008080; text-decoration-color: #008080\">    11.2</span> │ <span style=\"color: #008080; text-decoration-color: #008080\">        2</span> │ <span style=\"color: #008080; text-decoration-color: #008080\">   35532</span> │  │\n",
       "│ │          │       │          │          │ <span style=\"color: #af87ff; text-decoration-color: #af87ff\">Urbano  </span> │ <span style=\"color: #af87ff; text-decoration-color: #af87ff\">Mengi   </span> │ <span style=\"color: #af87ff; text-decoration-color: #af87ff\">Tomache  </span> │          │           │          │  │\n",
       "│ │          │       │          │          │ <span style=\"color: #af87ff; text-decoration-color: #af87ff\">Dias de </span> │          │           │          │           │          │  │\n",
       "│ │          │       │          │          │ <span style=\"color: #af87ff; text-decoration-color: #af87ff\">Lima    </span> │          │           │          │           │          │  │\n",
       "│ │ <span style=\"color: #af87ff; text-decoration-color: #af87ff\">Photo   </span> │ <span style=\"color: #008080; text-decoration-color: #008080\">    0</span> │ <span style=\"color: #008080; text-decoration-color: #008080\">       0</span> │ <span style=\"color: #af87ff; text-decoration-color: #af87ff\">https://</span> │ <span style=\"color: #af87ff; text-decoration-color: #af87ff\">https://</span> │ <span style=\"color: #af87ff; text-decoration-color: #af87ff\">https://</span> │ <span style=\"color: #af87ff; text-decoration-color: #af87ff\">https://c</span> │ <span style=\"color: #008080; text-decoration-color: #008080\">      48</span> │ <span style=\"color: #008080; text-decoration-color: #008080\">        1</span> │ <span style=\"color: #008080; text-decoration-color: #008080\">   17660</span> │  │\n",
       "│ │          │       │          │ <span style=\"color: #af87ff; text-decoration-color: #af87ff\">cdn.sofi</span> │ <span style=\"color: #af87ff; text-decoration-color: #af87ff\">cdn.sofi</span> │ <span style=\"color: #af87ff; text-decoration-color: #af87ff\">cdn.sofi</span> │ <span style=\"color: #af87ff; text-decoration-color: #af87ff\">dn.sofifa</span> │          │           │          │  │\n",
       "│ │          │       │          │ <span style=\"color: #af87ff; text-decoration-color: #af87ff\">fa.net/p</span> │ <span style=\"color: #af87ff; text-decoration-color: #af87ff\">fa.net/p</span> │ <span style=\"color: #af87ff; text-decoration-color: #af87ff\">fa.net/p</span> │ <span style=\"color: #af87ff; text-decoration-color: #af87ff\">.net/play</span> │          │           │          │  │\n",
       "│ │          │       │          │ <span style=\"color: #af87ff; text-decoration-color: #af87ff\">layers/2</span> │ <span style=\"color: #af87ff; text-decoration-color: #af87ff\">layers/2</span> │ <span style=\"color: #af87ff; text-decoration-color: #af87ff\">layers/0</span> │ <span style=\"color: #af87ff; text-decoration-color: #af87ff\">ers/271/3</span> │          │           │          │  │\n",
       "│ │          │       │          │ <span style=\"color: #af87ff; text-decoration-color: #af87ff\">09/658/2</span> │ <span style=\"color: #af87ff; text-decoration-color: #af87ff\">09/658/2</span> │ <span style=\"color: #af87ff; text-decoration-color: #af87ff\">00/016/1</span> │ <span style=\"color: #af87ff; text-decoration-color: #af87ff\">40/23_60.</span> │          │           │          │  │\n",
       "│ │          │       │          │ <span style=\"color: #af87ff; text-decoration-color: #af87ff\">3_60.png</span> │ <span style=\"color: #af87ff; text-decoration-color: #af87ff\">3_60.png</span> │ <span style=\"color: #af87ff; text-decoration-color: #af87ff\">9_60.png</span> │ <span style=\"color: #af87ff; text-decoration-color: #af87ff\">png      </span> │          │           │          │  │\n",
       "│ │ <span style=\"color: #af87ff; text-decoration-color: #af87ff\">National</span> │ <span style=\"color: #008080; text-decoration-color: #008080\">    0</span> │ <span style=\"color: #008080; text-decoration-color: #008080\">       0</span> │ <span style=\"color: #af87ff; text-decoration-color: #af87ff\">Mali    </span> │ <span style=\"color: #af87ff; text-decoration-color: #af87ff\">Central </span> │ <span style=\"color: #af87ff; text-decoration-color: #af87ff\">Afghanis</span> │ <span style=\"color: #af87ff; text-decoration-color: #af87ff\">Zimbabwe </span> │ <span style=\"color: #008080; text-decoration-color: #008080\">    7.59</span> │ <span style=\"color: #008080; text-decoration-color: #008080\">      1.1</span> │ <span style=\"color: #008080; text-decoration-color: #008080\">   20135</span> │  │\n",
       "│ │ <span style=\"color: #af87ff; text-decoration-color: #af87ff\">ity     </span> │       │          │          │ <span style=\"color: #af87ff; text-decoration-color: #af87ff\">African </span> │ <span style=\"color: #af87ff; text-decoration-color: #af87ff\">tan     </span> │           │          │           │          │  │\n",
       "│ │          │       │          │          │ <span style=\"color: #af87ff; text-decoration-color: #af87ff\">Republic</span> │          │           │          │           │          │  │\n",
       "│ │ <span style=\"color: #af87ff; text-decoration-color: #af87ff\">Flag    </span> │ <span style=\"color: #008080; text-decoration-color: #008080\">    0</span> │ <span style=\"color: #008080; text-decoration-color: #008080\">       0</span> │ <span style=\"color: #af87ff; text-decoration-color: #af87ff\">https://</span> │ <span style=\"color: #af87ff; text-decoration-color: #af87ff\">https://</span> │ <span style=\"color: #af87ff; text-decoration-color: #af87ff\">https://</span> │ <span style=\"color: #af87ff; text-decoration-color: #af87ff\">https://c</span> │ <span style=\"color: #008080; text-decoration-color: #008080\">    35.4</span> │ <span style=\"color: #008080; text-decoration-color: #008080\">        1</span> │ <span style=\"color: #008080; text-decoration-color: #008080\">   17660</span> │  │\n",
       "│ │          │       │          │ <span style=\"color: #af87ff; text-decoration-color: #af87ff\">cdn.sofi</span> │ <span style=\"color: #af87ff; text-decoration-color: #af87ff\">cdn.sofi</span> │ <span style=\"color: #af87ff; text-decoration-color: #af87ff\">cdn.sofi</span> │ <span style=\"color: #af87ff; text-decoration-color: #af87ff\">dn.sofifa</span> │          │           │          │  │\n",
       "│ │          │       │          │ <span style=\"color: #af87ff; text-decoration-color: #af87ff\">fa.net/f</span> │ <span style=\"color: #af87ff; text-decoration-color: #af87ff\">fa.net/f</span> │ <span style=\"color: #af87ff; text-decoration-color: #af87ff\">fa.net/f</span> │ <span style=\"color: #af87ff; text-decoration-color: #af87ff\">.net/flag</span> │          │           │          │  │\n",
       "│ │          │       │          │ <span style=\"color: #af87ff; text-decoration-color: #af87ff\">lags/de.</span> │ <span style=\"color: #af87ff; text-decoration-color: #af87ff\">lags/gb-</span> │ <span style=\"color: #af87ff; text-decoration-color: #af87ff\">lags/ad.</span> │ <span style=\"color: #af87ff; text-decoration-color: #af87ff\">s/zw.png </span> │          │           │          │  │\n",
       "│ │          │       │          │ <span style=\"color: #af87ff; text-decoration-color: #af87ff\">png     </span> │ <span style=\"color: #af87ff; text-decoration-color: #af87ff\">eng.png </span> │ <span style=\"color: #af87ff; text-decoration-color: #af87ff\">png     </span> │           │          │           │          │  │\n",
       "│ │ <span style=\"color: #af87ff; text-decoration-color: #af87ff\">Club    </span> │ <span style=\"color: #008080; text-decoration-color: #008080\">  211</span> │ <span style=\"color: #008080; text-decoration-color: #008080\">1.194790</span> │ <span style=\"color: #af87ff; text-decoration-color: #af87ff\">PSV     </span> │ <span style=\"color: #af87ff; text-decoration-color: #af87ff\">Club    </span> │ <span style=\"color: #af87ff; text-decoration-color: #af87ff\">1. FC   </span> │ <span style=\"color: #af87ff; text-decoration-color: #af87ff\">Śląsk    </span> │ <span style=\"color: #008080; text-decoration-color: #008080\">    14.6</span> │ <span style=\"color: #008080; text-decoration-color: #008080\">      2.3</span> │ <span style=\"color: #008080; text-decoration-color: #008080\">   40794</span> │  │\n",
       "│ │          │       │ <span style=\"color: #008080; text-decoration-color: #008080\">48697621</span> │          │ <span style=\"color: #af87ff; text-decoration-color: #af87ff\">Social, </span> │ <span style=\"color: #af87ff; text-decoration-color: #af87ff\">Heidenhe</span> │ <span style=\"color: #af87ff; text-decoration-color: #af87ff\">Wrocław  </span> │          │           │          │  │\n",
       "│ │          │       │ <span style=\"color: #008080; text-decoration-color: #008080\">      74</span> │          │ <span style=\"color: #af87ff; text-decoration-color: #af87ff\">Cultural</span> │ <span style=\"color: #af87ff; text-decoration-color: #af87ff\">im 1846 </span> │           │          │           │          │  │\n",
       "│ │          │       │          │          │ <span style=\"color: #af87ff; text-decoration-color: #af87ff\">y       </span> │          │           │          │           │          │  │\n",
       "│ │          │       │          │          │ <span style=\"color: #af87ff; text-decoration-color: #af87ff\">Deportiv</span> │          │           │          │           │          │  │\n",
       "│ │          │       │          │          │ <span style=\"color: #af87ff; text-decoration-color: #af87ff\">o de    </span> │          │           │          │           │          │  │\n",
       "│ │          │       │          │          │ <span style=\"color: #af87ff; text-decoration-color: #af87ff\">Blooming</span> │          │           │          │           │          │  │\n",
       "│ │ <span style=\"color: #af87ff; text-decoration-color: #af87ff\">Club    </span> │ <span style=\"color: #008080; text-decoration-color: #008080\">    0</span> │ <span style=\"color: #008080; text-decoration-color: #008080\">       0</span> │ <span style=\"color: #af87ff; text-decoration-color: #af87ff\">https://</span> │ <span style=\"color: #af87ff; text-decoration-color: #af87ff\">https://</span> │ <span style=\"color: #af87ff; text-decoration-color: #af87ff\">https://</span> │ <span style=\"color: #af87ff; text-decoration-color: #af87ff\">https://c</span> │ <span style=\"color: #008080; text-decoration-color: #008080\">    40.4</span> │ <span style=\"color: #008080; text-decoration-color: #008080\">        1</span> │ <span style=\"color: #008080; text-decoration-color: #008080\">   17660</span> │  │\n",
       "│ │ <span style=\"color: #af87ff; text-decoration-color: #af87ff\">Logo    </span> │       │          │ <span style=\"color: #af87ff; text-decoration-color: #af87ff\">cdn.sofi</span> │ <span style=\"color: #af87ff; text-decoration-color: #af87ff\">cdn.sofi</span> │ <span style=\"color: #af87ff; text-decoration-color: #af87ff\">cdn.sofi</span> │ <span style=\"color: #af87ff; text-decoration-color: #af87ff\">dn.sofifa</span> │          │           │          │  │\n",
       "│ │          │       │          │ <span style=\"color: #af87ff; text-decoration-color: #af87ff\">fa.net/f</span> │ <span style=\"color: #af87ff; text-decoration-color: #af87ff\">fa.net/t</span> │ <span style=\"color: #af87ff; text-decoration-color: #af87ff\">fa.net/f</span> │ <span style=\"color: #af87ff; text-decoration-color: #af87ff\">.net/team</span> │          │           │          │  │\n",
       "│ │          │       │          │ <span style=\"color: #af87ff; text-decoration-color: #af87ff\">lags/es.</span> │ <span style=\"color: #af87ff; text-decoration-color: #af87ff\">eams/112</span> │ <span style=\"color: #af87ff; text-decoration-color: #af87ff\">lags/ae.</span> │ <span style=\"color: #af87ff; text-decoration-color: #af87ff\">s/983/30.</span> │          │           │          │  │\n",
       "│ │          │       │          │ <span style=\"color: #af87ff; text-decoration-color: #af87ff\">png     </span> │ <span style=\"color: #af87ff; text-decoration-color: #af87ff\">387/30.p</span> │ <span style=\"color: #af87ff; text-decoration-color: #af87ff\">png     </span> │ <span style=\"color: #af87ff; text-decoration-color: #af87ff\">png      </span> │          │           │          │  │\n",
       "│ │          │       │          │          │ <span style=\"color: #af87ff; text-decoration-color: #af87ff\">ng      </span> │          │           │          │           │          │  │\n",
       "│ │ <span style=\"color: #af87ff; text-decoration-color: #af87ff\">Value   </span> │ <span style=\"color: #008080; text-decoration-color: #008080\">    0</span> │ <span style=\"color: #008080; text-decoration-color: #008080\">       0</span> │ <span style=\"color: #af87ff; text-decoration-color: #af87ff\">€0      </span> │ <span style=\"color: #af87ff; text-decoration-color: #af87ff\">€107.5M </span> │ <span style=\"color: #af87ff; text-decoration-color: #af87ff\">€0      </span> │ <span style=\"color: #af87ff; text-decoration-color: #af87ff\">€9M      </span> │ <span style=\"color: #008080; text-decoration-color: #008080\">    4.82</span> │ <span style=\"color: #008080; text-decoration-color: #008080\">        1</span> │ <span style=\"color: #008080; text-decoration-color: #008080\">   17660</span> │  │\n",
       "│ │ <span style=\"color: #af87ff; text-decoration-color: #af87ff\">Wage    </span> │ <span style=\"color: #008080; text-decoration-color: #008080\">    0</span> │ <span style=\"color: #008080; text-decoration-color: #008080\">       0</span> │ <span style=\"color: #af87ff; text-decoration-color: #af87ff\">€0      </span> │ <span style=\"color: #af87ff; text-decoration-color: #af87ff\">€115K   </span> │ <span style=\"color: #af87ff; text-decoration-color: #af87ff\">€0      </span> │ <span style=\"color: #af87ff; text-decoration-color: #af87ff\">€9K      </span> │ <span style=\"color: #008080; text-decoration-color: #008080\">    3.53</span> │ <span style=\"color: #008080; text-decoration-color: #008080\">        1</span> │ <span style=\"color: #008080; text-decoration-color: #008080\">   17660</span> │  │\n",
       "│ │ <span style=\"color: #af87ff; text-decoration-color: #af87ff\">Preferre</span> │ <span style=\"color: #008080; text-decoration-color: #008080\">    0</span> │ <span style=\"color: #008080; text-decoration-color: #008080\">       0</span> │ <span style=\"color: #af87ff; text-decoration-color: #af87ff\">Left    </span> │ <span style=\"color: #af87ff; text-decoration-color: #af87ff\">Right   </span> │ <span style=\"color: #af87ff; text-decoration-color: #af87ff\">Left    </span> │ <span style=\"color: #af87ff; text-decoration-color: #af87ff\">Right    </span> │ <span style=\"color: #008080; text-decoration-color: #008080\">    4.77</span> │ <span style=\"color: #008080; text-decoration-color: #008080\">        1</span> │ <span style=\"color: #008080; text-decoration-color: #008080\">   17660</span> │  │\n",
       "│ │ <span style=\"color: #af87ff; text-decoration-color: #af87ff\">d Foot  </span> │       │          │          │          │          │           │          │           │          │  │\n",
       "│ │ <span style=\"color: #af87ff; text-decoration-color: #af87ff\">Work    </span> │ <span style=\"color: #008080; text-decoration-color: #008080\">    0</span> │ <span style=\"color: #008080; text-decoration-color: #008080\">       0</span> │ <span style=\"color: #af87ff; text-decoration-color: #af87ff\">Low/ Low</span> │ <span style=\"color: #af87ff; text-decoration-color: #af87ff\">Medium/ </span> │ <span style=\"color: #af87ff; text-decoration-color: #af87ff\">High/   </span> │ <span style=\"color: #af87ff; text-decoration-color: #af87ff\">N/A/ N/A </span> │ <span style=\"color: #008080; text-decoration-color: #008080\">    12.8</span> │ <span style=\"color: #008080; text-decoration-color: #008080\">        2</span> │ <span style=\"color: #008080; text-decoration-color: #008080\">   35320</span> │  │\n",
       "│ │ <span style=\"color: #af87ff; text-decoration-color: #af87ff\">Rate    </span> │       │          │          │ <span style=\"color: #af87ff; text-decoration-color: #af87ff\">Medium  </span> │ <span style=\"color: #af87ff; text-decoration-color: #af87ff\">High    </span> │           │          │           │          │  │\n",
       "│ │ <span style=\"color: #af87ff; text-decoration-color: #af87ff\">Body    </span> │ <span style=\"color: #008080; text-decoration-color: #008080\">   38</span> │ <span style=\"color: #008080; text-decoration-color: #008080\">0.215175</span> │ <span style=\"color: #af87ff; text-decoration-color: #af87ff\">Unique  </span> │ <span style=\"color: #af87ff; text-decoration-color: #af87ff\">Stocky  </span> │ <span style=\"color: #af87ff; text-decoration-color: #af87ff\">Lean    </span> │ <span style=\"color: #af87ff; text-decoration-color: #af87ff\">Unique   </span> │ <span style=\"color: #008080; text-decoration-color: #008080\">      14</span> │ <span style=\"color: #008080; text-decoration-color: #008080\">        2</span> │ <span style=\"color: #008080; text-decoration-color: #008080\">   35111</span> │  │\n",
       "│ │ <span style=\"color: #af87ff; text-decoration-color: #af87ff\">Type    </span> │       │ <span style=\"color: #008080; text-decoration-color: #008080\">53793884</span> │          │ <span style=\"color: #af87ff; text-decoration-color: #af87ff\">(170-185</span> │ <span style=\"color: #af87ff; text-decoration-color: #af87ff\">(170-)  </span> │           │          │           │          │  │\n",
       "│ │          │       │ <span style=\"color: #008080; text-decoration-color: #008080\">     484</span> │          │ <span style=\"color: #af87ff; text-decoration-color: #af87ff\">)       </span> │          │           │          │           │          │  │\n",
       "│ │ <span style=\"color: #af87ff; text-decoration-color: #af87ff\">Real    </span> │ <span style=\"color: #008080; text-decoration-color: #008080\">   38</span> │ <span style=\"color: #008080; text-decoration-color: #008080\">0.215175</span> │ <span style=\"color: #af87ff; text-decoration-color: #af87ff\">No      </span> │ <span style=\"color: #af87ff; text-decoration-color: #af87ff\">Yes     </span> │ <span style=\"color: #af87ff; text-decoration-color: #af87ff\">No      </span> │ <span style=\"color: #af87ff; text-decoration-color: #af87ff\">Yes      </span> │ <span style=\"color: #008080; text-decoration-color: #008080\">    2.12</span> │ <span style=\"color: #008080; text-decoration-color: #008080\">        1</span> │ <span style=\"color: #008080; text-decoration-color: #008080\">   17622</span> │  │\n",
       "│ │ <span style=\"color: #af87ff; text-decoration-color: #af87ff\">Face    </span> │       │ <span style=\"color: #008080; text-decoration-color: #008080\">53793884</span> │          │          │          │           │          │           │          │  │\n",
       "│ │          │       │ <span style=\"color: #008080; text-decoration-color: #008080\">     484</span> │          │          │          │           │          │           │          │  │\n",
       "│ │ <span style=\"color: #af87ff; text-decoration-color: #af87ff\">Position</span> │ <span style=\"color: #008080; text-decoration-color: #008080\">   35</span> │ <span style=\"color: #008080; text-decoration-color: #008080\">0.198187</span> │ <span style=\"color: #af87ff; text-decoration-color: #af87ff\">&lt;span   </span> │ <span style=\"color: #af87ff; text-decoration-color: #af87ff\">&lt;span   </span> │ <span style=\"color: #af87ff; text-decoration-color: #af87ff\">&lt;span   </span> │ <span style=\"color: #af87ff; text-decoration-color: #af87ff\">&lt;span    </span> │ <span style=\"color: #008080; text-decoration-color: #008080\">    26.7</span> │ <span style=\"color: #008080; text-decoration-color: #008080\">        3</span> │ <span style=\"color: #008080; text-decoration-color: #008080\">   52875</span> │  │\n",
       "│ │          │       │ <span style=\"color: #008080; text-decoration-color: #008080\">99546998</span> │ <span style=\"color: #af87ff; text-decoration-color: #af87ff\">class=\"p</span> │ <span style=\"color: #af87ff; text-decoration-color: #af87ff\">class=\"p</span> │ <span style=\"color: #af87ff; text-decoration-color: #af87ff\">class=\"p</span> │ <span style=\"color: #af87ff; text-decoration-color: #af87ff\">class=\"po</span> │          │           │          │  │\n",
       "│ │          │       │ <span style=\"color: #008080; text-decoration-color: #008080\">     866</span> │ <span style=\"color: #af87ff; text-decoration-color: #af87ff\">os      </span> │ <span style=\"color: #af87ff; text-decoration-color: #af87ff\">os      </span> │ <span style=\"color: #af87ff; text-decoration-color: #af87ff\">os      </span> │ <span style=\"color: #af87ff; text-decoration-color: #af87ff\">s        </span> │          │           │          │  │\n",
       "│ │          │       │          │ <span style=\"color: #af87ff; text-decoration-color: #af87ff\">pos7\"&gt;LB</span> │ <span style=\"color: #af87ff; text-decoration-color: #af87ff\">pos28\"&gt;S</span> │ <span style=\"color: #af87ff; text-decoration-color: #af87ff\">pos0\"&gt;GK</span> │ <span style=\"color: #af87ff; text-decoration-color: #af87ff\">pos9\"&gt;RDM</span> │          │           │          │  │\n",
       "│ │          │       │          │          │ <span style=\"color: #af87ff; text-decoration-color: #af87ff\">UB      </span> │          │           │          │           │          │  │\n",
       "│ │ <span style=\"color: #af87ff; text-decoration-color: #af87ff\">Joined  </span> │ <span style=\"color: #008080; text-decoration-color: #008080\"> 1098</span> │ <span style=\"color: #008080; text-decoration-color: #008080\">6.217440</span> │ <span style=\"color: #af87ff; text-decoration-color: #af87ff\">Jul 1,  </span> │ <span style=\"color: #af87ff; text-decoration-color: #af87ff\">Jan 30, </span> │ <span style=\"color: #af87ff; text-decoration-color: #af87ff\">Apr 1,  </span> │ <span style=\"color: #af87ff; text-decoration-color: #af87ff\">Sep 9,   </span> │ <span style=\"color: #008080; text-decoration-color: #008080\">    11.4</span> │ <span style=\"color: #008080; text-decoration-color: #008080\">      2.8</span> │ <span style=\"color: #008080; text-decoration-color: #008080\">   49686</span> │  │\n",
       "│ │          │       │ <span style=\"color: #008080; text-decoration-color: #008080\">54360135</span> │ <span style=\"color: #af87ff; text-decoration-color: #af87ff\">2018    </span> │ <span style=\"color: #af87ff; text-decoration-color: #af87ff\">2020    </span> │ <span style=\"color: #af87ff; text-decoration-color: #af87ff\">2009    </span> │ <span style=\"color: #af87ff; text-decoration-color: #af87ff\">2021     </span> │          │           │          │  │\n",
       "│ │          │       │ <span style=\"color: #008080; text-decoration-color: #008080\">       9</span> │          │          │          │           │          │           │          │  │\n",
       "│ │ <span style=\"color: #af87ff; text-decoration-color: #af87ff\">Loaned  </span> │ <span style=\"color: #008080; text-decoration-color: #008080\">16966</span> │ <span style=\"color: #008080; text-decoration-color: #008080\">96.07021</span> │ <span style=\"color: #af87ff; text-decoration-color: #af87ff\">&lt;a      </span> │ <span style=\"color: #af87ff; text-decoration-color: #af87ff\">&lt;a      </span> │ <span style=\"color: #af87ff; text-decoration-color: #af87ff\">&lt;a      </span> │ <span style=\"color: #af87ff; text-decoration-color: #af87ff\">&lt;a       </span> │ <span style=\"color: #008080; text-decoration-color: #008080\">    52.5</span> │ <span style=\"color: #008080; text-decoration-color: #008080\">     0.12</span> │ <span style=\"color: #008080; text-decoration-color: #008080\">    2138</span> │  │\n",
       "│ │ <span style=\"color: #af87ff; text-decoration-color: #af87ff\">From    </span> │       │ <span style=\"color: #008080; text-decoration-color: #008080\">51755379</span> │ <span style=\"color: #af87ff; text-decoration-color: #af87ff\">href=\"/t</span> │ <span style=\"color: #af87ff; text-decoration-color: #af87ff\">href=\"/t</span> │ <span style=\"color: #af87ff; text-decoration-color: #af87ff\">href=\"/t</span> │ <span style=\"color: #af87ff; text-decoration-color: #af87ff\">href=\"/te</span> │          │           │          │  │\n",
       "│ │          │       │ <span style=\"color: #008080; text-decoration-color: #008080\">       4</span> │ <span style=\"color: #af87ff; text-decoration-color: #af87ff\">eam/247/</span> │ <span style=\"color: #af87ff; text-decoration-color: #af87ff\">eam/1100</span> │ <span style=\"color: #af87ff; text-decoration-color: #af87ff\">eam/1/ar</span> │ <span style=\"color: #af87ff; text-decoration-color: #af87ff\">am/983/su</span> │          │           │          │  │\n",
       "│ │          │       │          │ <span style=\"color: #af87ff; text-decoration-color: #af87ff\">psv/\"&gt;PS</span> │ <span style=\"color: #af87ff; text-decoration-color: #af87ff\">93/club-</span> │ <span style=\"color: #af87ff; text-decoration-color: #af87ff\">senal/\"&gt;</span> │ <span style=\"color: #af87ff; text-decoration-color: #af87ff\">won-samsu</span> │          │           │          │  │\n",
       "│ │          │       │          │ <span style=\"color: #af87ff; text-decoration-color: #af87ff\">V&lt;/a&gt;   </span> │ <span style=\"color: #af87ff; text-decoration-color: #af87ff\">atletico</span> │ <span style=\"color: #af87ff; text-decoration-color: #af87ff\">Arsenal&lt;</span> │ <span style=\"color: #af87ff; text-decoration-color: #af87ff\">ng-bluewi</span> │          │           │          │  │\n",
       "│ │          │       │          │          │ <span style=\"color: #af87ff; text-decoration-color: #af87ff\">-indepen</span> │ <span style=\"color: #af87ff; text-decoration-color: #af87ff\">/a&gt;     </span> │ <span style=\"color: #af87ff; text-decoration-color: #af87ff\">ngs/\"&gt;Suw</span> │          │           │          │  │\n",
       "│ │          │       │          │          │ <span style=\"color: #af87ff; text-decoration-color: #af87ff\">diente/\"</span> │          │ <span style=\"color: #af87ff; text-decoration-color: #af87ff\">on       </span> │          │           │          │  │\n",
       "│ │          │       │          │          │ <span style=\"color: #af87ff; text-decoration-color: #af87ff\">&gt;Club   </span> │          │ <span style=\"color: #af87ff; text-decoration-color: #af87ff\">Samsung  </span> │          │           │          │  │\n",
       "│ │          │       │          │          │ <span style=\"color: #af87ff; text-decoration-color: #af87ff\">Atlético</span> │          │ <span style=\"color: #af87ff; text-decoration-color: #af87ff\">Bluewings</span> │          │           │          │  │\n",
       "│ │          │       │          │          │ <span style=\"color: #af87ff; text-decoration-color: #af87ff\">Independ</span> │          │ <span style=\"color: #af87ff; text-decoration-color: #af87ff\">&lt;/a&gt;     </span> │          │           │          │  │\n",
       "│ │          │       │          │          │ <span style=\"color: #af87ff; text-decoration-color: #af87ff\">iente&lt;/a</span> │          │           │          │           │          │  │\n",
       "│ │          │       │          │          │ <span style=\"color: #af87ff; text-decoration-color: #af87ff\">&gt;       </span> │          │           │          │           │          │  │\n",
       "│ │ <span style=\"color: #af87ff; text-decoration-color: #af87ff\">Contract</span> │ <span style=\"color: #008080; text-decoration-color: #008080\">  361</span> │ <span style=\"color: #008080; text-decoration-color: #008080\">2.044167</span> │ <span style=\"color: #af87ff; text-decoration-color: #af87ff\">2026    </span> │ <span style=\"color: #af87ff; text-decoration-color: #af87ff\">Jun 30, </span> │ <span style=\"color: #af87ff; text-decoration-color: #af87ff\">2007    </span> │ <span style=\"color: #af87ff; text-decoration-color: #af87ff\">Sep 6,   </span> │ <span style=\"color: #008080; text-decoration-color: #008080\">    4.32</span> │ <span style=\"color: #008080; text-decoration-color: #008080\">      1.1</span> │ <span style=\"color: #008080; text-decoration-color: #008080\">   18687</span> │  │\n",
       "│ │ <span style=\"color: #af87ff; text-decoration-color: #af87ff\">Valid   </span> │       │ <span style=\"color: #008080; text-decoration-color: #008080\">61041902</span> │          │ <span style=\"color: #af87ff; text-decoration-color: #af87ff\">2023    </span> │          │ <span style=\"color: #af87ff; text-decoration-color: #af87ff\">2022     </span> │          │           │          │  │\n",
       "│ │ <span style=\"color: #af87ff; text-decoration-color: #af87ff\">Until   </span> │       │ <span style=\"color: #008080; text-decoration-color: #008080\">       6</span> │          │          │          │           │          │           │          │  │\n",
       "│ │ <span style=\"color: #af87ff; text-decoration-color: #af87ff\">Height  </span> │ <span style=\"color: #008080; text-decoration-color: #008080\">    0</span> │ <span style=\"color: #008080; text-decoration-color: #008080\">       0</span> │ <span style=\"color: #af87ff; text-decoration-color: #af87ff\">189cm   </span> │ <span style=\"color: #af87ff; text-decoration-color: #af87ff\">189cm   </span> │ <span style=\"color: #af87ff; text-decoration-color: #af87ff\">149cm   </span> │ <span style=\"color: #af87ff; text-decoration-color: #af87ff\">206cm    </span> │ <span style=\"color: #008080; text-decoration-color: #008080\">       5</span> │ <span style=\"color: #008080; text-decoration-color: #008080\">        1</span> │ <span style=\"color: #008080; text-decoration-color: #008080\">   17660</span> │  │\n",
       "│ │ <span style=\"color: #af87ff; text-decoration-color: #af87ff\">Weight  </span> │ <span style=\"color: #008080; text-decoration-color: #008080\">    0</span> │ <span style=\"color: #008080; text-decoration-color: #008080\">       0</span> │ <span style=\"color: #af87ff; text-decoration-color: #af87ff\">82kg    </span> │ <span style=\"color: #af87ff; text-decoration-color: #af87ff\">102kg   </span> │ <span style=\"color: #af87ff; text-decoration-color: #af87ff\">100kg   </span> │ <span style=\"color: #af87ff; text-decoration-color: #af87ff\">99kg     </span> │ <span style=\"color: #008080; text-decoration-color: #008080\">       4</span> │ <span style=\"color: #008080; text-decoration-color: #008080\">        1</span> │ <span style=\"color: #008080; text-decoration-color: #008080\">   17660</span> │  │\n",
       "│ │ <span style=\"color: #af87ff; text-decoration-color: #af87ff\">Release </span> │ <span style=\"color: #008080; text-decoration-color: #008080\"> 1151</span> │ <span style=\"color: #008080; text-decoration-color: #008080\">6.517553</span> │ <span style=\"color: #af87ff; text-decoration-color: #af87ff\">€7M     </span> │ <span style=\"color: #af87ff; text-decoration-color: #af87ff\">€198.9M </span> │ <span style=\"color: #af87ff; text-decoration-color: #af87ff\">€1.1M   </span> │ <span style=\"color: #af87ff; text-decoration-color: #af87ff\">€9M      </span> │ <span style=\"color: #008080; text-decoration-color: #008080\">    4.97</span> │ <span style=\"color: #008080; text-decoration-color: #008080\">     0.93</span> │ <span style=\"color: #008080; text-decoration-color: #008080\">   16509</span> │  │\n",
       "│ │ <span style=\"color: #af87ff; text-decoration-color: #af87ff\">Clause  </span> │       │ <span style=\"color: #008080; text-decoration-color: #008080\">79388448</span> │          │          │          │           │          │           │          │  │\n",
       "│ │          │       │ <span style=\"color: #008080; text-decoration-color: #008080\">       5</span> │          │          │          │           │          │           │          │  │\n",
       "│ │ <span style=\"color: #af87ff; text-decoration-color: #af87ff\">Best    </span> │ <span style=\"color: #008080; text-decoration-color: #008080\">17639</span> │ <span style=\"color: #008080; text-decoration-color: #008080\">99.88108</span> │ <span style=\"color: #af87ff; text-decoration-color: #af87ff\">&lt;span   </span> │ <span style=\"color: #af87ff; text-decoration-color: #af87ff\">&lt;span   </span> │ <span style=\"color: #af87ff; text-decoration-color: #af87ff\">&lt;span   </span> │ <span style=\"color: #af87ff; text-decoration-color: #af87ff\">&lt;span    </span> │ <span style=\"color: #008080; text-decoration-color: #008080\">      38</span> │ <span style=\"color: #008080; text-decoration-color: #008080\">   0.0048</span> │ <span style=\"color: #008080; text-decoration-color: #008080\">      84</span> │  │\n",
       "│ │ <span style=\"color: #af87ff; text-decoration-color: #af87ff\">Overall </span> │       │ <span style=\"color: #008080; text-decoration-color: #008080\"> 7202718</span> │ <span style=\"color: #af87ff; text-decoration-color: #af87ff\">class=\"b</span> │ <span style=\"color: #af87ff; text-decoration-color: #af87ff\">class=\"b</span> │ <span style=\"color: #af87ff; text-decoration-color: #af87ff\">class=\"b</span> │ <span style=\"color: #af87ff; text-decoration-color: #af87ff\">class=\"bp</span> │          │           │          │  │\n",
       "│ │ <span style=\"color: #af87ff; text-decoration-color: #af87ff\">Rating  </span> │       │          │ <span style=\"color: #af87ff; text-decoration-color: #af87ff\">p3-tag p</span> │ <span style=\"color: #af87ff; text-decoration-color: #af87ff\">p3-tag p</span> │ <span style=\"color: #af87ff; text-decoration-color: #af87ff\">p3-tag p</span> │ <span style=\"color: #af87ff; text-decoration-color: #af87ff\">3-tag p  </span> │          │           │          │  │\n",
       "│ │          │       │          │ <span style=\"color: #af87ff; text-decoration-color: #af87ff\">p-64\"&gt;64</span> │ <span style=\"color: #af87ff; text-decoration-color: #af87ff\">p-64\"&gt;64</span> │ <span style=\"color: #af87ff; text-decoration-color: #af87ff\">p-54\"&gt;54</span> │ <span style=\"color: #af87ff; text-decoration-color: #af87ff\">p-80\"&gt;80&lt;</span> │          │           │          │  │\n",
       "│ │          │       │          │ <span style=\"color: #af87ff; text-decoration-color: #af87ff\">&lt;/span&gt; </span> │ <span style=\"color: #af87ff; text-decoration-color: #af87ff\">&lt;/span&gt; </span> │ <span style=\"color: #af87ff; text-decoration-color: #af87ff\">&lt;/span&gt; </span> │ <span style=\"color: #af87ff; text-decoration-color: #af87ff\">/span&gt;   </span> │          │           │          │  │\n",
       "│ └──────────┴───────┴──────────┴──────────┴──────────┴──────────┴───────────┴──────────┴───────────┴──────────┘  │\n",
       "╰────────────────────────────────────────────────────── End ──────────────────────────────────────────────────────╯\n",
       "</pre>\n"
      ],
      "text/plain": [
       "╭──────────────────────────────────────────────── skimpy summary ─────────────────────────────────────────────────╮\n",
       "│ \u001b[3m         Data Summary         \u001b[0m \u001b[3m      Data Types       \u001b[0m                                                          │\n",
       "│ ┏━━━━━━━━━━━━━━━━━━━┳━━━━━━━━┓ ┏━━━━━━━━━━━━━┳━━━━━━━┓                                                          │\n",
       "│ ┃\u001b[1;36m \u001b[0m\u001b[1;36mDataframe        \u001b[0m\u001b[1;36m \u001b[0m┃\u001b[1;36m \u001b[0m\u001b[1;36mValues\u001b[0m\u001b[1;36m \u001b[0m┃ ┃\u001b[1;36m \u001b[0m\u001b[1;36mColumn Type\u001b[0m\u001b[1;36m \u001b[0m┃\u001b[1;36m \u001b[0m\u001b[1;36mCount\u001b[0m\u001b[1;36m \u001b[0m┃                                                          │\n",
       "│ ┡━━━━━━━━━━━━━━━━━━━╇━━━━━━━━┩ ┡━━━━━━━━━━━━━╇━━━━━━━┩                                                          │\n",
       "│ │ Number of rows    │ 17660  │ │ string      │ 20    │                                                          │\n",
       "│ │ Number of columns │ 29     │ │ int64       │ 5     │                                                          │\n",
       "│ └───────────────────┴────────┘ │ float64     │ 4     │                                                          │\n",
       "│                                └─────────────┴───────┘                                                          │\n",
       "│ \u001b[3m                                                    number                                                    \u001b[0m  │\n",
       "│ ┏━━━━━━━━━━━━━━━━━┳━━━━┳━━━━━━━━━━━━━━━━┳━━━━━━━━┳━━━━━━━━┳━━━━━┳━━━━━━━━┳━━━━━━━━┳━━━━━━━━┳━━━━━━━━┳━━━━━━━━┓  │\n",
       "│ ┃\u001b[1m \u001b[0m\u001b[1mcolumn         \u001b[0m\u001b[1m \u001b[0m┃\u001b[1m \u001b[0m\u001b[1mNA\u001b[0m\u001b[1m \u001b[0m┃\u001b[1m \u001b[0m\u001b[1mNA %          \u001b[0m\u001b[1m \u001b[0m┃\u001b[1m \u001b[0m\u001b[1mmean  \u001b[0m\u001b[1m \u001b[0m┃\u001b[1m \u001b[0m\u001b[1msd    \u001b[0m\u001b[1m \u001b[0m┃\u001b[1m \u001b[0m\u001b[1mp0 \u001b[0m\u001b[1m \u001b[0m┃\u001b[1m \u001b[0m\u001b[1mp25   \u001b[0m\u001b[1m \u001b[0m┃\u001b[1m \u001b[0m\u001b[1mp50   \u001b[0m\u001b[1m \u001b[0m┃\u001b[1m \u001b[0m\u001b[1mp75   \u001b[0m\u001b[1m \u001b[0m┃\u001b[1m \u001b[0m\u001b[1mp100  \u001b[0m\u001b[1m \u001b[0m┃\u001b[1m \u001b[0m\u001b[1mhist  \u001b[0m\u001b[1m \u001b[0m┃  │\n",
       "│ ┡━━━━━━━━━━━━━━━━━╇━━━━╇━━━━━━━━━━━━━━━━╇━━━━━━━━╇━━━━━━━━╇━━━━━╇━━━━━━━━╇━━━━━━━━╇━━━━━━━━╇━━━━━━━━╇━━━━━━━━┩  │\n",
       "│ │ \u001b[38;5;141mID             \u001b[0m │ \u001b[36m 0\u001b[0m │ \u001b[36m             0\u001b[0m │ \u001b[36m246300\u001b[0m │ \u001b[36m 31490\u001b[0m │ \u001b[36m 16\u001b[0m │ \u001b[36m240700\u001b[0m │ \u001b[36m257000\u001b[0m │ \u001b[36m263000\u001b[0m │ \u001b[36m271300\u001b[0m │ \u001b[32m    ▁▇\u001b[0m │  │\n",
       "│ │ \u001b[38;5;141mAge            \u001b[0m │ \u001b[36m 0\u001b[0m │ \u001b[36m             0\u001b[0m │ \u001b[36m 23.13\u001b[0m │ \u001b[36m  4.64\u001b[0m │ \u001b[36m 15\u001b[0m │ \u001b[36m    20\u001b[0m │ \u001b[36m    22\u001b[0m │ \u001b[36m    26\u001b[0m │ \u001b[36m    54\u001b[0m │ \u001b[32m ▇▆▃  \u001b[0m │  │\n",
       "│ │ \u001b[38;5;141mOverall        \u001b[0m │ \u001b[36m 0\u001b[0m │ \u001b[36m             0\u001b[0m │ \u001b[36m 63.37\u001b[0m │ \u001b[36m 8.036\u001b[0m │ \u001b[36m 43\u001b[0m │ \u001b[36m    58\u001b[0m │ \u001b[36m    63\u001b[0m │ \u001b[36m    69\u001b[0m │ \u001b[36m    91\u001b[0m │ \u001b[32m▁▅▇▅▂ \u001b[0m │  │\n",
       "│ │ \u001b[38;5;141mPotential      \u001b[0m │ \u001b[36m 0\u001b[0m │ \u001b[36m             0\u001b[0m │ \u001b[36m 70.98\u001b[0m │ \u001b[36m  6.53\u001b[0m │ \u001b[36m 42\u001b[0m │ \u001b[36m    67\u001b[0m │ \u001b[36m    71\u001b[0m │ \u001b[36m    75\u001b[0m │ \u001b[36m    95\u001b[0m │ \u001b[32m ▁▅▇▃ \u001b[0m │  │\n",
       "│ │ \u001b[38;5;141mSpecial        \u001b[0m │ \u001b[36m 0\u001b[0m │ \u001b[36m             0\u001b[0m │ \u001b[36m  1538\u001b[0m │ \u001b[36m 285.9\u001b[0m │ \u001b[36m749\u001b[0m │ \u001b[36m  1387\u001b[0m │ \u001b[36m  1548\u001b[0m │ \u001b[36m  1727\u001b[0m │ \u001b[36m  2312\u001b[0m │ \u001b[32m▂▂▇▇▃▁\u001b[0m │  │\n",
       "│ │ \u001b[38;5;141mInternational  \u001b[0m │ \u001b[36m 0\u001b[0m │ \u001b[36m             0\u001b[0m │ \u001b[36m 1.106\u001b[0m │ \u001b[36m 0.407\u001b[0m │ \u001b[36m  1\u001b[0m │ \u001b[36m     1\u001b[0m │ \u001b[36m     1\u001b[0m │ \u001b[36m     1\u001b[0m │ \u001b[36m     5\u001b[0m │ \u001b[32m  ▇   \u001b[0m │  │\n",
       "│ │ \u001b[38;5;141mReputation     \u001b[0m │    │                │        │        │     │        │        │        │        │        │  │\n",
       "│ │ \u001b[38;5;141mWeak Foot      \u001b[0m │ \u001b[36m 0\u001b[0m │ \u001b[36m             0\u001b[0m │ \u001b[36m   2.9\u001b[0m │ \u001b[36m0.6635\u001b[0m │ \u001b[36m  1\u001b[0m │ \u001b[36m     3\u001b[0m │ \u001b[36m     3\u001b[0m │ \u001b[36m     3\u001b[0m │ \u001b[36m     5\u001b[0m │ \u001b[32m ▃ ▇▂ \u001b[0m │  │\n",
       "│ │ \u001b[38;5;141mSkill Moves    \u001b[0m │ \u001b[36m 0\u001b[0m │ \u001b[36m             0\u001b[0m │ \u001b[36m 2.297\u001b[0m │ \u001b[36m0.7543\u001b[0m │ \u001b[36m  1\u001b[0m │ \u001b[36m     2\u001b[0m │ \u001b[36m     2\u001b[0m │ \u001b[36m     3\u001b[0m │ \u001b[36m     5\u001b[0m │ \u001b[32m▂▇ ▅▁ \u001b[0m │  │\n",
       "│ │ \u001b[38;5;141mKit Number     \u001b[0m │ \u001b[36m35\u001b[0m │ \u001b[36m0.198187995469\u001b[0m │ \u001b[36m 25.04\u001b[0m │ \u001b[36m 19.15\u001b[0m │ \u001b[36m  1\u001b[0m │ \u001b[36m    11\u001b[0m │ \u001b[36m    22\u001b[0m │ \u001b[36m    32\u001b[0m │ \u001b[36m    99\u001b[0m │ \u001b[32m▇▇▃▁ ▁\u001b[0m │  │\n",
       "│ │                 │    │ \u001b[36m         98866\u001b[0m │        │        │     │        │        │        │        │        │  │\n",
       "│ └─────────────────┴────┴────────────────┴────────┴────────┴─────┴────────┴────────┴────────┴────────┴────────┘  │\n",
       "│ \u001b[3m                                                    string                                                    \u001b[0m  │\n",
       "│ ┏━━━━━━━━━━┳━━━━━━━┳━━━━━━━━━━┳━━━━━━━━━━┳━━━━━━━━━━┳━━━━━━━━━━┳━━━━━━━━━━━┳━━━━━━━━━━┳━━━━━━━━━━━┳━━━━━━━━━━┓  │\n",
       "│ ┃\u001b[1m          \u001b[0m┃\u001b[1m       \u001b[0m┃\u001b[1m          \u001b[0m┃\u001b[1m          \u001b[0m┃\u001b[1m          \u001b[0m┃\u001b[1m          \u001b[0m┃\u001b[1m           \u001b[0m┃\u001b[1m \u001b[0m\u001b[1mchars   \u001b[0m\u001b[1m \u001b[0m┃\u001b[1m \u001b[0m\u001b[1mwords per\u001b[0m\u001b[1m \u001b[0m┃\u001b[1m \u001b[0m\u001b[1mtotal   \u001b[0m\u001b[1m \u001b[0m┃  │\n",
       "│ ┃\u001b[1m \u001b[0m\u001b[1mcolumn  \u001b[0m\u001b[1m \u001b[0m┃\u001b[1m \u001b[0m\u001b[1mNA   \u001b[0m\u001b[1m \u001b[0m┃\u001b[1m \u001b[0m\u001b[1mNA %    \u001b[0m\u001b[1m \u001b[0m┃\u001b[1m \u001b[0m\u001b[1mshortest\u001b[0m\u001b[1m \u001b[0m┃\u001b[1m \u001b[0m\u001b[1mlongest \u001b[0m\u001b[1m \u001b[0m┃\u001b[1m \u001b[0m\u001b[1mmin     \u001b[0m\u001b[1m \u001b[0m┃\u001b[1m \u001b[0m\u001b[1mmax      \u001b[0m\u001b[1m \u001b[0m┃\u001b[1m \u001b[0m\u001b[1mper row \u001b[0m\u001b[1m \u001b[0m┃\u001b[1m \u001b[0m\u001b[1mrow      \u001b[0m\u001b[1m \u001b[0m┃\u001b[1m \u001b[0m\u001b[1mwords   \u001b[0m\u001b[1m \u001b[0m┃  │\n",
       "│ ┡━━━━━━━━━━╇━━━━━━━╇━━━━━━━━━━╇━━━━━━━━━━╇━━━━━━━━━━╇━━━━━━━━━━╇━━━━━━━━━━━╇━━━━━━━━━━╇━━━━━━━━━━━╇━━━━━━━━━━┩  │\n",
       "│ │ \u001b[38;5;141mName    \u001b[0m │ \u001b[36m    0\u001b[0m │ \u001b[36m       0\u001b[0m │ \u001b[38;5;141mIsi     \u001b[0m │ \u001b[38;5;141m22 L.   \u001b[0m │ \u001b[38;5;141m07 C.   \u001b[0m │ \u001b[38;5;141mȘ.       \u001b[0m │ \u001b[36m    11.2\u001b[0m │ \u001b[36m        2\u001b[0m │ \u001b[36m   35532\u001b[0m │  │\n",
       "│ │          │       │          │          │ \u001b[38;5;141mUrbano  \u001b[0m │ \u001b[38;5;141mMengi   \u001b[0m │ \u001b[38;5;141mTomache  \u001b[0m │          │           │          │  │\n",
       "│ │          │       │          │          │ \u001b[38;5;141mDias de \u001b[0m │          │           │          │           │          │  │\n",
       "│ │          │       │          │          │ \u001b[38;5;141mLima    \u001b[0m │          │           │          │           │          │  │\n",
       "│ │ \u001b[38;5;141mPhoto   \u001b[0m │ \u001b[36m    0\u001b[0m │ \u001b[36m       0\u001b[0m │ \u001b[38;5;141mhttps://\u001b[0m │ \u001b[38;5;141mhttps://\u001b[0m │ \u001b[38;5;141mhttps://\u001b[0m │ \u001b[38;5;141mhttps://c\u001b[0m │ \u001b[36m      48\u001b[0m │ \u001b[36m        1\u001b[0m │ \u001b[36m   17660\u001b[0m │  │\n",
       "│ │          │       │          │ \u001b[38;5;141mcdn.sofi\u001b[0m │ \u001b[38;5;141mcdn.sofi\u001b[0m │ \u001b[38;5;141mcdn.sofi\u001b[0m │ \u001b[38;5;141mdn.sofifa\u001b[0m │          │           │          │  │\n",
       "│ │          │       │          │ \u001b[38;5;141mfa.net/p\u001b[0m │ \u001b[38;5;141mfa.net/p\u001b[0m │ \u001b[38;5;141mfa.net/p\u001b[0m │ \u001b[38;5;141m.net/play\u001b[0m │          │           │          │  │\n",
       "│ │          │       │          │ \u001b[38;5;141mlayers/2\u001b[0m │ \u001b[38;5;141mlayers/2\u001b[0m │ \u001b[38;5;141mlayers/0\u001b[0m │ \u001b[38;5;141mers/271/3\u001b[0m │          │           │          │  │\n",
       "│ │          │       │          │ \u001b[38;5;141m09/658/2\u001b[0m │ \u001b[38;5;141m09/658/2\u001b[0m │ \u001b[38;5;141m00/016/1\u001b[0m │ \u001b[38;5;141m40/23_60.\u001b[0m │          │           │          │  │\n",
       "│ │          │       │          │ \u001b[38;5;141m3_60.png\u001b[0m │ \u001b[38;5;141m3_60.png\u001b[0m │ \u001b[38;5;141m9_60.png\u001b[0m │ \u001b[38;5;141mpng      \u001b[0m │          │           │          │  │\n",
       "│ │ \u001b[38;5;141mNational\u001b[0m │ \u001b[36m    0\u001b[0m │ \u001b[36m       0\u001b[0m │ \u001b[38;5;141mMali    \u001b[0m │ \u001b[38;5;141mCentral \u001b[0m │ \u001b[38;5;141mAfghanis\u001b[0m │ \u001b[38;5;141mZimbabwe \u001b[0m │ \u001b[36m    7.59\u001b[0m │ \u001b[36m      1.1\u001b[0m │ \u001b[36m   20135\u001b[0m │  │\n",
       "│ │ \u001b[38;5;141mity     \u001b[0m │       │          │          │ \u001b[38;5;141mAfrican \u001b[0m │ \u001b[38;5;141mtan     \u001b[0m │           │          │           │          │  │\n",
       "│ │          │       │          │          │ \u001b[38;5;141mRepublic\u001b[0m │          │           │          │           │          │  │\n",
       "│ │ \u001b[38;5;141mFlag    \u001b[0m │ \u001b[36m    0\u001b[0m │ \u001b[36m       0\u001b[0m │ \u001b[38;5;141mhttps://\u001b[0m │ \u001b[38;5;141mhttps://\u001b[0m │ \u001b[38;5;141mhttps://\u001b[0m │ \u001b[38;5;141mhttps://c\u001b[0m │ \u001b[36m    35.4\u001b[0m │ \u001b[36m        1\u001b[0m │ \u001b[36m   17660\u001b[0m │  │\n",
       "│ │          │       │          │ \u001b[38;5;141mcdn.sofi\u001b[0m │ \u001b[38;5;141mcdn.sofi\u001b[0m │ \u001b[38;5;141mcdn.sofi\u001b[0m │ \u001b[38;5;141mdn.sofifa\u001b[0m │          │           │          │  │\n",
       "│ │          │       │          │ \u001b[38;5;141mfa.net/f\u001b[0m │ \u001b[38;5;141mfa.net/f\u001b[0m │ \u001b[38;5;141mfa.net/f\u001b[0m │ \u001b[38;5;141m.net/flag\u001b[0m │          │           │          │  │\n",
       "│ │          │       │          │ \u001b[38;5;141mlags/de.\u001b[0m │ \u001b[38;5;141mlags/gb-\u001b[0m │ \u001b[38;5;141mlags/ad.\u001b[0m │ \u001b[38;5;141ms/zw.png \u001b[0m │          │           │          │  │\n",
       "│ │          │       │          │ \u001b[38;5;141mpng     \u001b[0m │ \u001b[38;5;141meng.png \u001b[0m │ \u001b[38;5;141mpng     \u001b[0m │           │          │           │          │  │\n",
       "│ │ \u001b[38;5;141mClub    \u001b[0m │ \u001b[36m  211\u001b[0m │ \u001b[36m1.194790\u001b[0m │ \u001b[38;5;141mPSV     \u001b[0m │ \u001b[38;5;141mClub    \u001b[0m │ \u001b[38;5;141m1. FC   \u001b[0m │ \u001b[38;5;141mŚląsk    \u001b[0m │ \u001b[36m    14.6\u001b[0m │ \u001b[36m      2.3\u001b[0m │ \u001b[36m   40794\u001b[0m │  │\n",
       "│ │          │       │ \u001b[36m48697621\u001b[0m │          │ \u001b[38;5;141mSocial, \u001b[0m │ \u001b[38;5;141mHeidenhe\u001b[0m │ \u001b[38;5;141mWrocław  \u001b[0m │          │           │          │  │\n",
       "│ │          │       │ \u001b[36m      74\u001b[0m │          │ \u001b[38;5;141mCultural\u001b[0m │ \u001b[38;5;141mim 1846 \u001b[0m │           │          │           │          │  │\n",
       "│ │          │       │          │          │ \u001b[38;5;141my       \u001b[0m │          │           │          │           │          │  │\n",
       "│ │          │       │          │          │ \u001b[38;5;141mDeportiv\u001b[0m │          │           │          │           │          │  │\n",
       "│ │          │       │          │          │ \u001b[38;5;141mo de    \u001b[0m │          │           │          │           │          │  │\n",
       "│ │          │       │          │          │ \u001b[38;5;141mBlooming\u001b[0m │          │           │          │           │          │  │\n",
       "│ │ \u001b[38;5;141mClub    \u001b[0m │ \u001b[36m    0\u001b[0m │ \u001b[36m       0\u001b[0m │ \u001b[38;5;141mhttps://\u001b[0m │ \u001b[38;5;141mhttps://\u001b[0m │ \u001b[38;5;141mhttps://\u001b[0m │ \u001b[38;5;141mhttps://c\u001b[0m │ \u001b[36m    40.4\u001b[0m │ \u001b[36m        1\u001b[0m │ \u001b[36m   17660\u001b[0m │  │\n",
       "│ │ \u001b[38;5;141mLogo    \u001b[0m │       │          │ \u001b[38;5;141mcdn.sofi\u001b[0m │ \u001b[38;5;141mcdn.sofi\u001b[0m │ \u001b[38;5;141mcdn.sofi\u001b[0m │ \u001b[38;5;141mdn.sofifa\u001b[0m │          │           │          │  │\n",
       "│ │          │       │          │ \u001b[38;5;141mfa.net/f\u001b[0m │ \u001b[38;5;141mfa.net/t\u001b[0m │ \u001b[38;5;141mfa.net/f\u001b[0m │ \u001b[38;5;141m.net/team\u001b[0m │          │           │          │  │\n",
       "│ │          │       │          │ \u001b[38;5;141mlags/es.\u001b[0m │ \u001b[38;5;141meams/112\u001b[0m │ \u001b[38;5;141mlags/ae.\u001b[0m │ \u001b[38;5;141ms/983/30.\u001b[0m │          │           │          │  │\n",
       "│ │          │       │          │ \u001b[38;5;141mpng     \u001b[0m │ \u001b[38;5;141m387/30.p\u001b[0m │ \u001b[38;5;141mpng     \u001b[0m │ \u001b[38;5;141mpng      \u001b[0m │          │           │          │  │\n",
       "│ │          │       │          │          │ \u001b[38;5;141mng      \u001b[0m │          │           │          │           │          │  │\n",
       "│ │ \u001b[38;5;141mValue   \u001b[0m │ \u001b[36m    0\u001b[0m │ \u001b[36m       0\u001b[0m │ \u001b[38;5;141m€0      \u001b[0m │ \u001b[38;5;141m€107.5M \u001b[0m │ \u001b[38;5;141m€0      \u001b[0m │ \u001b[38;5;141m€9M      \u001b[0m │ \u001b[36m    4.82\u001b[0m │ \u001b[36m        1\u001b[0m │ \u001b[36m   17660\u001b[0m │  │\n",
       "│ │ \u001b[38;5;141mWage    \u001b[0m │ \u001b[36m    0\u001b[0m │ \u001b[36m       0\u001b[0m │ \u001b[38;5;141m€0      \u001b[0m │ \u001b[38;5;141m€115K   \u001b[0m │ \u001b[38;5;141m€0      \u001b[0m │ \u001b[38;5;141m€9K      \u001b[0m │ \u001b[36m    3.53\u001b[0m │ \u001b[36m        1\u001b[0m │ \u001b[36m   17660\u001b[0m │  │\n",
       "│ │ \u001b[38;5;141mPreferre\u001b[0m │ \u001b[36m    0\u001b[0m │ \u001b[36m       0\u001b[0m │ \u001b[38;5;141mLeft    \u001b[0m │ \u001b[38;5;141mRight   \u001b[0m │ \u001b[38;5;141mLeft    \u001b[0m │ \u001b[38;5;141mRight    \u001b[0m │ \u001b[36m    4.77\u001b[0m │ \u001b[36m        1\u001b[0m │ \u001b[36m   17660\u001b[0m │  │\n",
       "│ │ \u001b[38;5;141md Foot  \u001b[0m │       │          │          │          │          │           │          │           │          │  │\n",
       "│ │ \u001b[38;5;141mWork    \u001b[0m │ \u001b[36m    0\u001b[0m │ \u001b[36m       0\u001b[0m │ \u001b[38;5;141mLow/ Low\u001b[0m │ \u001b[38;5;141mMedium/ \u001b[0m │ \u001b[38;5;141mHigh/   \u001b[0m │ \u001b[38;5;141mN/A/ N/A \u001b[0m │ \u001b[36m    12.8\u001b[0m │ \u001b[36m        2\u001b[0m │ \u001b[36m   35320\u001b[0m │  │\n",
       "│ │ \u001b[38;5;141mRate    \u001b[0m │       │          │          │ \u001b[38;5;141mMedium  \u001b[0m │ \u001b[38;5;141mHigh    \u001b[0m │           │          │           │          │  │\n",
       "│ │ \u001b[38;5;141mBody    \u001b[0m │ \u001b[36m   38\u001b[0m │ \u001b[36m0.215175\u001b[0m │ \u001b[38;5;141mUnique  \u001b[0m │ \u001b[38;5;141mStocky  \u001b[0m │ \u001b[38;5;141mLean    \u001b[0m │ \u001b[38;5;141mUnique   \u001b[0m │ \u001b[36m      14\u001b[0m │ \u001b[36m        2\u001b[0m │ \u001b[36m   35111\u001b[0m │  │\n",
       "│ │ \u001b[38;5;141mType    \u001b[0m │       │ \u001b[36m53793884\u001b[0m │          │ \u001b[38;5;141m(170-185\u001b[0m │ \u001b[38;5;141m(170-)  \u001b[0m │           │          │           │          │  │\n",
       "│ │          │       │ \u001b[36m     484\u001b[0m │          │ \u001b[38;5;141m)       \u001b[0m │          │           │          │           │          │  │\n",
       "│ │ \u001b[38;5;141mReal    \u001b[0m │ \u001b[36m   38\u001b[0m │ \u001b[36m0.215175\u001b[0m │ \u001b[38;5;141mNo      \u001b[0m │ \u001b[38;5;141mYes     \u001b[0m │ \u001b[38;5;141mNo      \u001b[0m │ \u001b[38;5;141mYes      \u001b[0m │ \u001b[36m    2.12\u001b[0m │ \u001b[36m        1\u001b[0m │ \u001b[36m   17622\u001b[0m │  │\n",
       "│ │ \u001b[38;5;141mFace    \u001b[0m │       │ \u001b[36m53793884\u001b[0m │          │          │          │           │          │           │          │  │\n",
       "│ │          │       │ \u001b[36m     484\u001b[0m │          │          │          │           │          │           │          │  │\n",
       "│ │ \u001b[38;5;141mPosition\u001b[0m │ \u001b[36m   35\u001b[0m │ \u001b[36m0.198187\u001b[0m │ \u001b[38;5;141m<span   \u001b[0m │ \u001b[38;5;141m<span   \u001b[0m │ \u001b[38;5;141m<span   \u001b[0m │ \u001b[38;5;141m<span    \u001b[0m │ \u001b[36m    26.7\u001b[0m │ \u001b[36m        3\u001b[0m │ \u001b[36m   52875\u001b[0m │  │\n",
       "│ │          │       │ \u001b[36m99546998\u001b[0m │ \u001b[38;5;141mclass=\"p\u001b[0m │ \u001b[38;5;141mclass=\"p\u001b[0m │ \u001b[38;5;141mclass=\"p\u001b[0m │ \u001b[38;5;141mclass=\"po\u001b[0m │          │           │          │  │\n",
       "│ │          │       │ \u001b[36m     866\u001b[0m │ \u001b[38;5;141mos      \u001b[0m │ \u001b[38;5;141mos      \u001b[0m │ \u001b[38;5;141mos      \u001b[0m │ \u001b[38;5;141ms        \u001b[0m │          │           │          │  │\n",
       "│ │          │       │          │ \u001b[38;5;141mpos7\">LB\u001b[0m │ \u001b[38;5;141mpos28\">S\u001b[0m │ \u001b[38;5;141mpos0\">GK\u001b[0m │ \u001b[38;5;141mpos9\">RDM\u001b[0m │          │           │          │  │\n",
       "│ │          │       │          │          │ \u001b[38;5;141mUB      \u001b[0m │          │           │          │           │          │  │\n",
       "│ │ \u001b[38;5;141mJoined  \u001b[0m │ \u001b[36m 1098\u001b[0m │ \u001b[36m6.217440\u001b[0m │ \u001b[38;5;141mJul 1,  \u001b[0m │ \u001b[38;5;141mJan 30, \u001b[0m │ \u001b[38;5;141mApr 1,  \u001b[0m │ \u001b[38;5;141mSep 9,   \u001b[0m │ \u001b[36m    11.4\u001b[0m │ \u001b[36m      2.8\u001b[0m │ \u001b[36m   49686\u001b[0m │  │\n",
       "│ │          │       │ \u001b[36m54360135\u001b[0m │ \u001b[38;5;141m2018    \u001b[0m │ \u001b[38;5;141m2020    \u001b[0m │ \u001b[38;5;141m2009    \u001b[0m │ \u001b[38;5;141m2021     \u001b[0m │          │           │          │  │\n",
       "│ │          │       │ \u001b[36m       9\u001b[0m │          │          │          │           │          │           │          │  │\n",
       "│ │ \u001b[38;5;141mLoaned  \u001b[0m │ \u001b[36m16966\u001b[0m │ \u001b[36m96.07021\u001b[0m │ \u001b[38;5;141m<a      \u001b[0m │ \u001b[38;5;141m<a      \u001b[0m │ \u001b[38;5;141m<a      \u001b[0m │ \u001b[38;5;141m<a       \u001b[0m │ \u001b[36m    52.5\u001b[0m │ \u001b[36m     0.12\u001b[0m │ \u001b[36m    2138\u001b[0m │  │\n",
       "│ │ \u001b[38;5;141mFrom    \u001b[0m │       │ \u001b[36m51755379\u001b[0m │ \u001b[38;5;141mhref=\"/t\u001b[0m │ \u001b[38;5;141mhref=\"/t\u001b[0m │ \u001b[38;5;141mhref=\"/t\u001b[0m │ \u001b[38;5;141mhref=\"/te\u001b[0m │          │           │          │  │\n",
       "│ │          │       │ \u001b[36m       4\u001b[0m │ \u001b[38;5;141meam/247/\u001b[0m │ \u001b[38;5;141meam/1100\u001b[0m │ \u001b[38;5;141meam/1/ar\u001b[0m │ \u001b[38;5;141mam/983/su\u001b[0m │          │           │          │  │\n",
       "│ │          │       │          │ \u001b[38;5;141mpsv/\">PS\u001b[0m │ \u001b[38;5;141m93/club-\u001b[0m │ \u001b[38;5;141msenal/\">\u001b[0m │ \u001b[38;5;141mwon-samsu\u001b[0m │          │           │          │  │\n",
       "│ │          │       │          │ \u001b[38;5;141mV</a>   \u001b[0m │ \u001b[38;5;141matletico\u001b[0m │ \u001b[38;5;141mArsenal<\u001b[0m │ \u001b[38;5;141mng-bluewi\u001b[0m │          │           │          │  │\n",
       "│ │          │       │          │          │ \u001b[38;5;141m-indepen\u001b[0m │ \u001b[38;5;141m/a>     \u001b[0m │ \u001b[38;5;141mngs/\">Suw\u001b[0m │          │           │          │  │\n",
       "│ │          │       │          │          │ \u001b[38;5;141mdiente/\"\u001b[0m │          │ \u001b[38;5;141mon       \u001b[0m │          │           │          │  │\n",
       "│ │          │       │          │          │ \u001b[38;5;141m>Club   \u001b[0m │          │ \u001b[38;5;141mSamsung  \u001b[0m │          │           │          │  │\n",
       "│ │          │       │          │          │ \u001b[38;5;141mAtlético\u001b[0m │          │ \u001b[38;5;141mBluewings\u001b[0m │          │           │          │  │\n",
       "│ │          │       │          │          │ \u001b[38;5;141mIndepend\u001b[0m │          │ \u001b[38;5;141m</a>     \u001b[0m │          │           │          │  │\n",
       "│ │          │       │          │          │ \u001b[38;5;141miente</a\u001b[0m │          │           │          │           │          │  │\n",
       "│ │          │       │          │          │ \u001b[38;5;141m>       \u001b[0m │          │           │          │           │          │  │\n",
       "│ │ \u001b[38;5;141mContract\u001b[0m │ \u001b[36m  361\u001b[0m │ \u001b[36m2.044167\u001b[0m │ \u001b[38;5;141m2026    \u001b[0m │ \u001b[38;5;141mJun 30, \u001b[0m │ \u001b[38;5;141m2007    \u001b[0m │ \u001b[38;5;141mSep 6,   \u001b[0m │ \u001b[36m    4.32\u001b[0m │ \u001b[36m      1.1\u001b[0m │ \u001b[36m   18687\u001b[0m │  │\n",
       "│ │ \u001b[38;5;141mValid   \u001b[0m │       │ \u001b[36m61041902\u001b[0m │          │ \u001b[38;5;141m2023    \u001b[0m │          │ \u001b[38;5;141m2022     \u001b[0m │          │           │          │  │\n",
       "│ │ \u001b[38;5;141mUntil   \u001b[0m │       │ \u001b[36m       6\u001b[0m │          │          │          │           │          │           │          │  │\n",
       "│ │ \u001b[38;5;141mHeight  \u001b[0m │ \u001b[36m    0\u001b[0m │ \u001b[36m       0\u001b[0m │ \u001b[38;5;141m189cm   \u001b[0m │ \u001b[38;5;141m189cm   \u001b[0m │ \u001b[38;5;141m149cm   \u001b[0m │ \u001b[38;5;141m206cm    \u001b[0m │ \u001b[36m       5\u001b[0m │ \u001b[36m        1\u001b[0m │ \u001b[36m   17660\u001b[0m │  │\n",
       "│ │ \u001b[38;5;141mWeight  \u001b[0m │ \u001b[36m    0\u001b[0m │ \u001b[36m       0\u001b[0m │ \u001b[38;5;141m82kg    \u001b[0m │ \u001b[38;5;141m102kg   \u001b[0m │ \u001b[38;5;141m100kg   \u001b[0m │ \u001b[38;5;141m99kg     \u001b[0m │ \u001b[36m       4\u001b[0m │ \u001b[36m        1\u001b[0m │ \u001b[36m   17660\u001b[0m │  │\n",
       "│ │ \u001b[38;5;141mRelease \u001b[0m │ \u001b[36m 1151\u001b[0m │ \u001b[36m6.517553\u001b[0m │ \u001b[38;5;141m€7M     \u001b[0m │ \u001b[38;5;141m€198.9M \u001b[0m │ \u001b[38;5;141m€1.1M   \u001b[0m │ \u001b[38;5;141m€9M      \u001b[0m │ \u001b[36m    4.97\u001b[0m │ \u001b[36m     0.93\u001b[0m │ \u001b[36m   16509\u001b[0m │  │\n",
       "│ │ \u001b[38;5;141mClause  \u001b[0m │       │ \u001b[36m79388448\u001b[0m │          │          │          │           │          │           │          │  │\n",
       "│ │          │       │ \u001b[36m       5\u001b[0m │          │          │          │           │          │           │          │  │\n",
       "│ │ \u001b[38;5;141mBest    \u001b[0m │ \u001b[36m17639\u001b[0m │ \u001b[36m99.88108\u001b[0m │ \u001b[38;5;141m<span   \u001b[0m │ \u001b[38;5;141m<span   \u001b[0m │ \u001b[38;5;141m<span   \u001b[0m │ \u001b[38;5;141m<span    \u001b[0m │ \u001b[36m      38\u001b[0m │ \u001b[36m   0.0048\u001b[0m │ \u001b[36m      84\u001b[0m │  │\n",
       "│ │ \u001b[38;5;141mOverall \u001b[0m │       │ \u001b[36m 7202718\u001b[0m │ \u001b[38;5;141mclass=\"b\u001b[0m │ \u001b[38;5;141mclass=\"b\u001b[0m │ \u001b[38;5;141mclass=\"b\u001b[0m │ \u001b[38;5;141mclass=\"bp\u001b[0m │          │           │          │  │\n",
       "│ │ \u001b[38;5;141mRating  \u001b[0m │       │          │ \u001b[38;5;141mp3-tag p\u001b[0m │ \u001b[38;5;141mp3-tag p\u001b[0m │ \u001b[38;5;141mp3-tag p\u001b[0m │ \u001b[38;5;141m3-tag p  \u001b[0m │          │           │          │  │\n",
       "│ │          │       │          │ \u001b[38;5;141mp-64\">64\u001b[0m │ \u001b[38;5;141mp-64\">64\u001b[0m │ \u001b[38;5;141mp-54\">54\u001b[0m │ \u001b[38;5;141mp-80\">80<\u001b[0m │          │           │          │  │\n",
       "│ │          │       │          │ \u001b[38;5;141m</span> \u001b[0m │ \u001b[38;5;141m</span> \u001b[0m │ \u001b[38;5;141m</span> \u001b[0m │ \u001b[38;5;141m/span>   \u001b[0m │          │           │          │  │\n",
       "│ └──────────┴───────┴──────────┴──────────┴──────────┴──────────┴───────────┴──────────┴───────────┴──────────┘  │\n",
       "╰────────────────────────────────────────────────────── End ──────────────────────────────────────────────────────╯\n"
      ]
     },
     "metadata": {},
     "output_type": "display_data"
    }
   ],
   "source": [
    "from skimpy import skim\n",
    "skim(pandas_df)"
   ]
  },
  {
   "cell_type": "code",
   "execution_count": 143,
   "id": "78725126",
   "metadata": {},
   "outputs": [
    {
     "data": {
      "text/html": [
       "<pre style=\"white-space:pre;overflow-x:auto;line-height:normal;font-family:Menlo,'DejaVu Sans Mono',consolas,'Courier New',monospace\">╭──────────────────────────────────────────────── skimpy summary ─────────────────────────────────────────────────╮\n",
       "│ <span style=\"font-style: italic\">         Data Summary         </span> <span style=\"font-style: italic\">      Data Types       </span>                                                          │\n",
       "│ ┏━━━━━━━━━━━━━━━━━━━┳━━━━━━━━┓ ┏━━━━━━━━━━━━━┳━━━━━━━┓                                                          │\n",
       "│ ┃<span style=\"color: #008080; text-decoration-color: #008080; font-weight: bold\"> Dataframe         </span>┃<span style=\"color: #008080; text-decoration-color: #008080; font-weight: bold\"> Values </span>┃ ┃<span style=\"color: #008080; text-decoration-color: #008080; font-weight: bold\"> Column Type </span>┃<span style=\"color: #008080; text-decoration-color: #008080; font-weight: bold\"> Count </span>┃                                                          │\n",
       "│ ┡━━━━━━━━━━━━━━━━━━━╇━━━━━━━━┩ ┡━━━━━━━━━━━━━╇━━━━━━━┩                                                          │\n",
       "│ │ Number of rows    │ 17660  │ │ string      │ 20    │                                                          │\n",
       "│ │ Number of columns │ 29     │ │ int64       │ 5     │                                                          │\n",
       "│ └───────────────────┴────────┘ │ float64     │ 4     │                                                          │\n",
       "│                                └─────────────┴───────┘                                                          │\n",
       "│ <span style=\"font-style: italic\">                                                    number                                                    </span>  │\n",
       "│ ┏━━━━━━━━━━━━━━━━━┳━━━━┳━━━━━━━━━━━━━━━━┳━━━━━━━━┳━━━━━━━━┳━━━━━┳━━━━━━━━┳━━━━━━━━┳━━━━━━━━┳━━━━━━━━┳━━━━━━━━┓  │\n",
       "│ ┃<span style=\"font-weight: bold\"> column          </span>┃<span style=\"font-weight: bold\"> NA </span>┃<span style=\"font-weight: bold\"> NA %           </span>┃<span style=\"font-weight: bold\"> mean   </span>┃<span style=\"font-weight: bold\"> sd     </span>┃<span style=\"font-weight: bold\"> p0  </span>┃<span style=\"font-weight: bold\"> p25    </span>┃<span style=\"font-weight: bold\"> p50    </span>┃<span style=\"font-weight: bold\"> p75    </span>┃<span style=\"font-weight: bold\"> p100   </span>┃<span style=\"font-weight: bold\"> hist   </span>┃  │\n",
       "│ ┡━━━━━━━━━━━━━━━━━╇━━━━╇━━━━━━━━━━━━━━━━╇━━━━━━━━╇━━━━━━━━╇━━━━━╇━━━━━━━━╇━━━━━━━━╇━━━━━━━━╇━━━━━━━━╇━━━━━━━━┩  │\n",
       "│ │ <span style=\"color: #af87ff; text-decoration-color: #af87ff\">ID             </span> │ <span style=\"color: #008080; text-decoration-color: #008080\"> 0</span> │ <span style=\"color: #008080; text-decoration-color: #008080\">             0</span> │ <span style=\"color: #008080; text-decoration-color: #008080\">246300</span> │ <span style=\"color: #008080; text-decoration-color: #008080\"> 31490</span> │ <span style=\"color: #008080; text-decoration-color: #008080\"> 16</span> │ <span style=\"color: #008080; text-decoration-color: #008080\">240700</span> │ <span style=\"color: #008080; text-decoration-color: #008080\">257000</span> │ <span style=\"color: #008080; text-decoration-color: #008080\">263000</span> │ <span style=\"color: #008080; text-decoration-color: #008080\">271300</span> │ <span style=\"color: #008000; text-decoration-color: #008000\">    ▁▇</span> │  │\n",
       "│ │ <span style=\"color: #af87ff; text-decoration-color: #af87ff\">Age            </span> │ <span style=\"color: #008080; text-decoration-color: #008080\"> 0</span> │ <span style=\"color: #008080; text-decoration-color: #008080\">             0</span> │ <span style=\"color: #008080; text-decoration-color: #008080\"> 23.13</span> │ <span style=\"color: #008080; text-decoration-color: #008080\">  4.64</span> │ <span style=\"color: #008080; text-decoration-color: #008080\"> 15</span> │ <span style=\"color: #008080; text-decoration-color: #008080\">    20</span> │ <span style=\"color: #008080; text-decoration-color: #008080\">    22</span> │ <span style=\"color: #008080; text-decoration-color: #008080\">    26</span> │ <span style=\"color: #008080; text-decoration-color: #008080\">    54</span> │ <span style=\"color: #008000; text-decoration-color: #008000\"> ▇▆▃  </span> │  │\n",
       "│ │ <span style=\"color: #af87ff; text-decoration-color: #af87ff\">Overall        </span> │ <span style=\"color: #008080; text-decoration-color: #008080\"> 0</span> │ <span style=\"color: #008080; text-decoration-color: #008080\">             0</span> │ <span style=\"color: #008080; text-decoration-color: #008080\"> 63.37</span> │ <span style=\"color: #008080; text-decoration-color: #008080\"> 8.036</span> │ <span style=\"color: #008080; text-decoration-color: #008080\"> 43</span> │ <span style=\"color: #008080; text-decoration-color: #008080\">    58</span> │ <span style=\"color: #008080; text-decoration-color: #008080\">    63</span> │ <span style=\"color: #008080; text-decoration-color: #008080\">    69</span> │ <span style=\"color: #008080; text-decoration-color: #008080\">    91</span> │ <span style=\"color: #008000; text-decoration-color: #008000\">▁▅▇▅▂ </span> │  │\n",
       "│ │ <span style=\"color: #af87ff; text-decoration-color: #af87ff\">Potential      </span> │ <span style=\"color: #008080; text-decoration-color: #008080\"> 0</span> │ <span style=\"color: #008080; text-decoration-color: #008080\">             0</span> │ <span style=\"color: #008080; text-decoration-color: #008080\"> 70.98</span> │ <span style=\"color: #008080; text-decoration-color: #008080\">  6.53</span> │ <span style=\"color: #008080; text-decoration-color: #008080\"> 42</span> │ <span style=\"color: #008080; text-decoration-color: #008080\">    67</span> │ <span style=\"color: #008080; text-decoration-color: #008080\">    71</span> │ <span style=\"color: #008080; text-decoration-color: #008080\">    75</span> │ <span style=\"color: #008080; text-decoration-color: #008080\">    95</span> │ <span style=\"color: #008000; text-decoration-color: #008000\"> ▁▅▇▃ </span> │  │\n",
       "│ │ <span style=\"color: #af87ff; text-decoration-color: #af87ff\">Special        </span> │ <span style=\"color: #008080; text-decoration-color: #008080\"> 0</span> │ <span style=\"color: #008080; text-decoration-color: #008080\">             0</span> │ <span style=\"color: #008080; text-decoration-color: #008080\">  1538</span> │ <span style=\"color: #008080; text-decoration-color: #008080\"> 285.9</span> │ <span style=\"color: #008080; text-decoration-color: #008080\">749</span> │ <span style=\"color: #008080; text-decoration-color: #008080\">  1387</span> │ <span style=\"color: #008080; text-decoration-color: #008080\">  1548</span> │ <span style=\"color: #008080; text-decoration-color: #008080\">  1727</span> │ <span style=\"color: #008080; text-decoration-color: #008080\">  2312</span> │ <span style=\"color: #008000; text-decoration-color: #008000\">▂▂▇▇▃▁</span> │  │\n",
       "│ │ <span style=\"color: #af87ff; text-decoration-color: #af87ff\">International  </span> │ <span style=\"color: #008080; text-decoration-color: #008080\"> 0</span> │ <span style=\"color: #008080; text-decoration-color: #008080\">             0</span> │ <span style=\"color: #008080; text-decoration-color: #008080\"> 1.106</span> │ <span style=\"color: #008080; text-decoration-color: #008080\"> 0.407</span> │ <span style=\"color: #008080; text-decoration-color: #008080\">  1</span> │ <span style=\"color: #008080; text-decoration-color: #008080\">     1</span> │ <span style=\"color: #008080; text-decoration-color: #008080\">     1</span> │ <span style=\"color: #008080; text-decoration-color: #008080\">     1</span> │ <span style=\"color: #008080; text-decoration-color: #008080\">     5</span> │ <span style=\"color: #008000; text-decoration-color: #008000\">  ▇   </span> │  │\n",
       "│ │ <span style=\"color: #af87ff; text-decoration-color: #af87ff\">Reputation     </span> │    │                │        │        │     │        │        │        │        │        │  │\n",
       "│ │ <span style=\"color: #af87ff; text-decoration-color: #af87ff\">Weak Foot      </span> │ <span style=\"color: #008080; text-decoration-color: #008080\"> 0</span> │ <span style=\"color: #008080; text-decoration-color: #008080\">             0</span> │ <span style=\"color: #008080; text-decoration-color: #008080\">   2.9</span> │ <span style=\"color: #008080; text-decoration-color: #008080\">0.6635</span> │ <span style=\"color: #008080; text-decoration-color: #008080\">  1</span> │ <span style=\"color: #008080; text-decoration-color: #008080\">     3</span> │ <span style=\"color: #008080; text-decoration-color: #008080\">     3</span> │ <span style=\"color: #008080; text-decoration-color: #008080\">     3</span> │ <span style=\"color: #008080; text-decoration-color: #008080\">     5</span> │ <span style=\"color: #008000; text-decoration-color: #008000\"> ▃ ▇▂ </span> │  │\n",
       "│ │ <span style=\"color: #af87ff; text-decoration-color: #af87ff\">Skill Moves    </span> │ <span style=\"color: #008080; text-decoration-color: #008080\"> 0</span> │ <span style=\"color: #008080; text-decoration-color: #008080\">             0</span> │ <span style=\"color: #008080; text-decoration-color: #008080\"> 2.297</span> │ <span style=\"color: #008080; text-decoration-color: #008080\">0.7543</span> │ <span style=\"color: #008080; text-decoration-color: #008080\">  1</span> │ <span style=\"color: #008080; text-decoration-color: #008080\">     2</span> │ <span style=\"color: #008080; text-decoration-color: #008080\">     2</span> │ <span style=\"color: #008080; text-decoration-color: #008080\">     3</span> │ <span style=\"color: #008080; text-decoration-color: #008080\">     5</span> │ <span style=\"color: #008000; text-decoration-color: #008000\">▂▇ ▅▁ </span> │  │\n",
       "│ │ <span style=\"color: #af87ff; text-decoration-color: #af87ff\">Kit Number     </span> │ <span style=\"color: #008080; text-decoration-color: #008080\">35</span> │ <span style=\"color: #008080; text-decoration-color: #008080\">0.198187995469</span> │ <span style=\"color: #008080; text-decoration-color: #008080\"> 25.04</span> │ <span style=\"color: #008080; text-decoration-color: #008080\"> 19.15</span> │ <span style=\"color: #008080; text-decoration-color: #008080\">  1</span> │ <span style=\"color: #008080; text-decoration-color: #008080\">    11</span> │ <span style=\"color: #008080; text-decoration-color: #008080\">    22</span> │ <span style=\"color: #008080; text-decoration-color: #008080\">    32</span> │ <span style=\"color: #008080; text-decoration-color: #008080\">    99</span> │ <span style=\"color: #008000; text-decoration-color: #008000\">▇▇▃▁ ▁</span> │  │\n",
       "│ │                 │    │ <span style=\"color: #008080; text-decoration-color: #008080\">         98866</span> │        │        │     │        │        │        │        │        │  │\n",
       "│ └─────────────────┴────┴────────────────┴────────┴────────┴─────┴────────┴────────┴────────┴────────┴────────┘  │\n",
       "│ <span style=\"font-style: italic\">                                                    string                                                    </span>  │\n",
       "│ ┏━━━━━━━━━━┳━━━━━┳━━━━━━━━━━━┳━━━━━━━━━━┳━━━━━━━━━━━┳━━━━━━━━━━┳━━━━━━━━━━━┳━━━━━━━━━━┳━━━━━━━━━━━┳━━━━━━━━━━┓  │\n",
       "│ ┃<span style=\"font-weight: bold\">          </span>┃<span style=\"font-weight: bold\">     </span>┃<span style=\"font-weight: bold\">           </span>┃<span style=\"font-weight: bold\">          </span>┃<span style=\"font-weight: bold\">           </span>┃<span style=\"font-weight: bold\">          </span>┃<span style=\"font-weight: bold\">           </span>┃<span style=\"font-weight: bold\"> chars    </span>┃<span style=\"font-weight: bold\"> words per </span>┃<span style=\"font-weight: bold\"> total    </span>┃  │\n",
       "│ ┃<span style=\"font-weight: bold\"> column   </span>┃<span style=\"font-weight: bold\"> NA  </span>┃<span style=\"font-weight: bold\"> NA %      </span>┃<span style=\"font-weight: bold\"> shortest </span>┃<span style=\"font-weight: bold\"> longest   </span>┃<span style=\"font-weight: bold\"> min      </span>┃<span style=\"font-weight: bold\"> max       </span>┃<span style=\"font-weight: bold\"> per row  </span>┃<span style=\"font-weight: bold\"> row       </span>┃<span style=\"font-weight: bold\"> words    </span>┃  │\n",
       "│ ┡━━━━━━━━━━╇━━━━━╇━━━━━━━━━━━╇━━━━━━━━━━╇━━━━━━━━━━━╇━━━━━━━━━━╇━━━━━━━━━━━╇━━━━━━━━━━╇━━━━━━━━━━━╇━━━━━━━━━━┩  │\n",
       "│ │ <span style=\"color: #af87ff; text-decoration-color: #af87ff\">Name    </span> │ <span style=\"color: #008080; text-decoration-color: #008080\">  0</span> │ <span style=\"color: #008080; text-decoration-color: #008080\">        0</span> │ <span style=\"color: #af87ff; text-decoration-color: #af87ff\">Isi     </span> │ <span style=\"color: #af87ff; text-decoration-color: #af87ff\">22 L.    </span> │ <span style=\"color: #af87ff; text-decoration-color: #af87ff\">07 C.   </span> │ <span style=\"color: #af87ff; text-decoration-color: #af87ff\">Ș.       </span> │ <span style=\"color: #008080; text-decoration-color: #008080\">    11.2</span> │ <span style=\"color: #008080; text-decoration-color: #008080\">        2</span> │ <span style=\"color: #008080; text-decoration-color: #008080\">   35532</span> │  │\n",
       "│ │          │     │           │          │ <span style=\"color: #af87ff; text-decoration-color: #af87ff\">Urbano   </span> │ <span style=\"color: #af87ff; text-decoration-color: #af87ff\">Mengi   </span> │ <span style=\"color: #af87ff; text-decoration-color: #af87ff\">Tomache  </span> │          │           │          │  │\n",
       "│ │          │     │           │          │ <span style=\"color: #af87ff; text-decoration-color: #af87ff\">Dias de  </span> │          │           │          │           │          │  │\n",
       "│ │          │     │           │          │ <span style=\"color: #af87ff; text-decoration-color: #af87ff\">Lima     </span> │          │           │          │           │          │  │\n",
       "│ │ <span style=\"color: #af87ff; text-decoration-color: #af87ff\">Photo   </span> │ <span style=\"color: #008080; text-decoration-color: #008080\">  0</span> │ <span style=\"color: #008080; text-decoration-color: #008080\">        0</span> │ <span style=\"color: #af87ff; text-decoration-color: #af87ff\">https://</span> │ <span style=\"color: #af87ff; text-decoration-color: #af87ff\">https://c</span> │ <span style=\"color: #af87ff; text-decoration-color: #af87ff\">https://</span> │ <span style=\"color: #af87ff; text-decoration-color: #af87ff\">https://c</span> │ <span style=\"color: #008080; text-decoration-color: #008080\">      48</span> │ <span style=\"color: #008080; text-decoration-color: #008080\">        1</span> │ <span style=\"color: #008080; text-decoration-color: #008080\">   17660</span> │  │\n",
       "│ │          │     │           │ <span style=\"color: #af87ff; text-decoration-color: #af87ff\">cdn.sofi</span> │ <span style=\"color: #af87ff; text-decoration-color: #af87ff\">dn.sofifa</span> │ <span style=\"color: #af87ff; text-decoration-color: #af87ff\">cdn.sofi</span> │ <span style=\"color: #af87ff; text-decoration-color: #af87ff\">dn.sofifa</span> │          │           │          │  │\n",
       "│ │          │     │           │ <span style=\"color: #af87ff; text-decoration-color: #af87ff\">fa.net/p</span> │ <span style=\"color: #af87ff; text-decoration-color: #af87ff\">.net/play</span> │ <span style=\"color: #af87ff; text-decoration-color: #af87ff\">fa.net/p</span> │ <span style=\"color: #af87ff; text-decoration-color: #af87ff\">.net/play</span> │          │           │          │  │\n",
       "│ │          │     │           │ <span style=\"color: #af87ff; text-decoration-color: #af87ff\">layers/2</span> │ <span style=\"color: #af87ff; text-decoration-color: #af87ff\">ers/209/6</span> │ <span style=\"color: #af87ff; text-decoration-color: #af87ff\">layers/0</span> │ <span style=\"color: #af87ff; text-decoration-color: #af87ff\">ers/271/3</span> │          │           │          │  │\n",
       "│ │          │     │           │ <span style=\"color: #af87ff; text-decoration-color: #af87ff\">09/658/2</span> │ <span style=\"color: #af87ff; text-decoration-color: #af87ff\">58/23_60.</span> │ <span style=\"color: #af87ff; text-decoration-color: #af87ff\">00/016/1</span> │ <span style=\"color: #af87ff; text-decoration-color: #af87ff\">40/23_60.</span> │          │           │          │  │\n",
       "│ │          │     │           │ <span style=\"color: #af87ff; text-decoration-color: #af87ff\">3_60.png</span> │ <span style=\"color: #af87ff; text-decoration-color: #af87ff\">png      </span> │ <span style=\"color: #af87ff; text-decoration-color: #af87ff\">9_60.png</span> │ <span style=\"color: #af87ff; text-decoration-color: #af87ff\">png      </span> │          │           │          │  │\n",
       "│ │ <span style=\"color: #af87ff; text-decoration-color: #af87ff\">National</span> │ <span style=\"color: #008080; text-decoration-color: #008080\">  0</span> │ <span style=\"color: #008080; text-decoration-color: #008080\">        0</span> │ <span style=\"color: #af87ff; text-decoration-color: #af87ff\">Mali    </span> │ <span style=\"color: #af87ff; text-decoration-color: #af87ff\">Central  </span> │ <span style=\"color: #af87ff; text-decoration-color: #af87ff\">Afghanis</span> │ <span style=\"color: #af87ff; text-decoration-color: #af87ff\">Zimbabwe </span> │ <span style=\"color: #008080; text-decoration-color: #008080\">    7.59</span> │ <span style=\"color: #008080; text-decoration-color: #008080\">      1.1</span> │ <span style=\"color: #008080; text-decoration-color: #008080\">   20135</span> │  │\n",
       "│ │ <span style=\"color: #af87ff; text-decoration-color: #af87ff\">ity     </span> │     │           │          │ <span style=\"color: #af87ff; text-decoration-color: #af87ff\">African  </span> │ <span style=\"color: #af87ff; text-decoration-color: #af87ff\">tan     </span> │           │          │           │          │  │\n",
       "│ │          │     │           │          │ <span style=\"color: #af87ff; text-decoration-color: #af87ff\">Republic </span> │          │           │          │           │          │  │\n",
       "│ │ <span style=\"color: #af87ff; text-decoration-color: #af87ff\">Flag    </span> │ <span style=\"color: #008080; text-decoration-color: #008080\">  0</span> │ <span style=\"color: #008080; text-decoration-color: #008080\">        0</span> │ <span style=\"color: #af87ff; text-decoration-color: #af87ff\">https://</span> │ <span style=\"color: #af87ff; text-decoration-color: #af87ff\">https://c</span> │ <span style=\"color: #af87ff; text-decoration-color: #af87ff\">https://</span> │ <span style=\"color: #af87ff; text-decoration-color: #af87ff\">https://c</span> │ <span style=\"color: #008080; text-decoration-color: #008080\">    35.4</span> │ <span style=\"color: #008080; text-decoration-color: #008080\">        1</span> │ <span style=\"color: #008080; text-decoration-color: #008080\">   17660</span> │  │\n",
       "│ │          │     │           │ <span style=\"color: #af87ff; text-decoration-color: #af87ff\">cdn.sofi</span> │ <span style=\"color: #af87ff; text-decoration-color: #af87ff\">dn.sofifa</span> │ <span style=\"color: #af87ff; text-decoration-color: #af87ff\">cdn.sofi</span> │ <span style=\"color: #af87ff; text-decoration-color: #af87ff\">dn.sofifa</span> │          │           │          │  │\n",
       "│ │          │     │           │ <span style=\"color: #af87ff; text-decoration-color: #af87ff\">fa.net/f</span> │ <span style=\"color: #af87ff; text-decoration-color: #af87ff\">.net/flag</span> │ <span style=\"color: #af87ff; text-decoration-color: #af87ff\">fa.net/f</span> │ <span style=\"color: #af87ff; text-decoration-color: #af87ff\">.net/flag</span> │          │           │          │  │\n",
       "│ │          │     │           │ <span style=\"color: #af87ff; text-decoration-color: #af87ff\">lags/de.</span> │ <span style=\"color: #af87ff; text-decoration-color: #af87ff\">s/gb-eng.</span> │ <span style=\"color: #af87ff; text-decoration-color: #af87ff\">lags/ad.</span> │ <span style=\"color: #af87ff; text-decoration-color: #af87ff\">s/zw.png </span> │          │           │          │  │\n",
       "│ │          │     │           │ <span style=\"color: #af87ff; text-decoration-color: #af87ff\">png     </span> │ <span style=\"color: #af87ff; text-decoration-color: #af87ff\">png      </span> │ <span style=\"color: #af87ff; text-decoration-color: #af87ff\">png     </span> │           │          │           │          │  │\n",
       "│ │ <span style=\"color: #af87ff; text-decoration-color: #af87ff\">Club    </span> │ <span style=\"color: #008080; text-decoration-color: #008080\">211</span> │ <span style=\"color: #008080; text-decoration-color: #008080\">1.1947904</span> │ <span style=\"color: #af87ff; text-decoration-color: #af87ff\">PSV     </span> │ <span style=\"color: #af87ff; text-decoration-color: #af87ff\">Club     </span> │ <span style=\"color: #af87ff; text-decoration-color: #af87ff\">1. FC   </span> │ <span style=\"color: #af87ff; text-decoration-color: #af87ff\">Śląsk    </span> │ <span style=\"color: #008080; text-decoration-color: #008080\">    14.6</span> │ <span style=\"color: #008080; text-decoration-color: #008080\">      2.3</span> │ <span style=\"color: #008080; text-decoration-color: #008080\">   40794</span> │  │\n",
       "│ │          │     │ <span style=\"color: #008080; text-decoration-color: #008080\">869762174</span> │          │ <span style=\"color: #af87ff; text-decoration-color: #af87ff\">Social,  </span> │ <span style=\"color: #af87ff; text-decoration-color: #af87ff\">Heidenhe</span> │ <span style=\"color: #af87ff; text-decoration-color: #af87ff\">Wrocław  </span> │          │           │          │  │\n",
       "│ │          │     │           │          │ <span style=\"color: #af87ff; text-decoration-color: #af87ff\">Cultural </span> │ <span style=\"color: #af87ff; text-decoration-color: #af87ff\">im 1846 </span> │           │          │           │          │  │\n",
       "│ │          │     │           │          │ <span style=\"color: #af87ff; text-decoration-color: #af87ff\">y        </span> │          │           │          │           │          │  │\n",
       "│ │          │     │           │          │ <span style=\"color: #af87ff; text-decoration-color: #af87ff\">Deportivo</span> │          │           │          │           │          │  │\n",
       "│ │          │     │           │          │ <span style=\"color: #af87ff; text-decoration-color: #af87ff\">de       </span> │          │           │          │           │          │  │\n",
       "│ │          │     │           │          │ <span style=\"color: #af87ff; text-decoration-color: #af87ff\">Blooming </span> │          │           │          │           │          │  │\n",
       "│ │ <span style=\"color: #af87ff; text-decoration-color: #af87ff\">Club    </span> │ <span style=\"color: #008080; text-decoration-color: #008080\">  0</span> │ <span style=\"color: #008080; text-decoration-color: #008080\">        0</span> │ <span style=\"color: #af87ff; text-decoration-color: #af87ff\">https://</span> │ <span style=\"color: #af87ff; text-decoration-color: #af87ff\">https://c</span> │ <span style=\"color: #af87ff; text-decoration-color: #af87ff\">https://</span> │ <span style=\"color: #af87ff; text-decoration-color: #af87ff\">https://c</span> │ <span style=\"color: #008080; text-decoration-color: #008080\">    40.4</span> │ <span style=\"color: #008080; text-decoration-color: #008080\">        1</span> │ <span style=\"color: #008080; text-decoration-color: #008080\">   17660</span> │  │\n",
       "│ │ <span style=\"color: #af87ff; text-decoration-color: #af87ff\">Logo    </span> │     │           │ <span style=\"color: #af87ff; text-decoration-color: #af87ff\">cdn.sofi</span> │ <span style=\"color: #af87ff; text-decoration-color: #af87ff\">dn.sofifa</span> │ <span style=\"color: #af87ff; text-decoration-color: #af87ff\">cdn.sofi</span> │ <span style=\"color: #af87ff; text-decoration-color: #af87ff\">dn.sofifa</span> │          │           │          │  │\n",
       "│ │          │     │           │ <span style=\"color: #af87ff; text-decoration-color: #af87ff\">fa.net/f</span> │ <span style=\"color: #af87ff; text-decoration-color: #af87ff\">.net/team</span> │ <span style=\"color: #af87ff; text-decoration-color: #af87ff\">fa.net/f</span> │ <span style=\"color: #af87ff; text-decoration-color: #af87ff\">.net/team</span> │          │           │          │  │\n",
       "│ │          │     │           │ <span style=\"color: #af87ff; text-decoration-color: #af87ff\">lags/es.</span> │ <span style=\"color: #af87ff; text-decoration-color: #af87ff\">s/112387/</span> │ <span style=\"color: #af87ff; text-decoration-color: #af87ff\">lags/ae.</span> │ <span style=\"color: #af87ff; text-decoration-color: #af87ff\">s/983/30.</span> │          │           │          │  │\n",
       "│ │          │     │           │ <span style=\"color: #af87ff; text-decoration-color: #af87ff\">png     </span> │ <span style=\"color: #af87ff; text-decoration-color: #af87ff\">30.png   </span> │ <span style=\"color: #af87ff; text-decoration-color: #af87ff\">png     </span> │ <span style=\"color: #af87ff; text-decoration-color: #af87ff\">png      </span> │          │           │          │  │\n",
       "│ │ <span style=\"color: #af87ff; text-decoration-color: #af87ff\">Value   </span> │ <span style=\"color: #008080; text-decoration-color: #008080\">  0</span> │ <span style=\"color: #008080; text-decoration-color: #008080\">        0</span> │ <span style=\"color: #af87ff; text-decoration-color: #af87ff\">€0      </span> │ <span style=\"color: #af87ff; text-decoration-color: #af87ff\">€107.5M  </span> │ <span style=\"color: #af87ff; text-decoration-color: #af87ff\">€0      </span> │ <span style=\"color: #af87ff; text-decoration-color: #af87ff\">€9M      </span> │ <span style=\"color: #008080; text-decoration-color: #008080\">    4.82</span> │ <span style=\"color: #008080; text-decoration-color: #008080\">        1</span> │ <span style=\"color: #008080; text-decoration-color: #008080\">   17660</span> │  │\n",
       "│ │ <span style=\"color: #af87ff; text-decoration-color: #af87ff\">Wage    </span> │ <span style=\"color: #008080; text-decoration-color: #008080\">  0</span> │ <span style=\"color: #008080; text-decoration-color: #008080\">        0</span> │ <span style=\"color: #af87ff; text-decoration-color: #af87ff\">€0      </span> │ <span style=\"color: #af87ff; text-decoration-color: #af87ff\">€115K    </span> │ <span style=\"color: #af87ff; text-decoration-color: #af87ff\">€0      </span> │ <span style=\"color: #af87ff; text-decoration-color: #af87ff\">€9K      </span> │ <span style=\"color: #008080; text-decoration-color: #008080\">    3.53</span> │ <span style=\"color: #008080; text-decoration-color: #008080\">        1</span> │ <span style=\"color: #008080; text-decoration-color: #008080\">   17660</span> │  │\n",
       "│ │ <span style=\"color: #af87ff; text-decoration-color: #af87ff\">Preferre</span> │ <span style=\"color: #008080; text-decoration-color: #008080\">  0</span> │ <span style=\"color: #008080; text-decoration-color: #008080\">        0</span> │ <span style=\"color: #af87ff; text-decoration-color: #af87ff\">Left    </span> │ <span style=\"color: #af87ff; text-decoration-color: #af87ff\">Right    </span> │ <span style=\"color: #af87ff; text-decoration-color: #af87ff\">Left    </span> │ <span style=\"color: #af87ff; text-decoration-color: #af87ff\">Right    </span> │ <span style=\"color: #008080; text-decoration-color: #008080\">    4.77</span> │ <span style=\"color: #008080; text-decoration-color: #008080\">        1</span> │ <span style=\"color: #008080; text-decoration-color: #008080\">   17660</span> │  │\n",
       "│ │ <span style=\"color: #af87ff; text-decoration-color: #af87ff\">d Foot  </span> │     │           │          │           │          │           │          │           │          │  │\n",
       "│ │ <span style=\"color: #af87ff; text-decoration-color: #af87ff\">Work    </span> │ <span style=\"color: #008080; text-decoration-color: #008080\">  0</span> │ <span style=\"color: #008080; text-decoration-color: #008080\">        0</span> │ <span style=\"color: #af87ff; text-decoration-color: #af87ff\">Low/ Low</span> │ <span style=\"color: #af87ff; text-decoration-color: #af87ff\">Medium/  </span> │ <span style=\"color: #af87ff; text-decoration-color: #af87ff\">High/   </span> │ <span style=\"color: #af87ff; text-decoration-color: #af87ff\">N/A/ N/A </span> │ <span style=\"color: #008080; text-decoration-color: #008080\">    12.8</span> │ <span style=\"color: #008080; text-decoration-color: #008080\">        2</span> │ <span style=\"color: #008080; text-decoration-color: #008080\">   35320</span> │  │\n",
       "│ │ <span style=\"color: #af87ff; text-decoration-color: #af87ff\">Rate    </span> │     │           │          │ <span style=\"color: #af87ff; text-decoration-color: #af87ff\">Medium   </span> │ <span style=\"color: #af87ff; text-decoration-color: #af87ff\">High    </span> │           │          │           │          │  │\n",
       "│ │ <span style=\"color: #af87ff; text-decoration-color: #af87ff\">Body    </span> │ <span style=\"color: #008080; text-decoration-color: #008080\">  0</span> │ <span style=\"color: #008080; text-decoration-color: #008080\">        0</span> │ <span style=\"color: #af87ff; text-decoration-color: #af87ff\">nan     </span> │ <span style=\"color: #af87ff; text-decoration-color: #af87ff\">Stocky   </span> │ <span style=\"color: #af87ff; text-decoration-color: #af87ff\">Lean    </span> │ <span style=\"color: #af87ff; text-decoration-color: #af87ff\">nan      </span> │ <span style=\"color: #008080; text-decoration-color: #008080\">      14</span> │ <span style=\"color: #008080; text-decoration-color: #008080\">        2</span> │ <span style=\"color: #008080; text-decoration-color: #008080\">   35149</span> │  │\n",
       "│ │ <span style=\"color: #af87ff; text-decoration-color: #af87ff\">Type    </span> │     │           │          │ <span style=\"color: #af87ff; text-decoration-color: #af87ff\">(170-185)</span> │ <span style=\"color: #af87ff; text-decoration-color: #af87ff\">(170-)  </span> │           │          │           │          │  │\n",
       "│ │ <span style=\"color: #af87ff; text-decoration-color: #af87ff\">Real    </span> │ <span style=\"color: #008080; text-decoration-color: #008080\">  0</span> │ <span style=\"color: #008080; text-decoration-color: #008080\">        0</span> │ <span style=\"color: #af87ff; text-decoration-color: #af87ff\">No      </span> │ <span style=\"color: #af87ff; text-decoration-color: #af87ff\">Yes      </span> │ <span style=\"color: #af87ff; text-decoration-color: #af87ff\">No      </span> │ <span style=\"color: #af87ff; text-decoration-color: #af87ff\">nan      </span> │ <span style=\"color: #008080; text-decoration-color: #008080\">    2.12</span> │ <span style=\"color: #008080; text-decoration-color: #008080\">        1</span> │ <span style=\"color: #008080; text-decoration-color: #008080\">   17660</span> │  │\n",
       "│ │ <span style=\"color: #af87ff; text-decoration-color: #af87ff\">Face    </span> │     │           │          │           │          │           │          │           │          │  │\n",
       "│ │ <span style=\"color: #af87ff; text-decoration-color: #af87ff\">Position</span> │ <span style=\"color: #008080; text-decoration-color: #008080\">  0</span> │ <span style=\"color: #008080; text-decoration-color: #008080\">        0</span> │ <span style=\"color: #af87ff; text-decoration-color: #af87ff\">nan     </span> │ <span style=\"color: #af87ff; text-decoration-color: #af87ff\">&lt;span    </span> │ <span style=\"color: #af87ff; text-decoration-color: #af87ff\">&lt;span   </span> │ <span style=\"color: #af87ff; text-decoration-color: #af87ff\">nan      </span> │ <span style=\"color: #008080; text-decoration-color: #008080\">    26.7</span> │ <span style=\"color: #008080; text-decoration-color: #008080\">        3</span> │ <span style=\"color: #008080; text-decoration-color: #008080\">   52910</span> │  │\n",
       "│ │          │     │           │          │ <span style=\"color: #af87ff; text-decoration-color: #af87ff\">class=\"po</span> │ <span style=\"color: #af87ff; text-decoration-color: #af87ff\">class=\"p</span> │           │          │           │          │  │\n",
       "│ │          │     │           │          │ <span style=\"color: #af87ff; text-decoration-color: #af87ff\">s        </span> │ <span style=\"color: #af87ff; text-decoration-color: #af87ff\">os      </span> │           │          │           │          │  │\n",
       "│ │          │     │           │          │ <span style=\"color: #af87ff; text-decoration-color: #af87ff\">pos28\"&gt;SU</span> │ <span style=\"color: #af87ff; text-decoration-color: #af87ff\">pos0\"&gt;GK</span> │           │          │           │          │  │\n",
       "│ │          │     │           │          │ <span style=\"color: #af87ff; text-decoration-color: #af87ff\">B        </span> │          │           │          │           │          │  │\n",
       "│ │ <span style=\"color: #af87ff; text-decoration-color: #af87ff\">Joined  </span> │ <span style=\"color: #008080; text-decoration-color: #008080\">  0</span> │ <span style=\"color: #008080; text-decoration-color: #008080\">        0</span> │ <span style=\"color: #af87ff; text-decoration-color: #af87ff\">nan     </span> │ <span style=\"color: #af87ff; text-decoration-color: #af87ff\">Jan 30,  </span> │ <span style=\"color: #af87ff; text-decoration-color: #af87ff\">Apr 1,  </span> │ <span style=\"color: #af87ff; text-decoration-color: #af87ff\">nan      </span> │ <span style=\"color: #008080; text-decoration-color: #008080\">    10.9</span> │ <span style=\"color: #008080; text-decoration-color: #008080\">      2.9</span> │ <span style=\"color: #008080; text-decoration-color: #008080\">   50784</span> │  │\n",
       "│ │          │     │           │          │ <span style=\"color: #af87ff; text-decoration-color: #af87ff\">2020     </span> │ <span style=\"color: #af87ff; text-decoration-color: #af87ff\">2009    </span> │           │          │           │          │  │\n",
       "│ │ <span style=\"color: #af87ff; text-decoration-color: #af87ff\">Loaned  </span> │ <span style=\"color: #008080; text-decoration-color: #008080\">  0</span> │ <span style=\"color: #008080; text-decoration-color: #008080\">        0</span> │ <span style=\"color: #af87ff; text-decoration-color: #af87ff\">nan     </span> │ <span style=\"color: #af87ff; text-decoration-color: #af87ff\">&lt;a       </span> │ <span style=\"color: #af87ff; text-decoration-color: #af87ff\">&lt;a      </span> │ <span style=\"color: #af87ff; text-decoration-color: #af87ff\">nan      </span> │ <span style=\"color: #008080; text-decoration-color: #008080\">    4.95</span> │ <span style=\"color: #008080; text-decoration-color: #008080\">      1.1</span> │ <span style=\"color: #008080; text-decoration-color: #008080\">   19104</span> │  │\n",
       "│ │ <span style=\"color: #af87ff; text-decoration-color: #af87ff\">From    </span> │     │           │          │ <span style=\"color: #af87ff; text-decoration-color: #af87ff\">href=\"/te</span> │ <span style=\"color: #af87ff; text-decoration-color: #af87ff\">href=\"/t</span> │           │          │           │          │  │\n",
       "│ │          │     │           │          │ <span style=\"color: #af87ff; text-decoration-color: #af87ff\">am/110093</span> │ <span style=\"color: #af87ff; text-decoration-color: #af87ff\">eam/1/ar</span> │           │          │           │          │  │\n",
       "│ │          │     │           │          │ <span style=\"color: #af87ff; text-decoration-color: #af87ff\">/club-atl</span> │ <span style=\"color: #af87ff; text-decoration-color: #af87ff\">senal/\"&gt;</span> │           │          │           │          │  │\n",
       "│ │          │     │           │          │ <span style=\"color: #af87ff; text-decoration-color: #af87ff\">etico-ind</span> │ <span style=\"color: #af87ff; text-decoration-color: #af87ff\">Arsenal&lt;</span> │           │          │           │          │  │\n",
       "│ │          │     │           │          │ <span style=\"color: #af87ff; text-decoration-color: #af87ff\">ependient</span> │ <span style=\"color: #af87ff; text-decoration-color: #af87ff\">/a&gt;     </span> │           │          │           │          │  │\n",
       "│ │          │     │           │          │ <span style=\"color: #af87ff; text-decoration-color: #af87ff\">e/\"&gt;Club </span> │          │           │          │           │          │  │\n",
       "│ │          │     │           │          │ <span style=\"color: #af87ff; text-decoration-color: #af87ff\">Atlético </span> │          │           │          │           │          │  │\n",
       "│ │          │     │           │          │ <span style=\"color: #af87ff; text-decoration-color: #af87ff\">Independi</span> │          │           │          │           │          │  │\n",
       "│ │          │     │           │          │ <span style=\"color: #af87ff; text-decoration-color: #af87ff\">ente&lt;/a&gt; </span> │          │           │          │           │          │  │\n",
       "│ │ <span style=\"color: #af87ff; text-decoration-color: #af87ff\">Contract</span> │ <span style=\"color: #008080; text-decoration-color: #008080\">  0</span> │ <span style=\"color: #008080; text-decoration-color: #008080\">        0</span> │ <span style=\"color: #af87ff; text-decoration-color: #af87ff\">nan     </span> │ <span style=\"color: #af87ff; text-decoration-color: #af87ff\">Jun 30,  </span> │ <span style=\"color: #af87ff; text-decoration-color: #af87ff\">2007    </span> │ <span style=\"color: #af87ff; text-decoration-color: #af87ff\">nan      </span> │ <span style=\"color: #008080; text-decoration-color: #008080\">    4.29</span> │ <span style=\"color: #008080; text-decoration-color: #008080\">      1.1</span> │ <span style=\"color: #008080; text-decoration-color: #008080\">   19048</span> │  │\n",
       "│ │ <span style=\"color: #af87ff; text-decoration-color: #af87ff\">Valid   </span> │     │           │          │ <span style=\"color: #af87ff; text-decoration-color: #af87ff\">2023     </span> │          │           │          │           │          │  │\n",
       "│ │ <span style=\"color: #af87ff; text-decoration-color: #af87ff\">Until   </span> │     │           │          │           │          │           │          │           │          │  │\n",
       "│ │ <span style=\"color: #af87ff; text-decoration-color: #af87ff\">Height  </span> │ <span style=\"color: #008080; text-decoration-color: #008080\">  0</span> │ <span style=\"color: #008080; text-decoration-color: #008080\">        0</span> │ <span style=\"color: #af87ff; text-decoration-color: #af87ff\">189cm   </span> │ <span style=\"color: #af87ff; text-decoration-color: #af87ff\">189cm    </span> │ <span style=\"color: #af87ff; text-decoration-color: #af87ff\">149cm   </span> │ <span style=\"color: #af87ff; text-decoration-color: #af87ff\">206cm    </span> │ <span style=\"color: #008080; text-decoration-color: #008080\">       5</span> │ <span style=\"color: #008080; text-decoration-color: #008080\">        1</span> │ <span style=\"color: #008080; text-decoration-color: #008080\">   17660</span> │  │\n",
       "│ │ <span style=\"color: #af87ff; text-decoration-color: #af87ff\">Weight  </span> │ <span style=\"color: #008080; text-decoration-color: #008080\">  0</span> │ <span style=\"color: #008080; text-decoration-color: #008080\">        0</span> │ <span style=\"color: #af87ff; text-decoration-color: #af87ff\">82kg    </span> │ <span style=\"color: #af87ff; text-decoration-color: #af87ff\">102kg    </span> │ <span style=\"color: #af87ff; text-decoration-color: #af87ff\">100kg   </span> │ <span style=\"color: #af87ff; text-decoration-color: #af87ff\">99kg     </span> │ <span style=\"color: #008080; text-decoration-color: #008080\">       4</span> │ <span style=\"color: #008080; text-decoration-color: #008080\">        1</span> │ <span style=\"color: #008080; text-decoration-color: #008080\">   17660</span> │  │\n",
       "│ │ <span style=\"color: #af87ff; text-decoration-color: #af87ff\">Release </span> │ <span style=\"color: #008080; text-decoration-color: #008080\">  0</span> │ <span style=\"color: #008080; text-decoration-color: #008080\">        0</span> │ <span style=\"color: #af87ff; text-decoration-color: #af87ff\">nan     </span> │ <span style=\"color: #af87ff; text-decoration-color: #af87ff\">€198.9M  </span> │ <span style=\"color: #af87ff; text-decoration-color: #af87ff\">nan     </span> │ <span style=\"color: #af87ff; text-decoration-color: #af87ff\">€9M      </span> │ <span style=\"color: #008080; text-decoration-color: #008080\">    4.84</span> │ <span style=\"color: #008080; text-decoration-color: #008080\">        1</span> │ <span style=\"color: #008080; text-decoration-color: #008080\">   17660</span> │  │\n",
       "│ │ <span style=\"color: #af87ff; text-decoration-color: #af87ff\">Clause  </span> │     │           │          │           │          │           │          │           │          │  │\n",
       "│ │ <span style=\"color: #af87ff; text-decoration-color: #af87ff\">Best    </span> │ <span style=\"color: #008080; text-decoration-color: #008080\">  0</span> │ <span style=\"color: #008080; text-decoration-color: #008080\">        0</span> │ <span style=\"color: #af87ff; text-decoration-color: #af87ff\">nan     </span> │ <span style=\"color: #af87ff; text-decoration-color: #af87ff\">&lt;span    </span> │ <span style=\"color: #af87ff; text-decoration-color: #af87ff\">&lt;span   </span> │ <span style=\"color: #af87ff; text-decoration-color: #af87ff\">nan      </span> │ <span style=\"color: #008080; text-decoration-color: #008080\">    3.04</span> │ <span style=\"color: #008080; text-decoration-color: #008080\">        1</span> │ <span style=\"color: #008080; text-decoration-color: #008080\">   17723</span> │  │\n",
       "│ │ <span style=\"color: #af87ff; text-decoration-color: #af87ff\">Overall </span> │     │           │          │ <span style=\"color: #af87ff; text-decoration-color: #af87ff\">class=\"bp</span> │ <span style=\"color: #af87ff; text-decoration-color: #af87ff\">class=\"b</span> │           │          │           │          │  │\n",
       "│ │ <span style=\"color: #af87ff; text-decoration-color: #af87ff\">Rating  </span> │     │           │          │ <span style=\"color: #af87ff; text-decoration-color: #af87ff\">3-tag p  </span> │ <span style=\"color: #af87ff; text-decoration-color: #af87ff\">p3-tag p</span> │           │          │           │          │  │\n",
       "│ │          │     │           │          │ <span style=\"color: #af87ff; text-decoration-color: #af87ff\">p-64\"&gt;64&lt;</span> │ <span style=\"color: #af87ff; text-decoration-color: #af87ff\">p-54\"&gt;54</span> │           │          │           │          │  │\n",
       "│ │          │     │           │          │ <span style=\"color: #af87ff; text-decoration-color: #af87ff\">/span&gt;   </span> │ <span style=\"color: #af87ff; text-decoration-color: #af87ff\">&lt;/span&gt; </span> │           │          │           │          │  │\n",
       "│ └──────────┴─────┴───────────┴──────────┴───────────┴──────────┴───────────┴──────────┴───────────┴──────────┘  │\n",
       "╰────────────────────────────────────────────────────── End ──────────────────────────────────────────────────────╯\n",
       "</pre>\n"
      ],
      "text/plain": [
       "╭──────────────────────────────────────────────── skimpy summary ─────────────────────────────────────────────────╮\n",
       "│ \u001b[3m         Data Summary         \u001b[0m \u001b[3m      Data Types       \u001b[0m                                                          │\n",
       "│ ┏━━━━━━━━━━━━━━━━━━━┳━━━━━━━━┓ ┏━━━━━━━━━━━━━┳━━━━━━━┓                                                          │\n",
       "│ ┃\u001b[1;36m \u001b[0m\u001b[1;36mDataframe        \u001b[0m\u001b[1;36m \u001b[0m┃\u001b[1;36m \u001b[0m\u001b[1;36mValues\u001b[0m\u001b[1;36m \u001b[0m┃ ┃\u001b[1;36m \u001b[0m\u001b[1;36mColumn Type\u001b[0m\u001b[1;36m \u001b[0m┃\u001b[1;36m \u001b[0m\u001b[1;36mCount\u001b[0m\u001b[1;36m \u001b[0m┃                                                          │\n",
       "│ ┡━━━━━━━━━━━━━━━━━━━╇━━━━━━━━┩ ┡━━━━━━━━━━━━━╇━━━━━━━┩                                                          │\n",
       "│ │ Number of rows    │ 17660  │ │ string      │ 20    │                                                          │\n",
       "│ │ Number of columns │ 29     │ │ int64       │ 5     │                                                          │\n",
       "│ └───────────────────┴────────┘ │ float64     │ 4     │                                                          │\n",
       "│                                └─────────────┴───────┘                                                          │\n",
       "│ \u001b[3m                                                    number                                                    \u001b[0m  │\n",
       "│ ┏━━━━━━━━━━━━━━━━━┳━━━━┳━━━━━━━━━━━━━━━━┳━━━━━━━━┳━━━━━━━━┳━━━━━┳━━━━━━━━┳━━━━━━━━┳━━━━━━━━┳━━━━━━━━┳━━━━━━━━┓  │\n",
       "│ ┃\u001b[1m \u001b[0m\u001b[1mcolumn         \u001b[0m\u001b[1m \u001b[0m┃\u001b[1m \u001b[0m\u001b[1mNA\u001b[0m\u001b[1m \u001b[0m┃\u001b[1m \u001b[0m\u001b[1mNA %          \u001b[0m\u001b[1m \u001b[0m┃\u001b[1m \u001b[0m\u001b[1mmean  \u001b[0m\u001b[1m \u001b[0m┃\u001b[1m \u001b[0m\u001b[1msd    \u001b[0m\u001b[1m \u001b[0m┃\u001b[1m \u001b[0m\u001b[1mp0 \u001b[0m\u001b[1m \u001b[0m┃\u001b[1m \u001b[0m\u001b[1mp25   \u001b[0m\u001b[1m \u001b[0m┃\u001b[1m \u001b[0m\u001b[1mp50   \u001b[0m\u001b[1m \u001b[0m┃\u001b[1m \u001b[0m\u001b[1mp75   \u001b[0m\u001b[1m \u001b[0m┃\u001b[1m \u001b[0m\u001b[1mp100  \u001b[0m\u001b[1m \u001b[0m┃\u001b[1m \u001b[0m\u001b[1mhist  \u001b[0m\u001b[1m \u001b[0m┃  │\n",
       "│ ┡━━━━━━━━━━━━━━━━━╇━━━━╇━━━━━━━━━━━━━━━━╇━━━━━━━━╇━━━━━━━━╇━━━━━╇━━━━━━━━╇━━━━━━━━╇━━━━━━━━╇━━━━━━━━╇━━━━━━━━┩  │\n",
       "│ │ \u001b[38;5;141mID             \u001b[0m │ \u001b[36m 0\u001b[0m │ \u001b[36m             0\u001b[0m │ \u001b[36m246300\u001b[0m │ \u001b[36m 31490\u001b[0m │ \u001b[36m 16\u001b[0m │ \u001b[36m240700\u001b[0m │ \u001b[36m257000\u001b[0m │ \u001b[36m263000\u001b[0m │ \u001b[36m271300\u001b[0m │ \u001b[32m    ▁▇\u001b[0m │  │\n",
       "│ │ \u001b[38;5;141mAge            \u001b[0m │ \u001b[36m 0\u001b[0m │ \u001b[36m             0\u001b[0m │ \u001b[36m 23.13\u001b[0m │ \u001b[36m  4.64\u001b[0m │ \u001b[36m 15\u001b[0m │ \u001b[36m    20\u001b[0m │ \u001b[36m    22\u001b[0m │ \u001b[36m    26\u001b[0m │ \u001b[36m    54\u001b[0m │ \u001b[32m ▇▆▃  \u001b[0m │  │\n",
       "│ │ \u001b[38;5;141mOverall        \u001b[0m │ \u001b[36m 0\u001b[0m │ \u001b[36m             0\u001b[0m │ \u001b[36m 63.37\u001b[0m │ \u001b[36m 8.036\u001b[0m │ \u001b[36m 43\u001b[0m │ \u001b[36m    58\u001b[0m │ \u001b[36m    63\u001b[0m │ \u001b[36m    69\u001b[0m │ \u001b[36m    91\u001b[0m │ \u001b[32m▁▅▇▅▂ \u001b[0m │  │\n",
       "│ │ \u001b[38;5;141mPotential      \u001b[0m │ \u001b[36m 0\u001b[0m │ \u001b[36m             0\u001b[0m │ \u001b[36m 70.98\u001b[0m │ \u001b[36m  6.53\u001b[0m │ \u001b[36m 42\u001b[0m │ \u001b[36m    67\u001b[0m │ \u001b[36m    71\u001b[0m │ \u001b[36m    75\u001b[0m │ \u001b[36m    95\u001b[0m │ \u001b[32m ▁▅▇▃ \u001b[0m │  │\n",
       "│ │ \u001b[38;5;141mSpecial        \u001b[0m │ \u001b[36m 0\u001b[0m │ \u001b[36m             0\u001b[0m │ \u001b[36m  1538\u001b[0m │ \u001b[36m 285.9\u001b[0m │ \u001b[36m749\u001b[0m │ \u001b[36m  1387\u001b[0m │ \u001b[36m  1548\u001b[0m │ \u001b[36m  1727\u001b[0m │ \u001b[36m  2312\u001b[0m │ \u001b[32m▂▂▇▇▃▁\u001b[0m │  │\n",
       "│ │ \u001b[38;5;141mInternational  \u001b[0m │ \u001b[36m 0\u001b[0m │ \u001b[36m             0\u001b[0m │ \u001b[36m 1.106\u001b[0m │ \u001b[36m 0.407\u001b[0m │ \u001b[36m  1\u001b[0m │ \u001b[36m     1\u001b[0m │ \u001b[36m     1\u001b[0m │ \u001b[36m     1\u001b[0m │ \u001b[36m     5\u001b[0m │ \u001b[32m  ▇   \u001b[0m │  │\n",
       "│ │ \u001b[38;5;141mReputation     \u001b[0m │    │                │        │        │     │        │        │        │        │        │  │\n",
       "│ │ \u001b[38;5;141mWeak Foot      \u001b[0m │ \u001b[36m 0\u001b[0m │ \u001b[36m             0\u001b[0m │ \u001b[36m   2.9\u001b[0m │ \u001b[36m0.6635\u001b[0m │ \u001b[36m  1\u001b[0m │ \u001b[36m     3\u001b[0m │ \u001b[36m     3\u001b[0m │ \u001b[36m     3\u001b[0m │ \u001b[36m     5\u001b[0m │ \u001b[32m ▃ ▇▂ \u001b[0m │  │\n",
       "│ │ \u001b[38;5;141mSkill Moves    \u001b[0m │ \u001b[36m 0\u001b[0m │ \u001b[36m             0\u001b[0m │ \u001b[36m 2.297\u001b[0m │ \u001b[36m0.7543\u001b[0m │ \u001b[36m  1\u001b[0m │ \u001b[36m     2\u001b[0m │ \u001b[36m     2\u001b[0m │ \u001b[36m     3\u001b[0m │ \u001b[36m     5\u001b[0m │ \u001b[32m▂▇ ▅▁ \u001b[0m │  │\n",
       "│ │ \u001b[38;5;141mKit Number     \u001b[0m │ \u001b[36m35\u001b[0m │ \u001b[36m0.198187995469\u001b[0m │ \u001b[36m 25.04\u001b[0m │ \u001b[36m 19.15\u001b[0m │ \u001b[36m  1\u001b[0m │ \u001b[36m    11\u001b[0m │ \u001b[36m    22\u001b[0m │ \u001b[36m    32\u001b[0m │ \u001b[36m    99\u001b[0m │ \u001b[32m▇▇▃▁ ▁\u001b[0m │  │\n",
       "│ │                 │    │ \u001b[36m         98866\u001b[0m │        │        │     │        │        │        │        │        │  │\n",
       "│ └─────────────────┴────┴────────────────┴────────┴────────┴─────┴────────┴────────┴────────┴────────┴────────┘  │\n",
       "│ \u001b[3m                                                    string                                                    \u001b[0m  │\n",
       "│ ┏━━━━━━━━━━┳━━━━━┳━━━━━━━━━━━┳━━━━━━━━━━┳━━━━━━━━━━━┳━━━━━━━━━━┳━━━━━━━━━━━┳━━━━━━━━━━┳━━━━━━━━━━━┳━━━━━━━━━━┓  │\n",
       "│ ┃\u001b[1m          \u001b[0m┃\u001b[1m     \u001b[0m┃\u001b[1m           \u001b[0m┃\u001b[1m          \u001b[0m┃\u001b[1m           \u001b[0m┃\u001b[1m          \u001b[0m┃\u001b[1m           \u001b[0m┃\u001b[1m \u001b[0m\u001b[1mchars   \u001b[0m\u001b[1m \u001b[0m┃\u001b[1m \u001b[0m\u001b[1mwords per\u001b[0m\u001b[1m \u001b[0m┃\u001b[1m \u001b[0m\u001b[1mtotal   \u001b[0m\u001b[1m \u001b[0m┃  │\n",
       "│ ┃\u001b[1m \u001b[0m\u001b[1mcolumn  \u001b[0m\u001b[1m \u001b[0m┃\u001b[1m \u001b[0m\u001b[1mNA \u001b[0m\u001b[1m \u001b[0m┃\u001b[1m \u001b[0m\u001b[1mNA %     \u001b[0m\u001b[1m \u001b[0m┃\u001b[1m \u001b[0m\u001b[1mshortest\u001b[0m\u001b[1m \u001b[0m┃\u001b[1m \u001b[0m\u001b[1mlongest  \u001b[0m\u001b[1m \u001b[0m┃\u001b[1m \u001b[0m\u001b[1mmin     \u001b[0m\u001b[1m \u001b[0m┃\u001b[1m \u001b[0m\u001b[1mmax      \u001b[0m\u001b[1m \u001b[0m┃\u001b[1m \u001b[0m\u001b[1mper row \u001b[0m\u001b[1m \u001b[0m┃\u001b[1m \u001b[0m\u001b[1mrow      \u001b[0m\u001b[1m \u001b[0m┃\u001b[1m \u001b[0m\u001b[1mwords   \u001b[0m\u001b[1m \u001b[0m┃  │\n",
       "│ ┡━━━━━━━━━━╇━━━━━╇━━━━━━━━━━━╇━━━━━━━━━━╇━━━━━━━━━━━╇━━━━━━━━━━╇━━━━━━━━━━━╇━━━━━━━━━━╇━━━━━━━━━━━╇━━━━━━━━━━┩  │\n",
       "│ │ \u001b[38;5;141mName    \u001b[0m │ \u001b[36m  0\u001b[0m │ \u001b[36m        0\u001b[0m │ \u001b[38;5;141mIsi     \u001b[0m │ \u001b[38;5;141m22 L.    \u001b[0m │ \u001b[38;5;141m07 C.   \u001b[0m │ \u001b[38;5;141mȘ.       \u001b[0m │ \u001b[36m    11.2\u001b[0m │ \u001b[36m        2\u001b[0m │ \u001b[36m   35532\u001b[0m │  │\n",
       "│ │          │     │           │          │ \u001b[38;5;141mUrbano   \u001b[0m │ \u001b[38;5;141mMengi   \u001b[0m │ \u001b[38;5;141mTomache  \u001b[0m │          │           │          │  │\n",
       "│ │          │     │           │          │ \u001b[38;5;141mDias de  \u001b[0m │          │           │          │           │          │  │\n",
       "│ │          │     │           │          │ \u001b[38;5;141mLima     \u001b[0m │          │           │          │           │          │  │\n",
       "│ │ \u001b[38;5;141mPhoto   \u001b[0m │ \u001b[36m  0\u001b[0m │ \u001b[36m        0\u001b[0m │ \u001b[38;5;141mhttps://\u001b[0m │ \u001b[38;5;141mhttps://c\u001b[0m │ \u001b[38;5;141mhttps://\u001b[0m │ \u001b[38;5;141mhttps://c\u001b[0m │ \u001b[36m      48\u001b[0m │ \u001b[36m        1\u001b[0m │ \u001b[36m   17660\u001b[0m │  │\n",
       "│ │          │     │           │ \u001b[38;5;141mcdn.sofi\u001b[0m │ \u001b[38;5;141mdn.sofifa\u001b[0m │ \u001b[38;5;141mcdn.sofi\u001b[0m │ \u001b[38;5;141mdn.sofifa\u001b[0m │          │           │          │  │\n",
       "│ │          │     │           │ \u001b[38;5;141mfa.net/p\u001b[0m │ \u001b[38;5;141m.net/play\u001b[0m │ \u001b[38;5;141mfa.net/p\u001b[0m │ \u001b[38;5;141m.net/play\u001b[0m │          │           │          │  │\n",
       "│ │          │     │           │ \u001b[38;5;141mlayers/2\u001b[0m │ \u001b[38;5;141mers/209/6\u001b[0m │ \u001b[38;5;141mlayers/0\u001b[0m │ \u001b[38;5;141mers/271/3\u001b[0m │          │           │          │  │\n",
       "│ │          │     │           │ \u001b[38;5;141m09/658/2\u001b[0m │ \u001b[38;5;141m58/23_60.\u001b[0m │ \u001b[38;5;141m00/016/1\u001b[0m │ \u001b[38;5;141m40/23_60.\u001b[0m │          │           │          │  │\n",
       "│ │          │     │           │ \u001b[38;5;141m3_60.png\u001b[0m │ \u001b[38;5;141mpng      \u001b[0m │ \u001b[38;5;141m9_60.png\u001b[0m │ \u001b[38;5;141mpng      \u001b[0m │          │           │          │  │\n",
       "│ │ \u001b[38;5;141mNational\u001b[0m │ \u001b[36m  0\u001b[0m │ \u001b[36m        0\u001b[0m │ \u001b[38;5;141mMali    \u001b[0m │ \u001b[38;5;141mCentral  \u001b[0m │ \u001b[38;5;141mAfghanis\u001b[0m │ \u001b[38;5;141mZimbabwe \u001b[0m │ \u001b[36m    7.59\u001b[0m │ \u001b[36m      1.1\u001b[0m │ \u001b[36m   20135\u001b[0m │  │\n",
       "│ │ \u001b[38;5;141mity     \u001b[0m │     │           │          │ \u001b[38;5;141mAfrican  \u001b[0m │ \u001b[38;5;141mtan     \u001b[0m │           │          │           │          │  │\n",
       "│ │          │     │           │          │ \u001b[38;5;141mRepublic \u001b[0m │          │           │          │           │          │  │\n",
       "│ │ \u001b[38;5;141mFlag    \u001b[0m │ \u001b[36m  0\u001b[0m │ \u001b[36m        0\u001b[0m │ \u001b[38;5;141mhttps://\u001b[0m │ \u001b[38;5;141mhttps://c\u001b[0m │ \u001b[38;5;141mhttps://\u001b[0m │ \u001b[38;5;141mhttps://c\u001b[0m │ \u001b[36m    35.4\u001b[0m │ \u001b[36m        1\u001b[0m │ \u001b[36m   17660\u001b[0m │  │\n",
       "│ │          │     │           │ \u001b[38;5;141mcdn.sofi\u001b[0m │ \u001b[38;5;141mdn.sofifa\u001b[0m │ \u001b[38;5;141mcdn.sofi\u001b[0m │ \u001b[38;5;141mdn.sofifa\u001b[0m │          │           │          │  │\n",
       "│ │          │     │           │ \u001b[38;5;141mfa.net/f\u001b[0m │ \u001b[38;5;141m.net/flag\u001b[0m │ \u001b[38;5;141mfa.net/f\u001b[0m │ \u001b[38;5;141m.net/flag\u001b[0m │          │           │          │  │\n",
       "│ │          │     │           │ \u001b[38;5;141mlags/de.\u001b[0m │ \u001b[38;5;141ms/gb-eng.\u001b[0m │ \u001b[38;5;141mlags/ad.\u001b[0m │ \u001b[38;5;141ms/zw.png \u001b[0m │          │           │          │  │\n",
       "│ │          │     │           │ \u001b[38;5;141mpng     \u001b[0m │ \u001b[38;5;141mpng      \u001b[0m │ \u001b[38;5;141mpng     \u001b[0m │           │          │           │          │  │\n",
       "│ │ \u001b[38;5;141mClub    \u001b[0m │ \u001b[36m211\u001b[0m │ \u001b[36m1.1947904\u001b[0m │ \u001b[38;5;141mPSV     \u001b[0m │ \u001b[38;5;141mClub     \u001b[0m │ \u001b[38;5;141m1. FC   \u001b[0m │ \u001b[38;5;141mŚląsk    \u001b[0m │ \u001b[36m    14.6\u001b[0m │ \u001b[36m      2.3\u001b[0m │ \u001b[36m   40794\u001b[0m │  │\n",
       "│ │          │     │ \u001b[36m869762174\u001b[0m │          │ \u001b[38;5;141mSocial,  \u001b[0m │ \u001b[38;5;141mHeidenhe\u001b[0m │ \u001b[38;5;141mWrocław  \u001b[0m │          │           │          │  │\n",
       "│ │          │     │           │          │ \u001b[38;5;141mCultural \u001b[0m │ \u001b[38;5;141mim 1846 \u001b[0m │           │          │           │          │  │\n",
       "│ │          │     │           │          │ \u001b[38;5;141my        \u001b[0m │          │           │          │           │          │  │\n",
       "│ │          │     │           │          │ \u001b[38;5;141mDeportivo\u001b[0m │          │           │          │           │          │  │\n",
       "│ │          │     │           │          │ \u001b[38;5;141mde       \u001b[0m │          │           │          │           │          │  │\n",
       "│ │          │     │           │          │ \u001b[38;5;141mBlooming \u001b[0m │          │           │          │           │          │  │\n",
       "│ │ \u001b[38;5;141mClub    \u001b[0m │ \u001b[36m  0\u001b[0m │ \u001b[36m        0\u001b[0m │ \u001b[38;5;141mhttps://\u001b[0m │ \u001b[38;5;141mhttps://c\u001b[0m │ \u001b[38;5;141mhttps://\u001b[0m │ \u001b[38;5;141mhttps://c\u001b[0m │ \u001b[36m    40.4\u001b[0m │ \u001b[36m        1\u001b[0m │ \u001b[36m   17660\u001b[0m │  │\n",
       "│ │ \u001b[38;5;141mLogo    \u001b[0m │     │           │ \u001b[38;5;141mcdn.sofi\u001b[0m │ \u001b[38;5;141mdn.sofifa\u001b[0m │ \u001b[38;5;141mcdn.sofi\u001b[0m │ \u001b[38;5;141mdn.sofifa\u001b[0m │          │           │          │  │\n",
       "│ │          │     │           │ \u001b[38;5;141mfa.net/f\u001b[0m │ \u001b[38;5;141m.net/team\u001b[0m │ \u001b[38;5;141mfa.net/f\u001b[0m │ \u001b[38;5;141m.net/team\u001b[0m │          │           │          │  │\n",
       "│ │          │     │           │ \u001b[38;5;141mlags/es.\u001b[0m │ \u001b[38;5;141ms/112387/\u001b[0m │ \u001b[38;5;141mlags/ae.\u001b[0m │ \u001b[38;5;141ms/983/30.\u001b[0m │          │           │          │  │\n",
       "│ │          │     │           │ \u001b[38;5;141mpng     \u001b[0m │ \u001b[38;5;141m30.png   \u001b[0m │ \u001b[38;5;141mpng     \u001b[0m │ \u001b[38;5;141mpng      \u001b[0m │          │           │          │  │\n",
       "│ │ \u001b[38;5;141mValue   \u001b[0m │ \u001b[36m  0\u001b[0m │ \u001b[36m        0\u001b[0m │ \u001b[38;5;141m€0      \u001b[0m │ \u001b[38;5;141m€107.5M  \u001b[0m │ \u001b[38;5;141m€0      \u001b[0m │ \u001b[38;5;141m€9M      \u001b[0m │ \u001b[36m    4.82\u001b[0m │ \u001b[36m        1\u001b[0m │ \u001b[36m   17660\u001b[0m │  │\n",
       "│ │ \u001b[38;5;141mWage    \u001b[0m │ \u001b[36m  0\u001b[0m │ \u001b[36m        0\u001b[0m │ \u001b[38;5;141m€0      \u001b[0m │ \u001b[38;5;141m€115K    \u001b[0m │ \u001b[38;5;141m€0      \u001b[0m │ \u001b[38;5;141m€9K      \u001b[0m │ \u001b[36m    3.53\u001b[0m │ \u001b[36m        1\u001b[0m │ \u001b[36m   17660\u001b[0m │  │\n",
       "│ │ \u001b[38;5;141mPreferre\u001b[0m │ \u001b[36m  0\u001b[0m │ \u001b[36m        0\u001b[0m │ \u001b[38;5;141mLeft    \u001b[0m │ \u001b[38;5;141mRight    \u001b[0m │ \u001b[38;5;141mLeft    \u001b[0m │ \u001b[38;5;141mRight    \u001b[0m │ \u001b[36m    4.77\u001b[0m │ \u001b[36m        1\u001b[0m │ \u001b[36m   17660\u001b[0m │  │\n",
       "│ │ \u001b[38;5;141md Foot  \u001b[0m │     │           │          │           │          │           │          │           │          │  │\n",
       "│ │ \u001b[38;5;141mWork    \u001b[0m │ \u001b[36m  0\u001b[0m │ \u001b[36m        0\u001b[0m │ \u001b[38;5;141mLow/ Low\u001b[0m │ \u001b[38;5;141mMedium/  \u001b[0m │ \u001b[38;5;141mHigh/   \u001b[0m │ \u001b[38;5;141mN/A/ N/A \u001b[0m │ \u001b[36m    12.8\u001b[0m │ \u001b[36m        2\u001b[0m │ \u001b[36m   35320\u001b[0m │  │\n",
       "│ │ \u001b[38;5;141mRate    \u001b[0m │     │           │          │ \u001b[38;5;141mMedium   \u001b[0m │ \u001b[38;5;141mHigh    \u001b[0m │           │          │           │          │  │\n",
       "│ │ \u001b[38;5;141mBody    \u001b[0m │ \u001b[36m  0\u001b[0m │ \u001b[36m        0\u001b[0m │ \u001b[38;5;141mnan     \u001b[0m │ \u001b[38;5;141mStocky   \u001b[0m │ \u001b[38;5;141mLean    \u001b[0m │ \u001b[38;5;141mnan      \u001b[0m │ \u001b[36m      14\u001b[0m │ \u001b[36m        2\u001b[0m │ \u001b[36m   35149\u001b[0m │  │\n",
       "│ │ \u001b[38;5;141mType    \u001b[0m │     │           │          │ \u001b[38;5;141m(170-185)\u001b[0m │ \u001b[38;5;141m(170-)  \u001b[0m │           │          │           │          │  │\n",
       "│ │ \u001b[38;5;141mReal    \u001b[0m │ \u001b[36m  0\u001b[0m │ \u001b[36m        0\u001b[0m │ \u001b[38;5;141mNo      \u001b[0m │ \u001b[38;5;141mYes      \u001b[0m │ \u001b[38;5;141mNo      \u001b[0m │ \u001b[38;5;141mnan      \u001b[0m │ \u001b[36m    2.12\u001b[0m │ \u001b[36m        1\u001b[0m │ \u001b[36m   17660\u001b[0m │  │\n",
       "│ │ \u001b[38;5;141mFace    \u001b[0m │     │           │          │           │          │           │          │           │          │  │\n",
       "│ │ \u001b[38;5;141mPosition\u001b[0m │ \u001b[36m  0\u001b[0m │ \u001b[36m        0\u001b[0m │ \u001b[38;5;141mnan     \u001b[0m │ \u001b[38;5;141m<span    \u001b[0m │ \u001b[38;5;141m<span   \u001b[0m │ \u001b[38;5;141mnan      \u001b[0m │ \u001b[36m    26.7\u001b[0m │ \u001b[36m        3\u001b[0m │ \u001b[36m   52910\u001b[0m │  │\n",
       "│ │          │     │           │          │ \u001b[38;5;141mclass=\"po\u001b[0m │ \u001b[38;5;141mclass=\"p\u001b[0m │           │          │           │          │  │\n",
       "│ │          │     │           │          │ \u001b[38;5;141ms        \u001b[0m │ \u001b[38;5;141mos      \u001b[0m │           │          │           │          │  │\n",
       "│ │          │     │           │          │ \u001b[38;5;141mpos28\">SU\u001b[0m │ \u001b[38;5;141mpos0\">GK\u001b[0m │           │          │           │          │  │\n",
       "│ │          │     │           │          │ \u001b[38;5;141mB        \u001b[0m │          │           │          │           │          │  │\n",
       "│ │ \u001b[38;5;141mJoined  \u001b[0m │ \u001b[36m  0\u001b[0m │ \u001b[36m        0\u001b[0m │ \u001b[38;5;141mnan     \u001b[0m │ \u001b[38;5;141mJan 30,  \u001b[0m │ \u001b[38;5;141mApr 1,  \u001b[0m │ \u001b[38;5;141mnan      \u001b[0m │ \u001b[36m    10.9\u001b[0m │ \u001b[36m      2.9\u001b[0m │ \u001b[36m   50784\u001b[0m │  │\n",
       "│ │          │     │           │          │ \u001b[38;5;141m2020     \u001b[0m │ \u001b[38;5;141m2009    \u001b[0m │           │          │           │          │  │\n",
       "│ │ \u001b[38;5;141mLoaned  \u001b[0m │ \u001b[36m  0\u001b[0m │ \u001b[36m        0\u001b[0m │ \u001b[38;5;141mnan     \u001b[0m │ \u001b[38;5;141m<a       \u001b[0m │ \u001b[38;5;141m<a      \u001b[0m │ \u001b[38;5;141mnan      \u001b[0m │ \u001b[36m    4.95\u001b[0m │ \u001b[36m      1.1\u001b[0m │ \u001b[36m   19104\u001b[0m │  │\n",
       "│ │ \u001b[38;5;141mFrom    \u001b[0m │     │           │          │ \u001b[38;5;141mhref=\"/te\u001b[0m │ \u001b[38;5;141mhref=\"/t\u001b[0m │           │          │           │          │  │\n",
       "│ │          │     │           │          │ \u001b[38;5;141mam/110093\u001b[0m │ \u001b[38;5;141meam/1/ar\u001b[0m │           │          │           │          │  │\n",
       "│ │          │     │           │          │ \u001b[38;5;141m/club-atl\u001b[0m │ \u001b[38;5;141msenal/\">\u001b[0m │           │          │           │          │  │\n",
       "│ │          │     │           │          │ \u001b[38;5;141metico-ind\u001b[0m │ \u001b[38;5;141mArsenal<\u001b[0m │           │          │           │          │  │\n",
       "│ │          │     │           │          │ \u001b[38;5;141mependient\u001b[0m │ \u001b[38;5;141m/a>     \u001b[0m │           │          │           │          │  │\n",
       "│ │          │     │           │          │ \u001b[38;5;141me/\">Club \u001b[0m │          │           │          │           │          │  │\n",
       "│ │          │     │           │          │ \u001b[38;5;141mAtlético \u001b[0m │          │           │          │           │          │  │\n",
       "│ │          │     │           │          │ \u001b[38;5;141mIndependi\u001b[0m │          │           │          │           │          │  │\n",
       "│ │          │     │           │          │ \u001b[38;5;141mente</a> \u001b[0m │          │           │          │           │          │  │\n",
       "│ │ \u001b[38;5;141mContract\u001b[0m │ \u001b[36m  0\u001b[0m │ \u001b[36m        0\u001b[0m │ \u001b[38;5;141mnan     \u001b[0m │ \u001b[38;5;141mJun 30,  \u001b[0m │ \u001b[38;5;141m2007    \u001b[0m │ \u001b[38;5;141mnan      \u001b[0m │ \u001b[36m    4.29\u001b[0m │ \u001b[36m      1.1\u001b[0m │ \u001b[36m   19048\u001b[0m │  │\n",
       "│ │ \u001b[38;5;141mValid   \u001b[0m │     │           │          │ \u001b[38;5;141m2023     \u001b[0m │          │           │          │           │          │  │\n",
       "│ │ \u001b[38;5;141mUntil   \u001b[0m │     │           │          │           │          │           │          │           │          │  │\n",
       "│ │ \u001b[38;5;141mHeight  \u001b[0m │ \u001b[36m  0\u001b[0m │ \u001b[36m        0\u001b[0m │ \u001b[38;5;141m189cm   \u001b[0m │ \u001b[38;5;141m189cm    \u001b[0m │ \u001b[38;5;141m149cm   \u001b[0m │ \u001b[38;5;141m206cm    \u001b[0m │ \u001b[36m       5\u001b[0m │ \u001b[36m        1\u001b[0m │ \u001b[36m   17660\u001b[0m │  │\n",
       "│ │ \u001b[38;5;141mWeight  \u001b[0m │ \u001b[36m  0\u001b[0m │ \u001b[36m        0\u001b[0m │ \u001b[38;5;141m82kg    \u001b[0m │ \u001b[38;5;141m102kg    \u001b[0m │ \u001b[38;5;141m100kg   \u001b[0m │ \u001b[38;5;141m99kg     \u001b[0m │ \u001b[36m       4\u001b[0m │ \u001b[36m        1\u001b[0m │ \u001b[36m   17660\u001b[0m │  │\n",
       "│ │ \u001b[38;5;141mRelease \u001b[0m │ \u001b[36m  0\u001b[0m │ \u001b[36m        0\u001b[0m │ \u001b[38;5;141mnan     \u001b[0m │ \u001b[38;5;141m€198.9M  \u001b[0m │ \u001b[38;5;141mnan     \u001b[0m │ \u001b[38;5;141m€9M      \u001b[0m │ \u001b[36m    4.84\u001b[0m │ \u001b[36m        1\u001b[0m │ \u001b[36m   17660\u001b[0m │  │\n",
       "│ │ \u001b[38;5;141mClause  \u001b[0m │     │           │          │           │          │           │          │           │          │  │\n",
       "│ │ \u001b[38;5;141mBest    \u001b[0m │ \u001b[36m  0\u001b[0m │ \u001b[36m        0\u001b[0m │ \u001b[38;5;141mnan     \u001b[0m │ \u001b[38;5;141m<span    \u001b[0m │ \u001b[38;5;141m<span   \u001b[0m │ \u001b[38;5;141mnan      \u001b[0m │ \u001b[36m    3.04\u001b[0m │ \u001b[36m        1\u001b[0m │ \u001b[36m   17723\u001b[0m │  │\n",
       "│ │ \u001b[38;5;141mOverall \u001b[0m │     │           │          │ \u001b[38;5;141mclass=\"bp\u001b[0m │ \u001b[38;5;141mclass=\"b\u001b[0m │           │          │           │          │  │\n",
       "│ │ \u001b[38;5;141mRating  \u001b[0m │     │           │          │ \u001b[38;5;141m3-tag p  \u001b[0m │ \u001b[38;5;141mp3-tag p\u001b[0m │           │          │           │          │  │\n",
       "│ │          │     │           │          │ \u001b[38;5;141mp-64\">64<\u001b[0m │ \u001b[38;5;141mp-54\">54\u001b[0m │           │          │           │          │  │\n",
       "│ │          │     │           │          │ \u001b[38;5;141m/span>   \u001b[0m │ \u001b[38;5;141m</span> \u001b[0m │           │          │           │          │  │\n",
       "│ └──────────┴─────┴───────────┴──────────┴───────────┴──────────┴───────────┴──────────┴───────────┴──────────┘  │\n",
       "╰────────────────────────────────────────────────────── End ──────────────────────────────────────────────────────╯\n"
      ]
     },
     "metadata": {},
     "output_type": "display_data"
    }
   ],
   "source": [
    "#skimpy supports polars dataframes as well\n",
    "skim(polars_df)"
   ]
  },
  {
   "cell_type": "code",
   "execution_count": 144,
   "id": "ceb69432",
   "metadata": {},
   "outputs": [
    {
     "data": {
      "text/html": [
       "<style type=\"text/css\">\n",
       "#T_4de02 thead>tr>th {\n",
       "  text-align: left;\n",
       "}\n",
       "#T_4de02_row0_col0, #T_4de02_row1_col0, #T_4de02_row2_col0, #T_4de02_row3_col0, #T_4de02_row4_col0, #T_4de02_row5_col0, #T_4de02_row6_col0, #T_4de02_row7_col0, #T_4de02_row8_col0, #T_4de02_row9_col0, #T_4de02_row10_col0, #T_4de02_row11_col0, #T_4de02_row12_col0, #T_4de02_row13_col0, #T_4de02_row14_col0, #T_4de02_row15_col0, #T_4de02_row16_col0, #T_4de02_row17_col0, #T_4de02_row18_col0, #T_4de02_row19_col0, #T_4de02_row20_col0, #T_4de02_row21_col0, #T_4de02_row22_col0, #T_4de02_row23_col0, #T_4de02_row24_col0, #T_4de02_row25_col0, #T_4de02_row26_col0, #T_4de02_row27_col0, #T_4de02_row28_col0 {\n",
       "  text-align: left;\n",
       "  font-size: 12px;\n",
       "  vertical-align: middle;\n",
       "  width: 5%;\n",
       "  max-width: 50px;\n",
       "  min-width: 20px;\n",
       "}\n",
       "#T_4de02_row0_col1, #T_4de02_row1_col1, #T_4de02_row2_col1, #T_4de02_row3_col1, #T_4de02_row4_col1, #T_4de02_row5_col1, #T_4de02_row6_col1, #T_4de02_row7_col1, #T_4de02_row8_col1, #T_4de02_row9_col1, #T_4de02_row10_col1, #T_4de02_row11_col1, #T_4de02_row12_col1, #T_4de02_row13_col1, #T_4de02_row14_col1, #T_4de02_row15_col1, #T_4de02_row16_col1, #T_4de02_row17_col1, #T_4de02_row18_col1, #T_4de02_row19_col1, #T_4de02_row20_col1, #T_4de02_row21_col1, #T_4de02_row22_col1, #T_4de02_row23_col1, #T_4de02_row24_col1, #T_4de02_row25_col1, #T_4de02_row26_col1, #T_4de02_row27_col1, #T_4de02_row28_col1 {\n",
       "  text-align: left;\n",
       "  font-size: 12px;\n",
       "  vertical-align: middle;\n",
       "  width: 15%;\n",
       "  max-width: 200px;\n",
       "  min-width: 100px;\n",
       "  word-break: break-word;\n",
       "}\n",
       "#T_4de02_row0_col2, #T_4de02_row1_col2, #T_4de02_row2_col2, #T_4de02_row3_col2, #T_4de02_row4_col2, #T_4de02_row5_col2, #T_4de02_row6_col2, #T_4de02_row7_col2, #T_4de02_row8_col2, #T_4de02_row9_col2, #T_4de02_row10_col2, #T_4de02_row11_col2, #T_4de02_row12_col2, #T_4de02_row13_col2, #T_4de02_row14_col2, #T_4de02_row15_col2, #T_4de02_row16_col2, #T_4de02_row17_col2, #T_4de02_row18_col2, #T_4de02_row19_col2, #T_4de02_row20_col2, #T_4de02_row21_col2, #T_4de02_row22_col2, #T_4de02_row23_col2, #T_4de02_row24_col2, #T_4de02_row25_col2, #T_4de02_row26_col2, #T_4de02_row27_col2, #T_4de02_row28_col2 {\n",
       "  text-align: left;\n",
       "  font-size: 12px;\n",
       "  vertical-align: middle;\n",
       "  width: 30%;\n",
       "  min-width: 100px;\n",
       "}\n",
       "#T_4de02_row0_col3, #T_4de02_row1_col3, #T_4de02_row2_col3, #T_4de02_row3_col3, #T_4de02_row4_col3, #T_4de02_row5_col3, #T_4de02_row6_col3, #T_4de02_row7_col3, #T_4de02_row8_col3, #T_4de02_row9_col3, #T_4de02_row10_col3, #T_4de02_row11_col3, #T_4de02_row12_col3, #T_4de02_row13_col3, #T_4de02_row14_col3, #T_4de02_row15_col3, #T_4de02_row16_col3, #T_4de02_row17_col3, #T_4de02_row18_col3, #T_4de02_row19_col3, #T_4de02_row20_col3, #T_4de02_row21_col3, #T_4de02_row22_col3, #T_4de02_row23_col3, #T_4de02_row24_col3, #T_4de02_row25_col3, #T_4de02_row26_col3, #T_4de02_row27_col3, #T_4de02_row28_col3 {\n",
       "  text-align: left;\n",
       "  font-size: 12px;\n",
       "  vertical-align: middle;\n",
       "  width: 25%;\n",
       "  min-width: 100px;\n",
       "}\n",
       "#T_4de02_row0_col4, #T_4de02_row1_col4, #T_4de02_row2_col4, #T_4de02_row3_col4, #T_4de02_row4_col4, #T_4de02_row5_col4, #T_4de02_row6_col4, #T_4de02_row7_col4, #T_4de02_row8_col4, #T_4de02_row9_col4, #T_4de02_row10_col4, #T_4de02_row11_col4, #T_4de02_row12_col4, #T_4de02_row13_col4, #T_4de02_row14_col4, #T_4de02_row15_col4, #T_4de02_row16_col4, #T_4de02_row17_col4, #T_4de02_row18_col4, #T_4de02_row19_col4, #T_4de02_row20_col4, #T_4de02_row21_col4, #T_4de02_row22_col4, #T_4de02_row23_col4, #T_4de02_row24_col4, #T_4de02_row25_col4, #T_4de02_row26_col4, #T_4de02_row27_col4, #T_4de02_row28_col4 {\n",
       "  text-align: left;\n",
       "  font-size: 12px;\n",
       "  vertical-align: middle;\n",
       "  width: 20%;\n",
       "  min-width: 150px;\n",
       "}\n",
       "#T_4de02_row0_col5, #T_4de02_row1_col5, #T_4de02_row2_col5, #T_4de02_row3_col5, #T_4de02_row4_col5, #T_4de02_row5_col5, #T_4de02_row6_col5, #T_4de02_row7_col5, #T_4de02_row8_col5, #T_4de02_row9_col5, #T_4de02_row10_col5, #T_4de02_row11_col5, #T_4de02_row12_col5, #T_4de02_row13_col5, #T_4de02_row14_col5, #T_4de02_row15_col5, #T_4de02_row16_col5, #T_4de02_row17_col5, #T_4de02_row18_col5, #T_4de02_row19_col5, #T_4de02_row20_col5, #T_4de02_row21_col5, #T_4de02_row22_col5, #T_4de02_row23_col5, #T_4de02_row24_col5, #T_4de02_row25_col5, #T_4de02_row26_col5, #T_4de02_row27_col5, #T_4de02_row28_col5 {\n",
       "  text-align: left;\n",
       "  font-size: 12px;\n",
       "  vertical-align: middle;\n",
       "  width: 10%;\n",
       "}\n",
       "</style>\n",
       "<table id=\"T_4de02\">\n",
       "  <caption><strong>Data Frame Summary</strong><br>pandas_df<br>Dimensions: 17,660 x 29<br>Duplicates: 0</caption>\n",
       "  <thead>\n",
       "    <tr>\n",
       "      <th id=\"T_4de02_level0_col0\" class=\"col_heading level0 col0\" >No</th>\n",
       "      <th id=\"T_4de02_level0_col1\" class=\"col_heading level0 col1\" >Variable</th>\n",
       "      <th id=\"T_4de02_level0_col2\" class=\"col_heading level0 col2\" >Stats / Values</th>\n",
       "      <th id=\"T_4de02_level0_col3\" class=\"col_heading level0 col3\" >Freqs / (% of Valid)</th>\n",
       "      <th id=\"T_4de02_level0_col4\" class=\"col_heading level0 col4\" >Graph</th>\n",
       "      <th id=\"T_4de02_level0_col5\" class=\"col_heading level0 col5\" >Missing</th>\n",
       "    </tr>\n",
       "  </thead>\n",
       "  <tbody>\n",
       "    <tr>\n",
       "      <td id=\"T_4de02_row0_col0\" class=\"data row0 col0\" >1</td>\n",
       "      <td id=\"T_4de02_row0_col1\" class=\"data row0 col1\" ><strong>ID</strong><br>[int64]</td>\n",
       "      <td id=\"T_4de02_row0_col2\" class=\"data row0 col2\" >Mean (sd) : 246319.4 (31487.9)<br>min < med < max:<br>16.0 < 257041.0 < 271340.0<br>IQR (CV) : 22295.0 (7.8)</td>\n",
       "      <td id=\"T_4de02_row0_col3\" class=\"data row0 col3\" >17,660 distinct values</td>\n",
       "      <td id=\"T_4de02_row0_col4\" class=\"data row0 col4\" ><img src = \"data:image/png;base64, iVBORw0KGgoAAAANSUhEUgAAAKoAAABGCAYAAABc8A97AAAAOnRFWHRTb2Z0d2FyZQBNYXRwbG90bGliIHZlcnNpb24zLjEwLjAsIGh0dHBzOi8vbWF0cGxvdGxpYi5vcmcvlHJYcgAAAAlwSFlzAAAPYQAAD2EBqD+naQAAAiFJREFUeJzt2cGOmlAUh/Fz26mFibk3SMJL9A3Yz3Yeto/QhYuufQN3JsZgdCRFZRaNTbuYTgEp/Mn32+JJzuILyRFX17UBY/dh6AWAf/Ew9AKYDudcbGazluM/6ro+vfWQUHEXzrk4TdNn733SZn6/3++cc1/fipVQcS8z732S5/kphFA2GSyKIloul8l2u52ZGaGifyGEMsuylxaj8d8eckxBAqFCAqFCAqFCAqFCAqFCAqFCAqFCAqFCAqFCAqFCAqFCAqFCAqFCAqFCAqFCAqFCAqFCAqFCAqFCAqFCAqFCAqFCAqFCAqFCAqFCAqFCAqFCAqFCAqFCAqFCAqFCAqFCAqFCAqFCAqFCAqFCAqFCAqFCAqFCAqFCAqFCAqFCAqFCAqFCAqFCAqFCAqFCAqFCAqFCwsPQC2A8nHOxmc1ajvvr9frpnvv8jlBhZj8jTdP02XuftJmvqiq6XC5fyrL8ZmYvd16PUPHLzHuf5Hl+CiGUTYfX63WyWq0ez+fzxz6WI1T8IYRQZlnW+I242+3iPva54ZiCBN6oE9PhIOr1GOqKUCeky0HU9zHUFaFOS+uDqO9jqCtCnaA2B1Hfx1BXHFOQwBt1ZMb8dWhIhDoiY/86NCRC7UGXv4jm83mW5/l+jF+HhvRuqM65yMw+/4ddpiJaLBZPIYR508HbG7Gqqu9m1jjUm+PxGG02m8cmM4fDIWo723W+KIrovd+8AsQJndxJa/lBAAAAAElFTkSuQmCC\"></img></td>\n",
       "      <td id=\"T_4de02_row0_col5\" class=\"data row0 col5\" >0<br>(0.0%)</td>\n",
       "    </tr>\n",
       "    <tr>\n",
       "      <td id=\"T_4de02_row1_col0\" class=\"data row1 col0\" >2</td>\n",
       "      <td id=\"T_4de02_row1_col1\" class=\"data row1 col1\" ><strong>Name</strong><br>[object]</td>\n",
       "      <td id=\"T_4de02_row1_col2\" class=\"data row1 col2\" >1. L. Díaz<br>2. A. Rodríguez<br>3. 21 A. González<br>4. M. Andersen<br>5. Danilo<br>6. M. Camara<br>7. L. González<br>8. 22 Y. Kobayashi<br>9. 22 A. Traoré<br>10. J. Rodríguez<br>11. other</td>\n",
       "      <td id=\"T_4de02_row1_col3\" class=\"data row1 col3\" >5 (0.0%)<br>5 (0.0%)<br>4 (0.0%)<br>4 (0.0%)<br>4 (0.0%)<br>4 (0.0%)<br>4 (0.0%)<br>4 (0.0%)<br>4 (0.0%)<br>4 (0.0%)<br>17,618 (99.8%)</td>\n",
       "      <td id=\"T_4de02_row1_col4\" class=\"data row1 col4\" ><img src = \"data:image/png;base64, iVBORw0KGgoAAAANSUhEUgAAAJsAAAD+CAYAAAAtWHdlAAAAOnRFWHRTb2Z0d2FyZQBNYXRwbG90bGliIHZlcnNpb24zLjEwLjAsIGh0dHBzOi8vbWF0cGxvdGxpYi5vcmcvlHJYcgAAAAlwSFlzAAAPYQAAD2EBqD+naQAAAy5JREFUeJzt3MGN02AURtHnKIJhY2tkKSVADymCLb3ThTcwrMKCHq4lc04F/+JKT5H8ZXm9XgOF29kP4P8hNjJiIyM2MmIjIzYyYiMjNjJiIyM2MrdlWb4ty/J29kO4vtvMfJ2Zz2c/hOtzRsmIjYzYyIiNjNjIiI2M2MiIjYzYyIiNjNjIiI2M2MiIjYzYyIiNzG1mfs7Mn7MfwvUt/sWIijNKRmxkrKvIWFeRcUbJiI2M2MiIjYzYyIiNjNjIiI2M2MiIjYzYyIiNjNjIiI2M2MgYvJAxeCHjjJIRGxmDFzIGL2ScUTJiIyM2MmIjIzYyYiMjNjJiIyM2MmIjIzYyYiMjNjJiIyM2MgYvZAxeyDijZMRGRmxkrKvIWFeRcUbJiI2M2MiIjYzYyIiNjNjIiI2M2MiIjYzYyIiNjNjIiI2M2MhYV5GxriLjjJIRGxmDFzIGL2ScUTJiIyM2MmIjIzYyYiMjNjJiIyM2MmIjIzYyYiMjNjJiIyM2MgYvZAxeyDijZMRGxuCFjMELGWeUjNjIiI2M2MiIjYzYyIiNjNjIiI2M2MiIjYzYyIiNjNjIiI2M2MhYV5GxriLjjJIRGxnrKjLWVWScUTJiIyM2MmIjIzYyYiMjNjJiIyM2MmIjIzYyYiMjNjJiIyM2MgYvZAxeyDijZMRGxuCFjMELGWeUjNjIiI2M2MiIjYzYyIiNjNjIiI2M2MiIjYzYyIiNjNjIiI2MwQsZgxcyzigZsZERGxnrKjLWVWScUTJiIyM2MmIjIzYyYiMjNjJiIyM2MmIjIzYyYiMjNjJiIyM2MtZVZKyryDijZMRGxuCFjMELGWeUjNjIiI2M2MiIjYzYyIiNjNjIiI2M2MiIjYzYyIiNjNjIiI2MwQsZgxcyziiZZWa+zMynsx/C9d33ff++ruv72Q/h+u7rur4/n8/f27Z9nP0Yrus4jrf7zMy2bR+Px+PX2Q/i2vxAICM2MmIjIzYyYiMjNjJiIyM2MmIjIzYyYiMjNjJiI3Of+ff5x9kP4dqO43hb9n3/4eNJCj4LJ2NdRcYPBDJiIyM2MmIjIzYyYiMjNjJiIyM2Mn8BY+dLgsx6ZCoAAAAASUVORK5CYII=\"></img></td>\n",
       "      <td id=\"T_4de02_row1_col5\" class=\"data row1 col5\" >0<br>(0.0%)</td>\n",
       "    </tr>\n",
       "    <tr>\n",
       "      <td id=\"T_4de02_row2_col0\" class=\"data row2 col0\" >3</td>\n",
       "      <td id=\"T_4de02_row2_col1\" class=\"data row2 col1\" ><strong>Age</strong><br>[int64]</td>\n",
       "      <td id=\"T_4de02_row2_col2\" class=\"data row2 col2\" >Mean (sd) : 23.1 (4.6)<br>min < med < max:<br>15.0 < 22.0 < 54.0<br>IQR (CV) : 6.0 (5.0)</td>\n",
       "      <td id=\"T_4de02_row2_col3\" class=\"data row2 col3\" >31 distinct values</td>\n",
       "      <td id=\"T_4de02_row2_col4\" class=\"data row2 col4\" ><img src = \"data:image/png;base64, iVBORw0KGgoAAAANSUhEUgAAAKoAAABGCAYAAABc8A97AAAAOnRFWHRTb2Z0d2FyZQBNYXRwbG90bGliIHZlcnNpb24zLjEwLjAsIGh0dHBzOi8vbWF0cGxvdGxpYi5vcmcvlHJYcgAAAAlwSFlzAAAPYQAAD2EBqD+naQAAAkxJREFUeJzt3U9u2kAYhvFvyh8ZkGwhJNhxgUpdsOQQPWyP0AUn4AbskBAywo2LMc4quzSBGbudlz6//RhLeQTYTD67pmkMiN2Xf30CwD36XR7cOTcys2HAIS5N07y0dT7Q1VmozrnRbDb7nqbp1PcYp9Pp6Jz7Qazo8h11mKbpdL1ev2RZVj66OM/zZLPZTA+Hw9DMCPU/1+lHv5lZlmXlfD7/5bl81OrJQBYXU5BAqJBAqJBAqJBAqJBAqJBAqJBAqJBAqJBAqJBAqJBAqJBAqJBAqJBAqJBAqJBAqJBAqJBAqJBAqJBAqJBAqJBAqJBAqJBAqJBAqJBAqJDQ+eypEHVdD8wsdc75LGdk5ROJNtSiKAZVVX1bLpe9Xq/38DRARlY+l2hDvVwu/SRJxqvVqlwsFsdH1jKy8vlEG+qbyWTiO7aSkZVPhIspSCBUSCBUSCBUSCBUSCBUSCBUSCBUSCBUSCBUSCBUSIj+t35fgVsEzdgmGJVPQw14lHl6u90GHuuChW4RNGObYGw+DDXkUeZVVSV1XX8ty/Knmfk+tNdLyBZBM7YJxuizd1TvR5nvdrvpdrsdX6/XXsD5BQnYImjGNsGo3PUd1edR5sfjkT80WsNVPyQQKiQQKiQQKiQQKiQQKiQ87U+ooZjSEhdCfQdTWuJDqO9gSkt8CPUDTGmJBxdTkECokECokMB31A5wa6t9hNoybm11g1Bbxq2tbtwVap7nyaMHPp/PiZlZURTJfr8f/831Mby2r7qu+xb2T4mqfjdN88dPoFddShEpsstjMQAAAABJRU5ErkJggg==\"></img></td>\n",
       "      <td id=\"T_4de02_row2_col5\" class=\"data row2 col5\" >0<br>(0.0%)</td>\n",
       "    </tr>\n",
       "    <tr>\n",
       "      <td id=\"T_4de02_row3_col0\" class=\"data row3 col0\" >4</td>\n",
       "      <td id=\"T_4de02_row3_col1\" class=\"data row3 col1\" ><strong>Photo</strong><br>[object]</td>\n",
       "      <td id=\"T_4de02_row3_col2\" class=\"data row3 col2\" >1. https://cdn.sofifa.net/players<br>2. https://cdn.sofifa.net/players<br>3. https://cdn.sofifa.net/players<br>4. https://cdn.sofifa.net/players<br>5. https://cdn.sofifa.net/players<br>6. https://cdn.sofifa.net/players<br>7. https://cdn.sofifa.net/players<br>8. https://cdn.sofifa.net/players<br>9. https://cdn.sofifa.net/players<br>10. https://cdn.sofifa.net/players<br>11. other</td>\n",
       "      <td id=\"T_4de02_row3_col3\" class=\"data row3 col3\" >1 (0.0%)<br>1 (0.0%)<br>1 (0.0%)<br>1 (0.0%)<br>1 (0.0%)<br>1 (0.0%)<br>1 (0.0%)<br>1 (0.0%)<br>1 (0.0%)<br>1 (0.0%)<br>17,650 (99.9%)</td>\n",
       "      <td id=\"T_4de02_row3_col4\" class=\"data row3 col4\" ><img src = \"data:image/png;base64, iVBORw0KGgoAAAANSUhEUgAAAJsAAAD+CAYAAAAtWHdlAAAAOnRFWHRTb2Z0d2FyZQBNYXRwbG90bGliIHZlcnNpb24zLjEwLjAsIGh0dHBzOi8vbWF0cGxvdGxpYi5vcmcvlHJYcgAAAAlwSFlzAAAPYQAAD2EBqD+naQAAAy5JREFUeJzt3MGN02AURtHnKIJhY2tkKSVADymCLb3ThTcwrMKCHq4lc04F/+JKT5H8ZXm9XgOF29kP4P8hNjJiIyM2MmIjIzYyYiMjNjJiIyM2MrdlWb4ty/J29kO4vtvMfJ2Zz2c/hOtzRsmIjYzYyIiNjNjIiI2M2MiIjYzYyIiNjNjIiI2M2MiIjYzYyIiNzG1mfs7Mn7MfwvUt/sWIijNKRmxkrKvIWFeRcUbJiI2M2MiIjYzYyIiNjNjIiI2M2MiIjYzYyIiNjNjIiI2M2MgYvJAxeCHjjJIRGxmDFzIGL2ScUTJiIyM2MmIjIzYyYiMjNjJiIyM2MmIjIzYyYiMjNjJiIyM2MgYvZAxeyDijZMRGRmxkrKvIWFeRcUbJiI2M2MiIjYzYyIiNjNjIiI2M2MiIjYzYyIiNjNjIiI2M2MhYV5GxriLjjJIRGxmDFzIGL2ScUTJiIyM2MmIjIzYyYiMjNjJiIyM2MmIjIzYyYiMjNjJiIyM2MgYvZAxeyDijZMRGxuCFjMELGWeUjNjIiI2M2MiIjYzYyIiNjNjIiI2M2MiIjYzYyIiNjNjIiI2M2MhYV5GxriLjjJIRGxnrKjLWVWScUTJiIyM2MmIjIzYyYiMjNjJiIyM2MmIjIzYyYiMjNjJiIyM2MgYvZAxeyDijZMRGxuCFjMELGWeUjNjIiI2M2MiIjYzYyIiNjNjIiI2M2MiIjYzYyIiNjNjIiI2MwQsZgxcyzigZsZERGxnrKjLWVWScUTJiIyM2MmIjIzYyYiMjNjJiIyM2MmIjIzYyYiMjNjJiIyM2MtZVZKyryDijZMRGxuCFjMELGWeUjNjIiI2M2MiIjYzYyIiNjNjIiI2M2MiIjYzYyIiNjNjIiI2MwQsZgxcyziiZZWa+zMynsx/C9d33ff++ruv72Q/h+u7rur4/n8/f27Z9nP0Yrus4jrf7zMy2bR+Px+PX2Q/i2vxAICM2MmIjIzYyYiMjNjJiIyM2MmIjIzYyYiMjNjJiI3Of+ff5x9kP4dqO43hb9n3/4eNJCj4LJ2NdRcYPBDJiIyM2MmIjIzYyYiMjNjJiIyM2Mn8BY+dLgsx6ZCoAAAAASUVORK5CYII=\"></img></td>\n",
       "      <td id=\"T_4de02_row3_col5\" class=\"data row3 col5\" >0<br>(0.0%)</td>\n",
       "    </tr>\n",
       "    <tr>\n",
       "      <td id=\"T_4de02_row4_col0\" class=\"data row4 col0\" >5</td>\n",
       "      <td id=\"T_4de02_row4_col1\" class=\"data row4 col1\" ><strong>Nationality</strong><br>[object]</td>\n",
       "      <td id=\"T_4de02_row4_col2\" class=\"data row4 col2\" >1. England<br>2. Germany<br>3. Spain<br>4. France<br>5. Argentina<br>6. Brazil<br>7. Italy<br>8. Netherlands<br>9. Uruguay<br>10. Japan<br>11. other</td>\n",
       "      <td id=\"T_4de02_row4_col3\" class=\"data row4 col3\" >1,531 (8.7%)<br>1,038 (5.9%)<br>990 (5.6%)<br>864 (4.9%)<br>843 (4.8%)<br>539 (3.1%)<br>517 (2.9%)<br>455 (2.6%)<br>417 (2.4%)<br>378 (2.1%)<br>10,088 (57.1%)</td>\n",
       "      <td id=\"T_4de02_row4_col4\" class=\"data row4 col4\" ><img src = \"data:image/png;base64, iVBORw0KGgoAAAANSUhEUgAAAJsAAAD+CAYAAAAtWHdlAAAAOnRFWHRTb2Z0d2FyZQBNYXRwbG90bGliIHZlcnNpb24zLjEwLjAsIGh0dHBzOi8vbWF0cGxvdGxpYi5vcmcvlHJYcgAAAAlwSFlzAAAPYQAAD2EBqD+naQAABB5JREFUeJzt3UFqG1kARdGvYEJnImEMXowWkcX2IrQbY6xBO2SiHjjpxLFsSeTXDbjPmQUiEOHyRRX1UqvD4TCg8OFPfwH+P8RGRmxkxEZGbGTERkZsZMRGRmxkVmOMT2OMjxd+7uvhcHhc4Pvwjl3d3Nx8Xq/X15d8aL/f369Wq78FxyWu1uv19Xa7fdxsNl/O+cDDw8Nfu93u+u7u7uMYQ2yc7WqMMTabzZfb29t/Lvjcp4W+D++YCwQyYiMjNjJiIyM2MmIjIzYyYiMjNjJiIyM2MmIjIzYyYiNzNcbTM2rnfuCSvws/u9rv9/e73e56XPCM2n6/vx9jfF3ua/Ee2SCQWfkvs6ice7I5yfhtZ62rrKmY4eS6ypqKWc5dV1lT8dvc1CUjNjJiIyM2MmIjIzYyYiMjNjJiIyM2MmIjIzYyYiNzcvBi4MIsZw1eDFyYwWPhZAxeyDjZyBi8kDF4IWPwQsZNXTJiIyM2MmIjIzYyYiMjNjJiIyM2MmIjIzYyYiMjNjIGL2QMXsh4LJyMwQsZFwhkzvkZ9RPKFCfXVZZVzPLmusqyipnOWVdZVjGFCwQyYiMjNjJiIyM2MmIjIzYyYiMjNjJiIyM2MmIjIzYyb66rLKuY6eS6yrKKWTwWTsa6isypk82pxjRvDl6MXZjp1cGLsQuznRq8GLswjZu6ZMRGRmxkxEZGbGTERkZsZMRGRmxkxEZGbGTERkZsZF4dvBi7MNubgxdjF2byWDgZgxcyr51sTjSmOzp4MXRhCS8GL4YuLOW1wYuhC9O5qUtGbGTERkZsZMRGRmxkxEZGbGTERkZsZMRGRmxkxEZGbGRerKusqljK0XWVVRVLsEEgY11FxslGxrqKjHUVGesqMm7qkhEbGbGRERsZsZERGxmxkREbGbGRERsZsZERGxmxkTF4IWPwQsZj4WQMXsgcO9mcaizixeDF2IWlPBu8GLuwpGODF2MXFuGmLhmxkREbGbGRERsZsZERGxmxkREbGbGRERsZsZERG5lngxdjF5b0YvBi7MJSPBZOxuCFjAsEMn5GyVhXkbGuImNdRcYFAhmxkREbGbGRERsZsZERGxmxkREbGbGRERsZsZERGxnrKjLWVWQ8Fk7GuorMryebU43FPBu8GLuwpA/fBy/b7fbxW3S/vg4Spvhv8PLtz8YuLMZNXTJiIyM2MmIjIzYyYiMjNjJiIyM2MmIjIzYyYiMjNjLPBi+wpJ8HL8YuLMpj4WQMXsgcm/Ixn1+MceQNL8xnSPTk2Rte/vSXeY+8NeeHY294YT5DouGmLiGxkREbGbGRERsZsZERGxmxkREbGbGRERsZsZERGxmDl4X5t/3hxRtemM+Q6InHwhseCx8GL4RcIJARGxmxkREbGbGRERsZsZERGxmxkfkXQFpCg42lzGcAAAAASUVORK5CYII=\"></img></td>\n",
       "      <td id=\"T_4de02_row4_col5\" class=\"data row4 col5\" >0<br>(0.0%)</td>\n",
       "    </tr>\n",
       "    <tr>\n",
       "      <td id=\"T_4de02_row5_col0\" class=\"data row5 col0\" >6</td>\n",
       "      <td id=\"T_4de02_row5_col1\" class=\"data row5 col1\" ><strong>Flag</strong><br>[object]</td>\n",
       "      <td id=\"T_4de02_row5_col2\" class=\"data row5 col2\" >1. https://cdn.sofifa.net/flags/g<br>2. https://cdn.sofifa.net/flags/d<br>3. https://cdn.sofifa.net/flags/e<br>4. https://cdn.sofifa.net/flags/f<br>5. https://cdn.sofifa.net/flags/a<br>6. https://cdn.sofifa.net/flags/b<br>7. https://cdn.sofifa.net/flags/i<br>8. https://cdn.sofifa.net/flags/n<br>9. https://cdn.sofifa.net/flags/u<br>10. https://cdn.sofifa.net/flags/j<br>11. other</td>\n",
       "      <td id=\"T_4de02_row5_col3\" class=\"data row5 col3\" >1,531 (8.7%)<br>1,038 (5.9%)<br>990 (5.6%)<br>864 (4.9%)<br>843 (4.8%)<br>539 (3.1%)<br>517 (2.9%)<br>455 (2.6%)<br>417 (2.4%)<br>378 (2.1%)<br>10,088 (57.1%)</td>\n",
       "      <td id=\"T_4de02_row5_col4\" class=\"data row5 col4\" ><img src = \"data:image/png;base64, iVBORw0KGgoAAAANSUhEUgAAAJsAAAD+CAYAAAAtWHdlAAAAOnRFWHRTb2Z0d2FyZQBNYXRwbG90bGliIHZlcnNpb24zLjEwLjAsIGh0dHBzOi8vbWF0cGxvdGxpYi5vcmcvlHJYcgAAAAlwSFlzAAAPYQAAD2EBqD+naQAABB5JREFUeJzt3UFqG1kARdGvYEJnImEMXowWkcX2IrQbY6xBO2SiHjjpxLFsSeTXDbjPmQUiEOHyRRX1UqvD4TCg8OFPfwH+P8RGRmxkxEZGbGTERkZsZMRGRmxkVmOMT2OMjxd+7uvhcHhc4Pvwjl3d3Nx8Xq/X15d8aL/f369Wq78FxyWu1uv19Xa7fdxsNl/O+cDDw8Nfu93u+u7u7uMYQ2yc7WqMMTabzZfb29t/Lvjcp4W+D++YCwQyYiMjNjJiIyM2MmIjIzYyYiMjNjJiIyM2MmIjIzYyYiNzNcbTM2rnfuCSvws/u9rv9/e73e56XPCM2n6/vx9jfF3ua/Ee2SCQWfkvs6ice7I5yfhtZ62rrKmY4eS6ypqKWc5dV1lT8dvc1CUjNjJiIyM2MmIjIzYyYiMjNjJiIyM2MmIjIzYyYiNzcvBi4MIsZw1eDFyYwWPhZAxeyDjZyBi8kDF4IWPwQsZNXTJiIyM2MmIjIzYyYiMjNjJiIyM2MmIjIzYyYiMjNjIGL2QMXsh4LJyMwQsZFwhkzvkZ9RPKFCfXVZZVzPLmusqyipnOWVdZVjGFCwQyYiMjNjJiIyM2MmIjIzYyYiMjNjJiIyM2MmIjIzYyb66rLKuY6eS6yrKKWTwWTsa6isypk82pxjRvDl6MXZjp1cGLsQuznRq8GLswjZu6ZMRGRmxkxEZGbGTERkZsZMRGRmxkxEZGbGTERkZsZF4dvBi7MNubgxdjF2byWDgZgxcyr51sTjSmOzp4MXRhCS8GL4YuLOW1wYuhC9O5qUtGbGTERkZsZMRGRmxkxEZGbGTERkZsZMRGRmxkxEZGbGRerKusqljK0XWVVRVLsEEgY11FxslGxrqKjHUVGesqMm7qkhEbGbGRERsZsZERGxmxkREbGbGRERsZsZERGxmxkTF4IWPwQsZj4WQMXsgcO9mcaizixeDF2IWlPBu8GLuwpGODF2MXFuGmLhmxkREbGbGRERsZsZERGxmxkREbGbGRERsZsZERG5lngxdjF5b0YvBi7MJSPBZOxuCFjAsEMn5GyVhXkbGuImNdRcYFAhmxkREbGbGRERsZsZERGxmxkREbGbGRERsZsZERGxnrKjLWVWQ8Fk7GuorMryebU43FPBu8GLuwpA/fBy/b7fbxW3S/vg4Spvhv8PLtz8YuLMZNXTJiIyM2MmIjIzYyYiMjNjJiIyM2MmIjIzYyYiMjNjLPBi+wpJ8HL8YuLMpj4WQMXsgcm/Ixn1+MceQNL8xnSPTk2Rte/vSXeY+8NeeHY294YT5DouGmLiGxkREbGbGRERsZsZERGxmxkREbGbGRERsZsZERGxmDl4X5t/3hxRtemM+Q6InHwhseCx8GL4RcIJARGxmxkREbGbGRERsZsZERGxmxkfkXQFpCg42lzGcAAAAASUVORK5CYII=\"></img></td>\n",
       "      <td id=\"T_4de02_row5_col5\" class=\"data row5 col5\" >0<br>(0.0%)</td>\n",
       "    </tr>\n",
       "    <tr>\n",
       "      <td id=\"T_4de02_row6_col0\" class=\"data row6 col0\" >7</td>\n",
       "      <td id=\"T_4de02_row6_col1\" class=\"data row6 col1\" ><strong>Overall</strong><br>[int64]</td>\n",
       "      <td id=\"T_4de02_row6_col2\" class=\"data row6 col2\" >Mean (sd) : 63.4 (8.0)<br>min < med < max:<br>43.0 < 63.0 < 91.0<br>IQR (CV) : 11.0 (7.9)</td>\n",
       "      <td id=\"T_4de02_row6_col3\" class=\"data row6 col3\" >49 distinct values</td>\n",
       "      <td id=\"T_4de02_row6_col4\" class=\"data row6 col4\" ><img src = \"data:image/png;base64, iVBORw0KGgoAAAANSUhEUgAAAKoAAABGCAYAAABc8A97AAAAOnRFWHRTb2Z0d2FyZQBNYXRwbG90bGliIHZlcnNpb24zLjEwLjAsIGh0dHBzOi8vbWF0cGxvdGxpYi5vcmcvlHJYcgAAAAlwSFlzAAAPYQAAD2EBqD+naQAAAo1JREFUeJzt3U9u2kAYh+HflIAMqEYICXZcoFIXLDlED9sjdMGia27ABiEQAuEGAcbdRVlEafHY8XyT99k7mcWrKOP5Y1cUhYDQfWl6AMD/eGp6AHVxznUldTx+xKUoiueqxgM/UYbqnOuORqMfaZoOy/6M4/G4d879JNYwRBmqpE6apsP5fP48GAzOjz58OBySxWIx3O12HUmEGoBYQ5UkDQaD83g8/lPy8W6lg4EXJlMwgVBhAqHCBEKFCYQKEwgVJhAqTCBUmECoMIFQYQKhwgRChQlRb0rxked5W1LqnCvzOHtZK0aob8iyrH29Xr9Pp9NWq9V6eJsge1mrR6hvuFwuT0mS9Gaz2XkymewfeZa9rPUg1Hf0+/2y+1nZy1oxJlMwgVBhAqHChKD/R/U48pze7/d21eNBc4IN1efI8/V6TfI8/3Y+n39JKnu4DwEJNlR5HHlerVbD5XLZu91urboGh48VcqiSyh153u/3jb4eYlWresGHag2rWvUg1IqxqlUPQq0Jq1rV4j0qTCBUmECoMIFQYQKhwgRChQmEChN4jxoYz+VXKdIlWEINiO/yqxTvEiyhBsRn+VWKewmWUAPksfwqRboEy2QKJhAqTCBUmECoMKHWyZTnh3M5SYoXtYXq++FcTpLitTr/onp9OJeTpHit9veoZT+c2/RJUoSFyRRMIFSYQKgwgVBhAqHCBHZPRSbWe68INSIx33tFqBGJ+d4rQo1QjPdeMZmCCYQKEwgVJhAqTCBUmMCsHy9CvqWFUCEp/FtaCBWSwr+l5Z+h8pnHz8XnlpY8z1PVtM/g3VCr+Mzjdrv9/eizknQ6nRJJyrIs2Ww2vY96tsnfbXXckrRer7/Wuc/gLyyhjPN/Z/pBAAAAAElFTkSuQmCC\"></img></td>\n",
       "      <td id=\"T_4de02_row6_col5\" class=\"data row6 col5\" >0<br>(0.0%)</td>\n",
       "    </tr>\n",
       "    <tr>\n",
       "      <td id=\"T_4de02_row7_col0\" class=\"data row7 col0\" >8</td>\n",
       "      <td id=\"T_4de02_row7_col1\" class=\"data row7 col1\" ><strong>Potential</strong><br>[int64]</td>\n",
       "      <td id=\"T_4de02_row7_col2\" class=\"data row7 col2\" >Mean (sd) : 71.0 (6.5)<br>min < med < max:<br>42.0 < 71.0 < 95.0<br>IQR (CV) : 8.0 (10.9)</td>\n",
       "      <td id=\"T_4de02_row7_col3\" class=\"data row7 col3\" >50 distinct values</td>\n",
       "      <td id=\"T_4de02_row7_col4\" class=\"data row7 col4\" ><img src = \"data:image/png;base64, iVBORw0KGgoAAAANSUhEUgAAAKoAAABGCAYAAABc8A97AAAAOnRFWHRTb2Z0d2FyZQBNYXRwbG90bGliIHZlcnNpb24zLjEwLjAsIGh0dHBzOi8vbWF0cGxvdGxpYi5vcmcvlHJYcgAAAAlwSFlzAAAPYQAAD2EBqD+naQAAApVJREFUeJzt3b2O2kAUQOE7YSEGEo8ACTpeIFIKSvq0edg8QgqK1LwBDUIgC4SzFsY4VaIk2vzgwXjucL5+1i6OFnm562vKshTAd6+avgHgfzw1fQMhMsZ0RaRT8fipLMvnW95PCAj1xowx3dFo9DGO40GV84fDITHGfCLWXxHq7XXiOB7M5/Nna212zcH9fh8tFovBbrfriAih/oRQa2Ktzcbj8dcKR7s3v5kA8DAFFQgVKhAqVCBUqECoUIFQoQKhQgVChQqEChX4ZsozRVG0RSQ2xlT9EUEOtRCqR9I0bed5/n46nbZardZVcwLfhTrUQqgeOZ1OT1EU9WazWTaZTJJrz4c81EKof+AwUxpfLpe2y7X7/X7VgRaRQIdaCPUFLjOleZ5HRVG8y7Lss4hUjQ2/IdSXVZ4pXa1Wg+Vy2Tufz626bu4REepfVJkpTZIkyI/epvF3VKhAqFCBUKECoUIFQoUKhAoVCBUqECpUIFSoQKhQgVChAqFCBUKFCoQKFQgVKhAqVCBUqECoUIFQoQKhQgVChQqEChUIFSoQKlQgVKgQ7JtSHBfnOr/oDLcVZKiui3N50Zl/ggxVHF5yJsKLznwUaqgiUn1xLi868w8PU1Ah6N+oj8hxWYW3iyoINSCuyyp8XlRBqAFxWVbh+6IKQg2Qw7IKbx8ieZiCCoQKFQgVKhAqVCBUqECoUIFQoQKhQgVChQpefzPV5CryR+Q40CJS41CLt6Gyivy+XAdaROodavE2VGEV+V25DLSI1D/UUmuot/gHO2ttwiry+3EYaJGiKGKpaRb2n6EaYyIReV3hwtFwOPxgrX1T4eyPj+/tdvvl2rPH4zESEUnTNNpsNr17nm/qbNPXXq/Xb+uchf0GTsxRbIL6+6gAAAAASUVORK5CYII=\"></img></td>\n",
       "      <td id=\"T_4de02_row7_col5\" class=\"data row7 col5\" >0<br>(0.0%)</td>\n",
       "    </tr>\n",
       "    <tr>\n",
       "      <td id=\"T_4de02_row8_col0\" class=\"data row8 col0\" >9</td>\n",
       "      <td id=\"T_4de02_row8_col1\" class=\"data row8 col1\" ><strong>Club</strong><br>[object]</td>\n",
       "      <td id=\"T_4de02_row8_col2\" class=\"data row8 col2\" >1. nan<br>2. Manchester United<br>3. Arsenal<br>4. FC Barcelona<br>5. Newcastle United<br>6. Atlético de Madrid<br>7. Wolverhampton Wanderers<br>8. Gangwon FC<br>9. Chelsea<br>10. PSV<br>11. other</td>\n",
       "      <td id=\"T_4de02_row8_col3\" class=\"data row8 col3\" >211 (1.2%)<br>66 (0.4%)<br>47 (0.3%)<br>46 (0.3%)<br>45 (0.3%)<br>45 (0.3%)<br>44 (0.2%)<br>42 (0.2%)<br>42 (0.2%)<br>41 (0.2%)<br>17,031 (96.4%)</td>\n",
       "      <td id=\"T_4de02_row8_col4\" class=\"data row8 col4\" ><img src = \"data:image/png;base64, iVBORw0KGgoAAAANSUhEUgAAAJsAAAD+CAYAAAAtWHdlAAAAOnRFWHRTb2Z0d2FyZQBNYXRwbG90bGliIHZlcnNpb24zLjEwLjAsIGh0dHBzOi8vbWF0cGxvdGxpYi5vcmcvlHJYcgAAAAlwSFlzAAAPYQAAD2EBqD+naQAAA9hJREFUeJzt3DFuG1cYRtF/CEIxmxEIAl5C0mkBWoQX60VoASqzB0PwFJGthi6cFDGcACl4CTDnlKxeccGnEebjcj6fBwq7ax+A/w+xkREbGbGRERsZsZERGxmxkREbmWVmDjNzNzNv5/P59crn4YbtT6fTh3Vdj9u2vSzL8lFwXMpuXdfjw8PDrOt6nO/fcHARu5mZw+Hw9doH4fZ5QCAjNjJiIyM2MmIjIzYyYiMjNjJiIyM2MmIjIzYyYiMjNjK7mZnX19dfrn0Qbt9u27aX5+fn2bbtZWbern0gbpcNApnFT2ZR+eubbXyrcWn70+n0YWbGsopL263rerSsouD/bGTERkZsZMRGRmxkxEZGbGTERkZsZMRGRmxkxEZGbGTERkZsZPZ/Dl1mjF24MK+FkzF4IeNvNjK7ZVl+W5bl3bUPwu3bzcyvM+PnF7g41ygZsZERGxmxkREbGbGRERsZsZERGxmxkREbGbGRERsZsZERG5ndzPw+M1+vfRBunw0CGdcoGbGRERsZ6yoy1lVkXKNkxEZGbGTERkZsZMRGRmxkxEZGbGTERkZsZMRGRmxkxEZGbGSsq8hYV5FxjZIRGxmDFzIGL2Rco2TERkZsZMRGRmxkxEZGbGTERkZsZMRGRmxkxEZGbGTERkZsZAxeyBi8kHGNkhEbGYMXMgYvZFyjZMRGRmxkxEZGbGTERkZsZMRGRmxkxEZGbGTERkZsZMRGRmxkxEbGuoqMdRUZ1ygZsZGxriJjXUXGNUpGbGTERkZsZMRGRmxkxEZGbGTERkZsZMRGRmxkxEZGbGTERsbghYzBCxnXKBmxkTF4IWPwQsY1SkZsZMRGRmxkxEZGbGTERkZsZMRGRmxkxEZGbGTERkZsZMRGxuCFjMELGdcoGbGRERsZ6yoy1lVkXKNkxEZGbGTERkZsZMRGRmxkxEZGbGTERkZsZMRGRmxkxEZGbGSsq8hYV5FxjZIRGxmDFzIGL2Rco2TERkZsZMRGRmxkxEZGbGTERkZsZMRGRmxkxEZGbGTERkZsZAxeyBi8kHGNkllm5jAzd9c+CDfl7Xw+v/744f50On1Y1/V4jRNxm7Zte1mW5eOPwe3XdT0+Pj6+3t/ff7nW4bgdnz9/fvf09HT89OnT3cz8PbaZmfv7+y/v37//4yqn4xYdfvahBwQyYiMjNjJiIyM2MmIjIzYyYiMjNjJiIyM2MmIjIzYy+5nvr4Vc+yDchn9rab9t28vT09Nx/uG1EPivtm17mZm3Hz/3WjiX8NPXwq2ryHhAICM2MmIjIzYyYiMjNjJiIyM2MmIj8w20KJ9L5aczogAAAABJRU5ErkJggg==\"></img></td>\n",
       "      <td id=\"T_4de02_row8_col5\" class=\"data row8 col5\" >211<br>(1.2%)</td>\n",
       "    </tr>\n",
       "    <tr>\n",
       "      <td id=\"T_4de02_row9_col0\" class=\"data row9 col0\" >10</td>\n",
       "      <td id=\"T_4de02_row9_col1\" class=\"data row9 col1\" ><strong>Club Logo</strong><br>[object]</td>\n",
       "      <td id=\"T_4de02_row9_col2\" class=\"data row9 col2\" >1. https://cdn.sofifa.net/teams/1<br>2. https://cdn.sofifa.net/teams/1<br>3. https://cdn.sofifa.net/teams/2<br>4. https://cdn.sofifa.net/teams/1<br>5. https://cdn.sofifa.net/teams/2<br>6. https://cdn.sofifa.net/teams/1<br>7. https://cdn.sofifa.net/teams/5<br>8. https://cdn.sofifa.net/teams/1<br>9. https://cdn.sofifa.net/teams/1<br>10. https://cdn.sofifa.net/teams/2<br>11. other</td>\n",
       "      <td id=\"T_4de02_row9_col3\" class=\"data row9 col3\" >66 (0.4%)<br>47 (0.3%)<br>46 (0.3%)<br>45 (0.3%)<br>45 (0.3%)<br>44 (0.2%)<br>42 (0.2%)<br>42 (0.2%)<br>41 (0.2%)<br>41 (0.2%)<br>17,201 (97.4%)</td>\n",
       "      <td id=\"T_4de02_row9_col4\" class=\"data row9 col4\" ><img src = \"data:image/png;base64, iVBORw0KGgoAAAANSUhEUgAAAJsAAAD+CAYAAAAtWHdlAAAAOnRFWHRTb2Z0d2FyZQBNYXRwbG90bGliIHZlcnNpb24zLjEwLjAsIGh0dHBzOi8vbWF0cGxvdGxpYi5vcmcvlHJYcgAAAAlwSFlzAAAPYQAAD2EBqD+naQAAA5lJREFUeJzt3EFqI2cURtFXRjjtSQkh8BKSPXgRvdhehBaRPRjjGsQdT5RBx5CEnjV9C5RzRtbsH1x4Nujzcr1eBwp3ez+A/w+xkREbGbGRERsZsZERGxmxkREbmWVmHmZmrtfr285v4cYdzufz55mZZVm+CI6f6W5d19O6rqeZud/7Mdw2v7ORERsZsZERGxmxkREbGbGRERsZsZERGxmxkREbGbGRERsZsZERG5nDtm0vf//8vutLuHk2CGQW/zKLit/ZyNwty/Lbsiyf9n4It+9uZn6dmV/2fgi3zxklIzYyYiMjNjJiIyM2MmIjIzYyYiMjNjJiIyM2MmIjIzYyYiNzNzO/z8yfez+E22eDQMYZJSM2MgYvZAxeyDijZMRGRmxkxEZGbGTERkZsZMRGRmxkxEZGbGTERkZsZMRGRmxkDF7IGLyQcUbJiI2M2MhYV5GxriLjjJIRGxmxkREbGbGRERsZsZERGxmxkREbGbGRERsZsZERGxmxkbGuImNdRcYZJSM2MgYvZAxeyDijZMRGRmxkxEZGbGTERkZsZMRGRmxkxEZGbGTERkZsZMRGRmxkDF7IGLyQcUbJiI2MwQsZgxcyzigZsZERGxmxkREbGbGRERsZsZERGxmxkREbGbGRERsZsZERGxmxkbGuImNdRcYZJSM2MtZVZKyryDijZMRGRmxkxEZGbGTERkZsZMRGRmxkxEZGbGTERkZsZMRGRmxkDF7IGLyQcUbJiI2MwQsZgxcyzigZsZERGxmxkREbGbGRERsZsZERGxmxkREbGbGRERsZsZERGxmDFzIGL2ScUTJiIyM2MtZVZKyryDijZMRGRmxkxEZGbGTERkZsZMRGRmxkxEZGbGTERkZsZMRGRmxkrKvIWFeRcUbJiI2MwQsZgxcyzigZsZERGxmxkREbGbGRERsZsZERGxmxkREbGbGRERsZsZERGxmDFzIGL2ScUTLLzDzMzP3eD+EmvV+v17ePD4fz+fx5XdfTni/iNm3b9rIsy5eP4A7rup6enp7ejsfj170fx+14fX39dLlcTs/Pz/cz8y22mZnj8fj18fHxj11fxy16+OcHfyCQERsZsZERGxmxkREbGbGRERsZsZERGxmxkREbGbGROcx8+zrI3g/htnyvqcO2bS+Xy+U0//k6CPyobdteZub947OvhfMz/etr4dZVZPyBQEZsZMRGRmxkxEZGbGTERkZsZMRG5i/Bv35WGpIidgAAAABJRU5ErkJggg==\"></img></td>\n",
       "      <td id=\"T_4de02_row9_col5\" class=\"data row9 col5\" >0<br>(0.0%)</td>\n",
       "    </tr>\n",
       "    <tr>\n",
       "      <td id=\"T_4de02_row10_col0\" class=\"data row10 col0\" >11</td>\n",
       "      <td id=\"T_4de02_row10_col1\" class=\"data row10 col1\" ><strong>Value</strong><br>[object]</td>\n",
       "      <td id=\"T_4de02_row10_col2\" class=\"data row10 col2\" >1. €1.1M<br>2. €325K<br>3. €300K<br>4. €500K<br>5. €1.2M<br>6. €475K<br>7. €525K<br>8. €275K<br>9. €1.3M<br>10. €350K<br>11. other</td>\n",
       "      <td id=\"T_4de02_row10_col3\" class=\"data row10 col3\" >452 (2.6%)<br>450 (2.5%)<br>414 (2.3%)<br>403 (2.3%)<br>394 (2.2%)<br>385 (2.2%)<br>385 (2.2%)<br>384 (2.2%)<br>377 (2.1%)<br>367 (2.1%)<br>13,649 (77.3%)</td>\n",
       "      <td id=\"T_4de02_row10_col4\" class=\"data row10 col4\" ><img src = \"data:image/png;base64, iVBORw0KGgoAAAANSUhEUgAAAJsAAAD+CAYAAAAtWHdlAAAAOnRFWHRTb2Z0d2FyZQBNYXRwbG90bGliIHZlcnNpb24zLjEwLjAsIGh0dHBzOi8vbWF0cGxvdGxpYi5vcmcvlHJYcgAAAAlwSFlzAAAPYQAAD2EBqD+naQAAA8FJREFUeJzt3EFqGmEAhuHfIiHdKBLwMB6ih+0h5jYSZhZN6cYumhTTTaHEV7HPswkVAgN9GZnh/7I6nU4DCp+ufQH8P8RGRmxkxEZGbGTERkZsZMRGRmxkVmOMz2OMh7PPfpxOp5crXQ93bP309PRls9ns3j5YluV5tVp9FRwfbb3ZbHaHw+Flu91+n+f5cZqm3fF4fBhjiI0PtR5jjO12+32/3397/ezzFa+HO+YBgYzYyIiNjNjIiI2M2MiIjYzYyIiNjNjIiI2M2MiIjYzYyKzHGGOe58fzn3AJ62VZnqdp2o3Xc2zLsjyPMX5c97K4RzYIZFb+ZBYVdzYy1lVkrKvIWFeR8VKXjNjIiI2M2MiIjYzYyIiNjNjIiI2M2MiIjYzYyIiNjMELGYMXMo6FkzF4IePORsbghYzBCxmDFzJe6pIRGxmxkREbGbGRERsZsZERGxmxkREbGbGRERsZsZExeCFj8ELGsXAyBi9kPCCQ8TVKxrqKjHUVGesqMh4QyIiNjNjIiI2M2MiIjYzYyIiNjNjIiI2M2MiIjYzYyFhXkbGuIuNYOBnrKjJ/3tnc1biYd4MXYxcu6dPb4OVwOLy8Rvfw19+Cf/B78PL6b2MXLsZLXTJiIyM2MmIjIzYyYiMjNjJiIyM2MmIjIzYyYiMjNjLvBi9wSeeDF2MXLsqxcDIGL2Tc2cgYvJAxeCFj8ELGS10yYiMjNjJiIyM2MmIjIzYyYiMjNjJiIyM2MmIjIzYyYiNjXUXGuoqMDQIZ6yoy7mxkrKvIWFeRsa4i46UuGbGRERsZsZERGxmxkREbGbGRERsZsZERGxmxkREbGYMXMgYvZBwLJ2PwQsadjYzBCxmDFzIGL2S81CUjNjJiIyM2MmIjIzYyYiMjNjJiIyM2MmIjIzYyYiNj8ELG4IWMY+FkDF7IeEAg42uUjHUVGesqMtZVZDwgkBEbGbGRERsZsZERGxmxkREbGbGRERsZsZERGxmxkbGuImNdRcaxcDLWVWTc2cgYvJAxeCFj8ELGS10yYiMjNjJiIyM2MmIjIzYyYiMjNjJiIyM2MmIjIzYyBi9kDF7IOBZOxuCFzJ93Nu7PzXxbvRu8cH9uacS0fhu8nO0QuBPzPD9O07Q7Ho8PY4zrxzbGr8HLfr//du2L4SJuZsTkpS4ZsZERGxmxkREbGbGRERsZsZERGxmxkREbGbGRERsZg5c7dmv/r+eDl5s5isLHuaURk2Ph9+9mjoUbvJDxgEBGbGTERkZsZMRGRmxkxEZGbGTERuYnnFIEqCvFgx4AAAAASUVORK5CYII=\"></img></td>\n",
       "      <td id=\"T_4de02_row10_col5\" class=\"data row10 col5\" >0<br>(0.0%)</td>\n",
       "    </tr>\n",
       "    <tr>\n",
       "      <td id=\"T_4de02_row11_col0\" class=\"data row11 col0\" >12</td>\n",
       "      <td id=\"T_4de02_row11_col1\" class=\"data row11 col1\" ><strong>Wage</strong><br>[object]</td>\n",
       "      <td id=\"T_4de02_row11_col2\" class=\"data row11 col2\" >1. €500<br>2. €2K<br>3. €1K<br>4. €3K<br>5. €4K<br>6. €5K<br>7. €6K<br>8. €550<br>9. €7K<br>10. €850<br>11. other</td>\n",
       "      <td id=\"T_4de02_row11_col3\" class=\"data row11 col3\" >4,009 (22.7%)<br>2,322 (13.1%)<br>2,132 (12.1%)<br>1,106 (6.3%)<br>679 (3.8%)<br>552 (3.1%)<br>426 (2.4%)<br>293 (1.7%)<br>287 (1.6%)<br>274 (1.6%)<br>5,580 (31.6%)</td>\n",
       "      <td id=\"T_4de02_row11_col4\" class=\"data row11 col4\" ><img src = \"data:image/png;base64, iVBORw0KGgoAAAANSUhEUgAAAJsAAAD+CAYAAAAtWHdlAAAAOnRFWHRTb2Z0d2FyZQBNYXRwbG90bGliIHZlcnNpb24zLjEwLjAsIGh0dHBzOi8vbWF0cGxvdGxpYi5vcmcvlHJYcgAAAAlwSFlzAAAPYQAAD2EBqD+naQAABIRJREFUeJzt3U1OG1kARtEHQulmYoQisYwsgEX0YnsRXkD2gRAehHQm9CA/gmATIupdY3LOjFkNrp5Vpfqoo7u7uwGF431fAH8OsZERGxmxkREbGbGRERsZsZERG5mjMcbpGOPdvi/kmy93d3e3+74I5jh5//79P6vV6nzfFzLGGJvN5vro6Ohfwb1NJ6vV6vzy8vL27Ozs8z4v5Obm5u/1en1+dXX1bowhtjfoZIwxzs7OPl9cXHza98WMrz/pvFFuEMiIjYzYyIiNjNjIiI2M2MiIjYzYyIiNjNjIiI2M2MiIjczJGF/fJdv3hbyGa2Cuk81mc71er8/HK3iXbLPZXI8xvuz7OpjDBoHMkX+ZRWXGyeZ0YqvF11UWUuyy6LrKQoqnzFhX7f2ultfJQ10yYiMjNjJiIyM2MmIjIzYyYiMjNjJiIyM2MmIjIzYyiw5ejFZ4yuKDF6MVdvFaOBmDFzJLn2xONXZadPBi7MJTFhu8GLvwK0sPXoxd2MlDXTJiIyM2MmIjIzYyYiMjNjJiIyM2MmIjIzYyYiMjNjKLDV6MXfiVRQcvxi48xWvhZAxeyLhBIPM7P6N+InmRZ6+rLKd4qWetqyynWMLvrKssp3gRNwhkxEZGbGTERkZsZMRGRmxkxEZGbGTERkZsZMRGRmxknrWuspxiCc9eV1lO8VJeCydjXUXmqZPNScaidg5eDFxY2tbBi4ELMzw1eDFwYVEe6pIRGxmxkREbGbGRERsZsZERGxmxkREbGbGRERsZsZHZOngxcGGGnYMXAxeW5rVwMgYvZHadbE41Frd18GLswgyPBi/GLsyya/Bi7MLiPNQlIzYyYiMjNjJiIyM2MmIjIzYyYiMjNjJiIyM2MmIjIzYyj9ZVllXMsnVdZVnFDDYIZKyryGw72ZxqTPFoXWVZxSwP1lWWVcy0bV1lWcUUHuqSERsZsZERGxmxkREbGbGRERsZsZERGxmxkREbGbGReTB4MXZhpkeDF2MXZvFaOBmDFzI/n2xONaZ5MHgxdmGm4++Dl8vLy9tv0W37HCS82I/By7e/jV2YxkNdMmIjIzYyYiMjNjJiIyM2MmIjIzYyYiMjNjJiIyM2Mo++8AKz3B+8GLswldfCyRi8kHGDQMbPKBnrKjLWVWSsq8i4QSAjNjJiIyM2MmIjIzYyYiMjNjJiIyM2MmIjIzYyYiNjXUXGuoqM18LJWFeRuX+yOdWY6sfgxdiF2Y5Xq9X5hw8fhrELsx2PMcbp6el/+74Q3j4PdcmIjYzYyIiNjNjIiI2M2MiIjYzYyIiNjNjIiI2M2MgcjzHG7e3tX/u+EN6+481mc/3x40djF6bzWjgZgxcyP0/5DpVT+QA8+MLLoTLWOQwn37/wcu/DGwfl5ubm7/V6fX51dfVujCG2V+zHF14uLi4+7ftiXsCXaQ6Ah7pkxEZGbGTERkZsZMRGRmxkxEZGbGTERkZsZMRGRmxkDv4LL4d87X+a+194OdjXdIx1DoPXwskYvJBxg0BGbGTERkZsZMRGRmxkxEZGbGTERuZ/zJwnCbcykQMAAAAASUVORK5CYII=\"></img></td>\n",
       "      <td id=\"T_4de02_row11_col5\" class=\"data row11 col5\" >0<br>(0.0%)</td>\n",
       "    </tr>\n",
       "    <tr>\n",
       "      <td id=\"T_4de02_row12_col0\" class=\"data row12 col0\" >13</td>\n",
       "      <td id=\"T_4de02_row12_col1\" class=\"data row12 col1\" ><strong>Special</strong><br>[int64]</td>\n",
       "      <td id=\"T_4de02_row12_col2\" class=\"data row12 col2\" >Mean (sd) : 1537.9 (285.9)<br>min < med < max:<br>749.0 < 1548.0 < 2312.0<br>IQR (CV) : 340.0 (5.4)</td>\n",
       "      <td id=\"T_4de02_row12_col3\" class=\"data row12 col3\" >1,428 distinct values</td>\n",
       "      <td id=\"T_4de02_row12_col4\" class=\"data row12 col4\" ><img src = \"data:image/png;base64, iVBORw0KGgoAAAANSUhEUgAAAKoAAABGCAYAAABc8A97AAAAOnRFWHRTb2Z0d2FyZQBNYXRwbG90bGliIHZlcnNpb24zLjEwLjAsIGh0dHBzOi8vbWF0cGxvdGxpYi5vcmcvlHJYcgAAAAlwSFlzAAAPYQAAD2EBqD+naQAAAs1JREFUeJzt3buO2kAUgOEzsBBzkQGhQEeTgiJSCpc8RB42j5CCB0AUaVLRIQEC4eBgjNMkVdhdfNudM/xfP1pb+rWyjefYpGkqgO1q730AwD2e3vsAbGWMaYlIM+fyc5qmpzKP59ER6g3GmNZwOPzq+/4gz/rD4bAzxnwj1vIQ6m1N3/cHs9ns1Ov1oiwL9/u9N5/PB5vNpikihFoSQn1Br9eLRqPRrxxLW6UfzIMj1AokSdIQEd8Yk2c517c3EGrJwjBsxHH8ZTKZ1Ov1eqbLBhGub59DqCU7n89Pnue1gyCIxuPxLstarm+fR6gV6XQ6XN+WiAf+UIFQoQKhQgVChQqEChUIFSoQKlQgVKhAqFCBUKECoUIFQoUKhAoVCBUq8JqfZQruDhBxdIcAoVqk6O4AEXd3CBCqRYrsDhBxe4cAoVqowO4AEUd3CHAzBRUIFSoQKlQgVKhAqFCBUKECoUIFZ5+jFhzE61+v10aZx4NinAy16CDeOI69JEk+R1H0XUTyPnhHiZwMVQoM4hURWa1Wg+Vy2b5cLvUqDg7ZuRqqiOQfxLvb7Zz8GVIzbqagAqFCBUKFCoQKFZy+mXpErn7oglAd4vKHLgjVIS5/6IJQHeTihy64mYIKhAoVCBUqECpUIFSoQKhQgVChAqFCBUKFCq/+MlVwk5y1LzlAlxdDLbpJzuaXHKDLa/9Rc2+Ss/0lB+hy10speTfJicUvOeB/No9lr/TtqRJOvCYi1xzrGCCRke1j2SsLteiJJ0nSCMPwU7fb/Vmr1eIsaxkgkZ3tY9krC7Xoif8dAvExCIIfWdczQCI/W8eyV/7idN4T/zcEIs96Bki4hwf+UIFQoQKhQgU296E0Vc4UIFSUouqZAneFut/vvax/+Hg8eiIiYRh66/W6/Zbrtf5trcctIrLdbrue57Wn06np9/u/s6w9nU4fFovFi89g/wCmKa7KpeACggAAAABJRU5ErkJggg==\"></img></td>\n",
       "      <td id=\"T_4de02_row12_col5\" class=\"data row12 col5\" >0<br>(0.0%)</td>\n",
       "    </tr>\n",
       "    <tr>\n",
       "      <td id=\"T_4de02_row13_col0\" class=\"data row13 col0\" >14</td>\n",
       "      <td id=\"T_4de02_row13_col1\" class=\"data row13 col1\" ><strong>Preferred Foot</strong><br>[object]</td>\n",
       "      <td id=\"T_4de02_row13_col2\" class=\"data row13 col2\" >1. Right<br>2. Left</td>\n",
       "      <td id=\"T_4de02_row13_col3\" class=\"data row13 col3\" >13,651 (77.3%)<br>4,009 (22.7%)</td>\n",
       "      <td id=\"T_4de02_row13_col4\" class=\"data row13 col4\" ><img src = \"data:image/png;base64, iVBORw0KGgoAAAANSUhEUgAAAJsAAAAuCAYAAAA/ZmtKAAAAOnRFWHRTb2Z0d2FyZQBNYXRwbG90bGliIHZlcnNpb24zLjEwLjAsIGh0dHBzOi8vbWF0cGxvdGxpYi5vcmcvlHJYcgAAAAlwSFlzAAAPYQAAD2EBqD+naQAAATtJREFUeJzt28Fpw0AURdGnIEy8mUEIVIyLSLEpYroRQrOIjTfKIqSD0ZuPfU8FH3xtsNAbjuMQ4DBIukq69D4Ep3kex3HvfYQkjfM8f6WUpt6H4By11m0Yhu8IwY0ppel2u91zzo/ex6Ctfd8/SynTuq4XSf1jk6Sc82NZlp/ex+AU194H/PvofQDeB7HBhthgQ2ywITbYEBtsiA02xAYbYoMNscGG2GBDbLAhNtgQG2yIDTaj9PeSXe9D0F60z3WstW6llEmBXrJDO7XWTdKz9x0Sg5d3EGbwMjDlg0u0X7Yw30K0F2rKF2l2hvbCTPmizc7QXrQpH/+IXxgPdWFDbLAhNtgQG2yIDTbEBhtigw2xwYbYYENssCE22BAbbIgNNsQGG2KDTZgpX4QbcK5QU75IszO0x+AFNr8KW2rfSjjhjwAAAABJRU5ErkJggg==\"></img></td>\n",
       "      <td id=\"T_4de02_row13_col5\" class=\"data row13 col5\" >0<br>(0.0%)</td>\n",
       "    </tr>\n",
       "    <tr>\n",
       "      <td id=\"T_4de02_row14_col0\" class=\"data row14 col0\" >15</td>\n",
       "      <td id=\"T_4de02_row14_col1\" class=\"data row14 col1\" ><strong>International Reputation</strong><br>[float64]</td>\n",
       "      <td id=\"T_4de02_row14_col2\" class=\"data row14 col2\" >1. 1.0<br>2. 2.0<br>3. 3.0<br>4. 4.0<br>5. 5.0</td>\n",
       "      <td id=\"T_4de02_row14_col3\" class=\"data row14 col3\" >16,312 (92.4%)<br>907 (5.1%)<br>360 (2.0%)<br>74 (0.4%)<br>7 (0.0%)</td>\n",
       "      <td id=\"T_4de02_row14_col4\" class=\"data row14 col4\" ><img src = \"data:image/png;base64, iVBORw0KGgoAAAANSUhEUgAAAJsAAABzCAYAAACPdnBjAAAAOnRFWHRTb2Z0d2FyZQBNYXRwbG90bGliIHZlcnNpb24zLjEwLjAsIGh0dHBzOi8vbWF0cGxvdGxpYi5vcmcvlHJYcgAAAAlwSFlzAAAPYQAAD2EBqD+naQAAAldJREFUeJzt3UFu2mAUhdFnhNJmYoQssYR2D15EFttFsIjuASE8aNJM3EFJ1VYiwWl8Ueg5s0gM/sEnjJEvacZxLEhYXPoA/D/ERozYiGmq6raqbi59EN6lx3Ec78998bLruru2bddznojrNAzDvmmaL+cGt2zbdt33/f1qtXqY+3Bcj8Ph8HG73a53u91NVZ0XW1XVarV62Gw232Y9HdfodsqL3SAQIzZixEaM2IgRGzFiI0ZsxIiNGLERIzZixEaM2IgRGzHLqp+Pi1z6ILwvr2lmOQzDfrvdrmvi4yIwDMO+qh7Pfb3HwvkXkx4Lb+xGSXGDQMw5l9FJb5VwyovrqqkLGjjl2XXVaxY0cMo56ypfifAm3CAQIzZixEaM2IgRGzFiI0ZsxIiNGLERIzZixEaM2IgRGzHPrqusrnhLL66rpi5o4BSPhRNjXUWMGwRi/r6MumQymz/WVZZUzGnxtK7q+/7+GJ2fYmAWv9ZVx78tqZiNGwRixEaM2IgRGzFiI0ZsxIiNGLERIzZixEaM2IgRGzFiI8b/riLm93WVJRWz8lg4MdZVxDy9s5V3NOa27LrurqrK0IW5Ldq2XRu6kOB7NmLERozYiBEbMWIjRmzEiI0YsREjNmLERozYiBEbMWIjRmzEiI0YsRGzPC6qqqyqmJkNAjHWVcT4zEbMommaz03T+PkFZreoqk9V9eHSB+H6uYwSIzZixEaM2IgRGzFiI0ZsxIiNGLERIzZixEaM2IgRGzFiI0ZsxIiNmEVVfa2q75c+CNfP4IUYl1FixEaM2Ij5ARUcsdt/FfHtAAAAAElFTkSuQmCC\"></img></td>\n",
       "      <td id=\"T_4de02_row14_col5\" class=\"data row14 col5\" >0<br>(0.0%)</td>\n",
       "    </tr>\n",
       "    <tr>\n",
       "      <td id=\"T_4de02_row15_col0\" class=\"data row15 col0\" >16</td>\n",
       "      <td id=\"T_4de02_row15_col1\" class=\"data row15 col1\" ><strong>Weak Foot</strong><br>[float64]</td>\n",
       "      <td id=\"T_4de02_row15_col2\" class=\"data row15 col2\" >1. 3.0<br>2. 2.0<br>3. 4.0<br>4. 5.0<br>5. 1.0</td>\n",
       "      <td id=\"T_4de02_row15_col3\" class=\"data row15 col3\" >11,009 (62.3%)<br>4,086 (23.1%)<br>2,132 (12.1%)<br>265 (1.5%)<br>168 (1.0%)</td>\n",
       "      <td id=\"T_4de02_row15_col4\" class=\"data row15 col4\" ><img src = \"data:image/png;base64, iVBORw0KGgoAAAANSUhEUgAAAJsAAABzCAYAAACPdnBjAAAAOnRFWHRTb2Z0d2FyZQBNYXRwbG90bGliIHZlcnNpb24zLjEwLjAsIGh0dHBzOi8vbWF0cGxvdGxpYi5vcmcvlHJYcgAAAAlwSFlzAAAPYQAAD2EBqD+naQAAAmhJREFUeJzt20Fu2lAYhdEfhNIyMUJILIMFZBFZbBfhBbAPhPCgpJnQQZOqkyYTfG3xzlnBE/pkY8t3cbvdChKWUx+AdoiNGLERs6iqdVU9TX2Qxr3dbrfr1IcY22q32710Xbed+iAtG4bhvFgsfjx6cKuu67bPz8/XzWbzOvVhWnS5XL73fb89nU5PVfXYsVVVbTab1/1+/3PqwzRsPfUBEjwgECM2YsRGjNiIERsxYiNGbMSIjRixESM2YsRGjNiIERsxq6o/n7lMfZBWtfTbr4ZhOPd9v61GPnOZo2EYzlX1NvU5xuaz8Hlo4rPwhd0oKR4QiJnjbbSJW0qLZreuamVp1KJZrataWhq1aI7rKq9gHpQHBGLERozYiBEbMWIjRmzEiI0YsREjNmLERozYiBEbMWIjZlbrqrmcg3HMbl3VytKoRT4LJ8a6ihgPCMTc+zbqFsh/3XVdZRnFZ+62rrKM4iv3XlfN4vUJ8+QBgRixESM2YsRGjNiIERsxYiNGbMSIjRixESM2YsRGjNiIudu6yjKKr9x1XWUZxWd8Fk6MdRUx/17ZXJUY1d/Bi7EKY1t2Xbc9HA71vrCa0zKeB7Osqlqv17+mPgiPz0tdYsRGjNiIERsxYiNGbMSIjRixESM2YsRGjNiIERsxYiNGbMQsq6qu1+u3qQ/C41sOw3A+Ho+WUYzOBoEY6ypiPq5s5arG2Fa73e6lqsqyirEtu67bWlaR4D0bMWIjRmzEiI0YsREjNmLERozYiBEbMWIjRmzEiI0YsREjNmLERozYiFm9r6qqLKsYmQ0CMdZVxPjPRozYiPkNXrPfL9tEtygAAAAASUVORK5CYII=\"></img></td>\n",
       "      <td id=\"T_4de02_row15_col5\" class=\"data row15 col5\" >0<br>(0.0%)</td>\n",
       "    </tr>\n",
       "    <tr>\n",
       "      <td id=\"T_4de02_row16_col0\" class=\"data row16 col0\" >17</td>\n",
       "      <td id=\"T_4de02_row16_col1\" class=\"data row16 col1\" ><strong>Skill Moves</strong><br>[float64]</td>\n",
       "      <td id=\"T_4de02_row16_col2\" class=\"data row16 col2\" >1. 2.0<br>2. 3.0<br>3. 1.0<br>4. 4.0<br>5. 5.0</td>\n",
       "      <td id=\"T_4de02_row16_col3\" class=\"data row16 col3\" >9,718 (55.0%)<br>4,893 (27.7%)<br>1,936 (11.0%)<br>1,048 (5.9%)<br>65 (0.4%)</td>\n",
       "      <td id=\"T_4de02_row16_col4\" class=\"data row16 col4\" ><img src = \"data:image/png;base64, iVBORw0KGgoAAAANSUhEUgAAAJsAAABzCAYAAACPdnBjAAAAOnRFWHRTb2Z0d2FyZQBNYXRwbG90bGliIHZlcnNpb24zLjEwLjAsIGh0dHBzOi8vbWF0cGxvdGxpYi5vcmcvlHJYcgAAAAlwSFlzAAAPYQAAD2EBqD+naQAAAlJJREFUeJzt3UFq21AYhdFfQYRmImMMXowXkcV2Ed6NMdagCZm4g6bQQlsLLF/5uees4BE+pEjo4u58PhckPC19AP4fYiNGbMR0VfVSVc9LH+TBfJzP57elD3Fv+s1m8zoMw3rpgzyScRyPXdd9Fdzv+mEY1rvd7m21Wr0vfZhHcDqdvuz3+/XhcHiuKrH9oq+qWq1W79vt9tvSh3kgL0sf4B55QCBGbMSIjRixESM2YsRGjNiIERsxYiNGbMSIjRixESM2YvqqH5/FLH2QR+Fv+Xf9OI7H/X6/Lp/FzGYcx2NVfSx9jnvjs/Db8Fn4H3R2o6R4QCCmtduo21PDmlpXWS21rZl1ldVS+1pbV3k90zAPCMSIjRixESM2YsRGjNiIERsxYiNGbMSIjRixESM2YsRGTDPrqhbOyL81ta6yWmqbz8KJsa4ixgMCMXPdRt3euGiWdZXVE1Ncva6yemKqudZVd//ahOV5QCBGbMSIjRixESM2YsRGjNiIERsxYiNGbMSIjRixESM2Yq5eV1k9MdUs6yqrJ6bwWTgx1lXETL2yuXJxtUmDF4MW5nBx8GLQwlymDl4MWrial7rEiI0YsREjNmLERozYiBEbMWIjRmzEiI0YsREjNmLERozYiLm4rrKeYi6T1lXWU8zBBoEY6ypifl7ZypWLW+s3m81rVZX1FLf2NAzD+nPK18pvjtIo79mIERsxYiNGbMSIjRixESM2YsRGjNiIERsxYiNGbMSIjRixESM2YsRGTP+5nKqynuLGbBCIsa4ixv9sxIiNmO/pJu5KwwSyhgAAAABJRU5ErkJggg==\"></img></td>\n",
       "      <td id=\"T_4de02_row16_col5\" class=\"data row16 col5\" >0<br>(0.0%)</td>\n",
       "    </tr>\n",
       "    <tr>\n",
       "      <td id=\"T_4de02_row17_col0\" class=\"data row17 col0\" >18</td>\n",
       "      <td id=\"T_4de02_row17_col1\" class=\"data row17 col1\" ><strong>Work Rate</strong><br>[object]</td>\n",
       "      <td id=\"T_4de02_row17_col2\" class=\"data row17 col2\" >1. Medium/ Medium<br>2. High/ Medium<br>3. Medium/ High<br>4. High/ High<br>5. Medium/ Low<br>6. High/ Low<br>7. Low/ Medium<br>8. Low/ High<br>9. Low/ Low<br>10. N/A/ N/A</td>\n",
       "      <td id=\"T_4de02_row17_col3\" class=\"data row17 col3\" >10,049 (56.9%)<br>3,063 (17.3%)<br>1,403 (7.9%)<br>817 (4.6%)<br>762 (4.3%)<br>710 (4.0%)<br>367 (2.1%)<br>342 (1.9%)<br>77 (0.4%)<br>70 (0.4%)</td>\n",
       "      <td id=\"T_4de02_row17_col4\" class=\"data row17 col4\" ><img src = \"data:image/png;base64, iVBORw0KGgoAAAANSUhEUgAAAJsAAADnCAYAAAAJgSQ2AAAAOnRFWHRTb2Z0d2FyZQBNYXRwbG90bGliIHZlcnNpb24zLjEwLjAsIGh0dHBzOi8vbWF0cGxvdGxpYi5vcmcvlHJYcgAAAAlwSFlzAAAPYQAAD2EBqD+naQAAA75JREFUeJzt3UFqG1kARdEvI0JnIiEEXowWkcX2IrQbY6xBO2SiDOI0nSZysFx1ZaRzZpkV4eY7VfyXLI7H44DC3aUfgNshNjJiIyM2MmIjIzYyYiMjNjJiI7MYY3weY3y69INcsW/H4/H50g/xESy32+2X1Wq1ufSDXKvD4fC4WCz+FtwYy9Vqtdntds/r9frrpR/m2jw9Pf213+83Dw8Pn8YYYhtjjPV6/fX+/v6fSz/Mlfp86Qf4KLwgkBEbGbGRERsZsZERGxmxkREbGbGRERsZsZERGxmxkVmO8eMqzKUf5Br5ff3V8nA4PO73+81wFWYWh8PhcYzx7dLP8RG4Fj4/18JfLPwrRlTqk82f8huWDl6MP25bNngx/qAevHjjvWE+6pIRGxmxkREbGbGRERsZsZERGxmxkREbGbGRERsZsZHJBi/GH6SDF+OP2+ZaOBmDFzLnnGxOJ87y5sGL0QrnetPgxWiF9zhn8GK0wll81CUjNjJiIyM2MmIjIzYyYiMjNjJiIyM2MmIjIzYyYiMjNjJvWldZSPEeb15XWUhxLhsEMtZVZP50sjnFmMyr6ypLKqZ0cl1lScXU/rSusqRiMj7qkhEbGbGRERsZsZERGxmxkREbGbGRERsZsZERGxmxkTk5eDFuYWqvDl6MW5iSa+FkDF7IONnIGLyQMXghY/BCxkddMmIjIzYyYiMjNjJiIyM2MmIjIzYyYiMjNjJiIyM2MgYvZAxeyLgWTsbghYwXBDKv/Rj1I5RJnVxXWVYxtd+uqyyrmMNr6yrLKiblBYGM2MiIjYzYyIiNjNjIiI2M2MiIjYzYyIiNjNjIiI3Mb9dVllXM4eS6yrKKqbkWTsa6isz/TzanGbP5ZfBi5MKc7n4OXna73fNLdKfW8fAu/w5eXn5t5MJsfNQlIzYyYiMjNjJiIyM2MmIjIzYyYiMjNjJiIyM2MmIjc/K/E4Kp/XfwYuTCrFwLJ2PwQsYLAhk/RslYV5GxriJjXUXGCwIZsZERGxmxkREbGbGRERsZsZERGxmxkREbGbGRERsZ6yoy1lVkXAsnY11F5ufJNpxozG253W6/jDGGoQtzu1utVhtDFwq+s5ERGxmxkREbGbGRERsZsZERGxmxkREbGbGRERsZsZERGxmxkVm+jFzGMHRhZq6FkzF4IeNkI2PwQsbghYxPH2TERkZsZMRGRmxkxEZGbGTERkZsZMRGRmxkxEZGbGTERkZsZMRGxrqKjA0CGesqMv7ORkZsZMRGRmxkxEZGbGTERuY7T6nA6kZSSqcAAAAASUVORK5CYII=\"></img></td>\n",
       "      <td id=\"T_4de02_row17_col5\" class=\"data row17 col5\" >0<br>(0.0%)</td>\n",
       "    </tr>\n",
       "    <tr>\n",
       "      <td id=\"T_4de02_row18_col0\" class=\"data row18 col0\" >19</td>\n",
       "      <td id=\"T_4de02_row18_col1\" class=\"data row18 col1\" ><strong>Body Type</strong><br>[object]</td>\n",
       "      <td id=\"T_4de02_row18_col2\" class=\"data row18 col2\" >1. Normal (170-185)<br>2. Lean (170-185)<br>3. Normal (185+)<br>4. Lean (185+)<br>5. Normal (170-)<br>6. Lean (170-)<br>7. Stocky (170-185)<br>8. Stocky (185+)<br>9. Unique<br>10. Stocky (170-)<br>11. other</td>\n",
       "      <td id=\"T_4de02_row18_col3\" class=\"data row18 col3\" >6,248 (35.4%)<br>3,943 (22.3%)<br>3,470 (19.6%)<br>1,841 (10.4%)<br>696 (3.9%)<br>525 (3.0%)<br>435 (2.5%)<br>245 (1.4%)<br>133 (0.8%)<br>86 (0.5%)<br>38 (0.2%)</td>\n",
       "      <td id=\"T_4de02_row18_col4\" class=\"data row18 col4\" ><img src = \"data:image/png;base64, iVBORw0KGgoAAAANSUhEUgAAAJsAAAD+CAYAAAAtWHdlAAAAOnRFWHRTb2Z0d2FyZQBNYXRwbG90bGliIHZlcnNpb24zLjEwLjAsIGh0dHBzOi8vbWF0cGxvdGxpYi5vcmcvlHJYcgAAAAlwSFlzAAAPYQAAD2EBqD+naQAABGFJREFUeJzt3UFOW1cAhtFry0rDxAhZyhLaGQtgEVlsF8ECGHYPCOFBSTIhA9KmESYiwu97rn3OCi7Sp2v89H5YPD4+Digs5z4Ap0NsZMRGRmxkxEZGbGTERkZsZMRGZjHGOBtjvJv7IBP58vj4+DD3IXiy2mw2H9fr9cXcB5nCdru9WywWfwruMKzW6/XF1dXVw/n5+ae5D7NP9/f376+vry9ub2/fjTHEdgBWY4xxfn7+6cOHD3/PfZgJnM19AL7zBYGM2MiIjYzYyIiNjNjIiI2M2MiIjYzYyIiNjNjIiI2M2Misxnh692vug+zbMf5M/3er7XZ7d319fTGO8N2v7XZ7N8b4Mvc5eGKDQGbhT2ZRObSbzU10xA5qXWUNddwOZl1lDXX8Dm1ddXTfiPnOQ10yYiMjNjJiIyM2MmIjIzYyYiMjNjJiIyM2MmIjIzYyBzN4OYQzMK2DGrwYqBw3r4WTMXghM+fN5hY7MbMNXoxbTs8sgxfjltM05+Bl9m+/tDzUJSM2MmIjIzYyYiMjNjJiIyM2MmIjIzYyYiMjNjJiIzPL4MW45TTNNngxbjk9XgsnY/BCxhcEMvv4GPVxyKu8eV1lJcVrvWldZSXFr9jHuspKilfxBYGM2MiIjYzYyIiNjNjIiI2M2MiIjYzYyIiNjNjIiI3Mm9ZVVlL8ijevq6ykeC2vhZOxriLzs5vNjcVevTh4MWRh33YOXgxZmMLPBi+GLOyVh7pkxEZGbGTERkZsZMRGRmxkxEZGbGTERkZsZMRGRmxkdg5eDFmYwouDF0MW9s1r4WQMXsi8dLO51di7nYMXYxem8GzwYuzCVF4avBi7sHce6pIRGxmxkREbGbGRERsZsZERGxmxkREbGbGRERsZsZERG5ln6yrLKqayc11lWcUUbBDIWFeR2XWzudWYxLN1lWUVU/lhXWVZxZR2rassq5iEh7pkxEZGbGTERkZsZMRGRmxkxEZGbGTERkZsZMRGRmxkfhi8GLswpWeDF2MXpuK1cDIGL2T+e7O50ZjUv4MXQxemtlyv1xeXl5fj28Jq17+ChL1YjjHG2dnZ57kPwvHzUJeM2MiIjYzYyIiNjNjIiI2M2MiIjYzYyIiNjNjIiI3McowxHh4efpv7IBy/5Xa7vbu5uTF0YXJeCydj8ELGFwQy/3yMDh+hTG212Ww+jjGGZRVTW67X6wvLKgp+ZyMjNjJiIyM2MmIjIzYyYiMjNjJiIyM2MmIjIzYyYiMjNjJiI7P6tqoaw7KKiXktnIx1FRk3GxmDFzIGL2Q8+iAjNjJiIyM2MmIjIzYyYiMjNjJiIyM2MmIjIzYyYiMjNjJiI2PwQsZr4WQMXsj4nY3McrFY/LFYLN7PfRCO33KM8fsYwz+3ZXI+RsmIjYzYyIiNjNjIiI2M2MiIjYzYyIiNjNjIiI2M2MiIjYzYyCzHGH+NMT7PfRCOnw0CGR+jZMRGRmxkxEZGbGTERkZsZMRGRmxkxEbmK1tLz+yWGujCAAAAAElFTkSuQmCC\"></img></td>\n",
       "      <td id=\"T_4de02_row18_col5\" class=\"data row18 col5\" >38<br>(0.2%)</td>\n",
       "    </tr>\n",
       "    <tr>\n",
       "      <td id=\"T_4de02_row19_col0\" class=\"data row19 col0\" >20</td>\n",
       "      <td id=\"T_4de02_row19_col1\" class=\"data row19 col1\" ><strong>Real Face</strong><br>[object]</td>\n",
       "      <td id=\"T_4de02_row19_col2\" class=\"data row19 col2\" >1. No<br>2. Yes<br>3. nan</td>\n",
       "      <td id=\"T_4de02_row19_col3\" class=\"data row19 col3\" >15,576 (88.2%)<br>2,046 (11.6%)<br>38 (0.2%)</td>\n",
       "      <td id=\"T_4de02_row19_col4\" class=\"data row19 col4\" ><img src = \"data:image/png;base64, iVBORw0KGgoAAAANSUhEUgAAAJsAAABFCAYAAABdVZTTAAAAOnRFWHRTb2Z0d2FyZQBNYXRwbG90bGliIHZlcnNpb24zLjEwLjAsIGh0dHBzOi8vbWF0cGxvdGxpYi5vcmcvlHJYcgAAAAlwSFlzAAAPYQAAD2EBqD+naQAAAZdJREFUeJzt20Fqg0AchfE3ImmzUUTwCO0dPEQP20N4iN5BxFk0aTZ20X0J+O8zTL/fAWQWH5EJvrRtmwCH6ugD4P9Iks6STkcfBA/ttm3bZe9D6r7v35qm6SJOhDLlnJeU0vve4OqmabpxHC9t216jDodyrOv6PE1TN8/zSdK+2CSpbdvrMAyfIadDic4RD+GCABtigw2xwYbYYENssCE22BAbbIgNNsQGG2KDDbHBhthgQ2ywITbY1NLPN0tHHwSPKbKNOue8TNPUKeibJZQn57xIuu19DhsE3CNkg5CY8sEl8pctpH6UK2xdFbXAQblC1lWRCxyUK3JdxW0Wv+JPXdgQG2yIDTbEBhtigw2xwYbYYENssCE22BAbbIgNNsQGG2KDDbHBJmRdxToL9whbV0UtcFAuNgiwYV0FGy4IsCE22FQppdeUErdJ/LlK0oukp6MPgvLxGoUNscGG2GBDbLAhNtgQG2yIDTbEBhtigw2xwYbYYENssCE22BAbbIgNNsQGm0rSh6Svow+C8rGugg2vUdh8A+dFczqCMcFEAAAAAElFTkSuQmCC\"></img></td>\n",
       "      <td id=\"T_4de02_row19_col5\" class=\"data row19 col5\" >38<br>(0.2%)</td>\n",
       "    </tr>\n",
       "    <tr>\n",
       "      <td id=\"T_4de02_row20_col0\" class=\"data row20 col0\" >21</td>\n",
       "      <td id=\"T_4de02_row20_col1\" class=\"data row20 col1\" ><strong>Position</strong><br>[object]</td>\n",
       "      <td id=\"T_4de02_row20_col2\" class=\"data row20 col2\" >1. <span class=\"pos pos28\">SUB<br>2. <span class=\"pos pos29\">RES<br>3. <span class=\"pos pos4\">RCB<br>4. <span class=\"pos pos6\">LCB<br>5. <span class=\"pos pos0\">GK<br>6. <span class=\"pos pos25\">ST<br>7. <span class=\"pos pos7\">LB<br>8. <span class=\"pos pos3\">RB<br>9. <span class=\"pos pos13\">RCM<br>10. <span class=\"pos pos15\">LCM<br>11. other</td>\n",
       "      <td id=\"T_4de02_row20_col3\" class=\"data row20 col3\" >7,427 (42.1%)<br>5,224 (29.6%)<br>449 (2.5%)<br>398 (2.3%)<br>376 (2.1%)<br>346 (2.0%)<br>330 (1.9%)<br>327 (1.9%)<br>325 (1.8%)<br>311 (1.8%)<br>2,147 (12.2%)</td>\n",
       "      <td id=\"T_4de02_row20_col4\" class=\"data row20 col4\" ><img src = \"data:image/png;base64, iVBORw0KGgoAAAANSUhEUgAAAJsAAAD+CAYAAAAtWHdlAAAAOnRFWHRTb2Z0d2FyZQBNYXRwbG90bGliIHZlcnNpb24zLjEwLjAsIGh0dHBzOi8vbWF0cGxvdGxpYi5vcmcvlHJYcgAAAAlwSFlzAAAPYQAAD2EBqD+naQAAA/tJREFUeJzt3U1qG1kARtGnIEwykRAGLUaL6MX2IrQbYaRBHDJRD5wEO84PtFO3qOicWSahDJdnqnhfsrperwMK7+Z+AG6H2MiIjYzYyIiNjNjIiI2M2MiIjcxqjPFhjHE394PM7PP1en2c+yH+duv7+/t/NpvNbu4HmdPlcnlYrVb/Cm5a681mszscDo/b7fbT3A8zh/P5/P54PO5Op9PdGENsE1qPMcZ2u/203+8/zv0wM/ow9wPcAi8IZMRGRmxkxEZGbGTERkZsZMRGRmxkxEZGbGTERkZsZMRGZj3G052uuR9kLrf8s9fWl8vl4Xg87sYN3+m6XC4PY4zPcz/H384G4YkNQmDln8yisuSTzWm0MItdV1lELc8i11UWUcu05HXVzb49L5WPumTERkZsZMRGRmxkxEZGbGTERkZsZMRGRmxkxEZGbGQWOXhZ2vPyZLGDFyOV5XEtnIzBC5kfnWxODCbxavBiSMJUXgxeDEmY0o8GL4t6K2U5fNQlIzYyYiMjNjJiIyM2MmIjIzYyYiMjNjJiIyM2MmIj82LwYkjClF4NXgxJmIpr4WQMXsh4QSDz/a9Rv0KZzIt1lWUVU3r3dV11OBwev0S3xHU8C/BtXfXlz5ZVTMYLAhmxkREbGbGRERsZsZERGxmxkREbGbGRERsZsZERG5lF/ndCLNPzdZVlFZNyLZyMdRUZJxsZgxcyBi9kDF7I+KhLRmxkxEZGbGTERkZsZMRGRmxkxEZGbGTERkZsZMRGxuCFjMELGdfCyRi8kHGykTF4IWPwQsbghYyPumTERkZsZMRGRmxkxEZGbGTERkZsZMRGRmxkxEZGbGTERsa6iox1FRkbBDLWVWScbGSsq8hYV5GxriLjoy4ZsZERGxmxkREbGbGRERsZsZERGxmxkREbGbGRERsZgxcyBi9kXAsnY/BCxslGxuCFjMELGYMXMj7qkhEbGbGRERsZsZERGxmxkREbGbGRERsZsZERGxmxkTF4IWPwQsa1cDIGL2S8IJDxa5SMdRUZ6yoy1lVkvCCQERsZsZERGxmxkREbGbGRERsZsZERGxmxkREbGbGRsa4iY11FxrVwMtZVZJxsZAxeyBi8kDF4IeOjLhmxkREbGbGRERsZsZERGxmxkREbGbGRERsZsZERGxmDFzIGL2RcCydj8ELm+5PtrZyM/NSLwctbGczwK+uvg5dnO4T/5Xw+vz8ej7vT6XQ3xhAbr3wbvOz3+49/4O8zmOGnfNQlIzYyYiMjNjJiIyM2MmIjIzYyYiMjNjJiIyM2MmIj88cGL0Yz/M7zwcubrwcZzPArroWTMXgh4wWBjNjIiI2M2MiIjYzYyIiNjNjIiI3MfxEc+Do2axzUAAAAAElFTkSuQmCC\"></img></td>\n",
       "      <td id=\"T_4de02_row20_col5\" class=\"data row20 col5\" >35<br>(0.2%)</td>\n",
       "    </tr>\n",
       "    <tr>\n",
       "      <td id=\"T_4de02_row21_col0\" class=\"data row21 col0\" >22</td>\n",
       "      <td id=\"T_4de02_row21_col1\" class=\"data row21 col1\" ><strong>Joined</strong><br>[object]</td>\n",
       "      <td id=\"T_4de02_row21_col2\" class=\"data row21 col2\" >1. nan<br>2. Jul 1, 2021<br>3. Jul 1, 2022<br>4. Jul 1, 2019<br>5. Jul 1, 2020<br>6. Jan 1, 2020<br>7. Jan 1, 2022<br>8. Jan 1, 2021<br>9. Jul 1, 2018<br>10. Jan 1, 2019<br>11. other</td>\n",
       "      <td id=\"T_4de02_row21_col3\" class=\"data row21 col3\" >1,098 (6.2%)<br>914 (5.2%)<br>795 (4.5%)<br>627 (3.6%)<br>529 (3.0%)<br>429 (2.4%)<br>377 (2.1%)<br>349 (2.0%)<br>296 (1.7%)<br>228 (1.3%)<br>12,018 (68.1%)</td>\n",
       "      <td id=\"T_4de02_row21_col4\" class=\"data row21 col4\" ><img src = \"data:image/png;base64, iVBORw0KGgoAAAANSUhEUgAAAJsAAAD+CAYAAAAtWHdlAAAAOnRFWHRTb2Z0d2FyZQBNYXRwbG90bGliIHZlcnNpb24zLjEwLjAsIGh0dHBzOi8vbWF0cGxvdGxpYi5vcmcvlHJYcgAAAAlwSFlzAAAPYQAAD2EBqD+naQAABG5JREFUeJzt3UtO3FgAhtELQnSYFEJILCMLYBFZbC+iFsA+EKIGIZ0JPchDEOqB0vYHcZ8zi1IDS/l0S2X5j48eHx8HFI7f+gL4/xAbGbGRERsZsZERGxmxkREbGbGRORpjnI0xTl/x2a+Pj48PM18PC3ZyeXn5abVaXRz64GazuTs6OvpbcPyuk9VqdXF9ff1wfn7+ZdeH7u/vP6zX64vb29vTMYbY+C0nY4xxfn7+5erq6vOBz54F18OC+YFARmxkxEZGbGTERkZsZMRGRmxkxEZGbGTERkZsZMRGRmxkTsb49rzavg8d+nt4jZPNZnO3Xq8vxoHn1Tabzd0Y42tzWSyRDQKZI/9lFpXXnGxONCZxcF1lVcVU9q6rrKqY0mvWVVZVTMJNXTJiIyM2MmIjIzYyYiMjNjJiIyM2MmIjIzYyYiMjNjJ7By+GLkzp4ODF0IWpeCycjMELmUMnm1ONyewdvBi7MKWdgxdjF6Z2aPBi7MJk3NQlIzYyYiMjNjJiIyM2MmIjIzYyYiMjNjJiIyM2MmIjs3PwYuzC1PYOXoxdmJLHwskYvJDxA4HMvq9RX6FMaue6yrKKqW1dV1lWMYd96yrLKiblBwIZsZERGxmxkREbGbGRERsZsZERGxmxkREbGbGRERuZresqyyrmsHNdZVnF1DwWTsa6isyuk82pxuS2Dl6MXZjDi8GLsQtz2TV4MXZhcm7qkhEbGbGRERsZsZERGxmxkREbGbGRERsZsZERGxmxkXkxeDF2YS5bBy/GLszBY+FkDF7IbDvZnGrM4sXgxdiFuTwbvBi7MKdtgxdjF2bhpi4ZsZERGxmxkREbGbGRERsZsZERGxmxkREbGbGRERsZsZF5tq6yrGJOL9ZVllXMxQaBjHUVmV9PNqcas3m2rrKsYk7HP9ZV19fXD9+j2/Y6SPjPfq6rvv/ZsorZuKlLRmxkxEZGbGTERkZsZMRGRmxkxEZGbGTERkZsZMRG5sXrhGAuTwcvxi7MymPhZAxeyDjZyBi8kDF4IWPwQsZNXTJiIyM2MmIjIzYyYiMjNjJiIyM2MmIjIzYyYiMjNjIGL2QMXsh4LJyMwQsZPxDI+BolY11FxrqKjHUVGT8QyIiNjNjIiI2M2MiIjYzYyIiNjNjIiI2M2MiIjYzYyFhXkbGuIuOxcDLWVWSenmxONWb1c/Bi7MLcjler1cXHjx+HsQtzOx5jjLOzs3/e+kJYPjd1yYiNjNjIiI2M2MiIjYzYyIiNjNjIiI2M2MiIjYzYyByPMcbDw8Nfb30hLN/xZrO5u7m5MXZhdh4LJ2PwQubXKR/v0yK+dZ694YX3aSljpJMfb3h58uIN3pH7+/sP6/X64vb29nSM8WfHNsa3N7xcXV19fuuLYadFvHnHTV0yYiMjNjJiIyM2MmIjIzYyYiMjNjJiIyM2MmIjIzYy3vDyzi3p3+bpG14W8RjLEi1ljOSx8D/DIh4LN3gh4wcCGbGRERsZsZERGxmxkREbGbGRERuZfwHacRqq1F4qSQAAAABJRU5ErkJggg==\"></img></td>\n",
       "      <td id=\"T_4de02_row21_col5\" class=\"data row21 col5\" >1,098<br>(6.2%)</td>\n",
       "    </tr>\n",
       "    <tr>\n",
       "      <td id=\"T_4de02_row22_col0\" class=\"data row22 col0\" >23</td>\n",
       "      <td id=\"T_4de02_row22_col1\" class=\"data row22 col1\" ><strong>Loaned From</strong><br>[object]</td>\n",
       "      <td id=\"T_4de02_row22_col2\" class=\"data row22 col2\" >1. nan<br>2. <a href=\"/team/1876/river-plat<br>3. <a href=\"/team/45/juventus/\">J<br>4. <a href=\"/team/10/manchester-c<br>5. <a href=\"/team/1/arsenal/\">Ars<br>6. <a href=\"/team/110/wolverhampt<br>7. <a href=\"/team/1808/brighton-h<br>8. <a href=\"/team/44/inter/\">Inte<br>9. <a href=\"/team/1877/boca-junio<br>10. <a href=\"/team/111974/us-sassu<br>11. other</td>\n",
       "      <td id=\"T_4de02_row22_col3\" class=\"data row22 col3\" >16,966 (96.1%)<br>12 (0.1%)<br>12 (0.1%)<br>12 (0.1%)<br>12 (0.1%)<br>11 (0.1%)<br>11 (0.1%)<br>11 (0.1%)<br>11 (0.1%)<br>10 (0.1%)<br>592 (3.4%)</td>\n",
       "      <td id=\"T_4de02_row22_col4\" class=\"data row22 col4\" ><img src = \"data:image/png;base64, iVBORw0KGgoAAAANSUhEUgAAAJsAAAD+CAYAAAAtWHdlAAAAOnRFWHRTb2Z0d2FyZQBNYXRwbG90bGliIHZlcnNpb24zLjEwLjAsIGh0dHBzOi8vbWF0cGxvdGxpYi5vcmcvlHJYcgAAAAlwSFlzAAAPYQAAD2EBqD+naQAAA9lJREFUeJzt3EFqI1cYRtG/jHDaEwlh8BKSPXgRvdhehBaRPQihGrQdT5RBE3BMJxDovgLlnJGo0RtceBTUp+VyuQwU7q59AP4/xEZGbGTERkZsZMRGRmxkxEZGbGSWmXmYmftrH4Sb8na5XF4+Ptw8Pj5+3m63+2uciNu0rutpWZYvH4PbbLfb/fPz88tut3u91uG4Hefz+dPhcNgfj8f7mfl7bDMzu93u9enp6etVTsctevjeQy8IZMRGRmxkxEZGbGTERkZsZMRGRmxkxEZGbGTERkZsZMRGZjPz7Rukax+E2/BvLW3WdT0dDof9/MM3SPBfret6mpm3j89tEPgZvrtBWPxlFhUvCGTulmX5bVkWLwj8dHcz8+vM/HLtg3D7XKNkxEZGbGTERkZsZMRGRmxkxEZGbGTERkZsZMRGRmxkxEZGbGTuZub3mfnj2gfh9tkgkHGNkhEbGYMXMgYvZFyjZMRGRmxkxEZGbGTERkZsZMRGRmxkxEZGbGTERkZsZMRGRmxkDF7IGLyQcY2SERsZsZGxriJjXUXGNUpGbGTERkZsZMRGRmxkxEZGbGTERkZsZMRGRmxkxEZGbGTERsa6iox1FRnXKBmxkTF4IWPwQsY1SkZsZMRGRmxkxEZGbGTERkZsZMRGRmxkxEZGbGTERkZsZMRGxuCFjMELGdcoGbGRMXghY/BCxjVKRmxkxEZGbGTERkZsZMRGRmxkxEZGbGTERkZsZMRGRmxkxEZGbGSsq8hYV5FxjZIRGxnrKjLWVWRco2TERkZsZMRGRmxkxEZGbGTERkZsZMRGRmxkxEZGbGTERkZsZAxeyBi8kHGNkhEbGYMXMgYvZFyjZMRGRmxkxEZGbGTERkZsZMRGRmxkxEZGbGTERkZsZMRGRmxkDF7IGLyQcY2SERsZsZGxriJjXUXGNUpGbGTERkZsZMRGRmxkxEZGbGTERkZsZMRGRmxkxEZGbGTERsa6iox1FRnXKBmxkTF4IWPwQsY1SkZsZMRGRmxkxEZGbGTERkZsZMRGRmxkxEZGbGTERkZsZMRGxuCFjMELGdcomWVmHmbm/sPzt8vl8nKF83DDNo+Pj5+32+3+/cN1XU/LsnwRHD/SZrvd7p+fn192u93rzMz5fP50OBz2x+PxfmbExg+zmZnZ7XavT09PX989f7jSebhhXhDIiI2M2MiIjYzYyIiNjNjIiI2M2MiIjYzYyIiNjNjIbGa+fVb014P3v+FH2qzrejocDvt591nRuq6nmXm73rG4RT4LJ2NdRcYLAhmxkREbGbGRERsZsZERGxmxkREbmT8BDCieNIVkh24AAAAASUVORK5CYII=\"></img></td>\n",
       "      <td id=\"T_4de02_row22_col5\" class=\"data row22 col5\" >16,966<br>(96.1%)</td>\n",
       "    </tr>\n",
       "    <tr>\n",
       "      <td id=\"T_4de02_row23_col0\" class=\"data row23 col0\" >24</td>\n",
       "      <td id=\"T_4de02_row23_col1\" class=\"data row23 col1\" ><strong>Contract Valid Until</strong><br>[object]</td>\n",
       "      <td id=\"T_4de02_row23_col2\" class=\"data row23 col2\" >1. 2023<br>2. 2024<br>3. 2022<br>4. 2025<br>5. 2026<br>6. 2021<br>7. Jun 30, 2023<br>8. 2027<br>9. nan<br>10. 2020<br>11. other</td>\n",
       "      <td id=\"T_4de02_row23_col3\" class=\"data row23 col3\" >4,595 (26.0%)<br>3,665 (20.8%)<br>3,261 (18.5%)<br>2,133 (12.1%)<br>1,117 (6.3%)<br>937 (5.3%)<br>451 (2.6%)<br>399 (2.3%)<br>361 (2.0%)<br>203 (1.1%)<br>538 (3.0%)</td>\n",
       "      <td id=\"T_4de02_row23_col4\" class=\"data row23 col4\" ><img src = \"data:image/png;base64, iVBORw0KGgoAAAANSUhEUgAAAJsAAAD+CAYAAAAtWHdlAAAAOnRFWHRTb2Z0d2FyZQBNYXRwbG90bGliIHZlcnNpb24zLjEwLjAsIGh0dHBzOi8vbWF0cGxvdGxpYi5vcmcvlHJYcgAAAAlwSFlzAAAPYQAAD2EBqD+naQAABINJREFUeJzt3U1O3FgARtFXCNFhUgghsYwsgEX0YnsRtQD2gRA1COlM6EEHBOE3wb4mqXNmZOTB1SvZ8hevbm5uBhT2lr4AdofYyIiNjNjIiI2M2MiIjYzYyIiNzGqMcTjGOFj6Ql7w7ebm5nrpi+D99k9OTv5er9fHS1/Ic7bb7eVqtfpHcL+//fV6fXx2dnZ9dHT0demL+dHV1dWnzWZzfHFxcTDGENtvbn+MMY6Ojr6enp5+WfpinnG49AUwDTcIZMRGRmxkxEZGbGTERkZsZMRGRmxkxEZGbGTERkZsZMRGZn+M/98bW/pCnvJRr4tfs7/dbi83m83x+KDvjW2328sxxrelr4P3s0Egs/JfZlH5CCebk2tHLL6usp7aHYuuq6yndstHWFd9yLtgpuehLhmxkREbGbGRERsZsZERGxmxkREbGbGRERsZsZERG5lFBy8GLbtl8cGLQcvu8Fo4GYMXMkudbE6zHbTI4MXIZTflgxcjl9211ODFyGUHeahLRmxkxEZGbGTERkZsZMRGRmxkxEZGbGTERkZsZMRGJh+8GLnsrkUGL0Yuu8lr4WQMXsi4QSAz9c+on0eeNem6ymqKl0y2rrKa4jVTr6uspniWGwQyYiMjNjJiIyM2MmIjIzYyYiMjNjJiIyM2MmIjIzYyk62rrKZ4zaTrKqspXuK1cDLWVWR+5mRzavEubx68GLPwXm8avBizMIWfGbwYs/AuHuqSERsZsZERGxmxkREbGbGRERsZsZERGxmxkREbGbGRedPgxZiFKbx58GLMwnt5LZyMwQuZt5xsTjQm8ergxdCFqbw4eDF0YUpvGbwYujAJD3XJiI2M2MiIjYzYyIiNjNjIiI2M2MiIjYzYyIiNjNjIiI3Mi+sqqyqm9Oq6yqqKqdggkLGuIvPUyeYkYxaP1lXWVMzlwbrKmoo5PbWusqZiFh7qkhEbGbGRERsZsZERGxmxkREbGbGRERsZsZERGxmxkXkweDFwYU6PBi8GLszFa+FkDF7IONnIGLyQMXghY/BCxkNdMmIjIzYyYiMjNjJiIyM2MmIjIzYyYiMjNjJiIyM2MgYvZAxeyHgtnIzBCxk3CGR+/Bn1E8psHqyrLKuY097tuurs7Oz6e3QvfQ4Sftnduur735ZVzMYNAhmxkREbGbGRERsZsZERGxmxkREbGbGRERsZsZERG5kH6yqY0/11lWUVs/JaOBnrKjL3TzanGrO6G7wYuzC3vfV6ffz58+dh7MLc9sYY4/Dw8N+lL4Q/n4e6ZMRGRmxkxEZGbGTERkZsZMRGRmxkxEZGbGTERkZsZPbGGOP6+vqvpS+EP9/edru9PD8/N3Zhdl4LJ2PwQuapD6WN4ZRjBg++8HLL+IU57N9+4eX2wxtXV1efNpvN8cXFxcEYQ2xM5u4LL6enp1/u/bsvvTA5D3XJiI2M2MiIjYzYyIiNjNjIiI2M2MiIjYzYyIiNjNjIPPrCi6+9MJf7X3i5e63I+IU5eC2cjMELGTcIZMRGRmxkxEZGbGTERkZsZMRGRmxk/gNmbjNoJKNXPgAAAABJRU5ErkJggg==\"></img></td>\n",
       "      <td id=\"T_4de02_row23_col5\" class=\"data row23 col5\" >361<br>(2.0%)</td>\n",
       "    </tr>\n",
       "    <tr>\n",
       "      <td id=\"T_4de02_row24_col0\" class=\"data row24 col0\" >25</td>\n",
       "      <td id=\"T_4de02_row24_col1\" class=\"data row24 col1\" ><strong>Height</strong><br>[object]</td>\n",
       "      <td id=\"T_4de02_row24_col2\" class=\"data row24 col2\" >1. 180cm<br>2. 178cm<br>3. 175cm<br>4. 185cm<br>5. 183cm<br>6. 182cm<br>7. 188cm<br>8. 184cm<br>9. 186cm<br>10. 177cm<br>11. other</td>\n",
       "      <td id=\"T_4de02_row24_col3\" class=\"data row24 col3\" >1,441 (8.2%)<br>1,199 (6.8%)<br>1,172 (6.6%)<br>1,100 (6.2%)<br>1,027 (5.8%)<br>820 (4.6%)<br>772 (4.4%)<br>713 (4.0%)<br>678 (3.8%)<br>666 (3.8%)<br>8,072 (45.7%)</td>\n",
       "      <td id=\"T_4de02_row24_col4\" class=\"data row24 col4\" ><img src = \"data:image/png;base64, iVBORw0KGgoAAAANSUhEUgAAAJsAAAD+CAYAAAAtWHdlAAAAOnRFWHRTb2Z0d2FyZQBNYXRwbG90bGliIHZlcnNpb24zLjEwLjAsIGh0dHBzOi8vbWF0cGxvdGxpYi5vcmcvlHJYcgAAAAlwSFlzAAAPYQAAD2EBqD+naQAAA/BJREFUeJzt3EFqG0kAhtHSIMJkI2EMPowPMYedQ+g2xliLJGSjLGYzC0vuTpe+Ac97awuE+SjTTf3eXS6XAYU//usvwP+H2MiIjYzYyIiNjNjIiI2M2MiIjcxujPF1jPFl5ed+Xi6X73f4Pnxi+8fHx78Oh8PDmg+dz+fX3W73t+BYY384HB6en5+/H4/HH0s+8Pb29ufpdHp4eXn5MsYQG4vtxxjjeDz+eHp6+rbic1/v9H34xDwgkBEbGbGRERsZsZERGxmxkREbGbGRERsZsZERGxmxkREbmf0Y/9xRW/qBNT8L/7Y/n8+vp9PpYay4o3Y+n1/HGD/v97X4jGwQyOz8yywqa082Jxq/bdW6yqqKLRavq6yq2Grtusqqit/mpS4ZsZERGxmxkREbGbGRERsZsZERGxmxkREbGbGRERuZxYMXQxe2WjV4MXRhC9fCyRi8kFlzsjnV2GTx4MXYha0WDV6MXZhhzeDF2IVNvNQlIzYyYiMjNjJiIyM2MmIjIzYyYiMjNjJiIyM2MmIjs2jwYuzCDIsHL8YubOVaOBmDFzIeEMj4M0rGuoqMdRUZ6yoyHhDIiI2M2MiIjYzYyIiNjNjIiI2M2MiIjYzYyIiNjNjIWFeRsa4i41o4GesqMktPNqcamy0avBi7MMOHgxdjF2ZZOngxdmEzL3XJiI2M2MiIjYzYyIiNjNjIiI2M2MiIjYzYyIiNjNjIfDh4MXZhlkWDF2MXZnAtnIzBC5mPTjYnGtPcHLwYujDT1cGLoQuzfTR4MXRhGi91yYiNjNjIiI2M2MiIjYzYyIiNjNjIiI2M2MiIjYzYyIiNzNV1lVUVs91cV1lVMZMNAhnrKjJONjLWVWSsq8hYV5HxUpeM2MiIjYzYyIiNjNjIiI2M2MiIjYzYyIiNjNjIiI2MwQsZgxcyroWTMXghc+tkc6ox1dXBi7ELs707eDF24R5uDV6MXZjKS10yYiMjNjJiIyM2MmIjIzYyYiMjNjJiIyM2MmIjIzYy7w5ejF24h6uDF2MXZnMtnIzBCxkPCGT8GSVjXUXGuoqMdRUZDwhkxEZGbGTERkZsZMRGRmxkxEZGbGTERkZsZMRGRmxkrKvIWFeRcS2cjHUVGScbGYMXMgYvZAxeyHipS0ZsZMRGRmxkxEZGbGTERkZsZMRGRmxkxEZGbGTERsbghYzBCxnXwskYvJC5dbLhdJ/q6uAFo5/Z3h28YPRzD7cGLxj9TOWlLhmxkREbGbGRERsZsZERGxmxkREbGbGRERsZsZERG5l3By/4ndzD1cELRj+zuRZ+m2vhExm8kPGAQEZsZMRGRmxkxEZGbGTERkZsZMRG5hclNk7ib84HFAAAAABJRU5ErkJggg==\"></img></td>\n",
       "      <td id=\"T_4de02_row24_col5\" class=\"data row24 col5\" >0<br>(0.0%)</td>\n",
       "    </tr>\n",
       "    <tr>\n",
       "      <td id=\"T_4de02_row25_col0\" class=\"data row25 col0\" >26</td>\n",
       "      <td id=\"T_4de02_row25_col1\" class=\"data row25 col1\" ><strong>Weight</strong><br>[object]</td>\n",
       "      <td id=\"T_4de02_row25_col2\" class=\"data row25 col2\" >1. 70kg<br>2. 75kg<br>3. 72kg<br>4. 80kg<br>5. 73kg<br>6. 78kg<br>7. 74kg<br>8. 76kg<br>9. 77kg<br>10. 68kg<br>11. other</td>\n",
       "      <td id=\"T_4de02_row25_col3\" class=\"data row25 col3\" >1,576 (8.9%)<br>1,490 (8.4%)<br>1,021 (5.8%)<br>954 (5.4%)<br>936 (5.3%)<br>924 (5.2%)<br>852 (4.8%)<br>762 (4.3%)<br>757 (4.3%)<br>740 (4.2%)<br>7,648 (43.3%)</td>\n",
       "      <td id=\"T_4de02_row25_col4\" class=\"data row25 col4\" ><img src = \"data:image/png;base64, iVBORw0KGgoAAAANSUhEUgAAAJsAAAD+CAYAAAAtWHdlAAAAOnRFWHRTb2Z0d2FyZQBNYXRwbG90bGliIHZlcnNpb24zLjEwLjAsIGh0dHBzOi8vbWF0cGxvdGxpYi5vcmcvlHJYcgAAAAlwSFlzAAAPYQAAD2EBqD+naQAAA/9JREFUeJzt3U1qW0kARtFSI0JnImEMXowX0YvtRWg3xliDTshEPehRQ/TzlHo3YJ0zjkCYSwk96os2p9NpQOGP3/0GeBxiIyM2MmIjIzYyYiMjNjJiIyM2Mpsxxtcxxpc7XvvjdDp9m/x++MS2z8/Pf+12u6elLzwej++bzeZvwXGr7W63e3p9ff223++/3/qij4+PPw+Hw9Pb29uXMYbYuMl2jDH2+/33l5eXfxa+9usK74dPzBcEMmIjIzYyYiMjNjJiIyM2MmIjIzYyYiMjNjJiIyM2MmIjsx3jv/tpS1609N/DGGNsj8fj++FweBoL76cdj8f3McaPdd4Wn5ENApmN/zKLyr0nm1ONxe5aV1lWcY/F6yrLKu5177rKsorFPNQlIzYyYiMjNjJiIyM2MmIjIzYyYiMjNjJiIyM2MmIjs3jwYuzCve4avBi7cA/XwskYvJC59WRzkvHLbhq8GLgww9XBi4ELs9w6eDFw4Zd5qEtGbGTERkZsZMRGRmxkxEZGbGTERkZsZMRGRmxkxEbm6uDFwIVZbhq8GLgwg2vhZAxeyPiCQOaWj1EfoUxxdV1lWcUsF9dVllXMdMu6yrKKKXxBICM2MmIjIzYyYiMjNjJiIyM2MmIjIzYyYiMjNjJiI3NxXWVZxUxX11WWVcziWjgZ6yoyTjYyBi9kDF7IGLyQ8VCXjNjIiI2M2MiIjYzYyIiNjNjIiI2M2MiIjYzYyIiNjMELGYMXMq6FkzF4IeNkI2PwQsbghYzBCxkPdcmIjYzYyIiNjNjIiI2M2MiIjYzYyIiNjNjIiI2M2MiIjYx1FRnrKjI2CGSsq8hcO9mcakxzcV1lWcVMZ9dVllXMdm1dZVnFNB7qkhEbGbGRERsZsZERGxmxkREbGbGRERsZsZERGxmxkTk7eDF2YbaLgxdjF2ZyLZyMwQsZJxsZgxcyBi9kDF7IeKhLRmxkxEZGbGTERkZsZMRGRmxkxEZGbGTERkZsZMRGxuCFjMELGdfCyRi8kPEFgYyPUTLWVWSsq8hYV5HxBYGM2MiIjYzYyIiNjNjIiI2M2MiIjYzYyIiNjNjIiI2MdRUZ6yoyroWTsa4ic+lkc6ox1dnBi7ELs/108GLswhouDV6MXZjKQ10yYiMjNjJiIyM2MmIjIzYyYiMjNjJiIyM2MmIjIzYyPx28GLuwhrODF2MXZnMtnIzBC5lrU75H4zRf0cVfeHk0Rj7rOvsLL4/GyGd9137h5dEY+azIQ10yYiMjNjJiIyM2MmIjIzYyYiMjNjJiIyM2MmIjIzYyZ3/h5dH4G6zv4i+8PBojn3W5Fv5/roWvyOCFjC8IZMRGRmxkxEZGbGTERkZsZMRGRmxk/gU8vU7in62J5QAAAABJRU5ErkJggg==\"></img></td>\n",
       "      <td id=\"T_4de02_row25_col5\" class=\"data row25 col5\" >0<br>(0.0%)</td>\n",
       "    </tr>\n",
       "    <tr>\n",
       "      <td id=\"T_4de02_row26_col0\" class=\"data row26 col0\" >27</td>\n",
       "      <td id=\"T_4de02_row26_col1\" class=\"data row26 col1\" ><strong>Release Clause</strong><br>[object]</td>\n",
       "      <td id=\"T_4de02_row26_col2\" class=\"data row26 col2\" >1. nan<br>2. €1.2M<br>3. €1.1M<br>4. €1.3M<br>5. €1.4M<br>6. €1.6M<br>7. €1.5M<br>8. €1.8M<br>9. €1.7M<br>10. €2M<br>11. other</td>\n",
       "      <td id=\"T_4de02_row26_col3\" class=\"data row26 col3\" >1,151 (6.5%)<br>525 (3.0%)<br>514 (2.9%)<br>385 (2.2%)<br>368 (2.1%)<br>342 (1.9%)<br>322 (1.8%)<br>273 (1.5%)<br>265 (1.5%)<br>261 (1.5%)<br>13,254 (75.1%)</td>\n",
       "      <td id=\"T_4de02_row26_col4\" class=\"data row26 col4\" ><img src = \"data:image/png;base64, iVBORw0KGgoAAAANSUhEUgAAAJsAAAD+CAYAAAAtWHdlAAAAOnRFWHRTb2Z0d2FyZQBNYXRwbG90bGliIHZlcnNpb24zLjEwLjAsIGh0dHBzOi8vbWF0cGxvdGxpYi5vcmcvlHJYcgAAAAlwSFlzAAAPYQAAD2EBqD+naQAABCtJREFUeJzt3UFOG2cAhuEfZNF4Y8tC4hgcwIfoYXsIH4B7IMQsYpoNXSRBtIRCE+a15T7PDsWLkXg11oz+j5w9Pj4OKJwf+gL4/xAbGbGRERsZsZERGxmxkREbGbGRORtjLMcYF+/47JfHx8f9zNfDCVtcXl7+vlqtNm99cJqmu7Ozsz8Ex89arFarzXa73a/X64fXPnR/f/9pt9ttbm9vL8YYYuOnLMYYY71eP1xdXX1+47PL4Ho4YR4QyIiNjNjIiI2M2MiIjYzYyIiNjNjIiI2M2MiIjYzYyIiNzGKMr+fV/u1Db/07vMdimqa73W63GW+cV5um6W6M8aW5LE6RDQKZM38yi8prdzZ3MT7cD9dVllTM4cW6ypKKuby2rrKk4sN5qUtGbGTERkZsZMRGRmxkxEZGbGTERkZsZMRGRmxkxEbmxeDFuIW5/HDwYtzCHBwLJ2PwQsadjYzBCxmDFzIGL2S81CUjNjJiIyM2MmIjIzYyYiMjNjJiIyM2MmIjIzYyYiNj8ELG4IWMY+FkDF7IeEAg88+vUV+fzOZv6yqrKuZ0/n1dtd1u99+ie89/Bwn/2dO66tvPVlXMxgMCGbGRERsZsZERGxmxkREbGbGRERsZsZERGxmxkREbmRfrKpjL83WVVRWzciycjHUVGXc2MgYvZAxeyBi8kPFSl4zYyIiNjNjIiI2M2MiIjYzYyIiNjNjIiI2M2MiIjYzBCxmDFzKOhZMxeCHjzkbG4IWMwQsZgxcyXuqSERsZsZERGxmxkREbGbGRERsZsZERGxmxkREbGbGRERsZ6yoy1lVkbBDIWFeRcWcjY11FxrqKjHUVGS91yYiNjNjIiI2M2MiIjYzYyIiNjNjIiI2M2MiIjYzYyBi8kDF4IeNYOBmDFzLP72zuaszqafBi7MLczler1eb6+noYuzC38zHGWC6Xfx76Qjh9XuqSERsZsZERGxmxkREbGbGRERsZsZERGxmxkREbGbGROR9jjP1+/9uhL4TTdz5N093NzY2xC7NzLJyMwQsZDwhkfI2Ssa4iY11FxrqKjAcEMmIjIzYyYiMjNjJiIyM2MmIjIzYyYiMjNjJiIyM2MtZVZKyryDgWTsa6iow7GxmDFzIGL2QMXsh4qUtGbGTERkZsZMRGRmxkxEZGbGTERkZsZMRGRmxkxEbG4IWMwQsZx8LJGLyQeX5n4zQc7TfU0+Dl0BfCxzjm4dJitVptttvtfr1ePxz6Yvg19/f3n3a73eb29vZijHF8sY0xxnq9fri6uvp86IvhQywPfQGv8VKXjNjIiI2M2MiIjYzYyIiNjNjIiI2M2MiIjYzYyIiNzGKMr0dTDn0h/Lpj/z0upmm62+12m3HER1N4v2MeLjkWfnqO9li4wQsZDwhkxEZGbGTERkZsZMRGRmxkxEZGbGT+Airq8AY9mDAYAAAAAElFTkSuQmCC\"></img></td>\n",
       "      <td id=\"T_4de02_row26_col5\" class=\"data row26 col5\" >1,151<br>(6.5%)</td>\n",
       "    </tr>\n",
       "    <tr>\n",
       "      <td id=\"T_4de02_row27_col0\" class=\"data row27 col0\" >28</td>\n",
       "      <td id=\"T_4de02_row27_col1\" class=\"data row27 col1\" ><strong>Kit Number</strong><br>[float64]</td>\n",
       "      <td id=\"T_4de02_row27_col2\" class=\"data row27 col2\" >Mean (sd) : 25.0 (19.2)<br>min < med < max:<br>1.0 < 22.0 < 99.0<br>IQR (CV) : 21.0 (1.3)</td>\n",
       "      <td id=\"T_4de02_row27_col3\" class=\"data row27 col3\" >99 distinct values</td>\n",
       "      <td id=\"T_4de02_row27_col4\" class=\"data row27 col4\" ><img src = \"data:image/png;base64, iVBORw0KGgoAAAANSUhEUgAAAKoAAABGCAYAAABc8A97AAAAOnRFWHRTb2Z0d2FyZQBNYXRwbG90bGliIHZlcnNpb24zLjEwLjAsIGh0dHBzOi8vbWF0cGxvdGxpYi5vcmcvlHJYcgAAAAlwSFlzAAAPYQAAD2EBqD+naQAAAs9JREFUeJzt3U1u2kAYgOFvSgDzoxlZVLDLBSJ1kaUPkcP2CImUE3ADdkjIAkGxMIauUnWRAp6xiz/nffbD2NILY4w8mPP5LEDTfbv3AQC3eLj3AVxijBmISM9z+OF8Pu+rPB7cT2NDNcYMJpPJi7U29hm/2WxSY8xPYm2HxoYqIj1rbZwkyd45l5UZuF6vo/f393i1WvVEhFBboNZQA5duezqdus65dDqd/vIYP/CcFw1UW6ihS3ee51FRFE9Zlr2KiE+oaJE6P1G9l24RkcViEc/n8+HxeOzUcXDQ5WqoAct30NKdpilLN/64GGrI8s3SjSpd+0T1Xr5ZulGlm65RnXNZ2eWbpRtV4idUqECoUIFQoQKhQgVChQqEChUIFSoQKlQgVKhAqFCBUKECoUIFQoUKhAoVCBUqNPlx6SBFUXRFxBpjfF+CDSwapJWh7na7bp7nPx4fHzudTqf0g4UibGDRNK0M9XA4PERRNHx+fs5ms1ladjwbWDRPK0P9MBqNSj9C8xcepWkQvkxBBUKFCoQKFQgVKhAqVCBUqECoUIFQoQKhQgVChQqEChUIFSoQKlQgVKhAqFCBUKECoUIFQoUKhAoVCBUqECpUIFSoQKhQgVChAqFChVbvlBIicJM1NlirGKF+InSTNTZYqx6hfiJkkzU2WKsHoV4QsMkaG6xVjC9TUIFQoQKhQgWuUWvwVW9tGWMGItLzHH7xvAm1Yve+tVVnLNfmnUwmL9ba2Gf8tfMm1Ird89ZW3bFc0bPWxkmS7J1zpd6gt5w3odbE99ZWURRW/C8b7Hg8niZJsvGJ5e3tbbparb4bYzY+c59Op65zLq3jlh6hNkjoZUOe51FRFE/9fv+1bCxVzZ1l2auI+P7Bxz8RaoOE/u3QYrGI5/P58Hg8djTNfYubQl2v11HZF95ut5GIyG63i5bL5fB/jtc698fYUNrmvqWv31OMliQk/4V3AAAAAElFTkSuQmCC\"></img></td>\n",
       "      <td id=\"T_4de02_row27_col5\" class=\"data row27 col5\" >35<br>(0.2%)</td>\n",
       "    </tr>\n",
       "    <tr>\n",
       "      <td id=\"T_4de02_row28_col0\" class=\"data row28 col0\" >29</td>\n",
       "      <td id=\"T_4de02_row28_col1\" class=\"data row28 col1\" ><strong>Best Overall Rating</strong><br>[object]</td>\n",
       "      <td id=\"T_4de02_row28_col2\" class=\"data row28 col2\" >1. nan<br>2. <span class=\"bp3-tag p p-64\">6<br>3. <span class=\"bp3-tag p p-65\">6<br>4. <span class=\"bp3-tag p p-62\">6<br>5. <span class=\"bp3-tag p p-60\">6<br>6. <span class=\"bp3-tag p p-58\">5<br>7. <span class=\"bp3-tag p p-66\">6<br>8. <span class=\"bp3-tag p p-76\">7<br>9. <span class=\"bp3-tag p p-78\">7<br>10. <span class=\"bp3-tag p p-77\">7<br>11. other</td>\n",
       "      <td id=\"T_4de02_row28_col3\" class=\"data row28 col3\" >17,639 (99.9%)<br>3 (0.0%)<br>3 (0.0%)<br>2 (0.0%)<br>2 (0.0%)<br>2 (0.0%)<br>1 (0.0%)<br>1 (0.0%)<br>1 (0.0%)<br>1 (0.0%)<br>5 (0.0%)</td>\n",
       "      <td id=\"T_4de02_row28_col4\" class=\"data row28 col4\" ><img src = \"data:image/png;base64, iVBORw0KGgoAAAANSUhEUgAAAJsAAAD+CAYAAAAtWHdlAAAAOnRFWHRTb2Z0d2FyZQBNYXRwbG90bGliIHZlcnNpb24zLjEwLjAsIGh0dHBzOi8vbWF0cGxvdGxpYi5vcmcvlHJYcgAAAAlwSFlzAAAPYQAAD2EBqD+naQAAAy1JREFUeJzt3MGN02AURtHnKIJhY2tkKSVAD1MEW3qnC29gWIUFNXAtec6p4F9c6clSvizP53OgcDv7AXwcYiMjNjJiIyM2MmIjIzYyYiMjNjLLzHyZmU9nP4Tru+/7/n1d19ezH8L13dd1fX17e/u9bdv72Y/huo7jeLnPzGzb9v54PH6d/SCuzQcCGbGRERsZsZERGxmxkREbGbGRERsZsZERGxmxkREbGbGRuc/8+63R2Q/h2o7jeFn2ff/hl7oUbBDILP4yi4oPBDK3ZVm+LcviA4H/7jYzX2fm89kP4fqcUTJiIyM2MmIjIzYyYiMjNjJiIyM2MmIjIzYyYiMjNjJiIyM2MreZ+Tkzf85+CNdng0DGGSUjNjIGL2QMXsg4o2TERkZsZMRGRmxkxEZGbGTERkZsZMRGRmxkxEZGbGTERkZsZAxeyBi8kHFGyYiNjNjIWFeRsa4i44ySERsZsZERGxmxkREbGbGRERsZsZERGxmxkREbGbGRERsZsZGxriJjXUXGGSUjNjIGL2QMXsg4o2TERkZsZMRGRmxkxEZGbGTERkZsZMRGRmxkxEZGbGTERkZsZAxeyBi8kHFGyYiNjMELGYMXMs4oGbGRERsZsZERGxmxkREbGbGRERsZsZERGxmxkREbGbGRERsZsZGxriJjXUXGGSUjNjLWVWSsq8g4o2TERkZsZMRGRmxkxEZGbGTERkZsZMRGRmxkxEZGbGTERkZsZAxeyBi8kHFGyYiNjMELGYMXMs4oGbGRERsZsZERGxmxkREbGbGRERsZsZERGxmxkREbGbGRERsZgxcyBi9knFEyYiMjNjLWVWSsq8g4o2TERkZsZMRGRmxkxEZGbGTERkZsZMRGRmxkxEZGbGTERkZsZKyryFhXkXFGyYiNjMELGYMXMs4oGbGRERsZsZERGxmxkREbGbGRERsZsZERGxmxkREbGbGRERsZgxcyBi9knFEyYiNj8ELG4IWMM0pGbGTERkZsZMRGRmxkxEZGbGTERkZsZMRGRmxkxEZGbGTERsbghYzBCxlnlIzYyIiNjNjIiI2M2MiIjYzYyIiNjNjI/AUSQEuCFletXgAAAABJRU5ErkJggg==\"></img></td>\n",
       "      <td id=\"T_4de02_row28_col5\" class=\"data row28 col5\" >17,639<br>(99.9%)</td>\n",
       "    </tr>\n",
       "  </tbody>\n",
       "</table>\n"
      ],
      "text/plain": [
       "<pandas.io.formats.style.Styler at 0x24c4f53b750>"
      ]
     },
     "execution_count": 144,
     "metadata": {},
     "output_type": "execute_result"
    }
   ],
   "source": [
    "from summarytools import dfSummary\n",
    "dfSummary(pandas_df)\n"
   ]
  },
  {
   "cell_type": "code",
   "execution_count": 145,
   "id": "388680ae",
   "metadata": {},
   "outputs": [],
   "source": [
    "#summarytools does not support polars dataframes\n",
    "# dfSummary(polars_df)"
   ]
  },
  {
   "cell_type": "markdown",
   "id": "031840ac",
   "metadata": {},
   "source": [
    "## NULL VALUES"
   ]
  },
  {
   "cell_type": "code",
   "execution_count": 146,
   "id": "45906df0",
   "metadata": {},
   "outputs": [
    {
     "data": {
      "text/html": [
       "<div><style>\n",
       ".dataframe > thead > tr,\n",
       ".dataframe > tbody > tr {\n",
       "  text-align: right;\n",
       "  white-space: pre-wrap;\n",
       "}\n",
       "</style>\n",
       "<small>shape: (1, 29)</small><table border=\"1\" class=\"dataframe\"><thead><tr><th>ID</th><th>Name</th><th>Age</th><th>Photo</th><th>Nationality</th><th>Flag</th><th>Overall</th><th>Potential</th><th>Club</th><th>Club Logo</th><th>Value</th><th>Wage</th><th>Special</th><th>Preferred Foot</th><th>International Reputation</th><th>Weak Foot</th><th>Skill Moves</th><th>Work Rate</th><th>Body Type</th><th>Real Face</th><th>Position</th><th>Joined</th><th>Loaned From</th><th>Contract Valid Until</th><th>Height</th><th>Weight</th><th>Release Clause</th><th>Kit Number</th><th>Best Overall Rating</th></tr><tr><td>u32</td><td>u32</td><td>u32</td><td>u32</td><td>u32</td><td>u32</td><td>u32</td><td>u32</td><td>u32</td><td>u32</td><td>u32</td><td>u32</td><td>u32</td><td>u32</td><td>u32</td><td>u32</td><td>u32</td><td>u32</td><td>u32</td><td>u32</td><td>u32</td><td>u32</td><td>u32</td><td>u32</td><td>u32</td><td>u32</td><td>u32</td><td>u32</td><td>u32</td></tr></thead><tbody><tr><td>0</td><td>0</td><td>0</td><td>0</td><td>0</td><td>0</td><td>0</td><td>0</td><td>211</td><td>0</td><td>0</td><td>0</td><td>0</td><td>0</td><td>0</td><td>0</td><td>0</td><td>0</td><td>0</td><td>0</td><td>0</td><td>0</td><td>0</td><td>0</td><td>0</td><td>0</td><td>0</td><td>0</td><td>0</td></tr></tbody></table></div>"
      ],
      "text/plain": [
       "shape: (1, 29)\n",
       "┌─────┬──────┬─────┬───────┬───┬────────┬────────────────┬────────────┬─────────────────────┐\n",
       "│ ID  ┆ Name ┆ Age ┆ Photo ┆ … ┆ Weight ┆ Release Clause ┆ Kit Number ┆ Best Overall Rating │\n",
       "│ --- ┆ ---  ┆ --- ┆ ---   ┆   ┆ ---    ┆ ---            ┆ ---        ┆ ---                 │\n",
       "│ u32 ┆ u32  ┆ u32 ┆ u32   ┆   ┆ u32    ┆ u32            ┆ u32        ┆ u32                 │\n",
       "╞═════╪══════╪═════╪═══════╪═══╪════════╪════════════════╪════════════╪═════════════════════╡\n",
       "│ 0   ┆ 0    ┆ 0   ┆ 0     ┆ … ┆ 0      ┆ 0              ┆ 0          ┆ 0                   │\n",
       "└─────┴──────┴─────┴───────┴───┴────────┴────────────────┴────────────┴─────────────────────┘"
      ]
     },
     "execution_count": 146,
     "metadata": {},
     "output_type": "execute_result"
    }
   ],
   "source": [
    "#only club has null values\n",
    "polars_df.null_count()"
   ]
  },
  {
   "cell_type": "code",
   "execution_count": 147,
   "id": "42cd4a85",
   "metadata": {},
   "outputs": [
    {
     "data": {
      "application/vnd.microsoft.datawrangler.viewer.v0+json": {
       "columns": [
        {
         "name": "index",
         "rawType": "object",
         "type": "string"
        },
        {
         "name": "0",
         "rawType": "int64",
         "type": "integer"
        }
       ],
       "ref": "15cf6bc2-ca33-458d-a44b-297f771ef3e7",
       "rows": [
        [
         "Photo",
         "17660"
        ],
        [
         "Name",
         "17140"
        ],
        [
         "Joined",
         "1855"
        ],
        [
         "Release Clause",
         "1288"
        ],
        [
         "Club Logo",
         "970"
        ],
        [
         "Club",
         "926"
        ],
        [
         "Loaned From",
         "270"
        ],
        [
         "Value",
         "258"
        ],
        [
         "Flag",
         "161"
        ],
        [
         "Nationality",
         "161"
        ],
        [
         "Wage",
         "135"
        ],
        [
         "Weight",
         "58"
        ],
        [
         "Height",
         "51"
        ],
        [
         "Contract Valid Until",
         "48"
        ],
        [
         "Position",
         "29"
        ],
        [
         "Best Overall Rating",
         "14"
        ],
        [
         "Body Type",
         "10"
        ],
        [
         "Work Rate",
         "10"
        ],
        [
         "Real Face",
         "2"
        ],
        [
         "Preferred Foot",
         "2"
        ]
       ],
       "shape": {
        "columns": 1,
        "rows": 20
       }
      },
      "text/plain": [
       "Photo                   17660\n",
       "Name                    17140\n",
       "Joined                   1855\n",
       "Release Clause           1288\n",
       "Club Logo                 970\n",
       "Club                      926\n",
       "Loaned From               270\n",
       "Value                     258\n",
       "Flag                      161\n",
       "Nationality               161\n",
       "Wage                      135\n",
       "Weight                     58\n",
       "Height                     51\n",
       "Contract Valid Until       48\n",
       "Position                   29\n",
       "Best Overall Rating        14\n",
       "Body Type                  10\n",
       "Work Rate                  10\n",
       "Real Face                   2\n",
       "Preferred Foot              2\n",
       "dtype: int64"
      ]
     },
     "execution_count": 147,
     "metadata": {},
     "output_type": "execute_result"
    }
   ],
   "source": [
    "pandas_df.isna().sum().sort_values(ascending=False).head(20)\n",
    "pandas_df.duplicated().sum(), pandas_df.duplicated(subset=['Name']).sum()  # adjust subset keys\n",
    "pandas_df.select_dtypes('object').nunique().sort_values(ascending=False).head(20)  # high-cardinality cats"
   ]
  },
  {
   "cell_type": "code",
   "execution_count": 148,
   "id": "7fdb9a22",
   "metadata": {},
   "outputs": [
    {
     "data": {
      "image/png": "[encoded data removed]",
      "text/plain": [
       "<Figure size 1200x600 with 1 Axes>"
      ]
     },
     "metadata": {},
     "output_type": "display_data"
    }
   ],
   "source": [
    "#heatmap of missing values shows only club has missing values of type MCAR (Missing Completely at Random)\n",
    "#I want to understand the pattern of missingness, why is the data missing?\n",
    "#nan values in \"loaned from\" column are because the player is not on loan\n",
    "#nan values in \"club\" column are because the player is a free agent\n",
    "plt.figure(figsize=(12, 6))\n",
    "sns.heatmap(pandas_df.isna(), cbar=False, cmap='viridis')\n",
    "plt.title('Missing Values Heatmap')\n",
    "plt.show()"
   ]
  },
  {
   "cell_type": "markdown",
   "id": "96fb0cee",
   "metadata": {},
   "source": [
    "## Data Cleaning"
   ]
  },
  {
   "cell_type": "code",
   "execution_count": 149,
   "id": "2b3e86c5",
   "metadata": {},
   "outputs": [
    {
     "data": {
      "text/plain": [
       "(17660, 26)"
      ]
     },
     "execution_count": 149,
     "metadata": {},
     "output_type": "execute_result"
    }
   ],
   "source": [
    "#dropping columns that are not useful for analysis\n",
    "#these columns are images and logos links which do not add value to the analysis\n",
    "col = ['Photo','Flag','Club Logo']\n",
    "fifa = pandas_df.drop(columns = col, axis = 1)\n",
    "fifa.shape"
   ]
  },
  {
   "cell_type": "code",
   "execution_count": 150,
   "id": "697bddd8",
   "metadata": {},
   "outputs": [],
   "source": [
    "#Clean position column as it has some junk span classes data\n",
    "#What is difference between position and best position?\n",
    "#Convert value and wage to numeric\n",
    "#What is the special column?\n",
    "#Body type has easter egg values like \"Messi\" and \"C. Ronaldo\"\n",
    "#Convert height and weight to numeric\n",
    "#Convert work rate to categorical low, medium, high\n",
    "#Convert joined date to datetime\n",
    "#Find Loan Sharks from loaned from column"
   ]
  },
  {
   "cell_type": "code",
   "execution_count": 151,
   "id": "3fcec239",
   "metadata": {},
   "outputs": [
    {
     "name": "stdout",
     "output_type": "stream",
     "text": [
      "                      Position Position_clean\n",
      "0  <span class=\"pos pos28\">SUB            SUB\n",
      "1  <span class=\"pos pos15\">LCM            LCM\n",
      "2    <span class=\"pos pos7\">LB             LB\n",
      "3  <span class=\"pos pos13\">RCM            RCM\n",
      "4  <span class=\"pos pos13\">RCM            RCM\n",
      "5   <span class=\"pos pos9\">RDM            RDM\n",
      "6   <span class=\"pos pos6\">LCB            LCB\n",
      "7  <span class=\"pos pos15\">LCM            LCM\n",
      "8  <span class=\"pos pos28\">SUB            SUB\n",
      "9    <span class=\"pos pos7\">LB             LB\n"
     ]
    }
   ],
   "source": [
    "#Clean position column\n",
    "import re\n",
    "\n",
    "pattern = re.compile(r\">([^<]+)$\")  # capture everything between > and <\n",
    "\n",
    "fifa[\"Position_clean\"] = fifa[\"Position\"].apply(\n",
    "    lambda x: pattern.search(str(x)).group(1) if pd.notna(x) and pattern.search(str(x)) else None\n",
    ")\n",
    "\n",
    "print(fifa[[\"Position\", \"Position_clean\"]].head(10))\n"
   ]
  },
  {
   "cell_type": "code",
   "execution_count": 152,
   "id": "82e871ce",
   "metadata": {},
   "outputs": [
    {
     "data": {
      "application/vnd.microsoft.datawrangler.viewer.v0+json": {
       "columns": [
        {
         "name": "index",
         "rawType": "int64",
         "type": "integer"
        },
        {
         "name": "ID",
         "rawType": "int64",
         "type": "integer"
        },
        {
         "name": "Name",
         "rawType": "object",
         "type": "string"
        },
        {
         "name": "Age",
         "rawType": "int64",
         "type": "integer"
        },
        {
         "name": "Nationality",
         "rawType": "object",
         "type": "string"
        },
        {
         "name": "Overall",
         "rawType": "int64",
         "type": "integer"
        },
        {
         "name": "Potential",
         "rawType": "int64",
         "type": "integer"
        },
        {
         "name": "Club",
         "rawType": "object",
         "type": "string"
        },
        {
         "name": "Value",
         "rawType": "float64",
         "type": "float"
        },
        {
         "name": "Wage",
         "rawType": "float64",
         "type": "float"
        },
        {
         "name": "Special",
         "rawType": "int64",
         "type": "integer"
        },
        {
         "name": "Preferred Foot",
         "rawType": "object",
         "type": "string"
        },
        {
         "name": "International Reputation",
         "rawType": "float64",
         "type": "float"
        },
        {
         "name": "Weak Foot",
         "rawType": "float64",
         "type": "float"
        },
        {
         "name": "Skill Moves",
         "rawType": "float64",
         "type": "float"
        },
        {
         "name": "Work Rate",
         "rawType": "object",
         "type": "string"
        },
        {
         "name": "Body Type",
         "rawType": "object",
         "type": "string"
        },
        {
         "name": "Real Face",
         "rawType": "object",
         "type": "string"
        },
        {
         "name": "Position",
         "rawType": "object",
         "type": "string"
        },
        {
         "name": "Joined",
         "rawType": "object",
         "type": "string"
        },
        {
         "name": "Loaned From",
         "rawType": "object",
         "type": "unknown"
        },
        {
         "name": "Contract Valid Until",
         "rawType": "object",
         "type": "string"
        },
        {
         "name": "Height",
         "rawType": "object",
         "type": "string"
        },
        {
         "name": "Weight",
         "rawType": "object",
         "type": "string"
        },
        {
         "name": "Release Clause",
         "rawType": "object",
         "type": "string"
        },
        {
         "name": "Kit Number",
         "rawType": "float64",
         "type": "float"
        },
        {
         "name": "Best Overall Rating",
         "rawType": "object",
         "type": "unknown"
        },
        {
         "name": "Position_clean",
         "rawType": "object",
         "type": "string"
        }
       ],
       "ref": "86289085-952e-490b-8bde-7d4af56ec38d",
       "rows": [
        [
         "0",
         "209658",
         "L. Goretzka",
         "27",
         "Germany",
         "87",
         "88",
         "FC Bayern München",
         "91000000.0",
         "115000.0",
         "2312",
         "Right",
         "4.0",
         "4.0",
         "3.0",
         "High/ Medium",
         "Unique",
         "Yes",
         "<span class=\"pos pos28\">SUB",
         "Jul 1, 2018",
         null,
         "2026",
         "189cm",
         "82kg",
         "€157M",
         "8.0",
         null,
         "SUB"
        ],
        [
         "1",
         "212198",
         "Bruno Fernandes",
         "27",
         "Portugal",
         "86",
         "87",
         "Manchester United",
         "78500000.0",
         "190000.0",
         "2305",
         "Right",
         "3.0",
         "3.0",
         "4.0",
         "High/ High",
         "Unique",
         "Yes",
         "<span class=\"pos pos15\">LCM",
         "Jan 30, 2020",
         null,
         "2026",
         "179cm",
         "69kg",
         "€155M",
         "8.0",
         null,
         "LCM"
        ],
        [
         "2",
         "224334",
         "M. Acuña",
         "30",
         "Argentina",
         "85",
         "85",
         "Sevilla FC",
         "46500000.0",
         "46000.0",
         "2303",
         "Left",
         "2.0",
         "3.0",
         "3.0",
         "High/ High",
         "Stocky (170-185)",
         "No",
         "<span class=\"pos pos7\">LB",
         "Sep 14, 2020",
         null,
         "2024",
         "172cm",
         "69kg",
         "€97.7M",
         "19.0",
         null,
         "LB"
        ],
        [
         "3",
         "192985",
         "K. De Bruyne",
         "31",
         "Belgium",
         "91",
         "91",
         "Manchester City",
         "107500000.0",
         "350000.0",
         "2303",
         "Right",
         "4.0",
         "5.0",
         "4.0",
         "High/ High",
         "Unique",
         "Yes",
         "<span class=\"pos pos13\">RCM",
         "Aug 30, 2015",
         null,
         "2025",
         "181cm",
         "70kg",
         "€198.9M",
         "17.0",
         null,
         "RCM"
        ],
        [
         "4",
         "224232",
         "N. Barella",
         "25",
         "Italy",
         "86",
         "89",
         "Inter",
         "89500000.0",
         "110000.0",
         "2296",
         "Right",
         "3.0",
         "3.0",
         "3.0",
         "High/ High",
         "Normal (170-)",
         "Yes",
         "<span class=\"pos pos13\">RCM",
         "Sep 1, 2020",
         null,
         "2026",
         "172cm",
         "68kg",
         "€154.4M",
         "23.0",
         null,
         "RCM"
        ]
       ],
       "shape": {
        "columns": 27,
        "rows": 5
       }
      },
      "text/html": [
       "<div>\n",
       "<style scoped>\n",
       "    .dataframe tbody tr th:only-of-type {\n",
       "        vertical-align: middle;\n",
       "    }\n",
       "\n",
       "    .dataframe tbody tr th {\n",
       "        vertical-align: top;\n",
       "    }\n",
       "\n",
       "    .dataframe thead th {\n",
       "        text-align: right;\n",
       "    }\n",
       "</style>\n",
       "<table border=\"1\" class=\"dataframe\">\n",
       "  <thead>\n",
       "    <tr style=\"text-align: right;\">\n",
       "      <th></th>\n",
       "      <th>ID</th>\n",
       "      <th>Name</th>\n",
       "      <th>Age</th>\n",
       "      <th>Nationality</th>\n",
       "      <th>Overall</th>\n",
       "      <th>Potential</th>\n",
       "      <th>Club</th>\n",
       "      <th>Value</th>\n",
       "      <th>Wage</th>\n",
       "      <th>Special</th>\n",
       "      <th>...</th>\n",
       "      <th>Position</th>\n",
       "      <th>Joined</th>\n",
       "      <th>Loaned From</th>\n",
       "      <th>Contract Valid Until</th>\n",
       "      <th>Height</th>\n",
       "      <th>Weight</th>\n",
       "      <th>Release Clause</th>\n",
       "      <th>Kit Number</th>\n",
       "      <th>Best Overall Rating</th>\n",
       "      <th>Position_clean</th>\n",
       "    </tr>\n",
       "  </thead>\n",
       "  <tbody>\n",
       "    <tr>\n",
       "      <th>0</th>\n",
       "      <td>209658</td>\n",
       "      <td>L. Goretzka</td>\n",
       "      <td>27</td>\n",
       "      <td>Germany</td>\n",
       "      <td>87</td>\n",
       "      <td>88</td>\n",
       "      <td>FC Bayern München</td>\n",
       "      <td>91000000.0</td>\n",
       "      <td>115000.0</td>\n",
       "      <td>2312</td>\n",
       "      <td>...</td>\n",
       "      <td>&lt;span class=\"pos pos28\"&gt;SUB</td>\n",
       "      <td>Jul 1, 2018</td>\n",
       "      <td>NaN</td>\n",
       "      <td>2026</td>\n",
       "      <td>189cm</td>\n",
       "      <td>82kg</td>\n",
       "      <td>€157M</td>\n",
       "      <td>8.0</td>\n",
       "      <td>NaN</td>\n",
       "      <td>SUB</td>\n",
       "    </tr>\n",
       "    <tr>\n",
       "      <th>1</th>\n",
       "      <td>212198</td>\n",
       "      <td>Bruno Fernandes</td>\n",
       "      <td>27</td>\n",
       "      <td>Portugal</td>\n",
       "      <td>86</td>\n",
       "      <td>87</td>\n",
       "      <td>Manchester United</td>\n",
       "      <td>78500000.0</td>\n",
       "      <td>190000.0</td>\n",
       "      <td>2305</td>\n",
       "      <td>...</td>\n",
       "      <td>&lt;span class=\"pos pos15\"&gt;LCM</td>\n",
       "      <td>Jan 30, 2020</td>\n",
       "      <td>NaN</td>\n",
       "      <td>2026</td>\n",
       "      <td>179cm</td>\n",
       "      <td>69kg</td>\n",
       "      <td>€155M</td>\n",
       "      <td>8.0</td>\n",
       "      <td>NaN</td>\n",
       "      <td>LCM</td>\n",
       "    </tr>\n",
       "    <tr>\n",
       "      <th>2</th>\n",
       "      <td>224334</td>\n",
       "      <td>M. Acuña</td>\n",
       "      <td>30</td>\n",
       "      <td>Argentina</td>\n",
       "      <td>85</td>\n",
       "      <td>85</td>\n",
       "      <td>Sevilla FC</td>\n",
       "      <td>46500000.0</td>\n",
       "      <td>46000.0</td>\n",
       "      <td>2303</td>\n",
       "      <td>...</td>\n",
       "      <td>&lt;span class=\"pos pos7\"&gt;LB</td>\n",
       "      <td>Sep 14, 2020</td>\n",
       "      <td>NaN</td>\n",
       "      <td>2024</td>\n",
       "      <td>172cm</td>\n",
       "      <td>69kg</td>\n",
       "      <td>€97.7M</td>\n",
       "      <td>19.0</td>\n",
       "      <td>NaN</td>\n",
       "      <td>LB</td>\n",
       "    </tr>\n",
       "    <tr>\n",
       "      <th>3</th>\n",
       "      <td>192985</td>\n",
       "      <td>K. De Bruyne</td>\n",
       "      <td>31</td>\n",
       "      <td>Belgium</td>\n",
       "      <td>91</td>\n",
       "      <td>91</td>\n",
       "      <td>Manchester City</td>\n",
       "      <td>107500000.0</td>\n",
       "      <td>350000.0</td>\n",
       "      <td>2303</td>\n",
       "      <td>...</td>\n",
       "      <td>&lt;span class=\"pos pos13\"&gt;RCM</td>\n",
       "      <td>Aug 30, 2015</td>\n",
       "      <td>NaN</td>\n",
       "      <td>2025</td>\n",
       "      <td>181cm</td>\n",
       "      <td>70kg</td>\n",
       "      <td>€198.9M</td>\n",
       "      <td>17.0</td>\n",
       "      <td>NaN</td>\n",
       "      <td>RCM</td>\n",
       "    </tr>\n",
       "    <tr>\n",
       "      <th>4</th>\n",
       "      <td>224232</td>\n",
       "      <td>N. Barella</td>\n",
       "      <td>25</td>\n",
       "      <td>Italy</td>\n",
       "      <td>86</td>\n",
       "      <td>89</td>\n",
       "      <td>Inter</td>\n",
       "      <td>89500000.0</td>\n",
       "      <td>110000.0</td>\n",
       "      <td>2296</td>\n",
       "      <td>...</td>\n",
       "      <td>&lt;span class=\"pos pos13\"&gt;RCM</td>\n",
       "      <td>Sep 1, 2020</td>\n",
       "      <td>NaN</td>\n",
       "      <td>2026</td>\n",
       "      <td>172cm</td>\n",
       "      <td>68kg</td>\n",
       "      <td>€154.4M</td>\n",
       "      <td>23.0</td>\n",
       "      <td>NaN</td>\n",
       "      <td>RCM</td>\n",
       "    </tr>\n",
       "  </tbody>\n",
       "</table>\n",
       "<p>5 rows × 27 columns</p>\n",
       "</div>"
      ],
      "text/plain": [
       "       ID             Name  Age Nationality  Overall  Potential  \\\n",
       "0  209658      L. Goretzka   27     Germany       87         88   \n",
       "1  212198  Bruno Fernandes   27    Portugal       86         87   \n",
       "2  224334         M. Acuña   30   Argentina       85         85   \n",
       "3  192985     K. De Bruyne   31     Belgium       91         91   \n",
       "4  224232       N. Barella   25       Italy       86         89   \n",
       "\n",
       "                Club        Value      Wage  Special  ...  \\\n",
       "0  FC Bayern München   91000000.0  115000.0     2312  ...   \n",
       "1  Manchester United   78500000.0  190000.0     2305  ...   \n",
       "2         Sevilla FC   46500000.0   46000.0     2303  ...   \n",
       "3    Manchester City  107500000.0  350000.0     2303  ...   \n",
       "4              Inter   89500000.0  110000.0     2296  ...   \n",
       "\n",
       "                      Position        Joined  Loaned From  \\\n",
       "0  <span class=\"pos pos28\">SUB   Jul 1, 2018          NaN   \n",
       "1  <span class=\"pos pos15\">LCM  Jan 30, 2020          NaN   \n",
       "2    <span class=\"pos pos7\">LB  Sep 14, 2020          NaN   \n",
       "3  <span class=\"pos pos13\">RCM  Aug 30, 2015          NaN   \n",
       "4  <span class=\"pos pos13\">RCM   Sep 1, 2020          NaN   \n",
       "\n",
       "   Contract Valid Until Height Weight Release Clause Kit Number  \\\n",
       "0                  2026  189cm   82kg          €157M        8.0   \n",
       "1                  2026  179cm   69kg          €155M        8.0   \n",
       "2                  2024  172cm   69kg         €97.7M       19.0   \n",
       "3                  2025  181cm   70kg        €198.9M       17.0   \n",
       "4                  2026  172cm   68kg        €154.4M       23.0   \n",
       "\n",
       "  Best Overall Rating Position_clean  \n",
       "0                 NaN            SUB  \n",
       "1                 NaN            LCM  \n",
       "2                 NaN             LB  \n",
       "3                 NaN            RCM  \n",
       "4                 NaN            RCM  \n",
       "\n",
       "[5 rows x 27 columns]"
      ]
     },
     "execution_count": 152,
     "metadata": {},
     "output_type": "execute_result"
    }
   ],
   "source": [
    "#Convert value and wage to numeric\n",
    "def convert(df_value):\n",
    "    try:\n",
    "        # If already a float or int, return as is\n",
    "        if isinstance(df_value, (float, int)):\n",
    "            return df_value\n",
    "        # If not a string, return 0\n",
    "        if not isinstance(df_value, str):\n",
    "            return 0\n",
    "        # Remove currency symbol and commas\n",
    "        s = df_value.replace('€', '').replace(',', '').strip().upper()\n",
    "        if s == '':\n",
    "            return 0\n",
    "        # Handle suffix\n",
    "        if s[-1] == 'M':\n",
    "            value = float(s[:-1]) * 1_000_000\n",
    "        elif s[-1] == 'K':\n",
    "            value = float(s[:-1]) * 1_000\n",
    "        else:\n",
    "            value = float(s)\n",
    "    except Exception:\n",
    "        value = 0\n",
    "    return value\n",
    "\n",
    "fifa['Value'] = fifa['Value'].apply(convert)\n",
    "fifa['Wage'] = fifa['Wage'].apply(convert)\n",
    "fifa.head()"
   ]
  },
  {
   "cell_type": "code",
   "execution_count": 153,
   "id": "dc665940",
   "metadata": {},
   "outputs": [
    {
     "data": {
      "application/vnd.microsoft.datawrangler.viewer.v0+json": {
       "columns": [
        {
         "name": "index",
         "rawType": "object",
         "type": "string"
        },
        {
         "name": "Special",
         "rawType": "float64",
         "type": "float"
        }
       ],
       "ref": "85f62785-2abf-4241-84d4-6dd7bffd86a1",
       "rows": [
        [
         "count",
         "17660.0"
        ],
        [
         "mean",
         "1537.9158550396376"
        ],
        [
         "std",
         "285.8938087620562"
        ],
        [
         "min",
         "749.0"
        ],
        [
         "25%",
         "1387.0"
        ],
        [
         "50%",
         "1548.0"
        ],
        [
         "75%",
         "1727.0"
        ],
        [
         "max",
         "2312.0"
        ]
       ],
       "shape": {
        "columns": 1,
        "rows": 8
       }
      },
      "text/plain": [
       "count    17660.000000\n",
       "mean      1537.915855\n",
       "std        285.893809\n",
       "min        749.000000\n",
       "25%       1387.000000\n",
       "50%       1548.000000\n",
       "75%       1727.000000\n",
       "max       2312.000000\n",
       "Name: Special, dtype: float64"
      ]
     },
     "execution_count": 153,
     "metadata": {},
     "output_type": "execute_result"
    }
   ],
   "source": [
    "#What is the special column?\n",
    "fifa['Special'].describe()"
   ]
  },
  {
   "cell_type": "code",
   "execution_count": 154,
   "id": "cd3db3e0",
   "metadata": {},
   "outputs": [
    {
     "name": "stdout",
     "output_type": "stream",
     "text": [
      "count    17660.000000\n",
      "mean      1537.915855\n",
      "std        285.893809\n",
      "min        749.000000\n",
      "25%       1387.000000\n",
      "50%       1548.000000\n",
      "75%       1727.000000\n",
      "max       2312.000000\n",
      "Name: Special, dtype: float64\n"
     ]
    },
    {
     "data": {
      "image/png": "[encoded data removed]",
      "text/plain": [
       "<Figure size 1000x500 with 1 Axes>"
      ]
     },
     "metadata": {},
     "output_type": "display_data"
    },
    {
     "name": "stdout",
     "output_type": "stream",
     "text": [
      "              Name  Special  Overall  Potential               Club\n",
      "0      L. Goretzka     2312       87         88  FC Bayern München\n",
      "1  Bruno Fernandes     2305       86         87  Manchester United\n",
      "2         M. Acuña     2303       85         85         Sevilla FC\n",
      "3     K. De Bruyne     2303       91         91    Manchester City\n",
      "4       N. Barella     2296       86         89              Inter\n",
      "5       J. Kimmich     2283       89         90  FC Bayern München\n",
      "6         D. Alaba     2277       86         86     Real Madrid CF\n",
      "7      22 Paulinho     2273       83         83            Al Ahli\n",
      "8           E. Can     2271       82         82  Borussia Dortmund\n",
      "9     João Cancelo     2262       88         88    Manchester City\n"
     ]
    }
   ],
   "source": [
    "# Summary statistics for the Special column\n",
    "print(fifa['Special'].describe())\n",
    "\n",
    "# Distribution plot for Special\n",
    "plt.figure(figsize=(10,5))\n",
    "sns.histplot(fifa['Special'], bins=30, kde=True)\n",
    "plt.title('Distribution of Special Attribute')\n",
    "plt.xlabel('Special')\n",
    "plt.show()\n",
    "\n",
    "# Top 10 players by Special\n",
    "top_special = fifa.nlargest(10, 'Special')[['Name', 'Special', 'Overall', 'Potential', 'Club']]\n",
    "print(top_special)"
   ]
  },
  {
   "cell_type": "code",
   "execution_count": 155,
   "id": "66a76254",
   "metadata": {},
   "outputs": [],
   "source": [
    "# Special column is a column which is just like overall but with more granularity\n",
    "# It ranges from 47 to 2200 with mean of 611. It is likely a composite score based on various attributes\n",
    "# It helps to differentiate players with same overall rating by providing a more detailed score"
   ]
  },
  {
   "cell_type": "code",
   "execution_count": 156,
   "id": "566510ab",
   "metadata": {},
   "outputs": [
    {
     "name": "stdout",
     "output_type": "stream",
     "text": [
      "['Unique' 'Stocky (170-185)' 'Normal (170-)' 'Normal (170-185)'\n",
      " 'Stocky (185+)' 'Lean (185+)' 'Lean (170-185)' 'Normal (185+)'\n",
      " 'Lean (170-)' 'Stocky (170-)' nan]\n",
      "Empty DataFrame\n",
      "Columns: [Name, Body Type, Overall, Special, Club]\n",
      "Index: []\n"
     ]
    }
   ],
   "source": [
    "# Body type has easter egg values like \"Messi\" and \"C. Ronaldo\"\n",
    "# Unique values in Body Type column\n",
    "print(fifa['Body Type'].unique())\n",
    "\n",
    "# Find rows with Body Type as 'Messi' or 'C. Ronaldo'\n",
    "easter_eggs = fifa[fifa['Body Type'].isin(['Messi', 'C. Ronaldo', 'Shaqiri', 'Neymar', 'Akinfenwa', 'Courtois'])]\n",
    "print(easter_eggs[['Name', 'Body Type', 'Overall', 'Special', 'Club']])"
   ]
  },
  {
   "cell_type": "code",
   "execution_count": 157,
   "id": "7145e8bd",
   "metadata": {},
   "outputs": [
    {
     "name": "stdout",
     "output_type": "stream",
     "text": [
      "Body Type Clean  Body Type       \n",
      "Normal           Normal (170-185)    6248\n",
      "Lean             Lean (170-185)      3943\n",
      "Normal           Normal (185+)       3470\n",
      "Lean             Lean (185+)         1841\n",
      "Normal           Normal (170-)        696\n",
      "Lean             Lean (170-)          525\n",
      "Stocky           Stocky (170-185)     435\n",
      "                 Stocky (185+)        245\n",
      "Unique           Unique               133\n",
      "Stocky           Stocky (170-)         86\n",
      "Name: count, dtype: int64\n"
     ]
    }
   ],
   "source": [
    "# Clean Body Type Feature in the dataset\n",
    "def clean_body_type(body_type):\n",
    "    if pd.isna(body_type):\n",
    "        return np.nan\n",
    "    body_type = body_type.strip()\n",
    "    # List of known body types including easter eggs\n",
    "    known_types = [\n",
    "        'Lean', 'Normal', 'Stocky', 'Muscular', 'Average',\n",
    "        'Akinfenwa', 'Messi', 'C. Ronaldo', 'Shaqiri', 'Neymar', 'Courtois'\n",
    "    ]\n",
    "    # Extract main type before any parenthesis or space\n",
    "    import re\n",
    "    main_type = re.match(r'^(\\w+)', body_type)\n",
    "    # If body_type matches a known type, return as is\n",
    "    if body_type in known_types:\n",
    "        return body_type\n",
    "    # If main_type is in known types, return it\n",
    "    if main_type and main_type.group(1) in known_types:\n",
    "        return main_type.group(1)\n",
    "    # Otherwise, return main_type or original\n",
    "    if main_type:\n",
    "        return main_type.group(1)\n",
    "    return body_type\n",
    "\n",
    "fifa['Body Type Clean'] = fifa['Body Type'].apply(clean_body_type)\n",
    "print(fifa[['Body Type Clean', 'Body Type']].value_counts())"
   ]
  },
  {
   "cell_type": "code",
   "execution_count": 158,
   "id": "16d1166f",
   "metadata": {},
   "outputs": [
    {
     "name": "stdout",
     "output_type": "stream",
     "text": [
      "  Height Weight\n",
      "0  189cm   82kg\n",
      "1  179cm   69kg\n",
      "2  172cm   69kg\n",
      "3  181cm   70kg\n",
      "4  172cm   68kg\n",
      "5  177cm   75kg\n",
      "6  180cm   78kg\n",
      "7  183cm   80kg\n",
      "8  186cm   86kg\n",
      "9  182cm   74kg\n"
     ]
    }
   ],
   "source": [
    "fifa['Height'] = pandas_df['Height']\n",
    "fifa['Weight'] = pandas_df['Weight']\n",
    "print(fifa[['Height', 'Weight']].head(10))"
   ]
  },
  {
   "cell_type": "code",
   "execution_count": 159,
   "id": "03c5b98e",
   "metadata": {},
   "outputs": [
    {
     "name": "stdout",
     "output_type": "stream",
     "text": [
      "0   NaN\n",
      "1   NaN\n",
      "2   NaN\n",
      "3   NaN\n",
      "4   NaN\n",
      "Name: Height, dtype: float64\n"
     ]
    }
   ],
   "source": [
    "def height_conversion(height):\n",
    "    try:\n",
    "        if pd.isna(height):\n",
    "            return np.nan\n",
    "        # Remove spaces and handle strings like \"5'9\"\n",
    "        height_str = str(height).replace(\" \", \"\")\n",
    "        if \"'\" in height_str:\n",
    "            ft, inch = height_str.split(\"'\")\n",
    "            ft = float(ft)\n",
    "            inch = float(inch) if inch else 0\n",
    "        else:\n",
    "            # If only feet provided, no inches\n",
    "            ft = float(height_str)\n",
    "            inch = 0\n",
    "        total_cm = (ft * 12 + inch) * 2.54\n",
    "        return total_cm\n",
    "    except Exception:\n",
    "        return np.nan\n",
    "\n",
    "fifa['Height'] = fifa['Height'].apply(height_conversion)\n",
    "fifa['Height'] = fifa['Height'].fillna(fifa['Height'].mean())\n",
    "print(fifa['Height'].head())"
   ]
  },
  {
   "cell_type": "code",
   "execution_count": 160,
   "id": "9fd3f5db",
   "metadata": {},
   "outputs": [
    {
     "name": "stdout",
     "output_type": "stream",
     "text": [
      "3.63\n"
     ]
    },
    {
     "data": {
      "application/vnd.microsoft.datawrangler.viewer.v0+json": {
       "columns": [
        {
         "name": "index",
         "rawType": "int64",
         "type": "integer"
        },
        {
         "name": "Weight",
         "rawType": "float64",
         "type": "float"
        }
       ],
       "ref": "98d7d89a-2aa7-4316-955e-567f91c3b816",
       "rows": [
        [
         "13230",
         "3.628736"
        ],
        [
         "13231",
         "3.175144"
        ],
        [
         "13232",
         "3.628736"
        ],
        [
         "13233",
         "3.175144"
        ],
        [
         "13234",
         "2.26796"
        ],
        [
         "13235",
         "2.721552"
        ],
        [
         "13236",
         "2.721552"
        ],
        [
         "13237",
         "3.628736"
        ],
        [
         "13238",
         "3.175144"
        ]
       ],
       "shape": {
        "columns": 1,
        "rows": 9
       }
      },
      "text/plain": [
       "13230    3.628736\n",
       "13231    3.175144\n",
       "13232    3.628736\n",
       "13233    3.175144\n",
       "13234    2.267960\n",
       "13235    2.721552\n",
       "13236    2.721552\n",
       "13237    3.628736\n",
       "13238    3.175144\n",
       "Name: Weight, dtype: float64"
      ]
     },
     "execution_count": 160,
     "metadata": {},
     "output_type": "execute_result"
    }
   ],
   "source": [
    "value = float(fifa['Weight'][0][0:-3])*0.453592\n",
    "print('%0.2f'%value)\n",
    "\n",
    "#in kg\n",
    "def weight_conversion(weight):\n",
    "    if(pd.isna(weight))!= True:\n",
    "        w = int(weight[0:-3])*0.453592\n",
    "        return w\n",
    "    else:\n",
    "        return weight\n",
    "\n",
    "fifa['Weight'] = fifa['Weight'].apply(weight_conversion)\n",
    "\n",
    "fifa['Weight'] = fifa['Weight'].fillna(value = fifa['Weight'].mean())\n",
    "\n",
    "fifa['Weight'][13230:13239]"
   ]
  },
  {
   "cell_type": "code",
   "execution_count": 161,
   "id": "4f44b9ac",
   "metadata": {},
   "outputs": [
    {
     "name": "stdout",
     "output_type": "stream",
     "text": [
      "   Height    Weight\n",
      "0     NaN  3.628736\n",
      "1     NaN  2.721552\n",
      "2     NaN  2.721552\n",
      "3     NaN  3.175144\n",
      "4     NaN  2.721552\n",
      "5     NaN  3.175144\n",
      "6     NaN  3.175144\n",
      "7     NaN  3.628736\n",
      "8     NaN  3.628736\n",
      "9     NaN  3.175144\n"
     ]
    }
   ],
   "source": [
    "#Convert height and weight to numeric, i.e into cms and kgs respectfully\n",
    "print(fifa[['Height', 'Weight']].head(10))"
   ]
  },
  {
   "cell_type": "code",
   "execution_count": 162,
   "id": "8cbe8e2b",
   "metadata": {},
   "outputs": [],
   "source": [
    "fifa['Joined'] = pandas_df['Joined']"
   ]
  },
  {
   "cell_type": "code",
   "execution_count": 163,
   "id": "afaf5e0c",
   "metadata": {},
   "outputs": [
    {
     "name": "stdout",
     "output_type": "stream",
     "text": [
      "0   2018-07-01\n",
      "1   2020-01-30\n",
      "2   2020-09-14\n",
      "3   2015-08-30\n",
      "4   2020-09-01\n",
      "5   2015-07-01\n",
      "6   2021-07-01\n",
      "7   2021-07-22\n",
      "8   2020-02-18\n",
      "9   2019-08-07\n",
      "Name: Joined, dtype: datetime64[ns]\n"
     ]
    }
   ],
   "source": [
    "#Convert joined date to datetime\n",
    "def date_conversion(date):\n",
    "    if pd.isna(date):\n",
    "        return np.nan\n",
    "    if isinstance(date, str):\n",
    "        try:\n",
    "            # Try parsing with pandas to_datetime, dayfirst for European format\n",
    "            dt = pd.to_datetime(date, errors='coerce', dayfirst=True)\n",
    "            if pd.isna(dt):\n",
    "                # Try parsing with common formats manually\n",
    "                for fmt in ['%b %d, %Y', '%d %b %Y', '%Y-%m-%d', '%d/%m/%Y', '%m/%d/%Y']:\n",
    "                    try:\n",
    "                        dt = pd.to_datetime(date, format=fmt, errors='coerce')\n",
    "                        if not pd.isna(dt):\n",
    "                            return dt\n",
    "                    except Exception:\n",
    "                        continue\n",
    "            return dt\n",
    "        except Exception:\n",
    "            return np.nan\n",
    "    return np.nan\n",
    "\n",
    "fifa['Joined'] = fifa['Joined'].apply(date_conversion)\n",
    "print(fifa['Joined'].head(10))"
   ]
  },
  {
   "cell_type": "code",
   "execution_count": 164,
   "id": "715a352f",
   "metadata": {},
   "outputs": [
    {
     "data": {
      "application/vnd.microsoft.datawrangler.viewer.v0+json": {
       "columns": [
        {
         "name": "index",
         "rawType": "int64",
         "type": "integer"
        },
        {
         "name": "Work Rate",
         "rawType": "object",
         "type": "string"
        },
        {
         "name": "Attacking Work Rate",
         "rawType": "object",
         "type": "string"
        },
        {
         "name": "Defensive Work Rate",
         "rawType": "object",
         "type": "string"
        }
       ],
       "ref": "955866ea-8e90-434f-9bb6-1c2119f85290",
       "rows": [
        [
         "0",
         "High/ Medium",
         "High",
         "Medium"
        ],
        [
         "1",
         "High/ High",
         "High",
         "High"
        ],
        [
         "2",
         "High/ High",
         "High",
         "High"
        ],
        [
         "3",
         "High/ High",
         "High",
         "High"
        ],
        [
         "4",
         "High/ High",
         "High",
         "High"
        ],
        [
         "5",
         "High/ Medium",
         "High",
         "Medium"
        ],
        [
         "6",
         "Medium/ Medium",
         "Medium",
         "Medium"
        ],
        [
         "7",
         "High/ High",
         "High",
         "High"
        ],
        [
         "8",
         "Medium/ High",
         "Medium",
         "High"
        ],
        [
         "9",
         "High/ Medium",
         "High",
         "Medium"
        ]
       ],
       "shape": {
        "columns": 3,
        "rows": 10
       }
      },
      "text/html": [
       "<div>\n",
       "<style scoped>\n",
       "    .dataframe tbody tr th:only-of-type {\n",
       "        vertical-align: middle;\n",
       "    }\n",
       "\n",
       "    .dataframe tbody tr th {\n",
       "        vertical-align: top;\n",
       "    }\n",
       "\n",
       "    .dataframe thead th {\n",
       "        text-align: right;\n",
       "    }\n",
       "</style>\n",
       "<table border=\"1\" class=\"dataframe\">\n",
       "  <thead>\n",
       "    <tr style=\"text-align: right;\">\n",
       "      <th></th>\n",
       "      <th>Work Rate</th>\n",
       "      <th>Attacking Work Rate</th>\n",
       "      <th>Defensive Work Rate</th>\n",
       "    </tr>\n",
       "  </thead>\n",
       "  <tbody>\n",
       "    <tr>\n",
       "      <th>0</th>\n",
       "      <td>High/ Medium</td>\n",
       "      <td>High</td>\n",
       "      <td>Medium</td>\n",
       "    </tr>\n",
       "    <tr>\n",
       "      <th>1</th>\n",
       "      <td>High/ High</td>\n",
       "      <td>High</td>\n",
       "      <td>High</td>\n",
       "    </tr>\n",
       "    <tr>\n",
       "      <th>2</th>\n",
       "      <td>High/ High</td>\n",
       "      <td>High</td>\n",
       "      <td>High</td>\n",
       "    </tr>\n",
       "    <tr>\n",
       "      <th>3</th>\n",
       "      <td>High/ High</td>\n",
       "      <td>High</td>\n",
       "      <td>High</td>\n",
       "    </tr>\n",
       "    <tr>\n",
       "      <th>4</th>\n",
       "      <td>High/ High</td>\n",
       "      <td>High</td>\n",
       "      <td>High</td>\n",
       "    </tr>\n",
       "    <tr>\n",
       "      <th>5</th>\n",
       "      <td>High/ Medium</td>\n",
       "      <td>High</td>\n",
       "      <td>Medium</td>\n",
       "    </tr>\n",
       "    <tr>\n",
       "      <th>6</th>\n",
       "      <td>Medium/ Medium</td>\n",
       "      <td>Medium</td>\n",
       "      <td>Medium</td>\n",
       "    </tr>\n",
       "    <tr>\n",
       "      <th>7</th>\n",
       "      <td>High/ High</td>\n",
       "      <td>High</td>\n",
       "      <td>High</td>\n",
       "    </tr>\n",
       "    <tr>\n",
       "      <th>8</th>\n",
       "      <td>Medium/ High</td>\n",
       "      <td>Medium</td>\n",
       "      <td>High</td>\n",
       "    </tr>\n",
       "    <tr>\n",
       "      <th>9</th>\n",
       "      <td>High/ Medium</td>\n",
       "      <td>High</td>\n",
       "      <td>Medium</td>\n",
       "    </tr>\n",
       "  </tbody>\n",
       "</table>\n",
       "</div>"
      ],
      "text/plain": [
       "        Work Rate Attacking Work Rate Defensive Work Rate\n",
       "0    High/ Medium                High              Medium\n",
       "1      High/ High                High                High\n",
       "2      High/ High                High                High\n",
       "3      High/ High                High                High\n",
       "4      High/ High                High                High\n",
       "5    High/ Medium                High              Medium\n",
       "6  Medium/ Medium              Medium              Medium\n",
       "7      High/ High                High                High\n",
       "8    Medium/ High              Medium                High\n",
       "9    High/ Medium                High              Medium"
      ]
     },
     "execution_count": 164,
     "metadata": {},
     "output_type": "execute_result"
    }
   ],
   "source": [
    "#Convert work rate to categorical low, medium, high\n",
    "def work_rate_conversion(rate):\n",
    "    if pd.isna(rate):\n",
    "        return (np.nan, np.nan)\n",
    "    if isinstance(rate, str) and '/' in rate:\n",
    "        try:\n",
    "            attack, defense = rate.split('/')\n",
    "            return (attack.strip(), defense.strip())\n",
    "        except Exception:\n",
    "            return (np.nan, np.nan)\n",
    "    return (np.nan, np.nan)\n",
    "\n",
    "fifa[['Attacking Work Rate', 'Defensive Work Rate']] = fifa['Work Rate'].apply(work_rate_conversion).apply(pd.Series)\n",
    "fifa[['Work Rate', 'Attacking Work Rate', 'Defensive Work Rate']].head(10)"
   ]
  },
  {
   "cell_type": "code",
   "execution_count": 165,
   "id": "d7a6c26d",
   "metadata": {},
   "outputs": [
    {
     "name": "stdout",
     "output_type": "stream",
     "text": [
      "  Loaned From Loaned From_clean\n",
      "0         NaN              None\n",
      "1         NaN              None\n",
      "2         NaN              None\n",
      "3         NaN              None\n",
      "4         NaN              None\n",
      "5         NaN              None\n",
      "6         NaN              None\n",
      "7         NaN              None\n",
      "8         NaN              None\n",
      "9         NaN              None\n"
     ]
    }
   ],
   "source": [
    "#Clean the loaned from column\n",
    "import re\n",
    "\n",
    "pattern = re.compile(r\">(.*?)<\")  # capture everything between > and <\n",
    "\n",
    "fifa[\"Loaned From_clean\"] = fifa[\"Loaned From\"].apply(\n",
    "    lambda x: pattern.search(str(x)).group(1) if pd.notna(x) and pattern.search(str(x)) else None\n",
    ")\n",
    "\n",
    "print(fifa[[\"Loaned From\", \"Loaned From_clean\"]].head(10))\n",
    "\n",
    "#it will show Nan/None for players who are not on loan\n",
    "#other unique values are clubs from which players are loaned come later up in the dataset"
   ]
  },
  {
   "cell_type": "code",
   "execution_count": 166,
   "id": "8ed08c0d",
   "metadata": {},
   "outputs": [
    {
     "data": {
      "application/vnd.microsoft.datawrangler.viewer.v0+json": {
       "columns": [
        {
         "name": "Loaned From_clean",
         "rawType": "object",
         "type": "string"
        },
        {
         "name": "count",
         "rawType": "int64",
         "type": "integer"
        }
       ],
       "ref": "c4cd1707-a800-40a4-a3d0-da974a61d39e",
       "rows": [
        [
         "River Plate",
         "12"
        ],
        [
         "Juventus",
         "12"
        ],
        [
         "Manchester City",
         "12"
        ],
        [
         "Arsenal",
         "12"
        ],
        [
         "Wolverhampton Wanderers",
         "11"
        ],
        [
         "Brighton &amp; Hove Albion",
         "11"
        ],
        [
         "Inter",
         "11"
        ],
        [
         "Boca Juniors",
         "11"
        ],
        [
         "U.S. Sassuolo Calcio",
         "10"
        ],
        [
         "Chelsea",
         "10"
        ]
       ],
       "shape": {
        "columns": 1,
        "rows": 10
       }
      },
      "text/plain": [
       "Loaned From_clean\n",
       "River Plate                   12\n",
       "Juventus                      12\n",
       "Manchester City               12\n",
       "Arsenal                       12\n",
       "Wolverhampton Wanderers       11\n",
       "Brighton &amp; Hove Albion    11\n",
       "Inter                         11\n",
       "Boca Juniors                  11\n",
       "U.S. Sassuolo Calcio          10\n",
       "Chelsea                       10\n",
       "Name: count, dtype: int64"
      ]
     },
     "execution_count": 166,
     "metadata": {},
     "output_type": "execute_result"
    }
   ],
   "source": [
    "#Find Loan Sharks from loaned from column\n",
    "fifa['Loaned From_clean'].value_counts().head(10)"
   ]
  },
  {
   "cell_type": "markdown",
   "id": "c4054be6",
   "metadata": {},
   "source": [
    "## Final Fifa Dataset Looks like"
   ]
  },
  {
   "cell_type": "code",
   "execution_count": 167,
   "id": "9fe011f0",
   "metadata": {},
   "outputs": [
    {
     "name": "stdout",
     "output_type": "stream",
     "text": [
      "Index(['ID', 'Name', 'Age', 'Nationality', 'Overall', 'Potential', 'Club',\n",
      "       'Value', 'Wage', 'Special', 'Preferred Foot',\n",
      "       'International Reputation', 'Weak Foot', 'Skill Moves', 'Real Face',\n",
      "       'Joined', 'Contract Valid Until', 'Height', 'Weight', 'Release Clause',\n",
      "       'Kit Number', 'Best Overall Rating', 'Position_clean',\n",
      "       'Body Type Clean', 'Attacking Work Rate', 'Defensive Work Rate',\n",
      "       'Loaned From_clean'],\n",
      "      dtype='object')\n"
     ]
    }
   ],
   "source": [
    "# Drop Work Rate, body Type, Position, Loaned From as we cleaned them and have better dataset columns now\n",
    "cols_to_drop = ['Work Rate', 'Body Type', 'Position', 'Loaned From']\n",
    "fifa = fifa.drop(columns=cols_to_drop)\n",
    "print(fifa.columns)"
   ]
  },
  {
   "cell_type": "code",
   "execution_count": 168,
   "id": "e3e45b47",
   "metadata": {},
   "outputs": [
    {
     "data": {
      "application/vnd.microsoft.datawrangler.viewer.v0+json": {
       "columns": [
        {
         "name": "index",
         "rawType": "int64",
         "type": "integer"
        },
        {
         "name": "ID",
         "rawType": "int64",
         "type": "integer"
        },
        {
         "name": "Name",
         "rawType": "object",
         "type": "string"
        },
        {
         "name": "Age",
         "rawType": "int64",
         "type": "integer"
        },
        {
         "name": "Nationality",
         "rawType": "object",
         "type": "string"
        },
        {
         "name": "Overall",
         "rawType": "int64",
         "type": "integer"
        },
        {
         "name": "Potential",
         "rawType": "int64",
         "type": "integer"
        },
        {
         "name": "Club",
         "rawType": "object",
         "type": "string"
        },
        {
         "name": "Value",
         "rawType": "float64",
         "type": "float"
        },
        {
         "name": "Wage",
         "rawType": "float64",
         "type": "float"
        },
        {
         "name": "Special",
         "rawType": "int64",
         "type": "integer"
        },
        {
         "name": "Preferred Foot",
         "rawType": "object",
         "type": "string"
        },
        {
         "name": "International Reputation",
         "rawType": "float64",
         "type": "float"
        },
        {
         "name": "Weak Foot",
         "rawType": "float64",
         "type": "float"
        },
        {
         "name": "Skill Moves",
         "rawType": "float64",
         "type": "float"
        },
        {
         "name": "Real Face",
         "rawType": "object",
         "type": "string"
        },
        {
         "name": "Joined",
         "rawType": "datetime64[ns]",
         "type": "datetime"
        },
        {
         "name": "Contract Valid Until",
         "rawType": "object",
         "type": "string"
        },
        {
         "name": "Height",
         "rawType": "float64",
         "type": "float"
        },
        {
         "name": "Weight",
         "rawType": "float64",
         "type": "float"
        },
        {
         "name": "Release Clause",
         "rawType": "object",
         "type": "string"
        },
        {
         "name": "Kit Number",
         "rawType": "float64",
         "type": "float"
        },
        {
         "name": "Best Overall Rating",
         "rawType": "object",
         "type": "unknown"
        },
        {
         "name": "Position_clean",
         "rawType": "object",
         "type": "string"
        },
        {
         "name": "Body Type Clean",
         "rawType": "object",
         "type": "string"
        },
        {
         "name": "Attacking Work Rate",
         "rawType": "object",
         "type": "string"
        },
        {
         "name": "Defensive Work Rate",
         "rawType": "object",
         "type": "string"
        },
        {
         "name": "Loaned From_clean",
         "rawType": "object",
         "type": "unknown"
        }
       ],
       "ref": "a9c276d7-9297-42c8-b16a-c935d5451b68",
       "rows": [
        [
         "0",
         "209658",
         "L. Goretzka",
         "27",
         "Germany",
         "87",
         "88",
         "FC Bayern München",
         "91000000.0",
         "115000.0",
         "2312",
         "Right",
         "4.0",
         "4.0",
         "3.0",
         "Yes",
         "2018-07-01 00:00:00",
         "2026",
         null,
         "3.628736",
         "€157M",
         "8.0",
         null,
         "SUB",
         "Unique",
         "High",
         "Medium",
         null
        ],
        [
         "1",
         "212198",
         "Bruno Fernandes",
         "27",
         "Portugal",
         "86",
         "87",
         "Manchester United",
         "78500000.0",
         "190000.0",
         "2305",
         "Right",
         "3.0",
         "3.0",
         "4.0",
         "Yes",
         "2020-01-30 00:00:00",
         "2026",
         null,
         "2.721552",
         "€155M",
         "8.0",
         null,
         "LCM",
         "Unique",
         "High",
         "High",
         null
        ],
        [
         "2",
         "224334",
         "M. Acuña",
         "30",
         "Argentina",
         "85",
         "85",
         "Sevilla FC",
         "46500000.0",
         "46000.0",
         "2303",
         "Left",
         "2.0",
         "3.0",
         "3.0",
         "No",
         "2020-09-14 00:00:00",
         "2024",
         null,
         "2.721552",
         "€97.7M",
         "19.0",
         null,
         "LB",
         "Stocky",
         "High",
         "High",
         null
        ],
        [
         "3",
         "192985",
         "K. De Bruyne",
         "31",
         "Belgium",
         "91",
         "91",
         "Manchester City",
         "107500000.0",
         "350000.0",
         "2303",
         "Right",
         "4.0",
         "5.0",
         "4.0",
         "Yes",
         "2015-08-30 00:00:00",
         "2025",
         null,
         "3.175144",
         "€198.9M",
         "17.0",
         null,
         "RCM",
         "Unique",
         "High",
         "High",
         null
        ],
        [
         "4",
         "224232",
         "N. Barella",
         "25",
         "Italy",
         "86",
         "89",
         "Inter",
         "89500000.0",
         "110000.0",
         "2296",
         "Right",
         "3.0",
         "3.0",
         "3.0",
         "Yes",
         "2020-09-01 00:00:00",
         "2026",
         null,
         "2.721552",
         "€154.4M",
         "23.0",
         null,
         "RCM",
         "Normal",
         "High",
         "High",
         null
        ],
        [
         "5",
         "212622",
         "J. Kimmich",
         "27",
         "Germany",
         "89",
         "90",
         "FC Bayern München",
         "105500000.0",
         "130000.0",
         "2283",
         "Right",
         "4.0",
         "4.0",
         "3.0",
         "Yes",
         "2015-07-01 00:00:00",
         "2025",
         null,
         "3.175144",
         "€182M",
         "6.0",
         null,
         "RDM",
         "Normal",
         "High",
         "Medium",
         null
        ],
        [
         "6",
         "197445",
         "D. Alaba",
         "30",
         "Austria",
         "86",
         "86",
         "Real Madrid CF",
         "55500000.0",
         "220000.0",
         "2277",
         "Left",
         "4.0",
         "4.0",
         "3.0",
         "Yes",
         "2021-07-01 00:00:00",
         "2026",
         null,
         "3.175144",
         "€113.8M",
         "4.0",
         null,
         "LCB",
         "Normal",
         "Medium",
         "Medium",
         null
        ],
        [
         "7",
         "187961",
         "22 Paulinho",
         "32",
         "Brazil",
         "83",
         "83",
         "Al Ahli",
         "28500000.0",
         "61000.0",
         "2273",
         "Right",
         "3.0",
         "4.0",
         "4.0",
         "Yes",
         "2021-07-22 00:00:00",
         "2024",
         null,
         "3.628736",
         "€48.5M",
         "15.0",
         null,
         "LCM",
         "Normal",
         "High",
         "High",
         null
        ],
        [
         "8",
         "208333",
         "E. Can",
         "28",
         "Germany",
         "82",
         "82",
         "Borussia Dortmund",
         "30500000.0",
         "63000.0",
         "2271",
         "Right",
         "3.0",
         "4.0",
         "3.0",
         "Yes",
         "2020-02-18 00:00:00",
         "2024",
         null,
         "3.628736",
         "€51.9M",
         "23.0",
         null,
         "SUB",
         "Stocky",
         "Medium",
         "High",
         null
        ],
        [
         "9",
         "210514",
         "João Cancelo",
         "28",
         "Portugal",
         "88",
         "88",
         "Manchester City",
         "82500000.0",
         "250000.0",
         "2262",
         "Right",
         "3.0",
         "4.0",
         "4.0",
         "Yes",
         "2019-08-07 00:00:00",
         "2027",
         null,
         "3.175144",
         "€152.6M",
         "7.0",
         null,
         "LB",
         "Unique",
         "High",
         "Medium",
         null
        ]
       ],
       "shape": {
        "columns": 27,
        "rows": 10
       }
      },
      "text/html": [
       "<div>\n",
       "<style scoped>\n",
       "    .dataframe tbody tr th:only-of-type {\n",
       "        vertical-align: middle;\n",
       "    }\n",
       "\n",
       "    .dataframe tbody tr th {\n",
       "        vertical-align: top;\n",
       "    }\n",
       "\n",
       "    .dataframe thead th {\n",
       "        text-align: right;\n",
       "    }\n",
       "</style>\n",
       "<table border=\"1\" class=\"dataframe\">\n",
       "  <thead>\n",
       "    <tr style=\"text-align: right;\">\n",
       "      <th></th>\n",
       "      <th>ID</th>\n",
       "      <th>Name</th>\n",
       "      <th>Age</th>\n",
       "      <th>Nationality</th>\n",
       "      <th>Overall</th>\n",
       "      <th>Potential</th>\n",
       "      <th>Club</th>\n",
       "      <th>Value</th>\n",
       "      <th>Wage</th>\n",
       "      <th>Special</th>\n",
       "      <th>...</th>\n",
       "      <th>Height</th>\n",
       "      <th>Weight</th>\n",
       "      <th>Release Clause</th>\n",
       "      <th>Kit Number</th>\n",
       "      <th>Best Overall Rating</th>\n",
       "      <th>Position_clean</th>\n",
       "      <th>Body Type Clean</th>\n",
       "      <th>Attacking Work Rate</th>\n",
       "      <th>Defensive Work Rate</th>\n",
       "      <th>Loaned From_clean</th>\n",
       "    </tr>\n",
       "  </thead>\n",
       "  <tbody>\n",
       "    <tr>\n",
       "      <th>0</th>\n",
       "      <td>209658</td>\n",
       "      <td>L. Goretzka</td>\n",
       "      <td>27</td>\n",
       "      <td>Germany</td>\n",
       "      <td>87</td>\n",
       "      <td>88</td>\n",
       "      <td>FC Bayern München</td>\n",
       "      <td>91000000.0</td>\n",
       "      <td>115000.0</td>\n",
       "      <td>2312</td>\n",
       "      <td>...</td>\n",
       "      <td>NaN</td>\n",
       "      <td>3.628736</td>\n",
       "      <td>€157M</td>\n",
       "      <td>8.0</td>\n",
       "      <td>NaN</td>\n",
       "      <td>SUB</td>\n",
       "      <td>Unique</td>\n",
       "      <td>High</td>\n",
       "      <td>Medium</td>\n",
       "      <td>None</td>\n",
       "    </tr>\n",
       "    <tr>\n",
       "      <th>1</th>\n",
       "      <td>212198</td>\n",
       "      <td>Bruno Fernandes</td>\n",
       "      <td>27</td>\n",
       "      <td>Portugal</td>\n",
       "      <td>86</td>\n",
       "      <td>87</td>\n",
       "      <td>Manchester United</td>\n",
       "      <td>78500000.0</td>\n",
       "      <td>190000.0</td>\n",
       "      <td>2305</td>\n",
       "      <td>...</td>\n",
       "      <td>NaN</td>\n",
       "      <td>2.721552</td>\n",
       "      <td>€155M</td>\n",
       "      <td>8.0</td>\n",
       "      <td>NaN</td>\n",
       "      <td>LCM</td>\n",
       "      <td>Unique</td>\n",
       "      <td>High</td>\n",
       "      <td>High</td>\n",
       "      <td>None</td>\n",
       "    </tr>\n",
       "    <tr>\n",
       "      <th>2</th>\n",
       "      <td>224334</td>\n",
       "      <td>M. Acuña</td>\n",
       "      <td>30</td>\n",
       "      <td>Argentina</td>\n",
       "      <td>85</td>\n",
       "      <td>85</td>\n",
       "      <td>Sevilla FC</td>\n",
       "      <td>46500000.0</td>\n",
       "      <td>46000.0</td>\n",
       "      <td>2303</td>\n",
       "      <td>...</td>\n",
       "      <td>NaN</td>\n",
       "      <td>2.721552</td>\n",
       "      <td>€97.7M</td>\n",
       "      <td>19.0</td>\n",
       "      <td>NaN</td>\n",
       "      <td>LB</td>\n",
       "      <td>Stocky</td>\n",
       "      <td>High</td>\n",
       "      <td>High</td>\n",
       "      <td>None</td>\n",
       "    </tr>\n",
       "    <tr>\n",
       "      <th>3</th>\n",
       "      <td>192985</td>\n",
       "      <td>K. De Bruyne</td>\n",
       "      <td>31</td>\n",
       "      <td>Belgium</td>\n",
       "      <td>91</td>\n",
       "      <td>91</td>\n",
       "      <td>Manchester City</td>\n",
       "      <td>107500000.0</td>\n",
       "      <td>350000.0</td>\n",
       "      <td>2303</td>\n",
       "      <td>...</td>\n",
       "      <td>NaN</td>\n",
       "      <td>3.175144</td>\n",
       "      <td>€198.9M</td>\n",
       "      <td>17.0</td>\n",
       "      <td>NaN</td>\n",
       "      <td>RCM</td>\n",
       "      <td>Unique</td>\n",
       "      <td>High</td>\n",
       "      <td>High</td>\n",
       "      <td>None</td>\n",
       "    </tr>\n",
       "    <tr>\n",
       "      <th>4</th>\n",
       "      <td>224232</td>\n",
       "      <td>N. Barella</td>\n",
       "      <td>25</td>\n",
       "      <td>Italy</td>\n",
       "      <td>86</td>\n",
       "      <td>89</td>\n",
       "      <td>Inter</td>\n",
       "      <td>89500000.0</td>\n",
       "      <td>110000.0</td>\n",
       "      <td>2296</td>\n",
       "      <td>...</td>\n",
       "      <td>NaN</td>\n",
       "      <td>2.721552</td>\n",
       "      <td>€154.4M</td>\n",
       "      <td>23.0</td>\n",
       "      <td>NaN</td>\n",
       "      <td>RCM</td>\n",
       "      <td>Normal</td>\n",
       "      <td>High</td>\n",
       "      <td>High</td>\n",
       "      <td>None</td>\n",
       "    </tr>\n",
       "    <tr>\n",
       "      <th>5</th>\n",
       "      <td>212622</td>\n",
       "      <td>J. Kimmich</td>\n",
       "      <td>27</td>\n",
       "      <td>Germany</td>\n",
       "      <td>89</td>\n",
       "      <td>90</td>\n",
       "      <td>FC Bayern München</td>\n",
       "      <td>105500000.0</td>\n",
       "      <td>130000.0</td>\n",
       "      <td>2283</td>\n",
       "      <td>...</td>\n",
       "      <td>NaN</td>\n",
       "      <td>3.175144</td>\n",
       "      <td>€182M</td>\n",
       "      <td>6.0</td>\n",
       "      <td>NaN</td>\n",
       "      <td>RDM</td>\n",
       "      <td>Normal</td>\n",
       "      <td>High</td>\n",
       "      <td>Medium</td>\n",
       "      <td>None</td>\n",
       "    </tr>\n",
       "    <tr>\n",
       "      <th>6</th>\n",
       "      <td>197445</td>\n",
       "      <td>D. Alaba</td>\n",
       "      <td>30</td>\n",
       "      <td>Austria</td>\n",
       "      <td>86</td>\n",
       "      <td>86</td>\n",
       "      <td>Real Madrid CF</td>\n",
       "      <td>55500000.0</td>\n",
       "      <td>220000.0</td>\n",
       "      <td>2277</td>\n",
       "      <td>...</td>\n",
       "      <td>NaN</td>\n",
       "      <td>3.175144</td>\n",
       "      <td>€113.8M</td>\n",
       "      <td>4.0</td>\n",
       "      <td>NaN</td>\n",
       "      <td>LCB</td>\n",
       "      <td>Normal</td>\n",
       "      <td>Medium</td>\n",
       "      <td>Medium</td>\n",
       "      <td>None</td>\n",
       "    </tr>\n",
       "    <tr>\n",
       "      <th>7</th>\n",
       "      <td>187961</td>\n",
       "      <td>22 Paulinho</td>\n",
       "      <td>32</td>\n",
       "      <td>Brazil</td>\n",
       "      <td>83</td>\n",
       "      <td>83</td>\n",
       "      <td>Al Ahli</td>\n",
       "      <td>28500000.0</td>\n",
       "      <td>61000.0</td>\n",
       "      <td>2273</td>\n",
       "      <td>...</td>\n",
       "      <td>NaN</td>\n",
       "      <td>3.628736</td>\n",
       "      <td>€48.5M</td>\n",
       "      <td>15.0</td>\n",
       "      <td>NaN</td>\n",
       "      <td>LCM</td>\n",
       "      <td>Normal</td>\n",
       "      <td>High</td>\n",
       "      <td>High</td>\n",
       "      <td>None</td>\n",
       "    </tr>\n",
       "    <tr>\n",
       "      <th>8</th>\n",
       "      <td>208333</td>\n",
       "      <td>E. Can</td>\n",
       "      <td>28</td>\n",
       "      <td>Germany</td>\n",
       "      <td>82</td>\n",
       "      <td>82</td>\n",
       "      <td>Borussia Dortmund</td>\n",
       "      <td>30500000.0</td>\n",
       "      <td>63000.0</td>\n",
       "      <td>2271</td>\n",
       "      <td>...</td>\n",
       "      <td>NaN</td>\n",
       "      <td>3.628736</td>\n",
       "      <td>€51.9M</td>\n",
       "      <td>23.0</td>\n",
       "      <td>NaN</td>\n",
       "      <td>SUB</td>\n",
       "      <td>Stocky</td>\n",
       "      <td>Medium</td>\n",
       "      <td>High</td>\n",
       "      <td>None</td>\n",
       "    </tr>\n",
       "    <tr>\n",
       "      <th>9</th>\n",
       "      <td>210514</td>\n",
       "      <td>João Cancelo</td>\n",
       "      <td>28</td>\n",
       "      <td>Portugal</td>\n",
       "      <td>88</td>\n",
       "      <td>88</td>\n",
       "      <td>Manchester City</td>\n",
       "      <td>82500000.0</td>\n",
       "      <td>250000.0</td>\n",
       "      <td>2262</td>\n",
       "      <td>...</td>\n",
       "      <td>NaN</td>\n",
       "      <td>3.175144</td>\n",
       "      <td>€152.6M</td>\n",
       "      <td>7.0</td>\n",
       "      <td>NaN</td>\n",
       "      <td>LB</td>\n",
       "      <td>Unique</td>\n",
       "      <td>High</td>\n",
       "      <td>Medium</td>\n",
       "      <td>None</td>\n",
       "    </tr>\n",
       "  </tbody>\n",
       "</table>\n",
       "<p>10 rows × 27 columns</p>\n",
       "</div>"
      ],
      "text/plain": [
       "       ID             Name  Age Nationality  Overall  Potential  \\\n",
       "0  209658      L. Goretzka   27     Germany       87         88   \n",
       "1  212198  Bruno Fernandes   27    Portugal       86         87   \n",
       "2  224334         M. Acuña   30   Argentina       85         85   \n",
       "3  192985     K. De Bruyne   31     Belgium       91         91   \n",
       "4  224232       N. Barella   25       Italy       86         89   \n",
       "5  212622       J. Kimmich   27     Germany       89         90   \n",
       "6  197445         D. Alaba   30     Austria       86         86   \n",
       "7  187961      22 Paulinho   32      Brazil       83         83   \n",
       "8  208333           E. Can   28     Germany       82         82   \n",
       "9  210514     João Cancelo   28    Portugal       88         88   \n",
       "\n",
       "                Club        Value      Wage  Special  ... Height    Weight  \\\n",
       "0  FC Bayern München   91000000.0  115000.0     2312  ...    NaN  3.628736   \n",
       "1  Manchester United   78500000.0  190000.0     2305  ...    NaN  2.721552   \n",
       "2         Sevilla FC   46500000.0   46000.0     2303  ...    NaN  2.721552   \n",
       "3    Manchester City  107500000.0  350000.0     2303  ...    NaN  3.175144   \n",
       "4              Inter   89500000.0  110000.0     2296  ...    NaN  2.721552   \n",
       "5  FC Bayern München  105500000.0  130000.0     2283  ...    NaN  3.175144   \n",
       "6     Real Madrid CF   55500000.0  220000.0     2277  ...    NaN  3.175144   \n",
       "7            Al Ahli   28500000.0   61000.0     2273  ...    NaN  3.628736   \n",
       "8  Borussia Dortmund   30500000.0   63000.0     2271  ...    NaN  3.628736   \n",
       "9    Manchester City   82500000.0  250000.0     2262  ...    NaN  3.175144   \n",
       "\n",
       "   Release Clause  Kit Number Best Overall Rating Position_clean  \\\n",
       "0           €157M         8.0                 NaN            SUB   \n",
       "1           €155M         8.0                 NaN            LCM   \n",
       "2          €97.7M        19.0                 NaN             LB   \n",
       "3         €198.9M        17.0                 NaN            RCM   \n",
       "4         €154.4M        23.0                 NaN            RCM   \n",
       "5           €182M         6.0                 NaN            RDM   \n",
       "6         €113.8M         4.0                 NaN            LCB   \n",
       "7          €48.5M        15.0                 NaN            LCM   \n",
       "8          €51.9M        23.0                 NaN            SUB   \n",
       "9         €152.6M         7.0                 NaN             LB   \n",
       "\n",
       "  Body Type Clean  Attacking Work Rate  Defensive Work Rate Loaned From_clean  \n",
       "0          Unique                 High               Medium              None  \n",
       "1          Unique                 High                 High              None  \n",
       "2          Stocky                 High                 High              None  \n",
       "3          Unique                 High                 High              None  \n",
       "4          Normal                 High                 High              None  \n",
       "5          Normal                 High               Medium              None  \n",
       "6          Normal               Medium               Medium              None  \n",
       "7          Normal                 High                 High              None  \n",
       "8          Stocky               Medium                 High              None  \n",
       "9          Unique                 High               Medium              None  \n",
       "\n",
       "[10 rows x 27 columns]"
      ]
     },
     "execution_count": 168,
     "metadata": {},
     "output_type": "execute_result"
    }
   ],
   "source": [
    "fifa.head(10)"
   ]
  },
  {
   "cell_type": "code",
   "execution_count": 169,
   "id": "8314bc4b",
   "metadata": {},
   "outputs": [
    {
     "data": {
      "text/html": [
       "<pre style=\"white-space:pre;overflow-x:auto;line-height:normal;font-family:Menlo,'DejaVu Sans Mono',consolas,'Courier New',monospace\">╭──────────────────────────────────────────────── skimpy summary ─────────────────────────────────────────────────╮\n",
       "│ <span style=\"font-style: italic\">         Data Summary         </span> <span style=\"font-style: italic\">      Data Types       </span>                                                          │\n",
       "│ ┏━━━━━━━━━━━━━━━━━━━┳━━━━━━━━┓ ┏━━━━━━━━━━━━━┳━━━━━━━┓                                                          │\n",
       "│ ┃<span style=\"color: #008080; text-decoration-color: #008080; font-weight: bold\"> Dataframe         </span>┃<span style=\"color: #008080; text-decoration-color: #008080; font-weight: bold\"> Values </span>┃ ┃<span style=\"color: #008080; text-decoration-color: #008080; font-weight: bold\"> Column Type </span>┃<span style=\"color: #008080; text-decoration-color: #008080; font-weight: bold\"> Count </span>┃                                                          │\n",
       "│ ┡━━━━━━━━━━━━━━━━━━━╇━━━━━━━━┩ ┡━━━━━━━━━━━━━╇━━━━━━━┩                                                          │\n",
       "│ │ Number of rows    │ 17660  │ │ string      │ 13    │                                                          │\n",
       "│ │ Number of columns │ 27     │ │ float64     │ 8     │                                                          │\n",
       "│ └───────────────────┴────────┘ │ int64       │ 5     │                                                          │\n",
       "│                                │ datetime64  │ 1     │                                                          │\n",
       "│                                └─────────────┴───────┘                                                          │\n",
       "│ <span style=\"font-style: italic\">                                                   All null                                                   </span>  │\n",
       "│ ┏━━━━━━━━━━━━━━━━━━━━━━━━━━━━━━━━━━━━━━━━━┳━━━━━━━━━━━━━━━━━━━━━━━━━━━━━━━━━━━┳━━━━━━━━━━━━━━━━━━━━━━━━━━━━━━┓  │\n",
       "│ ┃<span style=\"font-weight: bold\"> column                                  </span>┃<span style=\"font-weight: bold\"> NA                                </span>┃<span style=\"font-weight: bold\"> NA %                         </span>┃  │\n",
       "│ ┡━━━━━━━━━━━━━━━━━━━━━━━━━━━━━━━━━━━━━━━━━╇━━━━━━━━━━━━━━━━━━━━━━━━━━━━━━━━━━━╇━━━━━━━━━━━━━━━━━━━━━━━━━━━━━━┩  │\n",
       "│ │ <span style=\"color: #af87ff; text-decoration-color: #af87ff\">Height                                 </span> │ <span style=\"color: #008080; text-decoration-color: #008080\">                            17660</span> │ <span style=\"color: #008080; text-decoration-color: #008080\">                         100</span> │  │\n",
       "│ └─────────────────────────────────────────┴───────────────────────────────────┴──────────────────────────────┘  │\n",
       "│ <span style=\"font-style: italic\">                                                    number                                                    </span>  │\n",
       "│ ┏━━━━━━━━━━━━━┳━━━━┳━━━━━━━━━━━━┳━━━━━━━━━┳━━━━━━━━━┳━━━━━━━┳━━━━━━━━┳━━━━━━━━┳━━━━━━━━━┳━━━━━━━━━━━┳━━━━━━━━┓  │\n",
       "│ ┃<span style=\"font-weight: bold\"> column      </span>┃<span style=\"font-weight: bold\"> NA </span>┃<span style=\"font-weight: bold\"> NA %       </span>┃<span style=\"font-weight: bold\"> mean    </span>┃<span style=\"font-weight: bold\"> sd      </span>┃<span style=\"font-weight: bold\"> p0    </span>┃<span style=\"font-weight: bold\"> p25    </span>┃<span style=\"font-weight: bold\"> p50    </span>┃<span style=\"font-weight: bold\"> p75     </span>┃<span style=\"font-weight: bold\"> p100      </span>┃<span style=\"font-weight: bold\"> hist   </span>┃  │\n",
       "│ ┡━━━━━━━━━━━━━╇━━━━╇━━━━━━━━━━━━╇━━━━━━━━━╇━━━━━━━━━╇━━━━━━━╇━━━━━━━━╇━━━━━━━━╇━━━━━━━━━╇━━━━━━━━━━━╇━━━━━━━━┩  │\n",
       "│ │ <span style=\"color: #af87ff; text-decoration-color: #af87ff\">ID         </span> │ <span style=\"color: #008080; text-decoration-color: #008080\"> 0</span> │ <span style=\"color: #008080; text-decoration-color: #008080\">         0</span> │ <span style=\"color: #008080; text-decoration-color: #008080\"> 246300</span> │ <span style=\"color: #008080; text-decoration-color: #008080\">  31490</span> │ <span style=\"color: #008080; text-decoration-color: #008080\">   16</span> │ <span style=\"color: #008080; text-decoration-color: #008080\">240700</span> │ <span style=\"color: #008080; text-decoration-color: #008080\">257000</span> │ <span style=\"color: #008080; text-decoration-color: #008080\"> 263000</span> │ <span style=\"color: #008080; text-decoration-color: #008080\">   271300</span> │ <span style=\"color: #008000; text-decoration-color: #008000\">    ▁▇</span> │  │\n",
       "│ │ <span style=\"color: #af87ff; text-decoration-color: #af87ff\">Age        </span> │ <span style=\"color: #008080; text-decoration-color: #008080\"> 0</span> │ <span style=\"color: #008080; text-decoration-color: #008080\">         0</span> │ <span style=\"color: #008080; text-decoration-color: #008080\">  23.13</span> │ <span style=\"color: #008080; text-decoration-color: #008080\">   4.64</span> │ <span style=\"color: #008080; text-decoration-color: #008080\">   15</span> │ <span style=\"color: #008080; text-decoration-color: #008080\">    20</span> │ <span style=\"color: #008080; text-decoration-color: #008080\">    22</span> │ <span style=\"color: #008080; text-decoration-color: #008080\">     26</span> │ <span style=\"color: #008080; text-decoration-color: #008080\">       54</span> │ <span style=\"color: #008000; text-decoration-color: #008000\"> ▇▆▃  </span> │  │\n",
       "│ │ <span style=\"color: #af87ff; text-decoration-color: #af87ff\">Overall    </span> │ <span style=\"color: #008080; text-decoration-color: #008080\"> 0</span> │ <span style=\"color: #008080; text-decoration-color: #008080\">         0</span> │ <span style=\"color: #008080; text-decoration-color: #008080\">  63.37</span> │ <span style=\"color: #008080; text-decoration-color: #008080\">  8.036</span> │ <span style=\"color: #008080; text-decoration-color: #008080\">   43</span> │ <span style=\"color: #008080; text-decoration-color: #008080\">    58</span> │ <span style=\"color: #008080; text-decoration-color: #008080\">    63</span> │ <span style=\"color: #008080; text-decoration-color: #008080\">     69</span> │ <span style=\"color: #008080; text-decoration-color: #008080\">       91</span> │ <span style=\"color: #008000; text-decoration-color: #008000\">▁▅▇▅▂ </span> │  │\n",
       "│ │ <span style=\"color: #af87ff; text-decoration-color: #af87ff\">Potential  </span> │ <span style=\"color: #008080; text-decoration-color: #008080\"> 0</span> │ <span style=\"color: #008080; text-decoration-color: #008080\">         0</span> │ <span style=\"color: #008080; text-decoration-color: #008080\">  70.98</span> │ <span style=\"color: #008080; text-decoration-color: #008080\">   6.53</span> │ <span style=\"color: #008080; text-decoration-color: #008080\">   42</span> │ <span style=\"color: #008080; text-decoration-color: #008080\">    67</span> │ <span style=\"color: #008080; text-decoration-color: #008080\">    71</span> │ <span style=\"color: #008080; text-decoration-color: #008080\">     75</span> │ <span style=\"color: #008080; text-decoration-color: #008080\">       95</span> │ <span style=\"color: #008000; text-decoration-color: #008000\"> ▁▅▇▃ </span> │  │\n",
       "│ │ <span style=\"color: #af87ff; text-decoration-color: #af87ff\">Value      </span> │ <span style=\"color: #008080; text-decoration-color: #008080\"> 0</span> │ <span style=\"color: #008080; text-decoration-color: #008080\">         0</span> │ <span style=\"color: #008080; text-decoration-color: #008080\">2740000</span> │ <span style=\"color: #008080; text-decoration-color: #008080\">7841000</span> │ <span style=\"color: #008080; text-decoration-color: #008080\">    0</span> │ <span style=\"color: #008080; text-decoration-color: #008080\">325000</span> │ <span style=\"color: #008080; text-decoration-color: #008080\">700000</span> │ <span style=\"color: #008080; text-decoration-color: #008080\">1725000</span> │ <span style=\"color: #008080; text-decoration-color: #008080\">190500000</span> │ <span style=\"color: #008000; text-decoration-color: #008000\">  ▇   </span> │  │\n",
       "│ │ <span style=\"color: #af87ff; text-decoration-color: #af87ff\">Wage       </span> │ <span style=\"color: #008080; text-decoration-color: #008080\"> 0</span> │ <span style=\"color: #008080; text-decoration-color: #008080\">         0</span> │ <span style=\"color: #008080; text-decoration-color: #008080\">   8190</span> │ <span style=\"color: #008080; text-decoration-color: #008080\">  20480</span> │ <span style=\"color: #008080; text-decoration-color: #008080\">    0</span> │ <span style=\"color: #008080; text-decoration-color: #008080\">   550</span> │ <span style=\"color: #008080; text-decoration-color: #008080\">  2000</span> │ <span style=\"color: #008080; text-decoration-color: #008080\">   6000</span> │ <span style=\"color: #008080; text-decoration-color: #008080\">   450000</span> │ <span style=\"color: #008000; text-decoration-color: #008000\">  ▇   </span> │  │\n",
       "│ │ <span style=\"color: #af87ff; text-decoration-color: #af87ff\">Special    </span> │ <span style=\"color: #008080; text-decoration-color: #008080\"> 0</span> │ <span style=\"color: #008080; text-decoration-color: #008080\">         0</span> │ <span style=\"color: #008080; text-decoration-color: #008080\">   1538</span> │ <span style=\"color: #008080; text-decoration-color: #008080\">  285.9</span> │ <span style=\"color: #008080; text-decoration-color: #008080\">  749</span> │ <span style=\"color: #008080; text-decoration-color: #008080\">  1387</span> │ <span style=\"color: #008080; text-decoration-color: #008080\">  1548</span> │ <span style=\"color: #008080; text-decoration-color: #008080\">   1727</span> │ <span style=\"color: #008080; text-decoration-color: #008080\">     2312</span> │ <span style=\"color: #008000; text-decoration-color: #008000\">▂▂▇▇▃▁</span> │  │\n",
       "│ │ <span style=\"color: #af87ff; text-decoration-color: #af87ff\">Internation</span> │ <span style=\"color: #008080; text-decoration-color: #008080\"> 0</span> │ <span style=\"color: #008080; text-decoration-color: #008080\">         0</span> │ <span style=\"color: #008080; text-decoration-color: #008080\">  1.106</span> │ <span style=\"color: #008080; text-decoration-color: #008080\">  0.407</span> │ <span style=\"color: #008080; text-decoration-color: #008080\">    1</span> │ <span style=\"color: #008080; text-decoration-color: #008080\">     1</span> │ <span style=\"color: #008080; text-decoration-color: #008080\">     1</span> │ <span style=\"color: #008080; text-decoration-color: #008080\">      1</span> │ <span style=\"color: #008080; text-decoration-color: #008080\">        5</span> │ <span style=\"color: #008000; text-decoration-color: #008000\">  ▇   </span> │  │\n",
       "│ │ <span style=\"color: #af87ff; text-decoration-color: #af87ff\">al         </span> │    │            │         │         │       │        │        │         │           │        │  │\n",
       "│ │ <span style=\"color: #af87ff; text-decoration-color: #af87ff\">Reputation </span> │    │            │         │         │       │        │        │         │           │        │  │\n",
       "│ │ <span style=\"color: #af87ff; text-decoration-color: #af87ff\">Weak Foot  </span> │ <span style=\"color: #008080; text-decoration-color: #008080\"> 0</span> │ <span style=\"color: #008080; text-decoration-color: #008080\">         0</span> │ <span style=\"color: #008080; text-decoration-color: #008080\">    2.9</span> │ <span style=\"color: #008080; text-decoration-color: #008080\"> 0.6635</span> │ <span style=\"color: #008080; text-decoration-color: #008080\">    1</span> │ <span style=\"color: #008080; text-decoration-color: #008080\">     3</span> │ <span style=\"color: #008080; text-decoration-color: #008080\">     3</span> │ <span style=\"color: #008080; text-decoration-color: #008080\">      3</span> │ <span style=\"color: #008080; text-decoration-color: #008080\">        5</span> │ <span style=\"color: #008000; text-decoration-color: #008000\"> ▃ ▇▂ </span> │  │\n",
       "│ │ <span style=\"color: #af87ff; text-decoration-color: #af87ff\">Skill Moves</span> │ <span style=\"color: #008080; text-decoration-color: #008080\"> 0</span> │ <span style=\"color: #008080; text-decoration-color: #008080\">         0</span> │ <span style=\"color: #008080; text-decoration-color: #008080\">  2.297</span> │ <span style=\"color: #008080; text-decoration-color: #008080\"> 0.7543</span> │ <span style=\"color: #008080; text-decoration-color: #008080\">    1</span> │ <span style=\"color: #008080; text-decoration-color: #008080\">     2</span> │ <span style=\"color: #008080; text-decoration-color: #008080\">     2</span> │ <span style=\"color: #008080; text-decoration-color: #008080\">      3</span> │ <span style=\"color: #008080; text-decoration-color: #008080\">        5</span> │ <span style=\"color: #008000; text-decoration-color: #008000\">▂▇ ▅▁ </span> │  │\n",
       "│ │ <span style=\"color: #af87ff; text-decoration-color: #af87ff\">Weight     </span> │ <span style=\"color: #008080; text-decoration-color: #008080\"> 0</span> │ <span style=\"color: #008080; text-decoration-color: #008080\">         0</span> │ <span style=\"color: #008080; text-decoration-color: #008080\">   3.18</span> │ <span style=\"color: #008080; text-decoration-color: #008080\"> 0.3385</span> │ <span style=\"color: #008080; text-decoration-color: #008080\">1.814</span> │ <span style=\"color: #008080; text-decoration-color: #008080\"> 3.175</span> │ <span style=\"color: #008080; text-decoration-color: #008080\"> 3.175</span> │ <span style=\"color: #008080; text-decoration-color: #008080\">  3.175</span> │ <span style=\"color: #008080; text-decoration-color: #008080\">     4.99</span> │ <span style=\"color: #008000; text-decoration-color: #008000\">  ▃▇▃ </span> │  │\n",
       "│ │ <span style=\"color: #af87ff; text-decoration-color: #af87ff\">Kit Number </span> │ <span style=\"color: #008080; text-decoration-color: #008080\">35</span> │ <span style=\"color: #008080; text-decoration-color: #008080\">0.19818799</span> │ <span style=\"color: #008080; text-decoration-color: #008080\">  25.04</span> │ <span style=\"color: #008080; text-decoration-color: #008080\">  19.15</span> │ <span style=\"color: #008080; text-decoration-color: #008080\">    1</span> │ <span style=\"color: #008080; text-decoration-color: #008080\">    11</span> │ <span style=\"color: #008080; text-decoration-color: #008080\">    22</span> │ <span style=\"color: #008080; text-decoration-color: #008080\">     32</span> │ <span style=\"color: #008080; text-decoration-color: #008080\">       99</span> │ <span style=\"color: #008000; text-decoration-color: #008000\">▇▇▃▁ ▁</span> │  │\n",
       "│ │             │    │ <span style=\"color: #008080; text-decoration-color: #008080\"> 546998866</span> │         │         │       │        │        │         │           │        │  │\n",
       "│ └─────────────┴────┴────────────┴─────────┴─────────┴───────┴────────┴────────┴─────────┴───────────┴────────┘  │\n",
       "│ <span style=\"font-style: italic\">                                                   datetime                                                   </span>  │\n",
       "│ ┏━━━━━━━━━━━━━┳━━━━━━━━━┳━━━━━━━━━━━━━━━━━━━━━━━━━━━━━┳━━━━━━━━━━━━━━━━━━┳━━━━━━━━━━━━━━━━━━┳━━━━━━━━━━━━━━━━┓  │\n",
       "│ ┃<span style=\"font-weight: bold\"> column      </span>┃<span style=\"font-weight: bold\"> NA      </span>┃<span style=\"font-weight: bold\"> NA %                        </span>┃<span style=\"font-weight: bold\"> first            </span>┃<span style=\"font-weight: bold\"> last             </span>┃<span style=\"font-weight: bold\"> frequency      </span>┃  │\n",
       "│ ┡━━━━━━━━━━━━━╇━━━━━━━━━╇━━━━━━━━━━━━━━━━━━━━━━━━━━━━━╇━━━━━━━━━━━━━━━━━━╇━━━━━━━━━━━━━━━━━━╇━━━━━━━━━━━━━━━━┩  │\n",
       "│ │ <span style=\"color: #af87ff; text-decoration-color: #af87ff\">Joined     </span> │ <span style=\"color: #008080; text-decoration-color: #008080\">   1098</span> │ <span style=\"color: #008080; text-decoration-color: #008080\">          6.217440543601359</span> │ <span style=\"color: #800000; text-decoration-color: #800000\">   1990-12-01   </span> │ <span style=\"color: #800000; text-decoration-color: #800000\">   2022-08-11   </span> │ <span style=\"color: #af87ff; text-decoration-color: #af87ff\">None          </span> │  │\n",
       "│ └─────────────┴─────────┴─────────────────────────────┴──────────────────┴──────────────────┴────────────────┘  │\n",
       "│ <span style=\"font-style: italic\">                                                    string                                                    </span>  │\n",
       "│ ┏━━━━━━━━━━┳━━━━━━━┳━━━━━━━━━━┳━━━━━━━━━━┳━━━━━━━━━━┳━━━━━━━━━━┳━━━━━━━━━━━┳━━━━━━━━━━┳━━━━━━━━━━━┳━━━━━━━━━━┓  │\n",
       "│ ┃<span style=\"font-weight: bold\">          </span>┃<span style=\"font-weight: bold\">       </span>┃<span style=\"font-weight: bold\">          </span>┃<span style=\"font-weight: bold\">          </span>┃<span style=\"font-weight: bold\">          </span>┃<span style=\"font-weight: bold\">          </span>┃<span style=\"font-weight: bold\">           </span>┃<span style=\"font-weight: bold\"> chars    </span>┃<span style=\"font-weight: bold\"> words per </span>┃<span style=\"font-weight: bold\"> total    </span>┃  │\n",
       "│ ┃<span style=\"font-weight: bold\"> column   </span>┃<span style=\"font-weight: bold\"> NA    </span>┃<span style=\"font-weight: bold\"> NA %     </span>┃<span style=\"font-weight: bold\"> shortest </span>┃<span style=\"font-weight: bold\"> longest  </span>┃<span style=\"font-weight: bold\"> min      </span>┃<span style=\"font-weight: bold\"> max       </span>┃<span style=\"font-weight: bold\"> per row  </span>┃<span style=\"font-weight: bold\"> row       </span>┃<span style=\"font-weight: bold\"> words    </span>┃  │\n",
       "│ ┡━━━━━━━━━━╇━━━━━━━╇━━━━━━━━━━╇━━━━━━━━━━╇━━━━━━━━━━╇━━━━━━━━━━╇━━━━━━━━━━━╇━━━━━━━━━━╇━━━━━━━━━━━╇━━━━━━━━━━┩  │\n",
       "│ │ <span style=\"color: #af87ff; text-decoration-color: #af87ff\">Name    </span> │ <span style=\"color: #008080; text-decoration-color: #008080\">    0</span> │ <span style=\"color: #008080; text-decoration-color: #008080\">       0</span> │ <span style=\"color: #af87ff; text-decoration-color: #af87ff\">Isi     </span> │ <span style=\"color: #af87ff; text-decoration-color: #af87ff\">22 L.   </span> │ <span style=\"color: #af87ff; text-decoration-color: #af87ff\">07 C.   </span> │ <span style=\"color: #af87ff; text-decoration-color: #af87ff\">Ș.       </span> │ <span style=\"color: #008080; text-decoration-color: #008080\">    11.2</span> │ <span style=\"color: #008080; text-decoration-color: #008080\">        2</span> │ <span style=\"color: #008080; text-decoration-color: #008080\">   35532</span> │  │\n",
       "│ │          │       │          │          │ <span style=\"color: #af87ff; text-decoration-color: #af87ff\">Urbano  </span> │ <span style=\"color: #af87ff; text-decoration-color: #af87ff\">Mengi   </span> │ <span style=\"color: #af87ff; text-decoration-color: #af87ff\">Tomache  </span> │          │           │          │  │\n",
       "│ │          │       │          │          │ <span style=\"color: #af87ff; text-decoration-color: #af87ff\">Dias de </span> │          │           │          │           │          │  │\n",
       "│ │          │       │          │          │ <span style=\"color: #af87ff; text-decoration-color: #af87ff\">Lima    </span> │          │           │          │           │          │  │\n",
       "│ │ <span style=\"color: #af87ff; text-decoration-color: #af87ff\">National</span> │ <span style=\"color: #008080; text-decoration-color: #008080\">    0</span> │ <span style=\"color: #008080; text-decoration-color: #008080\">       0</span> │ <span style=\"color: #af87ff; text-decoration-color: #af87ff\">Mali    </span> │ <span style=\"color: #af87ff; text-decoration-color: #af87ff\">Central </span> │ <span style=\"color: #af87ff; text-decoration-color: #af87ff\">Afghanis</span> │ <span style=\"color: #af87ff; text-decoration-color: #af87ff\">Zimbabwe </span> │ <span style=\"color: #008080; text-decoration-color: #008080\">    7.59</span> │ <span style=\"color: #008080; text-decoration-color: #008080\">      1.1</span> │ <span style=\"color: #008080; text-decoration-color: #008080\">   20135</span> │  │\n",
       "│ │ <span style=\"color: #af87ff; text-decoration-color: #af87ff\">ity     </span> │       │          │          │ <span style=\"color: #af87ff; text-decoration-color: #af87ff\">African </span> │ <span style=\"color: #af87ff; text-decoration-color: #af87ff\">tan     </span> │           │          │           │          │  │\n",
       "│ │          │       │          │          │ <span style=\"color: #af87ff; text-decoration-color: #af87ff\">Republic</span> │          │           │          │           │          │  │\n",
       "│ │ <span style=\"color: #af87ff; text-decoration-color: #af87ff\">Club    </span> │ <span style=\"color: #008080; text-decoration-color: #008080\">  211</span> │ <span style=\"color: #008080; text-decoration-color: #008080\">1.194790</span> │ <span style=\"color: #af87ff; text-decoration-color: #af87ff\">PSV     </span> │ <span style=\"color: #af87ff; text-decoration-color: #af87ff\">Club    </span> │ <span style=\"color: #af87ff; text-decoration-color: #af87ff\">1. FC   </span> │ <span style=\"color: #af87ff; text-decoration-color: #af87ff\">Śląsk    </span> │ <span style=\"color: #008080; text-decoration-color: #008080\">    14.6</span> │ <span style=\"color: #008080; text-decoration-color: #008080\">      2.3</span> │ <span style=\"color: #008080; text-decoration-color: #008080\">   40794</span> │  │\n",
       "│ │          │       │ <span style=\"color: #008080; text-decoration-color: #008080\">48697621</span> │          │ <span style=\"color: #af87ff; text-decoration-color: #af87ff\">Social, </span> │ <span style=\"color: #af87ff; text-decoration-color: #af87ff\">Heidenhe</span> │ <span style=\"color: #af87ff; text-decoration-color: #af87ff\">Wrocław  </span> │          │           │          │  │\n",
       "│ │          │       │ <span style=\"color: #008080; text-decoration-color: #008080\">      74</span> │          │ <span style=\"color: #af87ff; text-decoration-color: #af87ff\">Cultural</span> │ <span style=\"color: #af87ff; text-decoration-color: #af87ff\">im 1846 </span> │           │          │           │          │  │\n",
       "│ │          │       │          │          │ <span style=\"color: #af87ff; text-decoration-color: #af87ff\">y       </span> │          │           │          │           │          │  │\n",
       "│ │          │       │          │          │ <span style=\"color: #af87ff; text-decoration-color: #af87ff\">Deportiv</span> │          │           │          │           │          │  │\n",
       "│ │          │       │          │          │ <span style=\"color: #af87ff; text-decoration-color: #af87ff\">o de    </span> │          │           │          │           │          │  │\n",
       "│ │          │       │          │          │ <span style=\"color: #af87ff; text-decoration-color: #af87ff\">Blooming</span> │          │           │          │           │          │  │\n",
       "│ │ <span style=\"color: #af87ff; text-decoration-color: #af87ff\">Preferre</span> │ <span style=\"color: #008080; text-decoration-color: #008080\">    0</span> │ <span style=\"color: #008080; text-decoration-color: #008080\">       0</span> │ <span style=\"color: #af87ff; text-decoration-color: #af87ff\">Left    </span> │ <span style=\"color: #af87ff; text-decoration-color: #af87ff\">Right   </span> │ <span style=\"color: #af87ff; text-decoration-color: #af87ff\">Left    </span> │ <span style=\"color: #af87ff; text-decoration-color: #af87ff\">Right    </span> │ <span style=\"color: #008080; text-decoration-color: #008080\">    4.77</span> │ <span style=\"color: #008080; text-decoration-color: #008080\">        1</span> │ <span style=\"color: #008080; text-decoration-color: #008080\">   17660</span> │  │\n",
       "│ │ <span style=\"color: #af87ff; text-decoration-color: #af87ff\">d Foot  </span> │       │          │          │          │          │           │          │           │          │  │\n",
       "│ │ <span style=\"color: #af87ff; text-decoration-color: #af87ff\">Real    </span> │ <span style=\"color: #008080; text-decoration-color: #008080\">   38</span> │ <span style=\"color: #008080; text-decoration-color: #008080\">0.215175</span> │ <span style=\"color: #af87ff; text-decoration-color: #af87ff\">No      </span> │ <span style=\"color: #af87ff; text-decoration-color: #af87ff\">Yes     </span> │ <span style=\"color: #af87ff; text-decoration-color: #af87ff\">No      </span> │ <span style=\"color: #af87ff; text-decoration-color: #af87ff\">Yes      </span> │ <span style=\"color: #008080; text-decoration-color: #008080\">    2.12</span> │ <span style=\"color: #008080; text-decoration-color: #008080\">        1</span> │ <span style=\"color: #008080; text-decoration-color: #008080\">   17622</span> │  │\n",
       "│ │ <span style=\"color: #af87ff; text-decoration-color: #af87ff\">Face    </span> │       │ <span style=\"color: #008080; text-decoration-color: #008080\">53793884</span> │          │          │          │           │          │           │          │  │\n",
       "│ │          │       │ <span style=\"color: #008080; text-decoration-color: #008080\">     484</span> │          │          │          │           │          │           │          │  │\n",
       "│ │ <span style=\"color: #af87ff; text-decoration-color: #af87ff\">Contract</span> │ <span style=\"color: #008080; text-decoration-color: #008080\">  361</span> │ <span style=\"color: #008080; text-decoration-color: #008080\">2.044167</span> │ <span style=\"color: #af87ff; text-decoration-color: #af87ff\">2026    </span> │ <span style=\"color: #af87ff; text-decoration-color: #af87ff\">Jun 30, </span> │ <span style=\"color: #af87ff; text-decoration-color: #af87ff\">2007    </span> │ <span style=\"color: #af87ff; text-decoration-color: #af87ff\">Sep 6,   </span> │ <span style=\"color: #008080; text-decoration-color: #008080\">    4.32</span> │ <span style=\"color: #008080; text-decoration-color: #008080\">      1.1</span> │ <span style=\"color: #008080; text-decoration-color: #008080\">   18687</span> │  │\n",
       "│ │ <span style=\"color: #af87ff; text-decoration-color: #af87ff\">Valid   </span> │       │ <span style=\"color: #008080; text-decoration-color: #008080\">61041902</span> │          │ <span style=\"color: #af87ff; text-decoration-color: #af87ff\">2023    </span> │          │ <span style=\"color: #af87ff; text-decoration-color: #af87ff\">2022     </span> │          │           │          │  │\n",
       "│ │ <span style=\"color: #af87ff; text-decoration-color: #af87ff\">Until   </span> │       │ <span style=\"color: #008080; text-decoration-color: #008080\">       6</span> │          │          │          │           │          │           │          │  │\n",
       "│ │ <span style=\"color: #af87ff; text-decoration-color: #af87ff\">Release </span> │ <span style=\"color: #008080; text-decoration-color: #008080\"> 1151</span> │ <span style=\"color: #008080; text-decoration-color: #008080\">6.517553</span> │ <span style=\"color: #af87ff; text-decoration-color: #af87ff\">€7M     </span> │ <span style=\"color: #af87ff; text-decoration-color: #af87ff\">€198.9M </span> │ <span style=\"color: #af87ff; text-decoration-color: #af87ff\">€1.1M   </span> │ <span style=\"color: #af87ff; text-decoration-color: #af87ff\">€9M      </span> │ <span style=\"color: #008080; text-decoration-color: #008080\">    4.97</span> │ <span style=\"color: #008080; text-decoration-color: #008080\">     0.93</span> │ <span style=\"color: #008080; text-decoration-color: #008080\">   16509</span> │  │\n",
       "│ │ <span style=\"color: #af87ff; text-decoration-color: #af87ff\">Clause  </span> │       │ <span style=\"color: #008080; text-decoration-color: #008080\">79388448</span> │          │          │          │           │          │           │          │  │\n",
       "│ │          │       │ <span style=\"color: #008080; text-decoration-color: #008080\">       5</span> │          │          │          │           │          │           │          │  │\n",
       "│ │ <span style=\"color: #af87ff; text-decoration-color: #af87ff\">Best    </span> │ <span style=\"color: #008080; text-decoration-color: #008080\">17639</span> │ <span style=\"color: #008080; text-decoration-color: #008080\">99.88108</span> │ <span style=\"color: #af87ff; text-decoration-color: #af87ff\">&lt;span   </span> │ <span style=\"color: #af87ff; text-decoration-color: #af87ff\">&lt;span   </span> │ <span style=\"color: #af87ff; text-decoration-color: #af87ff\">&lt;span   </span> │ <span style=\"color: #af87ff; text-decoration-color: #af87ff\">&lt;span    </span> │ <span style=\"color: #008080; text-decoration-color: #008080\">      38</span> │ <span style=\"color: #008080; text-decoration-color: #008080\">   0.0048</span> │ <span style=\"color: #008080; text-decoration-color: #008080\">      84</span> │  │\n",
       "│ │ <span style=\"color: #af87ff; text-decoration-color: #af87ff\">Overall </span> │       │ <span style=\"color: #008080; text-decoration-color: #008080\"> 7202718</span> │ <span style=\"color: #af87ff; text-decoration-color: #af87ff\">class=\"b</span> │ <span style=\"color: #af87ff; text-decoration-color: #af87ff\">class=\"b</span> │ <span style=\"color: #af87ff; text-decoration-color: #af87ff\">class=\"b</span> │ <span style=\"color: #af87ff; text-decoration-color: #af87ff\">class=\"bp</span> │          │           │          │  │\n",
       "│ │ <span style=\"color: #af87ff; text-decoration-color: #af87ff\">Rating  </span> │       │          │ <span style=\"color: #af87ff; text-decoration-color: #af87ff\">p3-tag p</span> │ <span style=\"color: #af87ff; text-decoration-color: #af87ff\">p3-tag p</span> │ <span style=\"color: #af87ff; text-decoration-color: #af87ff\">p3-tag p</span> │ <span style=\"color: #af87ff; text-decoration-color: #af87ff\">3-tag p  </span> │          │           │          │  │\n",
       "│ │          │       │          │ <span style=\"color: #af87ff; text-decoration-color: #af87ff\">p-64\"&gt;64</span> │ <span style=\"color: #af87ff; text-decoration-color: #af87ff\">p-64\"&gt;64</span> │ <span style=\"color: #af87ff; text-decoration-color: #af87ff\">p-54\"&gt;54</span> │ <span style=\"color: #af87ff; text-decoration-color: #af87ff\">p-80\"&gt;80&lt;</span> │          │           │          │  │\n",
       "│ │          │       │          │ <span style=\"color: #af87ff; text-decoration-color: #af87ff\">&lt;/span&gt; </span> │ <span style=\"color: #af87ff; text-decoration-color: #af87ff\">&lt;/span&gt; </span> │ <span style=\"color: #af87ff; text-decoration-color: #af87ff\">&lt;/span&gt; </span> │ <span style=\"color: #af87ff; text-decoration-color: #af87ff\">/span&gt;   </span> │          │           │          │  │\n",
       "│ │ <span style=\"color: #af87ff; text-decoration-color: #af87ff\">Position</span> │ <span style=\"color: #008080; text-decoration-color: #008080\">   35</span> │ <span style=\"color: #008080; text-decoration-color: #008080\">0.198187</span> │ <span style=\"color: #af87ff; text-decoration-color: #af87ff\">LB      </span> │ <span style=\"color: #af87ff; text-decoration-color: #af87ff\">SUB     </span> │ <span style=\"color: #af87ff; text-decoration-color: #af87ff\">CAM     </span> │ <span style=\"color: #af87ff; text-decoration-color: #af87ff\">SUB      </span> │ <span style=\"color: #008080; text-decoration-color: #008080\">    2.85</span> │ <span style=\"color: #008080; text-decoration-color: #008080\">        1</span> │ <span style=\"color: #008080; text-decoration-color: #008080\">   17625</span> │  │\n",
       "│ │ <span style=\"color: #af87ff; text-decoration-color: #af87ff\">_clean  </span> │       │ <span style=\"color: #008080; text-decoration-color: #008080\">99546998</span> │          │          │          │           │          │           │          │  │\n",
       "│ │          │       │ <span style=\"color: #008080; text-decoration-color: #008080\">     866</span> │          │          │          │           │          │           │          │  │\n",
       "│ │ <span style=\"color: #af87ff; text-decoration-color: #af87ff\">Body    </span> │ <span style=\"color: #008080; text-decoration-color: #008080\">   38</span> │ <span style=\"color: #008080; text-decoration-color: #008080\">0.215175</span> │ <span style=\"color: #af87ff; text-decoration-color: #af87ff\">Lean    </span> │ <span style=\"color: #af87ff; text-decoration-color: #af87ff\">Unique  </span> │ <span style=\"color: #af87ff; text-decoration-color: #af87ff\">Lean    </span> │ <span style=\"color: #af87ff; text-decoration-color: #af87ff\">Unique   </span> │ <span style=\"color: #008080; text-decoration-color: #008080\">    5.28</span> │ <span style=\"color: #008080; text-decoration-color: #008080\">        1</span> │ <span style=\"color: #008080; text-decoration-color: #008080\">   17622</span> │  │\n",
       "│ │ <span style=\"color: #af87ff; text-decoration-color: #af87ff\">Type    </span> │       │ <span style=\"color: #008080; text-decoration-color: #008080\">53793884</span> │          │          │          │           │          │           │          │  │\n",
       "│ │ <span style=\"color: #af87ff; text-decoration-color: #af87ff\">Clean   </span> │       │ <span style=\"color: #008080; text-decoration-color: #008080\">     484</span> │          │          │          │           │          │           │          │  │\n",
       "│ │ <span style=\"color: #af87ff; text-decoration-color: #af87ff\">Attackin</span> │ <span style=\"color: #008080; text-decoration-color: #008080\">   70</span> │ <span style=\"color: #008080; text-decoration-color: #008080\">0.396375</span> │ <span style=\"color: #af87ff; text-decoration-color: #af87ff\">Low     </span> │ <span style=\"color: #af87ff; text-decoration-color: #af87ff\">Medium  </span> │ <span style=\"color: #af87ff; text-decoration-color: #af87ff\">High    </span> │ <span style=\"color: #af87ff; text-decoration-color: #af87ff\">Medium   </span> │ <span style=\"color: #008080; text-decoration-color: #008080\">    5.34</span> │ <span style=\"color: #008080; text-decoration-color: #008080\">        1</span> │ <span style=\"color: #008080; text-decoration-color: #008080\">   17590</span> │  │\n",
       "│ │ <span style=\"color: #af87ff; text-decoration-color: #af87ff\">g Work  </span> │       │ <span style=\"color: #008080; text-decoration-color: #008080\">99093997</span> │          │          │          │           │          │           │          │  │\n",
       "│ │ <span style=\"color: #af87ff; text-decoration-color: #af87ff\">Rate    </span> │       │ <span style=\"color: #008080; text-decoration-color: #008080\">     733</span> │          │          │          │           │          │           │          │  │\n",
       "│ │ <span style=\"color: #af87ff; text-decoration-color: #af87ff\">Defensiv</span> │ <span style=\"color: #008080; text-decoration-color: #008080\">   70</span> │ <span style=\"color: #008080; text-decoration-color: #008080\">0.396375</span> │ <span style=\"color: #af87ff; text-decoration-color: #af87ff\">Low     </span> │ <span style=\"color: #af87ff; text-decoration-color: #af87ff\">Medium  </span> │ <span style=\"color: #af87ff; text-decoration-color: #af87ff\">High    </span> │ <span style=\"color: #af87ff; text-decoration-color: #af87ff\">Medium   </span> │ <span style=\"color: #008080; text-decoration-color: #008080\">    5.44</span> │ <span style=\"color: #008080; text-decoration-color: #008080\">        1</span> │ <span style=\"color: #008080; text-decoration-color: #008080\">   17590</span> │  │\n",
       "│ │ <span style=\"color: #af87ff; text-decoration-color: #af87ff\">e Work  </span> │       │ <span style=\"color: #008080; text-decoration-color: #008080\">99093997</span> │          │          │          │           │          │           │          │  │\n",
       "│ │ <span style=\"color: #af87ff; text-decoration-color: #af87ff\">Rate    </span> │       │ <span style=\"color: #008080; text-decoration-color: #008080\">     733</span> │          │          │          │           │          │           │          │  │\n",
       "│ │ <span style=\"color: #af87ff; text-decoration-color: #af87ff\">Loaned  </span> │ <span style=\"color: #008080; text-decoration-color: #008080\">16966</span> │ <span style=\"color: #008080; text-decoration-color: #008080\">96.07021</span> │ <span style=\"color: #af87ff; text-decoration-color: #af87ff\">PSV     </span> │ <span style=\"color: #af87ff; text-decoration-color: #af87ff\">Club    </span> │ <span style=\"color: #af87ff; text-decoration-color: #af87ff\">1. FC   </span> │ <span style=\"color: #af87ff; text-decoration-color: #af87ff\">Śląsk    </span> │ <span style=\"color: #008080; text-decoration-color: #008080\">    13.1</span> │ <span style=\"color: #008080; text-decoration-color: #008080\">    0.082</span> │ <span style=\"color: #008080; text-decoration-color: #008080\">    1444</span> │  │\n",
       "│ │ <span style=\"color: #af87ff; text-decoration-color: #af87ff\">From_cle</span> │       │ <span style=\"color: #008080; text-decoration-color: #008080\">51755379</span> │          │ <span style=\"color: #af87ff; text-decoration-color: #af87ff\">Atlético</span> │ <span style=\"color: #af87ff; text-decoration-color: #af87ff\">Köln    </span> │ <span style=\"color: #af87ff; text-decoration-color: #af87ff\">Wrocław  </span> │          │           │          │  │\n",
       "│ │ <span style=\"color: #af87ff; text-decoration-color: #af87ff\">an      </span> │       │ <span style=\"color: #008080; text-decoration-color: #008080\">       4</span> │          │ <span style=\"color: #af87ff; text-decoration-color: #af87ff\">Independ</span> │          │           │          │           │          │  │\n",
       "│ │          │       │          │          │ <span style=\"color: #af87ff; text-decoration-color: #af87ff\">iente   </span> │          │           │          │           │          │  │\n",
       "│ └──────────┴───────┴──────────┴──────────┴──────────┴──────────┴───────────┴──────────┴───────────┴──────────┘  │\n",
       "╰────────────────────────────────────────────────────── End ──────────────────────────────────────────────────────╯\n",
       "</pre>\n"
      ],
      "text/plain": [
       "╭──────────────────────────────────────────────── skimpy summary ─────────────────────────────────────────────────╮\n",
       "│ \u001b[3m         Data Summary         \u001b[0m \u001b[3m      Data Types       \u001b[0m                                                          │\n",
       "│ ┏━━━━━━━━━━━━━━━━━━━┳━━━━━━━━┓ ┏━━━━━━━━━━━━━┳━━━━━━━┓                                                          │\n",
       "│ ┃\u001b[1;36m \u001b[0m\u001b[1;36mDataframe        \u001b[0m\u001b[1;36m \u001b[0m┃\u001b[1;36m \u001b[0m\u001b[1;36mValues\u001b[0m\u001b[1;36m \u001b[0m┃ ┃\u001b[1;36m \u001b[0m\u001b[1;36mColumn Type\u001b[0m\u001b[1;36m \u001b[0m┃\u001b[1;36m \u001b[0m\u001b[1;36mCount\u001b[0m\u001b[1;36m \u001b[0m┃                                                          │\n",
       "│ ┡━━━━━━━━━━━━━━━━━━━╇━━━━━━━━┩ ┡━━━━━━━━━━━━━╇━━━━━━━┩                                                          │\n",
       "│ │ Number of rows    │ 17660  │ │ string      │ 13    │                                                          │\n",
       "│ │ Number of columns │ 27     │ │ float64     │ 8     │                                                          │\n",
       "│ └───────────────────┴────────┘ │ int64       │ 5     │                                                          │\n",
       "│                                │ datetime64  │ 1     │                                                          │\n",
       "│                                └─────────────┴───────┘                                                          │\n",
       "│ \u001b[3m                                                   All null                                                   \u001b[0m  │\n",
       "│ ┏━━━━━━━━━━━━━━━━━━━━━━━━━━━━━━━━━━━━━━━━━┳━━━━━━━━━━━━━━━━━━━━━━━━━━━━━━━━━━━┳━━━━━━━━━━━━━━━━━━━━━━━━━━━━━━┓  │\n",
       "│ ┃\u001b[1m \u001b[0m\u001b[1mcolumn                                 \u001b[0m\u001b[1m \u001b[0m┃\u001b[1m \u001b[0m\u001b[1mNA                               \u001b[0m\u001b[1m \u001b[0m┃\u001b[1m \u001b[0m\u001b[1mNA %                        \u001b[0m\u001b[1m \u001b[0m┃  │\n",
       "│ ┡━━━━━━━━━━━━━━━━━━━━━━━━━━━━━━━━━━━━━━━━━╇━━━━━━━━━━━━━━━━━━━━━━━━━━━━━━━━━━━╇━━━━━━━━━━━━━━━━━━━━━━━━━━━━━━┩  │\n",
       "│ │ \u001b[38;5;141mHeight                                 \u001b[0m │ \u001b[36m                            17660\u001b[0m │ \u001b[36m                         100\u001b[0m │  │\n",
       "│ └─────────────────────────────────────────┴───────────────────────────────────┴──────────────────────────────┘  │\n",
       "│ \u001b[3m                                                    number                                                    \u001b[0m  │\n",
       "│ ┏━━━━━━━━━━━━━┳━━━━┳━━━━━━━━━━━━┳━━━━━━━━━┳━━━━━━━━━┳━━━━━━━┳━━━━━━━━┳━━━━━━━━┳━━━━━━━━━┳━━━━━━━━━━━┳━━━━━━━━┓  │\n",
       "│ ┃\u001b[1m \u001b[0m\u001b[1mcolumn     \u001b[0m\u001b[1m \u001b[0m┃\u001b[1m \u001b[0m\u001b[1mNA\u001b[0m\u001b[1m \u001b[0m┃\u001b[1m \u001b[0m\u001b[1mNA %      \u001b[0m\u001b[1m \u001b[0m┃\u001b[1m \u001b[0m\u001b[1mmean   \u001b[0m\u001b[1m \u001b[0m┃\u001b[1m \u001b[0m\u001b[1msd     \u001b[0m\u001b[1m \u001b[0m┃\u001b[1m \u001b[0m\u001b[1mp0   \u001b[0m\u001b[1m \u001b[0m┃\u001b[1m \u001b[0m\u001b[1mp25   \u001b[0m\u001b[1m \u001b[0m┃\u001b[1m \u001b[0m\u001b[1mp50   \u001b[0m\u001b[1m \u001b[0m┃\u001b[1m \u001b[0m\u001b[1mp75    \u001b[0m\u001b[1m \u001b[0m┃\u001b[1m \u001b[0m\u001b[1mp100     \u001b[0m\u001b[1m \u001b[0m┃\u001b[1m \u001b[0m\u001b[1mhist  \u001b[0m\u001b[1m \u001b[0m┃  │\n",
       "│ ┡━━━━━━━━━━━━━╇━━━━╇━━━━━━━━━━━━╇━━━━━━━━━╇━━━━━━━━━╇━━━━━━━╇━━━━━━━━╇━━━━━━━━╇━━━━━━━━━╇━━━━━━━━━━━╇━━━━━━━━┩  │\n",
       "│ │ \u001b[38;5;141mID         \u001b[0m │ \u001b[36m 0\u001b[0m │ \u001b[36m         0\u001b[0m │ \u001b[36m 246300\u001b[0m │ \u001b[36m  31490\u001b[0m │ \u001b[36m   16\u001b[0m │ \u001b[36m240700\u001b[0m │ \u001b[36m257000\u001b[0m │ \u001b[36m 263000\u001b[0m │ \u001b[36m   271300\u001b[0m │ \u001b[32m    ▁▇\u001b[0m │  │\n",
       "│ │ \u001b[38;5;141mAge        \u001b[0m │ \u001b[36m 0\u001b[0m │ \u001b[36m         0\u001b[0m │ \u001b[36m  23.13\u001b[0m │ \u001b[36m   4.64\u001b[0m │ \u001b[36m   15\u001b[0m │ \u001b[36m    20\u001b[0m │ \u001b[36m    22\u001b[0m │ \u001b[36m     26\u001b[0m │ \u001b[36m       54\u001b[0m │ \u001b[32m ▇▆▃  \u001b[0m │  │\n",
       "│ │ \u001b[38;5;141mOverall    \u001b[0m │ \u001b[36m 0\u001b[0m │ \u001b[36m         0\u001b[0m │ \u001b[36m  63.37\u001b[0m │ \u001b[36m  8.036\u001b[0m │ \u001b[36m   43\u001b[0m │ \u001b[36m    58\u001b[0m │ \u001b[36m    63\u001b[0m │ \u001b[36m     69\u001b[0m │ \u001b[36m       91\u001b[0m │ \u001b[32m▁▅▇▅▂ \u001b[0m │  │\n",
       "│ │ \u001b[38;5;141mPotential  \u001b[0m │ \u001b[36m 0\u001b[0m │ \u001b[36m         0\u001b[0m │ \u001b[36m  70.98\u001b[0m │ \u001b[36m   6.53\u001b[0m │ \u001b[36m   42\u001b[0m │ \u001b[36m    67\u001b[0m │ \u001b[36m    71\u001b[0m │ \u001b[36m     75\u001b[0m │ \u001b[36m       95\u001b[0m │ \u001b[32m ▁▅▇▃ \u001b[0m │  │\n",
       "│ │ \u001b[38;5;141mValue      \u001b[0m │ \u001b[36m 0\u001b[0m │ \u001b[36m         0\u001b[0m │ \u001b[36m2740000\u001b[0m │ \u001b[36m7841000\u001b[0m │ \u001b[36m    0\u001b[0m │ \u001b[36m325000\u001b[0m │ \u001b[36m700000\u001b[0m │ \u001b[36m1725000\u001b[0m │ \u001b[36m190500000\u001b[0m │ \u001b[32m  ▇   \u001b[0m │  │\n",
       "│ │ \u001b[38;5;141mWage       \u001b[0m │ \u001b[36m 0\u001b[0m │ \u001b[36m         0\u001b[0m │ \u001b[36m   8190\u001b[0m │ \u001b[36m  20480\u001b[0m │ \u001b[36m    0\u001b[0m │ \u001b[36m   550\u001b[0m │ \u001b[36m  2000\u001b[0m │ \u001b[36m   6000\u001b[0m │ \u001b[36m   450000\u001b[0m │ \u001b[32m  ▇   \u001b[0m │  │\n",
       "│ │ \u001b[38;5;141mSpecial    \u001b[0m │ \u001b[36m 0\u001b[0m │ \u001b[36m         0\u001b[0m │ \u001b[36m   1538\u001b[0m │ \u001b[36m  285.9\u001b[0m │ \u001b[36m  749\u001b[0m │ \u001b[36m  1387\u001b[0m │ \u001b[36m  1548\u001b[0m │ \u001b[36m   1727\u001b[0m │ \u001b[36m     2312\u001b[0m │ \u001b[32m▂▂▇▇▃▁\u001b[0m │  │\n",
       "│ │ \u001b[38;5;141mInternation\u001b[0m │ \u001b[36m 0\u001b[0m │ \u001b[36m         0\u001b[0m │ \u001b[36m  1.106\u001b[0m │ \u001b[36m  0.407\u001b[0m │ \u001b[36m    1\u001b[0m │ \u001b[36m     1\u001b[0m │ \u001b[36m     1\u001b[0m │ \u001b[36m      1\u001b[0m │ \u001b[36m        5\u001b[0m │ \u001b[32m  ▇   \u001b[0m │  │\n",
       "│ │ \u001b[38;5;141mal         \u001b[0m │    │            │         │         │       │        │        │         │           │        │  │\n",
       "│ │ \u001b[38;5;141mReputation \u001b[0m │    │            │         │         │       │        │        │         │           │        │  │\n",
       "│ │ \u001b[38;5;141mWeak Foot  \u001b[0m │ \u001b[36m 0\u001b[0m │ \u001b[36m         0\u001b[0m │ \u001b[36m    2.9\u001b[0m │ \u001b[36m 0.6635\u001b[0m │ \u001b[36m    1\u001b[0m │ \u001b[36m     3\u001b[0m │ \u001b[36m     3\u001b[0m │ \u001b[36m      3\u001b[0m │ \u001b[36m        5\u001b[0m │ \u001b[32m ▃ ▇▂ \u001b[0m │  │\n",
       "│ │ \u001b[38;5;141mSkill Moves\u001b[0m │ \u001b[36m 0\u001b[0m │ \u001b[36m         0\u001b[0m │ \u001b[36m  2.297\u001b[0m │ \u001b[36m 0.7543\u001b[0m │ \u001b[36m    1\u001b[0m │ \u001b[36m     2\u001b[0m │ \u001b[36m     2\u001b[0m │ \u001b[36m      3\u001b[0m │ \u001b[36m        5\u001b[0m │ \u001b[32m▂▇ ▅▁ \u001b[0m │  │\n",
       "│ │ \u001b[38;5;141mWeight     \u001b[0m │ \u001b[36m 0\u001b[0m │ \u001b[36m         0\u001b[0m │ \u001b[36m   3.18\u001b[0m │ \u001b[36m 0.3385\u001b[0m │ \u001b[36m1.814\u001b[0m │ \u001b[36m 3.175\u001b[0m │ \u001b[36m 3.175\u001b[0m │ \u001b[36m  3.175\u001b[0m │ \u001b[36m     4.99\u001b[0m │ \u001b[32m  ▃▇▃ \u001b[0m │  │\n",
       "│ │ \u001b[38;5;141mKit Number \u001b[0m │ \u001b[36m35\u001b[0m │ \u001b[36m0.19818799\u001b[0m │ \u001b[36m  25.04\u001b[0m │ \u001b[36m  19.15\u001b[0m │ \u001b[36m    1\u001b[0m │ \u001b[36m    11\u001b[0m │ \u001b[36m    22\u001b[0m │ \u001b[36m     32\u001b[0m │ \u001b[36m       99\u001b[0m │ \u001b[32m▇▇▃▁ ▁\u001b[0m │  │\n",
       "│ │             │    │ \u001b[36m 546998866\u001b[0m │         │         │       │        │        │         │           │        │  │\n",
       "│ └─────────────┴────┴────────────┴─────────┴─────────┴───────┴────────┴────────┴─────────┴───────────┴────────┘  │\n",
       "│ \u001b[3m                                                   datetime                                                   \u001b[0m  │\n",
       "│ ┏━━━━━━━━━━━━━┳━━━━━━━━━┳━━━━━━━━━━━━━━━━━━━━━━━━━━━━━┳━━━━━━━━━━━━━━━━━━┳━━━━━━━━━━━━━━━━━━┳━━━━━━━━━━━━━━━━┓  │\n",
       "│ ┃\u001b[1m \u001b[0m\u001b[1mcolumn     \u001b[0m\u001b[1m \u001b[0m┃\u001b[1m \u001b[0m\u001b[1mNA     \u001b[0m\u001b[1m \u001b[0m┃\u001b[1m \u001b[0m\u001b[1mNA %                       \u001b[0m\u001b[1m \u001b[0m┃\u001b[1m \u001b[0m\u001b[1mfirst           \u001b[0m\u001b[1m \u001b[0m┃\u001b[1m \u001b[0m\u001b[1mlast            \u001b[0m\u001b[1m \u001b[0m┃\u001b[1m \u001b[0m\u001b[1mfrequency     \u001b[0m\u001b[1m \u001b[0m┃  │\n",
       "│ ┡━━━━━━━━━━━━━╇━━━━━━━━━╇━━━━━━━━━━━━━━━━━━━━━━━━━━━━━╇━━━━━━━━━━━━━━━━━━╇━━━━━━━━━━━━━━━━━━╇━━━━━━━━━━━━━━━━┩  │\n",
       "│ │ \u001b[38;5;141mJoined     \u001b[0m │ \u001b[36m   1098\u001b[0m │ \u001b[36m          6.217440543601359\u001b[0m │ \u001b[31m   1990-12-01   \u001b[0m │ \u001b[31m   2022-08-11   \u001b[0m │ \u001b[38;5;141mNone          \u001b[0m │  │\n",
       "│ └─────────────┴─────────┴─────────────────────────────┴──────────────────┴──────────────────┴────────────────┘  │\n",
       "│ \u001b[3m                                                    string                                                    \u001b[0m  │\n",
       "│ ┏━━━━━━━━━━┳━━━━━━━┳━━━━━━━━━━┳━━━━━━━━━━┳━━━━━━━━━━┳━━━━━━━━━━┳━━━━━━━━━━━┳━━━━━━━━━━┳━━━━━━━━━━━┳━━━━━━━━━━┓  │\n",
       "│ ┃\u001b[1m          \u001b[0m┃\u001b[1m       \u001b[0m┃\u001b[1m          \u001b[0m┃\u001b[1m          \u001b[0m┃\u001b[1m          \u001b[0m┃\u001b[1m          \u001b[0m┃\u001b[1m           \u001b[0m┃\u001b[1m \u001b[0m\u001b[1mchars   \u001b[0m\u001b[1m \u001b[0m┃\u001b[1m \u001b[0m\u001b[1mwords per\u001b[0m\u001b[1m \u001b[0m┃\u001b[1m \u001b[0m\u001b[1mtotal   \u001b[0m\u001b[1m \u001b[0m┃  │\n",
       "│ ┃\u001b[1m \u001b[0m\u001b[1mcolumn  \u001b[0m\u001b[1m \u001b[0m┃\u001b[1m \u001b[0m\u001b[1mNA   \u001b[0m\u001b[1m \u001b[0m┃\u001b[1m \u001b[0m\u001b[1mNA %    \u001b[0m\u001b[1m \u001b[0m┃\u001b[1m \u001b[0m\u001b[1mshortest\u001b[0m\u001b[1m \u001b[0m┃\u001b[1m \u001b[0m\u001b[1mlongest \u001b[0m\u001b[1m \u001b[0m┃\u001b[1m \u001b[0m\u001b[1mmin     \u001b[0m\u001b[1m \u001b[0m┃\u001b[1m \u001b[0m\u001b[1mmax      \u001b[0m\u001b[1m \u001b[0m┃\u001b[1m \u001b[0m\u001b[1mper row \u001b[0m\u001b[1m \u001b[0m┃\u001b[1m \u001b[0m\u001b[1mrow      \u001b[0m\u001b[1m \u001b[0m┃\u001b[1m \u001b[0m\u001b[1mwords   \u001b[0m\u001b[1m \u001b[0m┃  │\n",
       "│ ┡━━━━━━━━━━╇━━━━━━━╇━━━━━━━━━━╇━━━━━━━━━━╇━━━━━━━━━━╇━━━━━━━━━━╇━━━━━━━━━━━╇━━━━━━━━━━╇━━━━━━━━━━━╇━━━━━━━━━━┩  │\n",
       "│ │ \u001b[38;5;141mName    \u001b[0m │ \u001b[36m    0\u001b[0m │ \u001b[36m       0\u001b[0m │ \u001b[38;5;141mIsi     \u001b[0m │ \u001b[38;5;141m22 L.   \u001b[0m │ \u001b[38;5;141m07 C.   \u001b[0m │ \u001b[38;5;141mȘ.       \u001b[0m │ \u001b[36m    11.2\u001b[0m │ \u001b[36m        2\u001b[0m │ \u001b[36m   35532\u001b[0m │  │\n",
       "│ │          │       │          │          │ \u001b[38;5;141mUrbano  \u001b[0m │ \u001b[38;5;141mMengi   \u001b[0m │ \u001b[38;5;141mTomache  \u001b[0m │          │           │          │  │\n",
       "│ │          │       │          │          │ \u001b[38;5;141mDias de \u001b[0m │          │           │          │           │          │  │\n",
       "│ │          │       │          │          │ \u001b[38;5;141mLima    \u001b[0m │          │           │          │           │          │  │\n",
       "│ │ \u001b[38;5;141mNational\u001b[0m │ \u001b[36m    0\u001b[0m │ \u001b[36m       0\u001b[0m │ \u001b[38;5;141mMali    \u001b[0m │ \u001b[38;5;141mCentral \u001b[0m │ \u001b[38;5;141mAfghanis\u001b[0m │ \u001b[38;5;141mZimbabwe \u001b[0m │ \u001b[36m    7.59\u001b[0m │ \u001b[36m      1.1\u001b[0m │ \u001b[36m   20135\u001b[0m │  │\n",
       "│ │ \u001b[38;5;141mity     \u001b[0m │       │          │          │ \u001b[38;5;141mAfrican \u001b[0m │ \u001b[38;5;141mtan     \u001b[0m │           │          │           │          │  │\n",
       "│ │          │       │          │          │ \u001b[38;5;141mRepublic\u001b[0m │          │           │          │           │          │  │\n",
       "│ │ \u001b[38;5;141mClub    \u001b[0m │ \u001b[36m  211\u001b[0m │ \u001b[36m1.194790\u001b[0m │ \u001b[38;5;141mPSV     \u001b[0m │ \u001b[38;5;141mClub    \u001b[0m │ \u001b[38;5;141m1. FC   \u001b[0m │ \u001b[38;5;141mŚląsk    \u001b[0m │ \u001b[36m    14.6\u001b[0m │ \u001b[36m      2.3\u001b[0m │ \u001b[36m   40794\u001b[0m │  │\n",
       "│ │          │       │ \u001b[36m48697621\u001b[0m │          │ \u001b[38;5;141mSocial, \u001b[0m │ \u001b[38;5;141mHeidenhe\u001b[0m │ \u001b[38;5;141mWrocław  \u001b[0m │          │           │          │  │\n",
       "│ │          │       │ \u001b[36m      74\u001b[0m │          │ \u001b[38;5;141mCultural\u001b[0m │ \u001b[38;5;141mim 1846 \u001b[0m │           │          │           │          │  │\n",
       "│ │          │       │          │          │ \u001b[38;5;141my       \u001b[0m │          │           │          │           │          │  │\n",
       "│ │          │       │          │          │ \u001b[38;5;141mDeportiv\u001b[0m │          │           │          │           │          │  │\n",
       "│ │          │       │          │          │ \u001b[38;5;141mo de    \u001b[0m │          │           │          │           │          │  │\n",
       "│ │          │       │          │          │ \u001b[38;5;141mBlooming\u001b[0m │          │           │          │           │          │  │\n",
       "│ │ \u001b[38;5;141mPreferre\u001b[0m │ \u001b[36m    0\u001b[0m │ \u001b[36m       0\u001b[0m │ \u001b[38;5;141mLeft    \u001b[0m │ \u001b[38;5;141mRight   \u001b[0m │ \u001b[38;5;141mLeft    \u001b[0m │ \u001b[38;5;141mRight    \u001b[0m │ \u001b[36m    4.77\u001b[0m │ \u001b[36m        1\u001b[0m │ \u001b[36m   17660\u001b[0m │  │\n",
       "│ │ \u001b[38;5;141md Foot  \u001b[0m │       │          │          │          │          │           │          │           │          │  │\n",
       "│ │ \u001b[38;5;141mReal    \u001b[0m │ \u001b[36m   38\u001b[0m │ \u001b[36m0.215175\u001b[0m │ \u001b[38;5;141mNo      \u001b[0m │ \u001b[38;5;141mYes     \u001b[0m │ \u001b[38;5;141mNo      \u001b[0m │ \u001b[38;5;141mYes      \u001b[0m │ \u001b[36m    2.12\u001b[0m │ \u001b[36m        1\u001b[0m │ \u001b[36m   17622\u001b[0m │  │\n",
       "│ │ \u001b[38;5;141mFace    \u001b[0m │       │ \u001b[36m53793884\u001b[0m │          │          │          │           │          │           │          │  │\n",
       "│ │          │       │ \u001b[36m     484\u001b[0m │          │          │          │           │          │           │          │  │\n",
       "│ │ \u001b[38;5;141mContract\u001b[0m │ \u001b[36m  361\u001b[0m │ \u001b[36m2.044167\u001b[0m │ \u001b[38;5;141m2026    \u001b[0m │ \u001b[38;5;141mJun 30, \u001b[0m │ \u001b[38;5;141m2007    \u001b[0m │ \u001b[38;5;141mSep 6,   \u001b[0m │ \u001b[36m    4.32\u001b[0m │ \u001b[36m      1.1\u001b[0m │ \u001b[36m   18687\u001b[0m │  │\n",
       "│ │ \u001b[38;5;141mValid   \u001b[0m │       │ \u001b[36m61041902\u001b[0m │          │ \u001b[38;5;141m2023    \u001b[0m │          │ \u001b[38;5;141m2022     \u001b[0m │          │           │          │  │\n",
       "│ │ \u001b[38;5;141mUntil   \u001b[0m │       │ \u001b[36m       6\u001b[0m │          │          │          │           │          │           │          │  │\n",
       "│ │ \u001b[38;5;141mRelease \u001b[0m │ \u001b[36m 1151\u001b[0m │ \u001b[36m6.517553\u001b[0m │ \u001b[38;5;141m€7M     \u001b[0m │ \u001b[38;5;141m€198.9M \u001b[0m │ \u001b[38;5;141m€1.1M   \u001b[0m │ \u001b[38;5;141m€9M      \u001b[0m │ \u001b[36m    4.97\u001b[0m │ \u001b[36m     0.93\u001b[0m │ \u001b[36m   16509\u001b[0m │  │\n",
       "│ │ \u001b[38;5;141mClause  \u001b[0m │       │ \u001b[36m79388448\u001b[0m │          │          │          │           │          │           │          │  │\n",
       "│ │          │       │ \u001b[36m       5\u001b[0m │          │          │          │           │          │           │          │  │\n",
       "│ │ \u001b[38;5;141mBest    \u001b[0m │ \u001b[36m17639\u001b[0m │ \u001b[36m99.88108\u001b[0m │ \u001b[38;5;141m<span   \u001b[0m │ \u001b[38;5;141m<span   \u001b[0m │ \u001b[38;5;141m<span   \u001b[0m │ \u001b[38;5;141m<span    \u001b[0m │ \u001b[36m      38\u001b[0m │ \u001b[36m   0.0048\u001b[0m │ \u001b[36m      84\u001b[0m │  │\n",
       "│ │ \u001b[38;5;141mOverall \u001b[0m │       │ \u001b[36m 7202718\u001b[0m │ \u001b[38;5;141mclass=\"b\u001b[0m │ \u001b[38;5;141mclass=\"b\u001b[0m │ \u001b[38;5;141mclass=\"b\u001b[0m │ \u001b[38;5;141mclass=\"bp\u001b[0m │          │           │          │  │\n",
       "│ │ \u001b[38;5;141mRating  \u001b[0m │       │          │ \u001b[38;5;141mp3-tag p\u001b[0m │ \u001b[38;5;141mp3-tag p\u001b[0m │ \u001b[38;5;141mp3-tag p\u001b[0m │ \u001b[38;5;141m3-tag p  \u001b[0m │          │           │          │  │\n",
       "│ │          │       │          │ \u001b[38;5;141mp-64\">64\u001b[0m │ \u001b[38;5;141mp-64\">64\u001b[0m │ \u001b[38;5;141mp-54\">54\u001b[0m │ \u001b[38;5;141mp-80\">80<\u001b[0m │          │           │          │  │\n",
       "│ │          │       │          │ \u001b[38;5;141m</span> \u001b[0m │ \u001b[38;5;141m</span> \u001b[0m │ \u001b[38;5;141m</span> \u001b[0m │ \u001b[38;5;141m/span>   \u001b[0m │          │           │          │  │\n",
       "│ │ \u001b[38;5;141mPosition\u001b[0m │ \u001b[36m   35\u001b[0m │ \u001b[36m0.198187\u001b[0m │ \u001b[38;5;141mLB      \u001b[0m │ \u001b[38;5;141mSUB     \u001b[0m │ \u001b[38;5;141mCAM     \u001b[0m │ \u001b[38;5;141mSUB      \u001b[0m │ \u001b[36m    2.85\u001b[0m │ \u001b[36m        1\u001b[0m │ \u001b[36m   17625\u001b[0m │  │\n",
       "│ │ \u001b[38;5;141m_clean  \u001b[0m │       │ \u001b[36m99546998\u001b[0m │          │          │          │           │          │           │          │  │\n",
       "│ │          │       │ \u001b[36m     866\u001b[0m │          │          │          │           │          │           │          │  │\n",
       "│ │ \u001b[38;5;141mBody    \u001b[0m │ \u001b[36m   38\u001b[0m │ \u001b[36m0.215175\u001b[0m │ \u001b[38;5;141mLean    \u001b[0m │ \u001b[38;5;141mUnique  \u001b[0m │ \u001b[38;5;141mLean    \u001b[0m │ \u001b[38;5;141mUnique   \u001b[0m │ \u001b[36m    5.28\u001b[0m │ \u001b[36m        1\u001b[0m │ \u001b[36m   17622\u001b[0m │  │\n",
       "│ │ \u001b[38;5;141mType    \u001b[0m │       │ \u001b[36m53793884\u001b[0m │          │          │          │           │          │           │          │  │\n",
       "│ │ \u001b[38;5;141mClean   \u001b[0m │       │ \u001b[36m     484\u001b[0m │          │          │          │           │          │           │          │  │\n",
       "│ │ \u001b[38;5;141mAttackin\u001b[0m │ \u001b[36m   70\u001b[0m │ \u001b[36m0.396375\u001b[0m │ \u001b[38;5;141mLow     \u001b[0m │ \u001b[38;5;141mMedium  \u001b[0m │ \u001b[38;5;141mHigh    \u001b[0m │ \u001b[38;5;141mMedium   \u001b[0m │ \u001b[36m    5.34\u001b[0m │ \u001b[36m        1\u001b[0m │ \u001b[36m   17590\u001b[0m │  │\n",
       "│ │ \u001b[38;5;141mg Work  \u001b[0m │       │ \u001b[36m99093997\u001b[0m │          │          │          │           │          │           │          │  │\n",
       "│ │ \u001b[38;5;141mRate    \u001b[0m │       │ \u001b[36m     733\u001b[0m │          │          │          │           │          │           │          │  │\n",
       "│ │ \u001b[38;5;141mDefensiv\u001b[0m │ \u001b[36m   70\u001b[0m │ \u001b[36m0.396375\u001b[0m │ \u001b[38;5;141mLow     \u001b[0m │ \u001b[38;5;141mMedium  \u001b[0m │ \u001b[38;5;141mHigh    \u001b[0m │ \u001b[38;5;141mMedium   \u001b[0m │ \u001b[36m    5.44\u001b[0m │ \u001b[36m        1\u001b[0m │ \u001b[36m   17590\u001b[0m │  │\n",
       "│ │ \u001b[38;5;141me Work  \u001b[0m │       │ \u001b[36m99093997\u001b[0m │          │          │          │           │          │           │          │  │\n",
       "│ │ \u001b[38;5;141mRate    \u001b[0m │       │ \u001b[36m     733\u001b[0m │          │          │          │           │          │           │          │  │\n",
       "│ │ \u001b[38;5;141mLoaned  \u001b[0m │ \u001b[36m16966\u001b[0m │ \u001b[36m96.07021\u001b[0m │ \u001b[38;5;141mPSV     \u001b[0m │ \u001b[38;5;141mClub    \u001b[0m │ \u001b[38;5;141m1. FC   \u001b[0m │ \u001b[38;5;141mŚląsk    \u001b[0m │ \u001b[36m    13.1\u001b[0m │ \u001b[36m    0.082\u001b[0m │ \u001b[36m    1444\u001b[0m │  │\n",
       "│ │ \u001b[38;5;141mFrom_cle\u001b[0m │       │ \u001b[36m51755379\u001b[0m │          │ \u001b[38;5;141mAtlético\u001b[0m │ \u001b[38;5;141mKöln    \u001b[0m │ \u001b[38;5;141mWrocław  \u001b[0m │          │           │          │  │\n",
       "│ │ \u001b[38;5;141man      \u001b[0m │       │ \u001b[36m       4\u001b[0m │          │ \u001b[38;5;141mIndepend\u001b[0m │          │           │          │           │          │  │\n",
       "│ │          │       │          │          │ \u001b[38;5;141miente   \u001b[0m │          │           │          │           │          │  │\n",
       "│ └──────────┴───────┴──────────┴──────────┴──────────┴──────────┴───────────┴──────────┴───────────┴──────────┘  │\n",
       "╰────────────────────────────────────────────────────── End ──────────────────────────────────────────────────────╯\n"
      ]
     },
     "metadata": {},
     "output_type": "display_data"
    }
   ],
   "source": [
    "skim(fifa)"
   ]
  },
  {
   "cell_type": "markdown",
   "id": "a3b220d3",
   "metadata": {},
   "source": [
    "## Graphs(temp)"
   ]
  },
  {
   "cell_type": "code",
   "execution_count": 170,
   "id": "da273229",
   "metadata": {},
   "outputs": [
    {
     "data": {
      "image/png": "[encoded data removed]",
      "text/plain": [
       "<Figure size 1009.61x600 with 1 Axes>"
      ]
     },
     "metadata": {},
     "output_type": "display_data"
    }
   ],
   "source": [
    "sns.relplot(data=fifa, x='Overall', y='Potential', hue='Position_clean', kind='scatter', height=6, aspect=1.5)\n",
    "plt.title('Overall vs Potential by Position')\n",
    "plt.show()"
   ]
  },
  {
   "cell_type": "code",
   "execution_count": 171,
   "id": "6322c9c3",
   "metadata": {},
   "outputs": [
    {
     "name": "stdout",
     "output_type": "stream",
     "text": [
      "Top 10 Players by Potential:\n",
      "                 Name  Overall  Potential                 Club   Wage\n",
      "75          K. Mbappé       91         95  Paris Saint-Germain  €230K\n",
      "180        E. Haaland       88         94      Manchester City  €220K\n",
      "214             Pedri       85         93         FC Barcelona  €115K\n",
      "17         F. de Jong       87         92         FC Barcelona  €230K\n",
      "317          P. Foden       85         92      Manchester City  €180K\n",
      "849      Vinícius Jr.       86         92       Real Madrid CF  €200K\n",
      "13506   G. Donnarumma       88         92  Paris Saint-Germain  €110K\n",
      "3        K. De Bruyne       91         91      Manchester City  €350K\n",
      "41     R. Lewandowski       91         91         FC Barcelona  €420K\n",
      "56           L. Messi       91         91  Paris Saint-Germain  €195K\n"
     ]
    }
   ],
   "source": [
    "#highest potential players\n",
    "top_potential = pandas_df.nlargest(10, 'Potential')[['Name', 'Overall', 'Potential', 'Club', 'Wage']]\n",
    "print(\"Top 10 Players by Potential:\")\n",
    "print(top_potential)"
   ]
  },
  {
   "cell_type": "code",
   "execution_count": 172,
   "id": "2e63e1fb",
   "metadata": {},
   "outputs": [
    {
     "data": {
      "image/png": "[encoded data removed]",
      "text/plain": [
       "<Figure size 640x480 with 1 Axes>"
      ]
     },
     "metadata": {},
     "output_type": "display_data"
    }
   ],
   "source": [
    "# Distribution of Potential ratings\n",
    "sns.distplot(fifa['Potential'], bins=10, color='r')\n",
    "plt.title(\"Distribution of Potential\\n ratings of all Players\")\n",
    "plt.savefig(\"Distribution.png\")\n",
    "plt.show()"
   ]
  },
  {
   "cell_type": "code",
   "execution_count": 173,
   "id": "d260193b",
   "metadata": {},
   "outputs": [
    {
     "name": "stdout",
     "output_type": "stream",
     "text": [
      "Top 10 Players by Overall:\n",
      "                    Name  Overall  Potential                 Club   Wage\n",
      "3           K. De Bruyne       91         91      Manchester City  €350K\n",
      "41        R. Lewandowski       91         91         FC Barcelona  €420K\n",
      "56              L. Messi       91         91  Paris Saint-Germain  €195K\n",
      "75             K. Mbappé       91         95  Paris Saint-Germain  €230K\n",
      "124           K. Benzema       91         91       Real Madrid CF  €450K\n",
      "25              M. Salah       90         90            Liverpool  €270K\n",
      "100    Cristiano Ronaldo       90         90    Manchester United  €220K\n",
      "192          V. van Dijk       90         90            Liverpool  €230K\n",
      "9151            M. Neuer       90         90    FC Bayern München   €72K\n",
      "14357        T. Courtois       90         91       Real Madrid CF  €250K\n"
     ]
    }
   ],
   "source": [
    "#highest overall players\n",
    "top_overall = pandas_df.nlargest(10, 'Overall')[['Name', 'Overall', 'Potential', 'Club', 'Wage']]\n",
    "print(\"Top 10 Players by Overall:\")\n",
    "print(top_overall)"
   ]
  },
  {
   "cell_type": "code",
   "execution_count": 174,
   "id": "abbaecac",
   "metadata": {},
   "outputs": [
    {
     "data": {
      "image/png": "[encoded data removed]",
      "text/plain": [
       "<Figure size 640x480 with 1 Axes>"
      ]
     },
     "metadata": {},
     "output_type": "display_data"
    }
   ],
   "source": [
    "# Distribution of Overall ratings\n",
    "sns.distplot(fifa['Overall'], bins=10, color='r')\n",
    "plt.title(\"Distribution of Overall ratings of all Players\")\n",
    "plt.savefig(\"Distribution.png\")\n",
    "plt.show()"
   ]
  },
  {
   "cell_type": "code",
   "execution_count": 175,
   "id": "fe001e4e",
   "metadata": {},
   "outputs": [],
   "source": [
    "# Save the final dataframe to a CSV file\n",
    "fifa.to_csv('fifa_dataset_cleaned/fifa_final23.csv', index=False)"
   ]
  }
 ],
 "metadata": {
  "kernelspec": {
   "display_name": "base",
   "language": "python",
   "name": "python3"
  },
  "language_info": {
   "codemirror_mode": {
    "name": "ipython",
    "version": 3
   },
   "file_extension": ".py",
   "mimetype": "text/x-python",
   "name": "python",
   "nbconvert_exporter": "python",
   "pygments_lexer": "ipython3",
   "version": "3.13.5"
  }
 },
 "nbformat": 4,
 "nbformat_minor": 5
}
